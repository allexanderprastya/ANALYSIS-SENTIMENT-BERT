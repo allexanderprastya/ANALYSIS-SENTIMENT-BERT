{
  "cells": [
    {
      "cell_type": "markdown",
      "metadata": {
        "id": "view-in-github",
        "colab_type": "text"
      },
      "source": [
        "<a href=\"https://colab.research.google.com/github/allexanderprastya/PROJECT-TA-JURNAL/blob/main/IndoBERTBase_16_Score.ipynb\" target=\"_parent\"><img src=\"https://colab.research.google.com/assets/colab-badge.svg\" alt=\"Open In Colab\"/></a>"
      ]
    },
    {
      "cell_type": "markdown",
      "metadata": {
        "id": "36e62642"
      },
      "source": [
        "# Multi-Class Sentiment Analysis with BERT"
      ],
      "id": "36e62642"
    },
    {
      "cell_type": "code",
      "execution_count": 1,
      "metadata": {
        "id": "811fa6ad"
      },
      "outputs": [],
      "source": [
        "!pip install -q -U watermark"
      ],
      "id": "811fa6ad"
    },
    {
      "cell_type": "code",
      "execution_count": 2,
      "metadata": {
        "id": "7824d10a"
      },
      "outputs": [],
      "source": [
        "!pip install -qq transformers"
      ],
      "id": "7824d10a"
    },
    {
      "cell_type": "code",
      "execution_count": 3,
      "metadata": {
        "colab": {
          "base_uri": "https://localhost:8080/"
        },
        "id": "f07df2e5",
        "outputId": "3ca3f3ad-688f-4997-8d6c-7a736493c8aa"
      },
      "outputs": [
        {
          "output_type": "stream",
          "name": "stdout",
          "text": [
            "Python implementation: CPython\n",
            "Python version       : 3.8.15\n",
            "IPython version      : 7.9.0\n",
            "\n",
            "numpy       : 1.21.6\n",
            "pandas      : 1.3.5\n",
            "torch       : 1.12.1+cu113\n",
            "transformers: 4.25.1\n",
            "\n"
          ]
        }
      ],
      "source": [
        "%reload_ext watermark\n",
        "%watermark -v -p numpy,pandas,torch,transformers"
      ],
      "id": "f07df2e5"
    },
    {
      "cell_type": "code",
      "execution_count": 4,
      "metadata": {
        "colab": {
          "base_uri": "https://localhost:8080/"
        },
        "id": "b2da0a9f",
        "outputId": "c55f1585-b6ff-4b09-d6d4-b5381ac7d44f"
      },
      "outputs": [
        {
          "output_type": "execute_result",
          "data": {
            "text/plain": [
              "device(type='cuda', index=0)"
            ]
          },
          "metadata": {},
          "execution_count": 4
        }
      ],
      "source": [
        "# Setup & Config\n",
        "import time\n",
        "import numpy as np\n",
        "import pandas as pd\n",
        "import matplotlib.pyplot as plt\n",
        "import seaborn as sns\n",
        "sns.set(style='darkgrid',font_scale= 1.2)\n",
        "sns.set_palette(sns.color_palette(\"bright\"))\n",
        "\n",
        "import transformers\n",
        "from transformers import (\n",
        "    AutoModel,\n",
        "    BertTokenizer,\n",
        "    AdamW,\n",
        "    get_linear_schedule_with_warmup\n",
        "    )\n",
        "\n",
        "from sklearn.preprocessing import LabelEncoder\n",
        "from sklearn.model_selection import train_test_split\n",
        "from sklearn.metrics import confusion_matrix, classification_report\n",
        "\n",
        "from collections import defaultdict\n",
        "from textwrap import wrap\n",
        "\n",
        "import torch\n",
        "import torch.nn as nn\n",
        "import torch.nn.functional as F\n",
        "from torch import optim\n",
        "from torch.utils.data import Dataset, DataLoader\n",
        "\n",
        "RANDOM_SEED = 42\n",
        "np.random.seed(RANDOM_SEED)\n",
        "torch.manual_seed(RANDOM_SEED)\n",
        "\n",
        "device = torch.device(\"cuda:0\" if torch.cuda.is_available() else \"cpu\")\n",
        "device"
      ],
      "id": "b2da0a9f"
    },
    {
      "cell_type": "markdown",
      "metadata": {
        "id": "053ee133"
      },
      "source": [
        "# Data Exploration"
      ],
      "id": "053ee133"
    },
    {
      "cell_type": "markdown",
      "metadata": {
        "id": "6751eacf"
      },
      "source": [
        "## Download the dataset"
      ],
      "id": "6751eacf"
    },
    {
      "cell_type": "code",
      "execution_count": 5,
      "metadata": {
        "id": "3b7ce8f3"
      },
      "outputs": [],
      "source": [
        "df = pd.read_csv(\"/content/LabelingScore.csv\")"
      ],
      "id": "3b7ce8f3"
    },
    {
      "cell_type": "code",
      "execution_count": 6,
      "metadata": {
        "colab": {
          "base_uri": "https://localhost:8080/"
        },
        "id": "2a718802",
        "outputId": "f207075a-fc58-421e-9056-6bd940aca97a"
      },
      "outputs": [
        {
          "output_type": "execute_result",
          "data": {
            "text/plain": [
              "Index(['content', 'score', 'sentiment'], dtype='object')"
            ]
          },
          "metadata": {},
          "execution_count": 6
        }
      ],
      "source": [
        "df.columns"
      ],
      "id": "2a718802"
    },
    {
      "cell_type": "code",
      "execution_count": 7,
      "metadata": {
        "id": "8be2395c"
      },
      "outputs": [],
      "source": [
        "df = df[[\"content\", \"sentiment\"]]"
      ],
      "id": "8be2395c"
    },
    {
      "cell_type": "code",
      "source": [
        "df.rename(columns={\"sentiment\": \"label\"}, inplace = True)"
      ],
      "metadata": {
        "id": "RIM4lsfmtyDK"
      },
      "id": "RIM4lsfmtyDK",
      "execution_count": 8,
      "outputs": []
    },
    {
      "cell_type": "code",
      "execution_count": 9,
      "metadata": {
        "colab": {
          "base_uri": "https://localhost:8080/"
        },
        "id": "0bda3a3b",
        "outputId": "d7ccd029-7802-461d-e194-8f15e1c118ca"
      },
      "outputs": [
        {
          "output_type": "stream",
          "name": "stdout",
          "text": [
            "<class 'pandas.core.frame.DataFrame'>\n",
            "RangeIndex: 14349 entries, 0 to 14348\n",
            "Data columns (total 2 columns):\n",
            " #   Column   Non-Null Count  Dtype \n",
            "---  ------   --------------  ----- \n",
            " 0   content  14349 non-null  object\n",
            " 1   label    14349 non-null  int64 \n",
            "dtypes: int64(1), object(1)\n",
            "memory usage: 224.3+ KB\n"
          ]
        }
      ],
      "source": [
        "df.info()"
      ],
      "id": "0bda3a3b"
    },
    {
      "cell_type": "code",
      "execution_count": 10,
      "metadata": {
        "id": "_iMBzK9OtBDt"
      },
      "outputs": [],
      "source": [
        "# helper function to draw percentage above each bar\n",
        "def draw_percentage(ax,total=float(len(df))):\n",
        "    for p in ax.patches:\n",
        "        percentage = '{:.1f}%'.format(100 * p.get_height()/total)\n",
        "        x = p.get_x() + p.get_width() / 2.\n",
        "        y = p.get_height()\n",
        "        ax.annotate(percentage, (x, y),ha='center',va='bottom')"
      ],
      "id": "_iMBzK9OtBDt"
    },
    {
      "cell_type": "code",
      "execution_count": 11,
      "metadata": {
        "colab": {
          "base_uri": "https://localhost:8080/",
          "height": 419
        },
        "id": "iAe5sir2tGB1",
        "outputId": "966805a5-5d16-453c-9855-fa53f5d1a669"
      },
      "outputs": [
        {
          "output_type": "display_data",
          "data": {
            "text/plain": [
              "<Figure size 576x432 with 1 Axes>"
            ],
            "image/png": "[encoded data removed]"
          },
          "metadata": {}
        }
      ],
      "source": [
        "plt.figure(figsize = (8,6))\n",
        "total = float(len(df))\n",
        "ax = sns.countplot(x = 'label',data=df)\n",
        "\n",
        "class_names = ['negative', 'neutral', 'positive']\n",
        "ax.set_xticklabels(class_names)\n",
        "plt.title('Calculate Review Sentiment', fontsize=20)\n",
        "plt.xlabel('review sentiment')\n",
        "draw_percentage(ax)\n",
        "\n",
        "plt.show()"
      ],
      "id": "iAe5sir2tGB1"
    },
    {
      "cell_type": "markdown",
      "metadata": {
        "id": "d9fd5787"
      },
      "source": [
        "# Data Preprocessing\n",
        "You might already know that Machine Learning models don't work with raw text. You need to convert text to numbers (of some sort). BERT requires even more attention (good one, right?). Here are the requirements:\n",
        "\n",
        "- Add special tokens to separate sentences and do classification\n",
        "- Pass sequences of constant length (introduce padding)\n",
        "- Create array of 0s (pad token) and 1s (real token) called attention mask\n",
        "\n",
        "The Transformers library provides (you've guessed it) a wide variety of Transformer models (including BERT). It works with TensorFlow and PyTorch! It also includes prebuild tokenizers that do the heavy lifting for us!"
      ],
      "id": "d9fd5787"
    },
    {
      "cell_type": "code",
      "execution_count": 12,
      "metadata": {
        "id": "7524f631"
      },
      "outputs": [],
      "source": [
        "PRE_TRAINED_MODEL_NAME = \"indobenchmark/indobert-base-p2\""
      ],
      "id": "7524f631"
    },
    {
      "cell_type": "markdown",
      "metadata": {
        "id": "a088eba8"
      },
      "source": [
        "You can use a cased and uncased version of BERT and tokenizer. I've experimented with both. The cased version works better. Intuitively, that makes sense, since \"BAD\" might convey more sentiment than \"bad\".\n",
        "\n",
        "Let's load a pre-trained [BertTokenizer](https://huggingface.co/transformers/model_doc/bert.html#berttokenizer):"
      ],
      "id": "a088eba8"
    },
    {
      "cell_type": "code",
      "execution_count": 13,
      "metadata": {
        "id": "0690d8c3"
      },
      "outputs": [],
      "source": [
        "tokenizer = BertTokenizer.from_pretrained(PRE_TRAINED_MODEL_NAME)"
      ],
      "id": "0690d8c3"
    },
    {
      "cell_type": "markdown",
      "metadata": {
        "id": "a50201d9"
      },
      "source": [
        "We'll use this text to understand the tokenization process:"
      ],
      "id": "a50201d9"
    },
    {
      "cell_type": "code",
      "execution_count": 14,
      "metadata": {
        "id": "158a06bd"
      },
      "outputs": [],
      "source": [
        "sample_txt = \"Setelah pembaruan terakhir gim ini menjadi sangat buruk Meskipun saya memiliki internet yang layak ini menunjukkan masalah jaringan Selain itu dalam mode solo tidak dapat menemukan saya menunggu selama 3 menit tetapi tidak bisa Saya berharap para pengembang akan melakukan sesuatu tentang masalah ini\""
      ],
      "id": "158a06bd"
    },
    {
      "cell_type": "markdown",
      "metadata": {
        "id": "82b2239e"
      },
      "source": [
        "Some basic operations can convert the text to tokens and tokens to unique integers (ids):"
      ],
      "id": "82b2239e"
    },
    {
      "cell_type": "code",
      "execution_count": 15,
      "metadata": {
        "colab": {
          "base_uri": "https://localhost:8080/"
        },
        "id": "87679696",
        "outputId": "9e427b8a-db9e-4188-b718-8774ac10f72d"
      },
      "outputs": [
        {
          "output_type": "stream",
          "name": "stdout",
          "text": [
            " Sentence: Setelah pembaruan terakhir gim ini menjadi sangat buruk Meskipun saya memiliki internet yang layak ini menunjukkan masalah jaringan Selain itu dalam mode solo tidak dapat menemukan saya menunggu selama 3 menit tetapi tidak bisa Saya berharap para pengembang akan melakukan sesuatu tentang masalah ini\n",
            "   Tokens: ['setelah', 'pembaruan', 'terakhir', 'gim', 'ini', 'menjadi', 'sangat', 'buruk', 'meskipun', 'saya', 'memiliki', 'internet', 'yang', 'layak', 'ini', 'menunjukkan', 'masalah', 'jaringan', 'selain', 'itu', 'dalam', 'mode', 'solo', 'tidak', 'dapat', 'menemukan', 'saya', 'menunggu', 'selama', '3', 'menit', 'tetapi', 'tidak', 'bisa', 'saya', 'berharap', 'para', 'pengembang', 'akan', 'melakukan', 'sesuatu', 'tentang', 'masalah', 'ini']\n",
            "Token IDs: [450, 7749, 1668, 19742, 92, 234, 310, 2632, 1863, 209, 343, 1454, 34, 4102, 92, 1647, 805, 1799, 751, 137, 112, 6852, 4412, 119, 173, 1451, 209, 3016, 776, 283, 1815, 638, 119, 166, 209, 3047, 383, 9604, 150, 464, 1370, 416, 805, 92]\n"
          ]
        }
      ],
      "source": [
        "tokens = tokenizer.tokenize(sample_txt)\n",
        "token_ids = tokenizer.convert_tokens_to_ids(tokens)\n",
        "\n",
        "print(f\" Sentence: {sample_txt}\")\n",
        "print(f\"   Tokens: {tokens}\")\n",
        "print(f\"Token IDs: {token_ids}\")"
      ],
      "id": "87679696"
    },
    {
      "cell_type": "markdown",
      "metadata": {
        "id": "dda68672"
      },
      "source": [
        "## Special Tokens\n",
        "[SEP] - marker for ending of a sentence"
      ],
      "id": "dda68672"
    },
    {
      "cell_type": "code",
      "execution_count": 16,
      "metadata": {
        "colab": {
          "base_uri": "https://localhost:8080/"
        },
        "id": "f55f28e0",
        "outputId": "8b61e9bd-fff5-4c9b-e1c1-23bf565c2db0"
      },
      "outputs": [
        {
          "output_type": "execute_result",
          "data": {
            "text/plain": [
              "('[SEP]', 3)"
            ]
          },
          "metadata": {},
          "execution_count": 16
        }
      ],
      "source": [
        "tokenizer.sep_token, tokenizer.sep_token_id"
      ],
      "id": "f55f28e0"
    },
    {
      "cell_type": "markdown",
      "metadata": {
        "id": "28d66cbe"
      },
      "source": [
        "[CLS] - we must add this token to the start of each sentence, so BERT knows we're doing classification"
      ],
      "id": "28d66cbe"
    },
    {
      "cell_type": "code",
      "execution_count": 17,
      "metadata": {
        "colab": {
          "base_uri": "https://localhost:8080/"
        },
        "id": "bfbd0998",
        "outputId": "b355e411-37ea-4d3b-f0a5-a8605f5a8820"
      },
      "outputs": [
        {
          "output_type": "execute_result",
          "data": {
            "text/plain": [
              "('[CLS]', 2)"
            ]
          },
          "metadata": {},
          "execution_count": 17
        }
      ],
      "source": [
        "tokenizer.cls_token, tokenizer.cls_token_id"
      ],
      "id": "bfbd0998"
    },
    {
      "cell_type": "markdown",
      "metadata": {
        "id": "195cc5cb"
      },
      "source": [
        "There is also a special token for padding:"
      ],
      "id": "195cc5cb"
    },
    {
      "cell_type": "code",
      "execution_count": 18,
      "metadata": {
        "colab": {
          "base_uri": "https://localhost:8080/"
        },
        "id": "413729f8",
        "outputId": "42528b02-db31-46eb-dc77-161c842417e1"
      },
      "outputs": [
        {
          "output_type": "execute_result",
          "data": {
            "text/plain": [
              "('[PAD]', 0)"
            ]
          },
          "metadata": {},
          "execution_count": 18
        }
      ],
      "source": [
        "tokenizer.pad_token, tokenizer.pad_token_id"
      ],
      "id": "413729f8"
    },
    {
      "cell_type": "code",
      "execution_count": 19,
      "metadata": {
        "colab": {
          "base_uri": "https://localhost:8080/"
        },
        "id": "700c6075",
        "outputId": "6581f6c6-ab27-4b96-cfcb-079713c15c05"
      },
      "outputs": [
        {
          "output_type": "execute_result",
          "data": {
            "text/plain": [
              "('[UNK]', 1)"
            ]
          },
          "metadata": {},
          "execution_count": 19
        }
      ],
      "source": [
        "tokenizer.unk_token, tokenizer.unk_token_id"
      ],
      "id": "700c6075"
    },
    {
      "cell_type": "markdown",
      "metadata": {
        "id": "203dda34"
      },
      "source": [
        "All of that work can be done using the encode_plus() method:"
      ],
      "id": "203dda34"
    },
    {
      "cell_type": "code",
      "execution_count": 20,
      "metadata": {
        "colab": {
          "base_uri": "https://localhost:8080/"
        },
        "id": "c791b06d",
        "outputId": "a8cd5cc0-0c25-4d94-9aec-82c1c5ad83aa"
      },
      "outputs": [
        {
          "output_type": "execute_result",
          "data": {
            "text/plain": [
              "dict_keys(['input_ids', 'attention_mask'])"
            ]
          },
          "metadata": {},
          "execution_count": 20
        }
      ],
      "source": [
        "encoding = tokenizer.encode_plus(\n",
        "    sample_txt,\n",
        "    max_length=64,\n",
        "    add_special_tokens=True,  # Add '[CLS]' and '[SEP]'\n",
        "    return_token_type_ids=False,\n",
        "    padding=\"max_length\",\n",
        "    return_attention_mask=True,\n",
        "    return_tensors=\"pt\"  # Return PyTorch tensors\n",
        ")\n",
        "\n",
        "encoding.keys()"
      ],
      "id": "c791b06d"
    },
    {
      "cell_type": "markdown",
      "metadata": {
        "id": "1f6d3797"
      },
      "source": [
        "The token ids are now stored in a Tensor and padded to a length of 32:"
      ],
      "id": "1f6d3797"
    },
    {
      "cell_type": "code",
      "execution_count": 21,
      "metadata": {
        "colab": {
          "base_uri": "https://localhost:8080/"
        },
        "id": "18ca971d",
        "outputId": "1e68c2c9-7de6-47d6-ca09-557dbc78bdc4"
      },
      "outputs": [
        {
          "output_type": "stream",
          "name": "stdout",
          "text": [
            "64\n"
          ]
        },
        {
          "output_type": "execute_result",
          "data": {
            "text/plain": [
              "tensor([    2,   450,  7749,  1668, 19742,    92,   234,   310,  2632,  1863,\n",
              "          209,   343,  1454,    34,  4102,    92,  1647,   805,  1799,   751,\n",
              "          137,   112,  6852,  4412,   119,   173,  1451,   209,  3016,   776,\n",
              "          283,  1815,   638,   119,   166,   209,  3047,   383,  9604,   150,\n",
              "          464,  1370,   416,   805,    92,     3,     0,     0,     0,     0,\n",
              "            0,     0,     0,     0,     0,     0,     0,     0,     0,     0,\n",
              "            0,     0,     0,     0])"
            ]
          },
          "metadata": {},
          "execution_count": 21
        }
      ],
      "source": [
        "print(len(encoding[\"input_ids\"][0]))\n",
        "encoding[\"input_ids\"][0]"
      ],
      "id": "18ca971d"
    },
    {
      "cell_type": "markdown",
      "metadata": {
        "id": "0a2a52e9"
      },
      "source": [
        "The attention mask has the same length:"
      ],
      "id": "0a2a52e9"
    },
    {
      "cell_type": "code",
      "execution_count": 22,
      "metadata": {
        "colab": {
          "base_uri": "https://localhost:8080/"
        },
        "id": "5f5277ec",
        "outputId": "34c3f198-ed5b-4ef7-beb1-a9f7f359b3dc"
      },
      "outputs": [
        {
          "output_type": "stream",
          "name": "stdout",
          "text": [
            "64\n"
          ]
        },
        {
          "output_type": "execute_result",
          "data": {
            "text/plain": [
              "tensor([[1, 1, 1, 1, 1, 1, 1, 1, 1, 1, 1, 1, 1, 1, 1, 1, 1, 1, 1, 1, 1, 1, 1, 1,\n",
              "         1, 1, 1, 1, 1, 1, 1, 1, 1, 1, 1, 1, 1, 1, 1, 1, 1, 1, 1, 1, 1, 1, 0, 0,\n",
              "         0, 0, 0, 0, 0, 0, 0, 0, 0, 0, 0, 0, 0, 0, 0, 0]])"
            ]
          },
          "metadata": {},
          "execution_count": 22
        }
      ],
      "source": [
        "print(len(encoding[\"attention_mask\"][0]))\n",
        "encoding[\"attention_mask\"]"
      ],
      "id": "5f5277ec"
    },
    {
      "cell_type": "markdown",
      "metadata": {
        "id": "bdab72fc"
      },
      "source": [
        "We can inverse the tokenization to have a look at the special tokens:"
      ],
      "id": "bdab72fc"
    },
    {
      "cell_type": "code",
      "execution_count": 23,
      "metadata": {
        "colab": {
          "base_uri": "https://localhost:8080/"
        },
        "id": "a9af6426",
        "outputId": "5759db93-cd1e-49e0-e9d0-70cab66a2e62"
      },
      "outputs": [
        {
          "output_type": "execute_result",
          "data": {
            "text/plain": [
              "['[CLS]',\n",
              " 'setelah',\n",
              " 'pembaruan',\n",
              " 'terakhir',\n",
              " 'gim',\n",
              " 'ini',\n",
              " 'menjadi',\n",
              " 'sangat',\n",
              " 'buruk',\n",
              " 'meskipun',\n",
              " 'saya',\n",
              " 'memiliki',\n",
              " 'internet',\n",
              " 'yang',\n",
              " 'layak',\n",
              " 'ini',\n",
              " 'menunjukkan',\n",
              " 'masalah',\n",
              " 'jaringan',\n",
              " 'selain',\n",
              " 'itu',\n",
              " 'dalam',\n",
              " 'mode',\n",
              " 'solo',\n",
              " 'tidak',\n",
              " 'dapat',\n",
              " 'menemukan',\n",
              " 'saya',\n",
              " 'menunggu',\n",
              " 'selama',\n",
              " '3',\n",
              " 'menit',\n",
              " 'tetapi',\n",
              " 'tidak',\n",
              " 'bisa',\n",
              " 'saya',\n",
              " 'berharap',\n",
              " 'para',\n",
              " 'pengembang',\n",
              " 'akan',\n",
              " 'melakukan',\n",
              " 'sesuatu',\n",
              " 'tentang',\n",
              " 'masalah',\n",
              " 'ini',\n",
              " '[SEP]',\n",
              " '[PAD]',\n",
              " '[PAD]',\n",
              " '[PAD]',\n",
              " '[PAD]',\n",
              " '[PAD]',\n",
              " '[PAD]',\n",
              " '[PAD]',\n",
              " '[PAD]',\n",
              " '[PAD]',\n",
              " '[PAD]',\n",
              " '[PAD]',\n",
              " '[PAD]',\n",
              " '[PAD]',\n",
              " '[PAD]',\n",
              " '[PAD]',\n",
              " '[PAD]',\n",
              " '[PAD]',\n",
              " '[PAD]']"
            ]
          },
          "metadata": {},
          "execution_count": 23
        }
      ],
      "source": [
        "tokenizer.convert_ids_to_tokens(encoding[\"input_ids\"][0])"
      ],
      "id": "a9af6426"
    },
    {
      "cell_type": "markdown",
      "metadata": {
        "id": "820d88af"
      },
      "source": [
        "## Choosing Sequence Length\n",
        "BERT works with fixed-length sequences. We'll use a simple strategy to choose the max length. Let's store the token length of each review:"
      ],
      "id": "820d88af"
    },
    {
      "cell_type": "code",
      "execution_count": 24,
      "metadata": {
        "id": "ffb2128a",
        "colab": {
          "base_uri": "https://localhost:8080/"
        },
        "outputId": "e61bb947-aed7-45aa-8ca0-9fdb37670ab6"
      },
      "outputs": [
        {
          "output_type": "stream",
          "name": "stderr",
          "text": [
            "Asking to truncate to max_length but no maximum length is provided and the model has no predefined maximum length. Default to no truncation.\n"
          ]
        }
      ],
      "source": [
        "token_lens = []\n",
        "\n",
        "for txt in df.content:\n",
        "    tokens = tokenizer.encode(txt, truncation=True)\n",
        "    token_lens.append(len(tokens))"
      ],
      "id": "ffb2128a"
    },
    {
      "cell_type": "markdown",
      "metadata": {
        "id": "d8e965b3"
      },
      "source": [
        "and plot the distribution:"
      ],
      "id": "d8e965b3"
    },
    {
      "cell_type": "code",
      "execution_count": 25,
      "metadata": {
        "colab": {
          "base_uri": "https://localhost:8080/",
          "height": 398
        },
        "id": "28b2b274",
        "outputId": "f4f1850e-25c7-49e1-81be-2b6afd503067"
      },
      "outputs": [
        {
          "output_type": "display_data",
          "data": {
            "text/plain": [
              "<Figure size 576x432 with 1 Axes>"
            ],
            "image/png": "[encoded data removed]"
          },
          "metadata": {}
        }
      ],
      "source": [
        "plt.figure(figsize = (8,6))\n",
        "sns.histplot(data = token_lens, kde=True)\n",
        "plt.xlabel('Token count')\n",
        "plt.show()"
      ],
      "id": "28b2b274"
    },
    {
      "cell_type": "markdown",
      "metadata": {
        "id": "7b84e219"
      },
      "source": [
        "Most of the reviews seem to contain less than 25 tokens, but we'll be on the safe side and choose a maximum length of 35."
      ],
      "id": "7b84e219"
    },
    {
      "cell_type": "code",
      "execution_count": 26,
      "metadata": {
        "id": "e6699690"
      },
      "outputs": [],
      "source": [
        "max_len = 70"
      ],
      "id": "e6699690"
    },
    {
      "cell_type": "markdown",
      "metadata": {
        "id": "756d3593"
      },
      "source": [
        "We have all building blocks required to create a PyTorch dataset. Let's do it:"
      ],
      "id": "756d3593"
    },
    {
      "cell_type": "code",
      "execution_count": 27,
      "metadata": {
        "id": "975394aa"
      },
      "outputs": [],
      "source": [
        "class AppReviewDataset(Dataset):\n",
        "    def __init__(self, reviews, targets, tokenizer, max_len):\n",
        "        self.reviews = reviews\n",
        "        self.targets = targets\n",
        "        self.tokenizer = tokenizer\n",
        "        self.max_len = max_len\n",
        "\n",
        "    def __len__(self):\n",
        "        return len(self.reviews)\n",
        "    # langkah 1: dapatkan review dan target\n",
        "    def __getitem__(self, item):\n",
        "        review = str(self.reviews[item])\n",
        "        target = self.targets[item]\n",
        "    # langkah 2: menggunakan tokenizer untuk mengkodekan kalimat (termasuk padding/cutting ke panjang maksimal)\n",
        "        encoding = self.tokenizer.encode_plus(\n",
        "            review,\n",
        "            add_special_tokens = True, # menambahkan '[CLS]' dan '[SEP]'\n",
        "            max_length = self.max_len, \n",
        "            return_token_type_ids = False,\n",
        "            padding = \"max_length\", # Padding kalimat menjadi panjang maksimum.\n",
        "            truncation = True, # Potong kalimat menjadi panjang maksimum.\n",
        "            return_attention_mask = True, # Kembali attention mask\n",
        "            return_tensors = \"pt\", # Kembali  torch objects/tensor\n",
        "        )\n",
        "\n",
        "        return {\n",
        "            \"review_text\": review,\n",
        "            \"input_ids\": encoding[\"input_ids\"].flatten(), # Tensor ID token untuk dimasukkan ke dalam model\n",
        "            \"attention_mask\": encoding[\"attention_mask\"].flatten(), #Tensor Index yang menentukan token mana yang harus diperhatikan oleh model\n",
        "            \"targets\": torch.tensor(target, dtype=torch.long),\n",
        "        }"
      ],
      "id": "975394aa"
    },
    {
      "cell_type": "markdown",
      "metadata": {
        "id": "4eaa50a4"
      },
      "source": [
        "The tokenizer is doing most of the heavy lifting for us. We also return the review texts, so it'll be easier to evaluate the predictions from our model. Let's split the data:"
      ],
      "id": "4eaa50a4"
    },
    {
      "cell_type": "code",
      "execution_count": 28,
      "metadata": {
        "id": "26867ba5"
      },
      "outputs": [],
      "source": [
        "#pisahkan data train, validation dan test (rasio 80:10:10)\n",
        "df_train, df_test = train_test_split(\n",
        "    df,\n",
        "    test_size = 0.2,\n",
        "    random_state = RANDOM_SEED,\n",
        "    stratify=df['label']\n",
        "    )\n",
        "\n",
        "df_val, df_test = train_test_split(\n",
        "    df_test,\n",
        "    test_size = 0.5,\n",
        "    random_state = RANDOM_SEED,\n",
        "    stratify=df_test['label']\n",
        "    )"
      ],
      "id": "26867ba5"
    },
    {
      "cell_type": "code",
      "source": [
        "print('Train Data Size', df_train.shape)\n",
        "print('Validation Data Size', df_val.shape)\n",
        "print('Test Data Size', df_test.shape)"
      ],
      "metadata": {
        "colab": {
          "base_uri": "https://localhost:8080/"
        },
        "id": "YUJEVvYiWyil",
        "outputId": "3d17de94-c21b-4996-df16-ecd1581ca5e3"
      },
      "id": "YUJEVvYiWyil",
      "execution_count": 29,
      "outputs": [
        {
          "output_type": "stream",
          "name": "stdout",
          "text": [
            "Train Data Size (11479, 2)\n",
            "Validation Data Size (1435, 2)\n",
            "Test Data Size (1435, 2)\n"
          ]
        }
      ]
    },
    {
      "cell_type": "code",
      "execution_count": 30,
      "metadata": {
        "colab": {
          "base_uri": "https://localhost:8080/"
        },
        "id": "9REroWBHj7xk",
        "outputId": "9aac92ee-7b28-496b-bf3d-ce73e308d952"
      },
      "outputs": [
        {
          "output_type": "execute_result",
          "data": {
            "text/plain": [
              "0    3899\n",
              "1    3879\n",
              "2    3701\n",
              "Name: label, dtype: int64"
            ]
          },
          "metadata": {},
          "execution_count": 30
        }
      ],
      "source": [
        "df_train['label'].value_counts()"
      ],
      "id": "9REroWBHj7xk"
    },
    {
      "cell_type": "code",
      "execution_count": 31,
      "metadata": {
        "colab": {
          "base_uri": "https://localhost:8080/"
        },
        "id": "b8X04HXDjJDv",
        "outputId": "29a37968-c88a-4ac5-cb77-7db0985b7506"
      },
      "outputs": [
        {
          "output_type": "execute_result",
          "data": {
            "text/plain": [
              "0    487\n",
              "1    485\n",
              "2    463\n",
              "Name: label, dtype: int64"
            ]
          },
          "metadata": {},
          "execution_count": 31
        }
      ],
      "source": [
        "df_val['label'].value_counts()"
      ],
      "id": "b8X04HXDjJDv"
    },
    {
      "cell_type": "code",
      "execution_count": 32,
      "metadata": {
        "colab": {
          "base_uri": "https://localhost:8080/"
        },
        "id": "BznMGr_Njpu4",
        "outputId": "736c240f-22eb-4761-d5ad-40d096cceeff"
      },
      "outputs": [
        {
          "output_type": "execute_result",
          "data": {
            "text/plain": [
              "0    488\n",
              "1    485\n",
              "2    462\n",
              "Name: label, dtype: int64"
            ]
          },
          "metadata": {},
          "execution_count": 32
        }
      ],
      "source": [
        "df_test['label'].value_counts()"
      ],
      "id": "BznMGr_Njpu4"
    },
    {
      "cell_type": "markdown",
      "metadata": {
        "id": "38085a08"
      },
      "source": [
        "We also need to create a couple of data loaders. Here's a helper function to do it:"
      ],
      "id": "38085a08"
    },
    {
      "cell_type": "code",
      "execution_count": 33,
      "metadata": {
        "id": "12163972"
      },
      "outputs": [],
      "source": [
        "def create_data_loader(df, tokenizer, max_len, batch_size):\n",
        "    ds = AppReviewDataset(\n",
        "        reviews = df.content.to_numpy(),\n",
        "        targets = df.label.to_numpy(),\n",
        "        tokenizer = tokenizer,\n",
        "        max_len = max_len\n",
        "        )\n",
        "\n",
        "    return DataLoader(\n",
        "        ds,\n",
        "        batch_size = batch_size,\n",
        "        num_workers = 2\n",
        "        )"
      ],
      "id": "12163972"
    },
    {
      "cell_type": "code",
      "execution_count": 34,
      "metadata": {
        "id": "6b2dad6a"
      },
      "outputs": [],
      "source": [
        "BATCH_SIZE = 16\n",
        "\n",
        "train_data_loader = create_data_loader(\n",
        "    df_train,\n",
        "    tokenizer,\n",
        "    max_len,\n",
        "    BATCH_SIZE\n",
        "    )\n",
        "\n",
        "val_data_loader = create_data_loader(\n",
        "    df_val,\n",
        "    tokenizer,\n",
        "    max_len,\n",
        "    BATCH_SIZE\n",
        "    )\n",
        "\n",
        "test_data_loader = create_data_loader(\n",
        "    df_test,\n",
        "    tokenizer,\n",
        "    max_len,\n",
        "    BATCH_SIZE\n",
        "    )"
      ],
      "id": "6b2dad6a"
    },
    {
      "cell_type": "markdown",
      "metadata": {
        "id": "33343adc"
      },
      "source": [
        "Let's have a look at an example batch from our training data loader:"
      ],
      "id": "33343adc"
    },
    {
      "cell_type": "code",
      "execution_count": 35,
      "metadata": {
        "colab": {
          "base_uri": "https://localhost:8080/"
        },
        "id": "ef0c90f4",
        "outputId": "2234f0cd-c9ec-42f0-b172-cdd38426d7d0",
        "scrolled": true
      },
      "outputs": [
        {
          "output_type": "execute_result",
          "data": {
            "text/plain": [
              "dict_keys(['review_text', 'input_ids', 'attention_mask', 'targets'])"
            ]
          },
          "metadata": {},
          "execution_count": 35
        }
      ],
      "source": [
        "data = next(iter(train_data_loader))\n",
        "data.keys()"
      ],
      "id": "ef0c90f4"
    },
    {
      "cell_type": "code",
      "execution_count": 36,
      "metadata": {
        "colab": {
          "base_uri": "https://localhost:8080/"
        },
        "id": "6e1a8a74",
        "outputId": "c710ee5c-a718-4758-8d01-0dedaf4974cb"
      },
      "outputs": [
        {
          "output_type": "stream",
          "name": "stdout",
          "text": [
            "torch.Size([16, 70])\n",
            "torch.Size([16, 70])\n",
            "torch.Size([16])\n"
          ]
        }
      ],
      "source": [
        "print(data[\"input_ids\"].shape)\n",
        "print(data[\"attention_mask\"].shape)\n",
        "print(data[\"targets\"].shape)"
      ],
      "id": "6e1a8a74"
    },
    {
      "cell_type": "markdown",
      "metadata": {
        "id": "aebe82b8"
      },
      "source": [
        "# Sentiment Classification with BERT and Hugging Face\n",
        "There are a lot of helpers that make using BERT easy with the Transformers library. Depending on the task you might want to use [BertForSequenceClassification](https://huggingface.co/transformers/model_doc/bert.html#bertforsequenceclassification), [BertForQuestionAnswering](https://huggingface.co/transformers/model_doc/bert.html#bertforquestionanswering) or something else.\n",
        "\n",
        "But who cares, right? We're hardcore! We'll use the basic [BertModel](https://huggingface.co/transformers/model_doc/bert.html#bertmodel) and build our sentiment classifier on top of it. Let's load the model:"
      ],
      "id": "aebe82b8"
    },
    {
      "cell_type": "code",
      "execution_count": 37,
      "metadata": {
        "id": "23ce5eda"
      },
      "outputs": [],
      "source": [
        "bert_model = AutoModel.from_pretrained(PRE_TRAINED_MODEL_NAME, return_dict=False)"
      ],
      "id": "23ce5eda"
    },
    {
      "cell_type": "markdown",
      "metadata": {
        "id": "7dc02e5a"
      },
      "source": [
        "And try to use it on the encoding of our sample text:"
      ],
      "id": "7dc02e5a"
    },
    {
      "cell_type": "code",
      "execution_count": 38,
      "metadata": {
        "id": "5c667845"
      },
      "outputs": [],
      "source": [
        "last_hidden_state, pooled_output = bert_model(\n",
        "    input_ids = encoding['input_ids'],\n",
        "    attention_mask = encoding['attention_mask']\n",
        "    )"
      ],
      "id": "5c667845"
    },
    {
      "cell_type": "markdown",
      "metadata": {
        "id": "073f21e8"
      },
      "source": [
        "The last_hidden_state is a sequence of hidden states of the last layer of the model."
      ],
      "id": "073f21e8"
    },
    {
      "cell_type": "code",
      "execution_count": 39,
      "metadata": {
        "colab": {
          "base_uri": "https://localhost:8080/"
        },
        "id": "9b75666e",
        "outputId": "1957a26e-71dd-4f28-afe0-8a93b6f9fdc8"
      },
      "outputs": [
        {
          "output_type": "execute_result",
          "data": {
            "text/plain": [
              "torch.Size([1, 64, 768])"
            ]
          },
          "metadata": {},
          "execution_count": 39
        }
      ],
      "source": [
        "last_hidden_state.shape"
      ],
      "id": "9b75666e"
    },
    {
      "cell_type": "markdown",
      "metadata": {
        "id": "867d0f18"
      },
      "source": [
        "We have the hidden state for each of our 32 tokens (the length of our example sequence). But why 768? This is the number of hidden units in the feedforward-networks. We can verify that by checking the config:"
      ],
      "id": "867d0f18"
    },
    {
      "cell_type": "code",
      "execution_count": 40,
      "metadata": {
        "id": "81d909d1",
        "colab": {
          "base_uri": "https://localhost:8080/"
        },
        "outputId": "11b890a4-41f0-4312-ccad-cd5627c8e5b6"
      },
      "outputs": [
        {
          "output_type": "execute_result",
          "data": {
            "text/plain": [
              "768"
            ]
          },
          "metadata": {},
          "execution_count": 40
        }
      ],
      "source": [
        "bert_model.config.hidden_size"
      ],
      "id": "81d909d1"
    },
    {
      "cell_type": "markdown",
      "metadata": {
        "id": "43008280"
      },
      "source": [
        "We can use all of this knowledge to create a classifier that uses the BERT model:"
      ],
      "id": "43008280"
    },
    {
      "cell_type": "code",
      "execution_count": 41,
      "metadata": {
        "id": "4b221e0d"
      },
      "outputs": [],
      "source": [
        "class TextClassificationModel(nn.Module):\n",
        "    def __init__(self, n_classes):\n",
        "        super(TextClassificationModel, self).__init__()\n",
        "        self.bert = bert_model\n",
        "        self.drop = nn.Dropout(p=0.3)\n",
        "        self.out = nn.Linear(\n",
        "            self.bert.config.hidden_size,\n",
        "            n_classes\n",
        "            )\n",
        "\n",
        "    def forward(self, input_ids, attention_mask):\n",
        "        _, pooled_output = self.bert(\n",
        "            input_ids = input_ids,\n",
        "            attention_mask = attention_mask\n",
        "            )\n",
        "        \n",
        "        output = self.drop(pooled_output)\n",
        "        return self.out(output)"
      ],
      "id": "4b221e0d"
    },
    {
      "cell_type": "markdown",
      "metadata": {
        "id": "8d07b191"
      },
      "source": [
        "Our classifier delegates most of the heavy lifting to the BertModel. We use a dropout layer for some regularization and a fully-connected layer for our output. Note that we're returning the raw output of the last layer since that is required for the cross-entropy loss function in PyTorch to work.\n",
        "\n",
        "This should work like any other PyTorch model. Let's create an instance and move it to the GPU:"
      ],
      "id": "8d07b191"
    },
    {
      "cell_type": "code",
      "execution_count": 42,
      "metadata": {
        "id": "cf9b8de3"
      },
      "outputs": [],
      "source": [
        "model = TextClassificationModel(len(class_names))\n",
        "model = model.to(device)"
      ],
      "id": "cf9b8de3"
    },
    {
      "cell_type": "code",
      "execution_count": 43,
      "metadata": {
        "id": "PfH2n62g6I9Z",
        "colab": {
          "base_uri": "https://localhost:8080/"
        },
        "outputId": "133dc3ce-e777-4b9c-f90b-4e5066cb3592"
      },
      "outputs": [
        {
          "output_type": "execute_result",
          "data": {
            "text/plain": [
              "TextClassificationModel(\n",
              "  (bert): BertModel(\n",
              "    (embeddings): BertEmbeddings(\n",
              "      (word_embeddings): Embedding(50000, 768, padding_idx=0)\n",
              "      (position_embeddings): Embedding(512, 768)\n",
              "      (token_type_embeddings): Embedding(2, 768)\n",
              "      (LayerNorm): LayerNorm((768,), eps=1e-12, elementwise_affine=True)\n",
              "      (dropout): Dropout(p=0.1, inplace=False)\n",
              "    )\n",
              "    (encoder): BertEncoder(\n",
              "      (layer): ModuleList(\n",
              "        (0): BertLayer(\n",
              "          (attention): BertAttention(\n",
              "            (self): BertSelfAttention(\n",
              "              (query): Linear(in_features=768, out_features=768, bias=True)\n",
              "              (key): Linear(in_features=768, out_features=768, bias=True)\n",
              "              (value): Linear(in_features=768, out_features=768, bias=True)\n",
              "              (dropout): Dropout(p=0.1, inplace=False)\n",
              "            )\n",
              "            (output): BertSelfOutput(\n",
              "              (dense): Linear(in_features=768, out_features=768, bias=True)\n",
              "              (LayerNorm): LayerNorm((768,), eps=1e-12, elementwise_affine=True)\n",
              "              (dropout): Dropout(p=0.1, inplace=False)\n",
              "            )\n",
              "          )\n",
              "          (intermediate): BertIntermediate(\n",
              "            (dense): Linear(in_features=768, out_features=3072, bias=True)\n",
              "            (intermediate_act_fn): GELUActivation()\n",
              "          )\n",
              "          (output): BertOutput(\n",
              "            (dense): Linear(in_features=3072, out_features=768, bias=True)\n",
              "            (LayerNorm): LayerNorm((768,), eps=1e-12, elementwise_affine=True)\n",
              "            (dropout): Dropout(p=0.1, inplace=False)\n",
              "          )\n",
              "        )\n",
              "        (1): BertLayer(\n",
              "          (attention): BertAttention(\n",
              "            (self): BertSelfAttention(\n",
              "              (query): Linear(in_features=768, out_features=768, bias=True)\n",
              "              (key): Linear(in_features=768, out_features=768, bias=True)\n",
              "              (value): Linear(in_features=768, out_features=768, bias=True)\n",
              "              (dropout): Dropout(p=0.1, inplace=False)\n",
              "            )\n",
              "            (output): BertSelfOutput(\n",
              "              (dense): Linear(in_features=768, out_features=768, bias=True)\n",
              "              (LayerNorm): LayerNorm((768,), eps=1e-12, elementwise_affine=True)\n",
              "              (dropout): Dropout(p=0.1, inplace=False)\n",
              "            )\n",
              "          )\n",
              "          (intermediate): BertIntermediate(\n",
              "            (dense): Linear(in_features=768, out_features=3072, bias=True)\n",
              "            (intermediate_act_fn): GELUActivation()\n",
              "          )\n",
              "          (output): BertOutput(\n",
              "            (dense): Linear(in_features=3072, out_features=768, bias=True)\n",
              "            (LayerNorm): LayerNorm((768,), eps=1e-12, elementwise_affine=True)\n",
              "            (dropout): Dropout(p=0.1, inplace=False)\n",
              "          )\n",
              "        )\n",
              "        (2): BertLayer(\n",
              "          (attention): BertAttention(\n",
              "            (self): BertSelfAttention(\n",
              "              (query): Linear(in_features=768, out_features=768, bias=True)\n",
              "              (key): Linear(in_features=768, out_features=768, bias=True)\n",
              "              (value): Linear(in_features=768, out_features=768, bias=True)\n",
              "              (dropout): Dropout(p=0.1, inplace=False)\n",
              "            )\n",
              "            (output): BertSelfOutput(\n",
              "              (dense): Linear(in_features=768, out_features=768, bias=True)\n",
              "              (LayerNorm): LayerNorm((768,), eps=1e-12, elementwise_affine=True)\n",
              "              (dropout): Dropout(p=0.1, inplace=False)\n",
              "            )\n",
              "          )\n",
              "          (intermediate): BertIntermediate(\n",
              "            (dense): Linear(in_features=768, out_features=3072, bias=True)\n",
              "            (intermediate_act_fn): GELUActivation()\n",
              "          )\n",
              "          (output): BertOutput(\n",
              "            (dense): Linear(in_features=3072, out_features=768, bias=True)\n",
              "            (LayerNorm): LayerNorm((768,), eps=1e-12, elementwise_affine=True)\n",
              "            (dropout): Dropout(p=0.1, inplace=False)\n",
              "          )\n",
              "        )\n",
              "        (3): BertLayer(\n",
              "          (attention): BertAttention(\n",
              "            (self): BertSelfAttention(\n",
              "              (query): Linear(in_features=768, out_features=768, bias=True)\n",
              "              (key): Linear(in_features=768, out_features=768, bias=True)\n",
              "              (value): Linear(in_features=768, out_features=768, bias=True)\n",
              "              (dropout): Dropout(p=0.1, inplace=False)\n",
              "            )\n",
              "            (output): BertSelfOutput(\n",
              "              (dense): Linear(in_features=768, out_features=768, bias=True)\n",
              "              (LayerNorm): LayerNorm((768,), eps=1e-12, elementwise_affine=True)\n",
              "              (dropout): Dropout(p=0.1, inplace=False)\n",
              "            )\n",
              "          )\n",
              "          (intermediate): BertIntermediate(\n",
              "            (dense): Linear(in_features=768, out_features=3072, bias=True)\n",
              "            (intermediate_act_fn): GELUActivation()\n",
              "          )\n",
              "          (output): BertOutput(\n",
              "            (dense): Linear(in_features=3072, out_features=768, bias=True)\n",
              "            (LayerNorm): LayerNorm((768,), eps=1e-12, elementwise_affine=True)\n",
              "            (dropout): Dropout(p=0.1, inplace=False)\n",
              "          )\n",
              "        )\n",
              "        (4): BertLayer(\n",
              "          (attention): BertAttention(\n",
              "            (self): BertSelfAttention(\n",
              "              (query): Linear(in_features=768, out_features=768, bias=True)\n",
              "              (key): Linear(in_features=768, out_features=768, bias=True)\n",
              "              (value): Linear(in_features=768, out_features=768, bias=True)\n",
              "              (dropout): Dropout(p=0.1, inplace=False)\n",
              "            )\n",
              "            (output): BertSelfOutput(\n",
              "              (dense): Linear(in_features=768, out_features=768, bias=True)\n",
              "              (LayerNorm): LayerNorm((768,), eps=1e-12, elementwise_affine=True)\n",
              "              (dropout): Dropout(p=0.1, inplace=False)\n",
              "            )\n",
              "          )\n",
              "          (intermediate): BertIntermediate(\n",
              "            (dense): Linear(in_features=768, out_features=3072, bias=True)\n",
              "            (intermediate_act_fn): GELUActivation()\n",
              "          )\n",
              "          (output): BertOutput(\n",
              "            (dense): Linear(in_features=3072, out_features=768, bias=True)\n",
              "            (LayerNorm): LayerNorm((768,), eps=1e-12, elementwise_affine=True)\n",
              "            (dropout): Dropout(p=0.1, inplace=False)\n",
              "          )\n",
              "        )\n",
              "        (5): BertLayer(\n",
              "          (attention): BertAttention(\n",
              "            (self): BertSelfAttention(\n",
              "              (query): Linear(in_features=768, out_features=768, bias=True)\n",
              "              (key): Linear(in_features=768, out_features=768, bias=True)\n",
              "              (value): Linear(in_features=768, out_features=768, bias=True)\n",
              "              (dropout): Dropout(p=0.1, inplace=False)\n",
              "            )\n",
              "            (output): BertSelfOutput(\n",
              "              (dense): Linear(in_features=768, out_features=768, bias=True)\n",
              "              (LayerNorm): LayerNorm((768,), eps=1e-12, elementwise_affine=True)\n",
              "              (dropout): Dropout(p=0.1, inplace=False)\n",
              "            )\n",
              "          )\n",
              "          (intermediate): BertIntermediate(\n",
              "            (dense): Linear(in_features=768, out_features=3072, bias=True)\n",
              "            (intermediate_act_fn): GELUActivation()\n",
              "          )\n",
              "          (output): BertOutput(\n",
              "            (dense): Linear(in_features=3072, out_features=768, bias=True)\n",
              "            (LayerNorm): LayerNorm((768,), eps=1e-12, elementwise_affine=True)\n",
              "            (dropout): Dropout(p=0.1, inplace=False)\n",
              "          )\n",
              "        )\n",
              "        (6): BertLayer(\n",
              "          (attention): BertAttention(\n",
              "            (self): BertSelfAttention(\n",
              "              (query): Linear(in_features=768, out_features=768, bias=True)\n",
              "              (key): Linear(in_features=768, out_features=768, bias=True)\n",
              "              (value): Linear(in_features=768, out_features=768, bias=True)\n",
              "              (dropout): Dropout(p=0.1, inplace=False)\n",
              "            )\n",
              "            (output): BertSelfOutput(\n",
              "              (dense): Linear(in_features=768, out_features=768, bias=True)\n",
              "              (LayerNorm): LayerNorm((768,), eps=1e-12, elementwise_affine=True)\n",
              "              (dropout): Dropout(p=0.1, inplace=False)\n",
              "            )\n",
              "          )\n",
              "          (intermediate): BertIntermediate(\n",
              "            (dense): Linear(in_features=768, out_features=3072, bias=True)\n",
              "            (intermediate_act_fn): GELUActivation()\n",
              "          )\n",
              "          (output): BertOutput(\n",
              "            (dense): Linear(in_features=3072, out_features=768, bias=True)\n",
              "            (LayerNorm): LayerNorm((768,), eps=1e-12, elementwise_affine=True)\n",
              "            (dropout): Dropout(p=0.1, inplace=False)\n",
              "          )\n",
              "        )\n",
              "        (7): BertLayer(\n",
              "          (attention): BertAttention(\n",
              "            (self): BertSelfAttention(\n",
              "              (query): Linear(in_features=768, out_features=768, bias=True)\n",
              "              (key): Linear(in_features=768, out_features=768, bias=True)\n",
              "              (value): Linear(in_features=768, out_features=768, bias=True)\n",
              "              (dropout): Dropout(p=0.1, inplace=False)\n",
              "            )\n",
              "            (output): BertSelfOutput(\n",
              "              (dense): Linear(in_features=768, out_features=768, bias=True)\n",
              "              (LayerNorm): LayerNorm((768,), eps=1e-12, elementwise_affine=True)\n",
              "              (dropout): Dropout(p=0.1, inplace=False)\n",
              "            )\n",
              "          )\n",
              "          (intermediate): BertIntermediate(\n",
              "            (dense): Linear(in_features=768, out_features=3072, bias=True)\n",
              "            (intermediate_act_fn): GELUActivation()\n",
              "          )\n",
              "          (output): BertOutput(\n",
              "            (dense): Linear(in_features=3072, out_features=768, bias=True)\n",
              "            (LayerNorm): LayerNorm((768,), eps=1e-12, elementwise_affine=True)\n",
              "            (dropout): Dropout(p=0.1, inplace=False)\n",
              "          )\n",
              "        )\n",
              "        (8): BertLayer(\n",
              "          (attention): BertAttention(\n",
              "            (self): BertSelfAttention(\n",
              "              (query): Linear(in_features=768, out_features=768, bias=True)\n",
              "              (key): Linear(in_features=768, out_features=768, bias=True)\n",
              "              (value): Linear(in_features=768, out_features=768, bias=True)\n",
              "              (dropout): Dropout(p=0.1, inplace=False)\n",
              "            )\n",
              "            (output): BertSelfOutput(\n",
              "              (dense): Linear(in_features=768, out_features=768, bias=True)\n",
              "              (LayerNorm): LayerNorm((768,), eps=1e-12, elementwise_affine=True)\n",
              "              (dropout): Dropout(p=0.1, inplace=False)\n",
              "            )\n",
              "          )\n",
              "          (intermediate): BertIntermediate(\n",
              "            (dense): Linear(in_features=768, out_features=3072, bias=True)\n",
              "            (intermediate_act_fn): GELUActivation()\n",
              "          )\n",
              "          (output): BertOutput(\n",
              "            (dense): Linear(in_features=3072, out_features=768, bias=True)\n",
              "            (LayerNorm): LayerNorm((768,), eps=1e-12, elementwise_affine=True)\n",
              "            (dropout): Dropout(p=0.1, inplace=False)\n",
              "          )\n",
              "        )\n",
              "        (9): BertLayer(\n",
              "          (attention): BertAttention(\n",
              "            (self): BertSelfAttention(\n",
              "              (query): Linear(in_features=768, out_features=768, bias=True)\n",
              "              (key): Linear(in_features=768, out_features=768, bias=True)\n",
              "              (value): Linear(in_features=768, out_features=768, bias=True)\n",
              "              (dropout): Dropout(p=0.1, inplace=False)\n",
              "            )\n",
              "            (output): BertSelfOutput(\n",
              "              (dense): Linear(in_features=768, out_features=768, bias=True)\n",
              "              (LayerNorm): LayerNorm((768,), eps=1e-12, elementwise_affine=True)\n",
              "              (dropout): Dropout(p=0.1, inplace=False)\n",
              "            )\n",
              "          )\n",
              "          (intermediate): BertIntermediate(\n",
              "            (dense): Linear(in_features=768, out_features=3072, bias=True)\n",
              "            (intermediate_act_fn): GELUActivation()\n",
              "          )\n",
              "          (output): BertOutput(\n",
              "            (dense): Linear(in_features=3072, out_features=768, bias=True)\n",
              "            (LayerNorm): LayerNorm((768,), eps=1e-12, elementwise_affine=True)\n",
              "            (dropout): Dropout(p=0.1, inplace=False)\n",
              "          )\n",
              "        )\n",
              "        (10): BertLayer(\n",
              "          (attention): BertAttention(\n",
              "            (self): BertSelfAttention(\n",
              "              (query): Linear(in_features=768, out_features=768, bias=True)\n",
              "              (key): Linear(in_features=768, out_features=768, bias=True)\n",
              "              (value): Linear(in_features=768, out_features=768, bias=True)\n",
              "              (dropout): Dropout(p=0.1, inplace=False)\n",
              "            )\n",
              "            (output): BertSelfOutput(\n",
              "              (dense): Linear(in_features=768, out_features=768, bias=True)\n",
              "              (LayerNorm): LayerNorm((768,), eps=1e-12, elementwise_affine=True)\n",
              "              (dropout): Dropout(p=0.1, inplace=False)\n",
              "            )\n",
              "          )\n",
              "          (intermediate): BertIntermediate(\n",
              "            (dense): Linear(in_features=768, out_features=3072, bias=True)\n",
              "            (intermediate_act_fn): GELUActivation()\n",
              "          )\n",
              "          (output): BertOutput(\n",
              "            (dense): Linear(in_features=3072, out_features=768, bias=True)\n",
              "            (LayerNorm): LayerNorm((768,), eps=1e-12, elementwise_affine=True)\n",
              "            (dropout): Dropout(p=0.1, inplace=False)\n",
              "          )\n",
              "        )\n",
              "        (11): BertLayer(\n",
              "          (attention): BertAttention(\n",
              "            (self): BertSelfAttention(\n",
              "              (query): Linear(in_features=768, out_features=768, bias=True)\n",
              "              (key): Linear(in_features=768, out_features=768, bias=True)\n",
              "              (value): Linear(in_features=768, out_features=768, bias=True)\n",
              "              (dropout): Dropout(p=0.1, inplace=False)\n",
              "            )\n",
              "            (output): BertSelfOutput(\n",
              "              (dense): Linear(in_features=768, out_features=768, bias=True)\n",
              "              (LayerNorm): LayerNorm((768,), eps=1e-12, elementwise_affine=True)\n",
              "              (dropout): Dropout(p=0.1, inplace=False)\n",
              "            )\n",
              "          )\n",
              "          (intermediate): BertIntermediate(\n",
              "            (dense): Linear(in_features=768, out_features=3072, bias=True)\n",
              "            (intermediate_act_fn): GELUActivation()\n",
              "          )\n",
              "          (output): BertOutput(\n",
              "            (dense): Linear(in_features=3072, out_features=768, bias=True)\n",
              "            (LayerNorm): LayerNorm((768,), eps=1e-12, elementwise_affine=True)\n",
              "            (dropout): Dropout(p=0.1, inplace=False)\n",
              "          )\n",
              "        )\n",
              "      )\n",
              "    )\n",
              "    (pooler): BertPooler(\n",
              "      (dense): Linear(in_features=768, out_features=768, bias=True)\n",
              "      (activation): Tanh()\n",
              "    )\n",
              "  )\n",
              "  (drop): Dropout(p=0.3, inplace=False)\n",
              "  (out): Linear(in_features=768, out_features=3, bias=True)\n",
              ")"
            ]
          },
          "metadata": {},
          "execution_count": 43
        }
      ],
      "source": [
        "model"
      ],
      "id": "PfH2n62g6I9Z"
    },
    {
      "cell_type": "markdown",
      "metadata": {
        "id": "cccd4bdb"
      },
      "source": [
        "We'll move the example batch of our training data to the GPU:"
      ],
      "id": "cccd4bdb"
    },
    {
      "cell_type": "code",
      "execution_count": 44,
      "metadata": {
        "id": "b8328472",
        "colab": {
          "base_uri": "https://localhost:8080/"
        },
        "outputId": "275c494e-5f32-4d71-9c31-20a845c70da3"
      },
      "outputs": [
        {
          "output_type": "stream",
          "name": "stdout",
          "text": [
            "torch.Size([16, 70])\n",
            "torch.Size([16, 70])\n"
          ]
        }
      ],
      "source": [
        "input_ids = data[\"input_ids\"].to(device)\n",
        "attention_mask = data[\"attention_mask\"].to(device)\n",
        "\n",
        "print(input_ids.shape)  # batch size x seq length\n",
        "print(attention_mask.shape)  # batch size x seq length"
      ],
      "id": "b8328472"
    },
    {
      "cell_type": "markdown",
      "metadata": {
        "id": "71b3f6d4"
      },
      "source": [
        "To get the predicted probabilities from our trained model, we'll apply the softmax function to the outputs:"
      ],
      "id": "71b3f6d4"
    },
    {
      "cell_type": "code",
      "execution_count": 45,
      "metadata": {
        "id": "f0f69764",
        "colab": {
          "base_uri": "https://localhost:8080/"
        },
        "outputId": "7386ceb3-72a9-4e50-9617-846663f41db6"
      },
      "outputs": [
        {
          "output_type": "execute_result",
          "data": {
            "text/plain": [
              "tensor([[0.3262, 0.4656, 0.2082],\n",
              "        [0.5702, 0.2390, 0.1908],\n",
              "        [0.5668, 0.2835, 0.1497],\n",
              "        [0.5402, 0.2859, 0.1739],\n",
              "        [0.5129, 0.3260, 0.1612],\n",
              "        [0.6294, 0.2398, 0.1308],\n",
              "        [0.4265, 0.4509, 0.1226],\n",
              "        [0.5557, 0.2883, 0.1560],\n",
              "        [0.3589, 0.3840, 0.2572],\n",
              "        [0.2784, 0.5572, 0.1644],\n",
              "        [0.3579, 0.4307, 0.2114],\n",
              "        [0.5608, 0.2893, 0.1500],\n",
              "        [0.5639, 0.2620, 0.1741],\n",
              "        [0.5841, 0.1259, 0.2900],\n",
              "        [0.4658, 0.3321, 0.2021],\n",
              "        [0.3156, 0.4576, 0.2268]], device='cuda:0', grad_fn=<SoftmaxBackward0>)"
            ]
          },
          "metadata": {},
          "execution_count": 45
        }
      ],
      "source": [
        "F.softmax(model(input_ids, attention_mask), dim=1)"
      ],
      "id": "f0f69764"
    },
    {
      "cell_type": "markdown",
      "metadata": {
        "id": "b26ea7df"
      },
      "source": [
        "## Training\n",
        "\n",
        "To reproduce the training procedure from the BERT paper, we'll use the [AdamW](https://huggingface.co/transformers/main_classes/optimizer_schedules.html#adamw) optimizer provided by Hugging Face. It corrects weight decay, so it's similar to the original paper. We'll also use a linear scheduler with no warmup steps:"
      ],
      "id": "b26ea7df"
    },
    {
      "cell_type": "code",
      "execution_count": 46,
      "metadata": {
        "id": "9176307b"
      },
      "outputs": [],
      "source": [
        "EPOCHS = 5\n",
        "LR = 2e-5\n",
        "\n",
        "optimizer = optim.AdamW(\n",
        "    model.parameters(),\n",
        "    lr = LR\n",
        "    )\n",
        "\n",
        "total_steps = EPOCHS * len(train_data_loader) \n",
        "\n",
        "scheduler = get_linear_schedule_with_warmup(\n",
        "    optimizer = optimizer,\n",
        "    num_warmup_steps = 0,\n",
        "    num_training_steps = total_steps\n",
        "    )\n",
        "# For multi-class classification you would usually just use nn.CrossEntropyLoss \n",
        "loss_fn = nn.CrossEntropyLoss().to(device)"
      ],
      "id": "9176307b"
    },
    {
      "cell_type": "markdown",
      "metadata": {
        "id": "b236c36e"
      },
      "source": [
        "How do we come up with all hyperparameters? The BERT authors have some recommendations for fine-tuning:\n",
        "\n",
        "- Batch size: 16, 32\n",
        "- Learning rate (Adam): 2e-5\n",
        "-Number of epochs: 5\n",
        "\n",
        "We're going to ignore the number of epochs recommendation but stick with the rest. Note that increasing the batch size reduces the training time significantly, but gives you lower accuracy.\n",
        "\n",
        "Let's continue with writing a helper function for training our model for one epoch:"
      ],
      "id": "b236c36e"
    },
    {
      "cell_type": "code",
      "execution_count": 47,
      "metadata": {
        "id": "ea12d013"
      },
      "outputs": [],
      "source": [
        "def train_epoch(\n",
        "    model,\n",
        "    data_loader,\n",
        "    loss_fn,\n",
        "    optimizer,\n",
        "    device,\n",
        "    scheduler,\n",
        "    n_examples\n",
        "    ):\n",
        "\n",
        "    model = model.train()\n",
        "\n",
        "    losses = []\n",
        "    correct_predictions = 0\n",
        "\n",
        "    for d in data_loader:\n",
        "        input_ids = d[\"input_ids\"].to(device)\n",
        "        attention_mask = d[\"attention_mask\"].to(device)\n",
        "        targets = d[\"targets\"].to(device)\n",
        "\n",
        "        outputs = model(\n",
        "            input_ids = input_ids,\n",
        "            attention_mask =attention_mask\n",
        "            )\n",
        "\n",
        "        _, preds = torch.max(outputs, dim=1)\n",
        "        loss = loss_fn(outputs, targets)\n",
        "\n",
        "        correct_predictions += torch.sum(preds == targets)\n",
        "        losses.append(loss.item())\n",
        "\n",
        "        loss.backward()\n",
        "        nn.utils.clip_grad_norm_(model.parameters(), max_norm=1.0)\n",
        "        optimizer.step()\n",
        "        scheduler.step()\n",
        "        optimizer.zero_grad()\n",
        "\n",
        "    return correct_predictions.double() / n_examples, np.mean(losses)"
      ],
      "id": "ea12d013"
    },
    {
      "cell_type": "markdown",
      "metadata": {
        "id": "002a7a72"
      },
      "source": [
        "Training the model should look familiar, except for two things. The scheduler gets called every time a batch is fed to the model. We're avoiding exploding gradients by clipping the gradients of the model using [clip_gradnorm](https://pytorch.org/docs/stable/nn.html#clip-grad-norm).\n",
        "\n",
        "Let's write another one that helps us evaluate the model on a given data loader:"
      ],
      "id": "002a7a72"
    },
    {
      "cell_type": "code",
      "execution_count": 48,
      "metadata": {
        "id": "306768d9"
      },
      "outputs": [],
      "source": [
        "def eval_model(model, data_loader, loss_fn, device, n_examples):\n",
        "    model = model.eval()\n",
        "\n",
        "    losses = []\n",
        "    correct_predictions = 0\n",
        "\n",
        "    with torch.no_grad():\n",
        "        for d in data_loader:\n",
        "            input_ids = d[\"input_ids\"].to(device)\n",
        "            attention_mask = d[\"attention_mask\"].to(device)\n",
        "            targets = d[\"targets\"].to(device)\n",
        "\n",
        "            outputs = model(\n",
        "                input_ids = input_ids,\n",
        "                attention_mask = attention_mask\n",
        "                )\n",
        "            \n",
        "            _, preds = torch.max(outputs, dim=1)\n",
        "\n",
        "            loss = loss_fn(outputs, targets)\n",
        "\n",
        "            correct_predictions += torch.sum(preds == targets)\n",
        "            losses.append(loss.item())\n",
        "\n",
        "    return correct_predictions.double() / n_examples, np.mean(losses)"
      ],
      "id": "306768d9"
    },
    {
      "cell_type": "markdown",
      "metadata": {
        "id": "bfd31248"
      },
      "source": [
        "Using those two, we can write our training loop. We'll also store the training history:"
      ],
      "id": "bfd31248"
    },
    {
      "cell_type": "code",
      "execution_count": 49,
      "metadata": {
        "id": "6bbc313e",
        "colab": {
          "base_uri": "https://localhost:8080/"
        },
        "outputId": "cae266f3-821c-436c-aa5e-ab235f9d4ef9"
      },
      "outputs": [
        {
          "output_type": "stream",
          "name": "stdout",
          "text": [
            "Epoch 1/5\n",
            "-----------------------------------------------------------------\n",
            "Train loss: 0.99097635694533\t Accuracy: 0.518076487498911\n",
            "Valid loss: 0.9045205255349477\t Accuracy: 0.5895470383275261\n",
            "\n",
            "Epoch 2/5\n",
            "-----------------------------------------------------------------\n",
            "Train loss: 0.8202495115879186\t Accuracy: 0.6416064117083369\n",
            "Valid loss: 0.8156188570790821\t Accuracy: 0.6529616724738676\n",
            "\n",
            "Epoch 3/5\n",
            "-----------------------------------------------------------------\n",
            "Train loss: 0.6043904121954793\t Accuracy: 0.75694746929175\n",
            "Valid loss: 0.8118354767560959\t Accuracy: 0.7045296167247387\n",
            "\n",
            "Epoch 4/5\n",
            "-----------------------------------------------------------------\n",
            "Train loss: 0.4480760798252559\t Accuracy: 0.8273368760344977\n",
            "Valid loss: 0.8435584743817647\t Accuracy: 0.7282229965156795\n",
            "\n",
            "Epoch 5/5\n",
            "-----------------------------------------------------------------\n",
            "Train loss: 0.3607929998277207\t Accuracy: 0.8584371460928651\n",
            "Valid loss: 0.8994288745853636\t Accuracy: 0.7261324041811846\n",
            "\n",
            "CPU times: user 10min 54s, sys: 4min 22s, total: 15min 17s\n",
            "Wall time: 15min 38s\n"
          ]
        }
      ],
      "source": [
        "%%time\n",
        "history = defaultdict(list)\n",
        "best_accuracy = 0\n",
        "\n",
        "for epoch in range(EPOCHS):\n",
        "\n",
        "  print(f'Epoch {epoch + 1}/{EPOCHS}')\n",
        "  print('-' * 65)\n",
        "\n",
        "  train_acc, train_loss = train_epoch(\n",
        "      model,\n",
        "      train_data_loader,    \n",
        "      loss_fn, \n",
        "      optimizer, \n",
        "      device, \n",
        "      scheduler, \n",
        "      len(df_train)\n",
        "      )\n",
        "\n",
        "  print(f'Train loss: {train_loss}\\t Accuracy: {train_acc}')\n",
        "\n",
        "  val_acc, val_loss = eval_model(\n",
        "      model,\n",
        "      val_data_loader,\n",
        "      loss_fn, \n",
        "      device, \n",
        "      len(df_val)\n",
        "      )\n",
        "  \n",
        "  print(f'Valid loss: {val_loss}\\t Accuracy: {val_acc}')\n",
        "  print()\n",
        "\n",
        "  history['train_acc'].append(train_acc)\n",
        "  history['train_loss'].append(train_loss)                             \n",
        "  history['val_acc'].append(val_acc)\n",
        "  history['val_loss'].append(val_loss)\n",
        "    \n",
        "  if val_acc > best_accuracy:\n",
        "    torch.save(\n",
        "        model.state_dict(),\n",
        "        'best_pretrained_model_bert.bin'\n",
        "        )\n",
        "    best_accuracy = val_acc"
      ],
      "id": "6bbc313e"
    },
    {
      "cell_type": "markdown",
      "metadata": {
        "id": "d48b5978"
      },
      "source": [
        "Note that we're storing the state of the best model, indicated by the highest validation accuracy.\n",
        "\n",
        "Whoo, this took some time! We can look at the training vs validation accuracy:"
      ],
      "id": "d48b5978"
    },
    {
      "cell_type": "code",
      "execution_count": 50,
      "metadata": {
        "id": "L1Zwc-0hI5vw"
      },
      "outputs": [],
      "source": [
        "train_acc = [i.cpu() for i in history['train_acc']]\n",
        "val_acc = [i.cpu() for i in history['val_acc']]"
      ],
      "id": "L1Zwc-0hI5vw"
    },
    {
      "cell_type": "code",
      "execution_count": 51,
      "metadata": {
        "id": "27c03e6e",
        "scrolled": true,
        "colab": {
          "base_uri": "https://localhost:8080/",
          "height": 523
        },
        "outputId": "e3271273-0613-4236-acd0-dd2c585f44ec"
      },
      "outputs": [
        {
          "output_type": "display_data",
          "data": {
            "text/plain": [
              "<Figure size 1008x576 with 1 Axes>"
            ],
            "image/png": "[encoded data removed]"
          },
          "metadata": {}
        }
      ],
      "source": [
        "plt.figure(figsize = (14,8))\n",
        "plt.plot(train_acc, label='train_acc')\n",
        "plt.plot(val_acc, label='val_acc')\n",
        "plt.plot(history['train_loss'], label='train_loss')\n",
        "plt.plot(history['val_loss'], label='val_loss')\n",
        "\n",
        "plt.title('Training Curves')\n",
        "plt.ylabel('Accuracy/Loss')\n",
        "plt.xlabel('Epoch')\n",
        "plt.legend(loc='lower left', shadow=True)\n",
        "plt.show()"
      ],
      "id": "27c03e6e"
    },
    {
      "cell_type": "markdown",
      "metadata": {
        "id": "8fd4a38c"
      },
      "source": [
        "The training accuracy starts to approach 100% after 6 epochs or so."
      ],
      "id": "8fd4a38c"
    },
    {
      "cell_type": "markdown",
      "metadata": {
        "id": "6fe0b893"
      },
      "source": [
        "## Download the pre-trained model by uncommenting the below section if you don't want to do training"
      ],
      "id": "6fe0b893"
    },
    {
      "cell_type": "code",
      "execution_count": 52,
      "metadata": {
        "id": "5649e79e",
        "scrolled": true,
        "colab": {
          "base_uri": "https://localhost:8080/"
        },
        "outputId": "431766f3-23fd-49c6-eda5-3694d7b4c493"
      },
      "outputs": [
        {
          "output_type": "execute_result",
          "data": {
            "text/plain": [
              "<All keys matched successfully>"
            ]
          },
          "metadata": {},
          "execution_count": 52
        }
      ],
      "source": [
        "model.load_state_dict(\n",
        "    torch.load(\n",
        "        \"/content/best_pretrained_model_bert.bin\",\n",
        "        map_location=torch.device(\"cpu\"),\n",
        "    )\n",
        ")"
      ],
      "id": "5649e79e"
    },
    {
      "cell_type": "markdown",
      "metadata": {
        "id": "1cd0c4ff"
      },
      "source": [
        "# Evaluation\n",
        "So how good is our model on predicting sentiment? Let's start by calculating the accuracy on the test data:"
      ],
      "id": "1cd0c4ff"
    },
    {
      "cell_type": "code",
      "execution_count": 53,
      "metadata": {
        "id": "e3ad76a0",
        "colab": {
          "base_uri": "https://localhost:8080/"
        },
        "outputId": "65b797d4-fced-4fa7-9af7-0ea6a473c3a3"
      },
      "outputs": [
        {
          "output_type": "execute_result",
          "data": {
            "text/plain": [
              "0.7191637630662021"
            ]
          },
          "metadata": {},
          "execution_count": 53
        }
      ],
      "source": [
        "test_acc, _ = eval_model(model, test_data_loader, loss_fn, device, len(df_test))\n",
        "\n",
        "test_acc.item()"
      ],
      "id": "e3ad76a0"
    },
    {
      "cell_type": "markdown",
      "metadata": {
        "id": "b44cea00"
      },
      "source": [
        "Our model seems to generalize well as test accuracy is almost equal to validation accuracy.\n",
        "\n",
        "We'll define a helper function to get the predictions from our model:"
      ],
      "id": "b44cea00"
    },
    {
      "cell_type": "code",
      "execution_count": 54,
      "metadata": {
        "id": "c6db45df"
      },
      "outputs": [],
      "source": [
        "def get_predictions(model, data_loader):\n",
        "    model = model.eval()\n",
        "\n",
        "    review_texts = []\n",
        "    predictions = []\n",
        "    prediction_probs = []\n",
        "    real_values = []\n",
        "\n",
        "    with torch.no_grad():\n",
        "        for d in data_loader:\n",
        "\n",
        "            texts = d[\"review_text\"]\n",
        "            input_ids = d[\"input_ids\"].to(device)\n",
        "            attention_mask = d[\"attention_mask\"].to(device)\n",
        "            targets = d[\"targets\"].to(device)\n",
        "\n",
        "            outputs = model(input_ids=input_ids, attention_mask=attention_mask)\n",
        "            _, preds = torch.max(outputs, dim=1)\n",
        "\n",
        "            probs = F.softmax(outputs, dim=1)\n",
        "\n",
        "            review_texts.extend(texts)\n",
        "            predictions.extend(preds)\n",
        "            prediction_probs.extend(probs)\n",
        "            real_values.extend(targets)\n",
        "\n",
        "    predictions = torch.stack(predictions).cpu()\n",
        "    prediction_probs = torch.stack(prediction_probs).cpu()\n",
        "    real_values = torch.stack(real_values).cpu()\n",
        "    return review_texts, predictions, prediction_probs, real_values"
      ],
      "id": "c6db45df"
    },
    {
      "cell_type": "markdown",
      "metadata": {
        "id": "b646eebb"
      },
      "source": [
        "This is similar to the evaluation function, except that we're storing the text of the reviews and the predicted probabilities (by applying the softmax on the model outputs):"
      ],
      "id": "b646eebb"
    },
    {
      "cell_type": "code",
      "execution_count": 55,
      "metadata": {
        "id": "6dc74e45"
      },
      "outputs": [],
      "source": [
        "y_review_texts, y_pred, y_pred_probs, y_test = get_predictions(model, test_data_loader)"
      ],
      "id": "6dc74e45"
    },
    {
      "cell_type": "markdown",
      "metadata": {
        "id": "5c7a8c2c"
      },
      "source": [
        "Let's have a look at the classification report"
      ],
      "id": "5c7a8c2c"
    },
    {
      "cell_type": "code",
      "execution_count": 56,
      "metadata": {
        "id": "cb5dbe73",
        "colab": {
          "base_uri": "https://localhost:8080/"
        },
        "outputId": "6189983d-f72e-46e9-9386-30768c02e0d3"
      },
      "outputs": [
        {
          "output_type": "stream",
          "name": "stdout",
          "text": [
            "              precision    recall  f1-score   support\n",
            "\n",
            "    negative       0.70      0.78      0.74       488\n",
            "     neutral       0.73      0.63      0.67       485\n",
            "    positive       0.73      0.75      0.74       462\n",
            "\n",
            "    accuracy                           0.72      1435\n",
            "   macro avg       0.72      0.72      0.72      1435\n",
            "weighted avg       0.72      0.72      0.72      1435\n",
            "\n"
          ]
        }
      ],
      "source": [
        "print(classification_report(y_test, y_pred, target_names=class_names))"
      ],
      "id": "cb5dbe73"
    },
    {
      "cell_type": "markdown",
      "metadata": {
        "id": "3ec234bd"
      },
      "source": [
        "Looks like it is really hard to classify neutral (3 stars) reviews. And I can tell you from experience, looking at many reviews, those are hard to classify.\n",
        "\n",
        "We'll continue with the confusion matrix:"
      ],
      "id": "3ec234bd"
    },
    {
      "cell_type": "code",
      "execution_count": 57,
      "metadata": {
        "id": "22d5ca55",
        "colab": {
          "base_uri": "https://localhost:8080/",
          "height": 316
        },
        "outputId": "f439b142-9bad-4ded-ded3-1cca79f942fb"
      },
      "outputs": [
        {
          "output_type": "display_data",
          "data": {
            "text/plain": [
              "<Figure size 432x288 with 2 Axes>"
            ],
            "image/png": "[encoded data removed]"
          },
          "metadata": {}
        }
      ],
      "source": [
        "def show_confusion_matrix(confusion_matrix):\n",
        "    hmap = sns.heatmap(confusion_matrix, annot=True, fmt=\"d\", cmap=\"Blues\")\n",
        "    hmap.yaxis.set_ticklabels(hmap.yaxis.get_ticklabels(), rotation=0, ha=\"right\")\n",
        "    hmap.xaxis.set_ticklabels(hmap.xaxis.get_ticklabels(), rotation=30, ha=\"right\")\n",
        "    plt.ylabel(\"True sentiment\")\n",
        "    plt.xlabel(\"Predicted sentiment\")\n",
        "\n",
        "\n",
        "cm = confusion_matrix(y_test, y_pred)\n",
        "df_cm = pd.DataFrame(cm, index=class_names, columns=class_names)\n",
        "show_confusion_matrix(df_cm)"
      ],
      "id": "22d5ca55"
    },
    {
      "cell_type": "markdown",
      "metadata": {
        "id": "4878ce2d"
      },
      "source": [
        "That's a good overview of the performance of our model. But let's have a look at an example from our test data:"
      ],
      "id": "4878ce2d"
    },
    {
      "cell_type": "code",
      "execution_count": 58,
      "metadata": {
        "id": "a58ed8b7"
      },
      "outputs": [],
      "source": [
        "idx = 2\n",
        "\n",
        "review_text = y_review_texts[idx]\n",
        "true_sentiment = y_test[idx]\n",
        "pred_df = pd.DataFrame({\"class_names\": class_names, \"values\": y_pred_probs[idx]})"
      ],
      "id": "a58ed8b7"
    },
    {
      "cell_type": "code",
      "execution_count": 59,
      "metadata": {
        "id": "24fd1cf6",
        "colab": {
          "base_uri": "https://localhost:8080/"
        },
        "outputId": "4b3c809c-f7b4-4052-8992-69b09668a996"
      },
      "outputs": [
        {
          "output_type": "stream",
          "name": "stdout",
          "text": [
            "game bugnya handphone instagram meledak canda\n",
            "\n",
            "True sentiment: positive\n"
          ]
        }
      ],
      "source": [
        "print(\"\\n\".join(wrap(review_text)))\n",
        "print()\n",
        "print(f\"True sentiment: {class_names[true_sentiment]}\")"
      ],
      "id": "24fd1cf6"
    },
    {
      "cell_type": "markdown",
      "metadata": {
        "id": "5bc2221d"
      },
      "source": [
        "Now we can look at the confidence of each sentiment of our model:"
      ],
      "id": "5bc2221d"
    },
    {
      "cell_type": "code",
      "execution_count": 60,
      "metadata": {
        "id": "e7fddded",
        "colab": {
          "base_uri": "https://localhost:8080/",
          "height": 306
        },
        "outputId": "d712ff56-6579-4e49-b760-9cbfcd580947"
      },
      "outputs": [
        {
          "output_type": "execute_result",
          "data": {
            "text/plain": [
              "Text(0.5, 0, 'probability')"
            ]
          },
          "metadata": {},
          "execution_count": 60
        },
        {
          "output_type": "display_data",
          "data": {
            "text/plain": [
              "<Figure size 432x288 with 1 Axes>"
            ],
            "image/png": "[encoded data removed]"
          },
          "metadata": {}
        }
      ],
      "source": [
        "sns.barplot(x=\"values\", y=\"class_names\", data=pred_df, orient=\"h\")\n",
        "plt.ylabel(\"sentiment\")\n",
        "plt.xlabel(\"probability\")"
      ],
      "id": "e7fddded"
    },
    {
      "cell_type": "markdown",
      "metadata": {
        "id": "4d5380d8"
      },
      "source": [
        "# Predicting on Raw Text\n",
        "Let's use our model to predict the sentiment of some raw text:"
      ],
      "id": "4d5380d8"
    },
    {
      "cell_type": "code",
      "execution_count": 61,
      "metadata": {
        "id": "88405708"
      },
      "outputs": [],
      "source": [
        "review_text = \"Setelah pembaruan terakhir gim ini menjadi sangat buruk Meskipun saya memiliki internet yang layak ini menunjukkan masalah jaringan Selain itu dalam mode solo tidak dapat menemukan saya menunggu selama 3 menit tetapi tidak bisa Saya berharap para pengembang akan melakukan sesuatu tentang masalah ini\""
      ],
      "id": "88405708"
    },
    {
      "cell_type": "markdown",
      "metadata": {
        "id": "27e6b762"
      },
      "source": [
        "We have to use the tokenizer to encode the text:"
      ],
      "id": "27e6b762"
    },
    {
      "cell_type": "code",
      "execution_count": 62,
      "metadata": {
        "id": "4fbaa38f"
      },
      "outputs": [],
      "source": [
        "encoded_review = tokenizer.encode_plus(\n",
        "    review_text,\n",
        "    add_special_tokens = True, # menambahkan '[CLS]' dan '[SEP]'\n",
        "    max_length = max_len, \n",
        "    return_token_type_ids = False,\n",
        "    padding = \"max_length\", # Padding kalimat menjadi panjang maksimum.\n",
        "    truncation = True, # Potong kalimat menjadi panjang maksimum.\n",
        "    return_attention_mask = True, # Kembali attention mask\n",
        "    return_tensors = \"pt\", # Kembali  torch objects/tensor\n",
        "    )\n",
        "\n"
      ],
      "id": "4fbaa38f"
    },
    {
      "cell_type": "markdown",
      "metadata": {
        "id": "813b7175"
      },
      "source": [
        "Let's get the predictions from our model:"
      ],
      "id": "813b7175"
    },
    {
      "cell_type": "code",
      "execution_count": 63,
      "metadata": {
        "id": "1678fc69",
        "colab": {
          "base_uri": "https://localhost:8080/"
        },
        "outputId": "732f7a69-b466-4d21-a899-27fe26043a38"
      },
      "outputs": [
        {
          "output_type": "stream",
          "name": "stdout",
          "text": [
            "Review text: Setelah pembaruan terakhir gim ini menjadi sangat buruk Meskipun saya memiliki internet yang layak ini menunjukkan masalah jaringan Selain itu dalam mode solo tidak dapat menemukan saya menunggu selama 3 menit tetapi tidak bisa Saya berharap para pengembang akan melakukan sesuatu tentang masalah ini\n",
            "Sentiment  : negative\n"
          ]
        }
      ],
      "source": [
        "input_ids = encoded_review[\"input_ids\"].to(device)\n",
        "attention_mask = encoded_review[\"attention_mask\"].to(device)\n",
        "\n",
        "output = model(input_ids, attention_mask)\n",
        "_, prediction = torch.max(output, dim=1)\n",
        "\n",
        "print(f\"Review text: {review_text}\")\n",
        "print(f\"Sentiment  : {class_names[prediction]}\")"
      ],
      "id": "1678fc69"
    },
    {
      "cell_type": "markdown",
      "metadata": {
        "id": "99ece06e"
      },
      "source": [
        "# Summary\n",
        "Nice job! You learned how to use BERT for sentiment analysis. You built a custom classifier using the Hugging Face library and trained it on our app reviews dataset!\n",
        "\n",
        "- [Read the tutorial](https://www.curiousily.com/posts/sentiment-analysis-with-bert-and-hugging-face-using-pytorch-and-python/)\n",
        "- [Run the notebook in your browser (Google Colab)](https://colab.research.google.com/drive/1PHv-IRLPCtv7oTcIGbsgZHqrB5LPvB7S)\n",
        "- [Read the Getting Things Done with Pytorch book](https://github.com/curiousily/Getting-Things-Done-with-Pytorch)\n",
        "\n",
        "You learned how to:\n",
        "\n",
        "- Intuitively understand what BERT is\n",
        "- Preprocess text data for BERT and build PyTorch Dataset (tokenization, attention masks, and padding)\n",
        "- Use Transfer Learning to build Sentiment Classifier using the Transformers library by Hugging Face\n",
        "- Evaluate the model on test data\n",
        "- Predict sentiment on raw text\n",
        "\n",
        "Next, we'll learn how to deploy our trained model behind a REST API and build a simple web app to access it."
      ],
      "id": "99ece06e"
    },
    {
      "cell_type": "markdown",
      "metadata": {
        "id": "626dc53f"
      },
      "source": [
        "# References\n",
        "\n",
        "- [BERT: Pre-training of Deep Bidirectional Transformers for Language Understanding](https://arxiv.org/abs/1810.04805)\n",
        "- [L11 Language Models - Alec Radford (OpenAI)](https://www.youtube.com/watch?v=BnpB3GrpsfM)\n",
        "- [The Illustrated BERT, ELMo, and co.](https://jalammar.github.io/illustrated-bert/)\n",
        "- [BERT Fine-Tuning Tutorial with PyTorch](https://mccormickml.com/2019/07/22/BERT-fine-tuning/)\n",
        "- [How to Fine-Tune BERT for Text Classification?](https://arxiv.org/pdf/1905.05583.pdf)\n",
        "- [Huggingface Transformers](https://huggingface.co/transformers/)\n",
        "- [BERT Explained: State of the art language model for NLP](https://towardsdatascience.com/bert-explained-state-of-the-art-language-model-for-nlp-f8b21a9b6270)"
      ],
      "id": "626dc53f"
    }
  ],
  "metadata": {
    "accelerator": "GPU",
    "colab": {
      "collapsed_sections": [
        "99ece06e"
      ],
      "provenance": [],
      "include_colab_link": true
    },
    "gpuClass": "standard",
    "kernelspec": {
      "display_name": "Python 3 (ipykernel)",
      "language": "python",
      "name": "python3"
    },
    "language_info": {
      "codemirror_mode": {
        "name": "ipython",
        "version": 3
      },
      "file_extension": ".py",
      "mimetype": "text/x-python",
      "name": "python",
      "nbconvert_exporter": "python",
      "pygments_lexer": "ipython3",
      "version": "3.8.0"
    }
  },
  "nbformat": 4,
  "nbformat_minor": 5
}