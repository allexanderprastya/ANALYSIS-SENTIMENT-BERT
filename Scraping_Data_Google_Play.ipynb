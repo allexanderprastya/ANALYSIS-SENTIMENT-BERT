{
  "nbformat": 4,
  "nbformat_minor": 0,
  "metadata": {
    "colab": {
      "provenance": [],
      "collapsed_sections": [],
      "authorship_tag": "ABX9TyMk1NXIvS0RFkCx4+sXbcDg",
      "include_colab_link": true
    },
    "kernelspec": {
      "name": "python3",
      "display_name": "Python 3"
    },
    "language_info": {
      "name": "python"
    }
  },
  "cells": [
    {
      "cell_type": "markdown",
      "metadata": {
        "id": "view-in-github",
        "colab_type": "text"
      },
      "source": [
        "<a href=\"https://colab.research.google.com/github/allexanderprastya/ANALYSIS-SENTIMENT-BERT/blob/main/Scraping_Data_Google_Play.ipynb\" target=\"_parent\"><img src=\"https://colab.research.google.com/assets/colab-badge.svg\" alt=\"Open In Colab\"/></a>"
      ]
    },
    {
      "cell_type": "markdown",
      "source": [
        "###Scraping data 1"
      ],
      "metadata": {
        "id": "ZF_oBnOcfeqN"
      }
    },
    {
      "cell_type": "code",
      "source": [
        "pip install google_play_scraper"
      ],
      "metadata": {
        "colab": {
          "base_uri": "https://localhost:8080/"
        },
        "id": "Nw0GUxxWS864",
        "outputId": "c7a65433-4aa4-424c-fb58-4792b5b0aa56"
      },
      "execution_count": 13,
      "outputs": [
        {
          "output_type": "stream",
          "name": "stdout",
          "text": [
            "Looking in indexes: https://pypi.org/simple, https://us-python.pkg.dev/colab-wheels/public/simple/\n",
            "Requirement already satisfied: google_play_scraper in /usr/local/lib/python3.7/dist-packages (1.2.2)\n"
          ]
        }
      ]
    },
    {
      "cell_type": "code",
      "execution_count": 14,
      "metadata": {
        "id": "d96d5022"
      },
      "outputs": [],
      "source": [
        "from google_play_scraper import Sort, reviews\n",
        "\n",
        "result, continuation_token = reviews(\n",
        "    'com.tencent.ig',\n",
        "    lang = 'id',\n",
        "    country = 'id',\n",
        "    sort = Sort.NEWEST,\n",
        "    count = 5000,\n",
        "    filter_score_with = 1\n",
        ")"
      ]
    },
    {
      "cell_type": "code",
      "source": [
        "import pandas as pd"
      ],
      "metadata": {
        "id": "wst8XALG6YE5"
      },
      "execution_count": 15,
      "outputs": []
    },
    {
      "cell_type": "code",
      "source": [
        "df = pd.DataFrame(result)"
      ],
      "metadata": {
        "id": "bf9ELCPk5s9e"
      },
      "execution_count": 16,
      "outputs": []
    },
    {
      "cell_type": "code",
      "source": [
        "df.shape"
      ],
      "metadata": {
        "colab": {
          "base_uri": "https://localhost:8080/"
        },
        "id": "bC5RfJKF6Poh",
        "outputId": "820c209c-e86b-4b26-a607-f315abe8ee08"
      },
      "execution_count": 17,
      "outputs": [
        {
          "output_type": "execute_result",
          "data": {
            "text/plain": [
              "(5000, 10)"
            ]
          },
          "metadata": {},
          "execution_count": 17
        }
      ]
    },
    {
      "cell_type": "code",
      "source": [
        "df.head()"
      ],
      "metadata": {
        "colab": {
          "base_uri": "https://localhost:8080/",
          "height": 582
        },
        "id": "gitXP2Hi6SCJ",
        "outputId": "5fc3d852-6b8f-4d33-ebc4-6ff7072cd929"
      },
      "execution_count": 18,
      "outputs": [
        {
          "output_type": "execute_result",
          "data": {
            "text/plain": [
              "                               reviewId           userName  \\\n",
              "0  1ea3c036-e82c-4ba1-8ab5-546d615c0dac  Plusenamdua Bodoh   \n",
              "1  322ae68d-c2fc-4745-9a0a-d561c66cf4a1        Indra Gumay   \n",
              "2  b7ba1f39-79e4-4bdf-be10-25dc3481368a       Nita Hafinan   \n",
              "3  b8e40cd5-c6a2-44dc-805f-925344ebdde2   Deden Yuliansyah   \n",
              "4  55af66b1-54d6-4652-a96d-f7dbbd082b1e             Facjri   \n",
              "\n",
              "                                           userImage  \\\n",
              "0  https://play-lh.googleusercontent.com/a/AItbvm...   \n",
              "1  https://play-lh.googleusercontent.com/a/AItbvm...   \n",
              "2  https://play-lh.googleusercontent.com/a/AItbvm...   \n",
              "3  https://play-lh.googleusercontent.com/a/AItbvm...   \n",
              "4  https://play-lh.googleusercontent.com/a/AItbvm...   \n",
              "\n",
              "                                             content  score  thumbsUpCount  \\\n",
              "0  Kebanyakan mikirin SKIN/MONEY,,, Sampe2 ga per...      1              0   \n",
              "1  Pemain pro jangan digabung sama yang pemula do...      1              0   \n",
              "2                                 Jelek ini game nya      1              0   \n",
              "3  Kenapasi setiap mau download game apa apa load...      1              0   \n",
              "4  dasar yaa krafton/tencent pokuss aja truss sam...      1              0   \n",
              "\n",
              "  reviewCreatedVersion                  at  \\\n",
              "0               0.12.0 2022-09-01 14:11:32   \n",
              "1                2.1.0 2022-09-01 14:06:37   \n",
              "2                 None 2022-09-01 14:01:33   \n",
              "3                 None 2022-09-01 13:36:29   \n",
              "4                 None 2022-09-01 13:30:56   \n",
              "\n",
              "                                        replyContent           repliedAt  \n",
              "0                                               None                 NaT  \n",
              "1                                               None                 NaT  \n",
              "2                                               None                 NaT  \n",
              "3                                               None                 NaT  \n",
              "4  Halo Facjri, kami senang mendengar bahwa Anda ... 2022-06-30 05:58:26  "
            ],
            "text/html": [
              "\n",
              "  <div id=\"df-d982b41e-d9dc-4b31-8389-6e8cc67fcec0\">\n",
              "    <div class=\"colab-df-container\">\n",
              "      <div>\n",
              "<style scoped>\n",
              "    .dataframe tbody tr th:only-of-type {\n",
              "        vertical-align: middle;\n",
              "    }\n",
              "\n",
              "    .dataframe tbody tr th {\n",
              "        vertical-align: top;\n",
              "    }\n",
              "\n",
              "    .dataframe thead th {\n",
              "        text-align: right;\n",
              "    }\n",
              "</style>\n",
              "<table border=\"1\" class=\"dataframe\">\n",
              "  <thead>\n",
              "    <tr style=\"text-align: right;\">\n",
              "      <th></th>\n",
              "      <th>reviewId</th>\n",
              "      <th>userName</th>\n",
              "      <th>userImage</th>\n",
              "      <th>content</th>\n",
              "      <th>score</th>\n",
              "      <th>thumbsUpCount</th>\n",
              "      <th>reviewCreatedVersion</th>\n",
              "      <th>at</th>\n",
              "      <th>replyContent</th>\n",
              "      <th>repliedAt</th>\n",
              "    </tr>\n",
              "  </thead>\n",
              "  <tbody>\n",
              "    <tr>\n",
              "      <th>0</th>\n",
              "      <td>1ea3c036-e82c-4ba1-8ab5-546d615c0dac</td>\n",
              "      <td>Plusenamdua Bodoh</td>\n",
              "      <td>https://play-lh.googleusercontent.com/a/AItbvm...</td>\n",
              "      <td>Kebanyakan mikirin SKIN/MONEY,,, Sampe2 ga per...</td>\n",
              "      <td>1</td>\n",
              "      <td>0</td>\n",
              "      <td>0.12.0</td>\n",
              "      <td>2022-09-01 14:11:32</td>\n",
              "      <td>None</td>\n",
              "      <td>NaT</td>\n",
              "    </tr>\n",
              "    <tr>\n",
              "      <th>1</th>\n",
              "      <td>322ae68d-c2fc-4745-9a0a-d561c66cf4a1</td>\n",
              "      <td>Indra Gumay</td>\n",
              "      <td>https://play-lh.googleusercontent.com/a/AItbvm...</td>\n",
              "      <td>Pemain pro jangan digabung sama yang pemula do...</td>\n",
              "      <td>1</td>\n",
              "      <td>0</td>\n",
              "      <td>2.1.0</td>\n",
              "      <td>2022-09-01 14:06:37</td>\n",
              "      <td>None</td>\n",
              "      <td>NaT</td>\n",
              "    </tr>\n",
              "    <tr>\n",
              "      <th>2</th>\n",
              "      <td>b7ba1f39-79e4-4bdf-be10-25dc3481368a</td>\n",
              "      <td>Nita Hafinan</td>\n",
              "      <td>https://play-lh.googleusercontent.com/a/AItbvm...</td>\n",
              "      <td>Jelek ini game nya</td>\n",
              "      <td>1</td>\n",
              "      <td>0</td>\n",
              "      <td>None</td>\n",
              "      <td>2022-09-01 14:01:33</td>\n",
              "      <td>None</td>\n",
              "      <td>NaT</td>\n",
              "    </tr>\n",
              "    <tr>\n",
              "      <th>3</th>\n",
              "      <td>b8e40cd5-c6a2-44dc-805f-925344ebdde2</td>\n",
              "      <td>Deden Yuliansyah</td>\n",
              "      <td>https://play-lh.googleusercontent.com/a/AItbvm...</td>\n",
              "      <td>Kenapasi setiap mau download game apa apa load...</td>\n",
              "      <td>1</td>\n",
              "      <td>0</td>\n",
              "      <td>None</td>\n",
              "      <td>2022-09-01 13:36:29</td>\n",
              "      <td>None</td>\n",
              "      <td>NaT</td>\n",
              "    </tr>\n",
              "    <tr>\n",
              "      <th>4</th>\n",
              "      <td>55af66b1-54d6-4652-a96d-f7dbbd082b1e</td>\n",
              "      <td>Facjri</td>\n",
              "      <td>https://play-lh.googleusercontent.com/a/AItbvm...</td>\n",
              "      <td>dasar yaa krafton/tencent pokuss aja truss sam...</td>\n",
              "      <td>1</td>\n",
              "      <td>0</td>\n",
              "      <td>None</td>\n",
              "      <td>2022-09-01 13:30:56</td>\n",
              "      <td>Halo Facjri, kami senang mendengar bahwa Anda ...</td>\n",
              "      <td>2022-06-30 05:58:26</td>\n",
              "    </tr>\n",
              "  </tbody>\n",
              "</table>\n",
              "</div>\n",
              "      <button class=\"colab-df-convert\" onclick=\"convertToInteractive('df-d982b41e-d9dc-4b31-8389-6e8cc67fcec0')\"\n",
              "              title=\"Convert this dataframe to an interactive table.\"\n",
              "              style=\"display:none;\">\n",
              "        \n",
              "  <svg xmlns=\"http://www.w3.org/2000/svg\" height=\"24px\"viewBox=\"0 0 24 24\"\n",
              "       width=\"24px\">\n",
              "    <path d=\"M0 0h24v24H0V0z\" fill=\"none\"/>\n",
              "    <path d=\"M18.56 5.44l.94 2.06.94-2.06 2.06-.94-2.06-.94-.94-2.06-.94 2.06-2.06.94zm-11 1L8.5 8.5l.94-2.06 2.06-.94-2.06-.94L8.5 2.5l-.94 2.06-2.06.94zm10 10l.94 2.06.94-2.06 2.06-.94-2.06-.94-.94-2.06-.94 2.06-2.06.94z\"/><path d=\"M17.41 7.96l-1.37-1.37c-.4-.4-.92-.59-1.43-.59-.52 0-1.04.2-1.43.59L10.3 9.45l-7.72 7.72c-.78.78-.78 2.05 0 2.83L4 21.41c.39.39.9.59 1.41.59.51 0 1.02-.2 1.41-.59l7.78-7.78 2.81-2.81c.8-.78.8-2.07 0-2.86zM5.41 20L4 18.59l7.72-7.72 1.47 1.35L5.41 20z\"/>\n",
              "  </svg>\n",
              "      </button>\n",
              "      \n",
              "  <style>\n",
              "    .colab-df-container {\n",
              "      display:flex;\n",
              "      flex-wrap:wrap;\n",
              "      gap: 12px;\n",
              "    }\n",
              "\n",
              "    .colab-df-convert {\n",
              "      background-color: #E8F0FE;\n",
              "      border: none;\n",
              "      border-radius: 50%;\n",
              "      cursor: pointer;\n",
              "      display: none;\n",
              "      fill: #1967D2;\n",
              "      height: 32px;\n",
              "      padding: 0 0 0 0;\n",
              "      width: 32px;\n",
              "    }\n",
              "\n",
              "    .colab-df-convert:hover {\n",
              "      background-color: #E2EBFA;\n",
              "      box-shadow: 0px 1px 2px rgba(60, 64, 67, 0.3), 0px 1px 3px 1px rgba(60, 64, 67, 0.15);\n",
              "      fill: #174EA6;\n",
              "    }\n",
              "\n",
              "    [theme=dark] .colab-df-convert {\n",
              "      background-color: #3B4455;\n",
              "      fill: #D2E3FC;\n",
              "    }\n",
              "\n",
              "    [theme=dark] .colab-df-convert:hover {\n",
              "      background-color: #434B5C;\n",
              "      box-shadow: 0px 1px 3px 1px rgba(0, 0, 0, 0.15);\n",
              "      filter: drop-shadow(0px 1px 2px rgba(0, 0, 0, 0.3));\n",
              "      fill: #FFFFFF;\n",
              "    }\n",
              "  </style>\n",
              "\n",
              "      <script>\n",
              "        const buttonEl =\n",
              "          document.querySelector('#df-d982b41e-d9dc-4b31-8389-6e8cc67fcec0 button.colab-df-convert');\n",
              "        buttonEl.style.display =\n",
              "          google.colab.kernel.accessAllowed ? 'block' : 'none';\n",
              "\n",
              "        async function convertToInteractive(key) {\n",
              "          const element = document.querySelector('#df-d982b41e-d9dc-4b31-8389-6e8cc67fcec0');\n",
              "          const dataTable =\n",
              "            await google.colab.kernel.invokeFunction('convertToInteractive',\n",
              "                                                     [key], {});\n",
              "          if (!dataTable) return;\n",
              "\n",
              "          const docLinkHtml = 'Like what you see? Visit the ' +\n",
              "            '<a target=\"_blank\" href=https://colab.research.google.com/notebooks/data_table.ipynb>data table notebook</a>'\n",
              "            + ' to learn more about interactive tables.';\n",
              "          element.innerHTML = '';\n",
              "          dataTable['output_type'] = 'display_data';\n",
              "          await google.colab.output.renderOutput(dataTable, element);\n",
              "          const docLink = document.createElement('div');\n",
              "          docLink.innerHTML = docLinkHtml;\n",
              "          element.appendChild(docLink);\n",
              "        }\n",
              "      </script>\n",
              "    </div>\n",
              "  </div>\n",
              "  "
            ]
          },
          "metadata": {},
          "execution_count": 18
        }
      ]
    },
    {
      "cell_type": "code",
      "source": [
        "df.to_csv('review_score_1.csv', index=None, header=True, encoding =\"utf-8\")"
      ],
      "metadata": {
        "id": "KSpvPXtc6i_Z"
      },
      "execution_count": 19,
      "outputs": []
    },
    {
      "cell_type": "code",
      "source": [
        "from google.colab import files\n",
        "files.download('review_score_1.csv')"
      ],
      "metadata": {
        "colab": {
          "base_uri": "https://localhost:8080/",
          "height": 17
        },
        "id": "vVzdY2PveamY",
        "outputId": "a2f6d640-e5f6-4a93-ded6-a626cd909e48"
      },
      "execution_count": 9,
      "outputs": [
        {
          "output_type": "display_data",
          "data": {
            "text/plain": [
              "<IPython.core.display.Javascript object>"
            ],
            "application/javascript": [
              "\n",
              "    async function download(id, filename, size) {\n",
              "      if (!google.colab.kernel.accessAllowed) {\n",
              "        return;\n",
              "      }\n",
              "      const div = document.createElement('div');\n",
              "      const label = document.createElement('label');\n",
              "      label.textContent = `Downloading \"${filename}\": `;\n",
              "      div.appendChild(label);\n",
              "      const progress = document.createElement('progress');\n",
              "      progress.max = size;\n",
              "      div.appendChild(progress);\n",
              "      document.body.appendChild(div);\n",
              "\n",
              "      const buffers = [];\n",
              "      let downloaded = 0;\n",
              "\n",
              "      const channel = await google.colab.kernel.comms.open(id);\n",
              "      // Send a message to notify the kernel that we're ready.\n",
              "      channel.send({})\n",
              "\n",
              "      for await (const message of channel.messages) {\n",
              "        // Send a message to notify the kernel that we're ready.\n",
              "        channel.send({})\n",
              "        if (message.buffers) {\n",
              "          for (const buffer of message.buffers) {\n",
              "            buffers.push(buffer);\n",
              "            downloaded += buffer.byteLength;\n",
              "            progress.value = downloaded;\n",
              "          }\n",
              "        }\n",
              "      }\n",
              "      const blob = new Blob(buffers, {type: 'application/binary'});\n",
              "      const a = document.createElement('a');\n",
              "      a.href = window.URL.createObjectURL(blob);\n",
              "      a.download = filename;\n",
              "      div.appendChild(a);\n",
              "      a.click();\n",
              "      div.remove();\n",
              "    }\n",
              "  "
            ]
          },
          "metadata": {}
        },
        {
          "output_type": "display_data",
          "data": {
            "text/plain": [
              "<IPython.core.display.Javascript object>"
            ],
            "application/javascript": [
              "download(\"download_a2a7a56e-f529-4ea1-8619-909df0f447c5\", \"review_30000.csv\", 16315999)"
            ]
          },
          "metadata": {}
        }
      ]
    },
    {
      "cell_type": "markdown",
      "source": [
        "###Scraping data 2"
      ],
      "metadata": {
        "id": "ZS09GPCafmqO"
      }
    },
    {
      "cell_type": "code",
      "execution_count": 20,
      "metadata": {
        "id": "P__DuvICfaiV"
      },
      "outputs": [],
      "source": [
        "from google_play_scraper import Sort, reviews\n",
        "\n",
        "result, continuation_token = reviews(\n",
        "    'com.tencent.ig',\n",
        "    lang = 'id',\n",
        "    country = 'id',\n",
        "    sort = Sort.NEWEST,\n",
        "    count = 5000,\n",
        "    filter_score_with = 2\n",
        ")"
      ]
    },
    {
      "cell_type": "code",
      "source": [
        "import pandas as pd"
      ],
      "metadata": {
        "id": "bIEbeLbVfaiV"
      },
      "execution_count": 21,
      "outputs": []
    },
    {
      "cell_type": "code",
      "source": [
        "df_1 = pd.DataFrame(result)"
      ],
      "metadata": {
        "id": "oWODhd3BfaiW"
      },
      "execution_count": 22,
      "outputs": []
    },
    {
      "cell_type": "code",
      "source": [
        "df_1.shape"
      ],
      "metadata": {
        "colab": {
          "base_uri": "https://localhost:8080/"
        },
        "outputId": "ce04f2ec-b83f-4b73-d976-af9a939bde5b",
        "id": "PLDn5riqfaiW"
      },
      "execution_count": 23,
      "outputs": [
        {
          "output_type": "execute_result",
          "data": {
            "text/plain": [
              "(5000, 10)"
            ]
          },
          "metadata": {},
          "execution_count": 23
        }
      ]
    },
    {
      "cell_type": "code",
      "source": [
        "df_1.head()"
      ],
      "metadata": {
        "colab": {
          "base_uri": "https://localhost:8080/",
          "height": 600
        },
        "outputId": "0c0ae5da-a225-4fae-80cc-fc25e1e8c97b",
        "id": "AN8XONtEfaiW"
      },
      "execution_count": 24,
      "outputs": [
        {
          "output_type": "execute_result",
          "data": {
            "text/plain": [
              "                               reviewId         userName  \\\n",
              "0  c6da2665-30c2-47e2-aa0c-211686a12c38       Nita Pidar   \n",
              "1  81166131-c959-4143-99a5-58e992c6d3b8          Jenggot   \n",
              "2  7e99fa58-4d72-4242-99ca-8a39d01f6783       Seftiana R   \n",
              "3  79a45d48-19cd-4b81-933b-f6e23f9405f3         Thfs Fgx   \n",
              "4  70eb72a2-f54c-4027-9fca-9ddf4597a028  TheLittleRabbit   \n",
              "\n",
              "                                           userImage  \\\n",
              "0  https://play-lh.googleusercontent.com/a/AItbvm...   \n",
              "1  https://play-lh.googleusercontent.com/a/AItbvm...   \n",
              "2  https://play-lh.googleusercontent.com/a-/AFdZu...   \n",
              "3  https://play-lh.googleusercontent.com/a/AItbvm...   \n",
              "4  https://play-lh.googleusercontent.com/a-/AFdZu...   \n",
              "\n",
              "                                             content  score  thumbsUpCount  \\\n",
              "0                                         Pubg haram      2              0   \n",
              "1                                    Game rusak bang      2              0   \n",
              "2                                       Tambah nglag      2              0   \n",
              "3                                         game haram      2              0   \n",
              "4  Entah kenapa sekarang pubg sering bug, seperti...      2              0   \n",
              "\n",
              "  reviewCreatedVersion                  at  \\\n",
              "0                 None 2022-09-01 13:34:45   \n",
              "1                2.1.0 2022-09-01 13:08:10   \n",
              "2               0.17.0 2022-09-01 13:07:07   \n",
              "3                 None 2022-09-01 12:30:15   \n",
              "4                2.1.0 2022-09-01 12:24:03   \n",
              "\n",
              "                                        replyContent           repliedAt  \n",
              "0                                               None                 NaT  \n",
              "1  Halo Jenggot, kami sangat menyesal mendengar b... 2022-07-20 09:52:10  \n",
              "2                                               None                 NaT  \n",
              "3                                               None                 NaT  \n",
              "4                                               None                 NaT  "
            ],
            "text/html": [
              "\n",
              "  <div id=\"df-ed2c9488-4c05-4c05-9e7d-cbf58c508328\">\n",
              "    <div class=\"colab-df-container\">\n",
              "      <div>\n",
              "<style scoped>\n",
              "    .dataframe tbody tr th:only-of-type {\n",
              "        vertical-align: middle;\n",
              "    }\n",
              "\n",
              "    .dataframe tbody tr th {\n",
              "        vertical-align: top;\n",
              "    }\n",
              "\n",
              "    .dataframe thead th {\n",
              "        text-align: right;\n",
              "    }\n",
              "</style>\n",
              "<table border=\"1\" class=\"dataframe\">\n",
              "  <thead>\n",
              "    <tr style=\"text-align: right;\">\n",
              "      <th></th>\n",
              "      <th>reviewId</th>\n",
              "      <th>userName</th>\n",
              "      <th>userImage</th>\n",
              "      <th>content</th>\n",
              "      <th>score</th>\n",
              "      <th>thumbsUpCount</th>\n",
              "      <th>reviewCreatedVersion</th>\n",
              "      <th>at</th>\n",
              "      <th>replyContent</th>\n",
              "      <th>repliedAt</th>\n",
              "    </tr>\n",
              "  </thead>\n",
              "  <tbody>\n",
              "    <tr>\n",
              "      <th>0</th>\n",
              "      <td>c6da2665-30c2-47e2-aa0c-211686a12c38</td>\n",
              "      <td>Nita Pidar</td>\n",
              "      <td>https://play-lh.googleusercontent.com/a/AItbvm...</td>\n",
              "      <td>Pubg haram</td>\n",
              "      <td>2</td>\n",
              "      <td>0</td>\n",
              "      <td>None</td>\n",
              "      <td>2022-09-01 13:34:45</td>\n",
              "      <td>None</td>\n",
              "      <td>NaT</td>\n",
              "    </tr>\n",
              "    <tr>\n",
              "      <th>1</th>\n",
              "      <td>81166131-c959-4143-99a5-58e992c6d3b8</td>\n",
              "      <td>Jenggot</td>\n",
              "      <td>https://play-lh.googleusercontent.com/a/AItbvm...</td>\n",
              "      <td>Game rusak bang</td>\n",
              "      <td>2</td>\n",
              "      <td>0</td>\n",
              "      <td>2.1.0</td>\n",
              "      <td>2022-09-01 13:08:10</td>\n",
              "      <td>Halo Jenggot, kami sangat menyesal mendengar b...</td>\n",
              "      <td>2022-07-20 09:52:10</td>\n",
              "    </tr>\n",
              "    <tr>\n",
              "      <th>2</th>\n",
              "      <td>7e99fa58-4d72-4242-99ca-8a39d01f6783</td>\n",
              "      <td>Seftiana R</td>\n",
              "      <td>https://play-lh.googleusercontent.com/a-/AFdZu...</td>\n",
              "      <td>Tambah nglag</td>\n",
              "      <td>2</td>\n",
              "      <td>0</td>\n",
              "      <td>0.17.0</td>\n",
              "      <td>2022-09-01 13:07:07</td>\n",
              "      <td>None</td>\n",
              "      <td>NaT</td>\n",
              "    </tr>\n",
              "    <tr>\n",
              "      <th>3</th>\n",
              "      <td>79a45d48-19cd-4b81-933b-f6e23f9405f3</td>\n",
              "      <td>Thfs Fgx</td>\n",
              "      <td>https://play-lh.googleusercontent.com/a/AItbvm...</td>\n",
              "      <td>game haram</td>\n",
              "      <td>2</td>\n",
              "      <td>0</td>\n",
              "      <td>None</td>\n",
              "      <td>2022-09-01 12:30:15</td>\n",
              "      <td>None</td>\n",
              "      <td>NaT</td>\n",
              "    </tr>\n",
              "    <tr>\n",
              "      <th>4</th>\n",
              "      <td>70eb72a2-f54c-4027-9fca-9ddf4597a028</td>\n",
              "      <td>TheLittleRabbit</td>\n",
              "      <td>https://play-lh.googleusercontent.com/a-/AFdZu...</td>\n",
              "      <td>Entah kenapa sekarang pubg sering bug, seperti...</td>\n",
              "      <td>2</td>\n",
              "      <td>0</td>\n",
              "      <td>2.1.0</td>\n",
              "      <td>2022-09-01 12:24:03</td>\n",
              "      <td>None</td>\n",
              "      <td>NaT</td>\n",
              "    </tr>\n",
              "  </tbody>\n",
              "</table>\n",
              "</div>\n",
              "      <button class=\"colab-df-convert\" onclick=\"convertToInteractive('df-ed2c9488-4c05-4c05-9e7d-cbf58c508328')\"\n",
              "              title=\"Convert this dataframe to an interactive table.\"\n",
              "              style=\"display:none;\">\n",
              "        \n",
              "  <svg xmlns=\"http://www.w3.org/2000/svg\" height=\"24px\"viewBox=\"0 0 24 24\"\n",
              "       width=\"24px\">\n",
              "    <path d=\"M0 0h24v24H0V0z\" fill=\"none\"/>\n",
              "    <path d=\"M18.56 5.44l.94 2.06.94-2.06 2.06-.94-2.06-.94-.94-2.06-.94 2.06-2.06.94zm-11 1L8.5 8.5l.94-2.06 2.06-.94-2.06-.94L8.5 2.5l-.94 2.06-2.06.94zm10 10l.94 2.06.94-2.06 2.06-.94-2.06-.94-.94-2.06-.94 2.06-2.06.94z\"/><path d=\"M17.41 7.96l-1.37-1.37c-.4-.4-.92-.59-1.43-.59-.52 0-1.04.2-1.43.59L10.3 9.45l-7.72 7.72c-.78.78-.78 2.05 0 2.83L4 21.41c.39.39.9.59 1.41.59.51 0 1.02-.2 1.41-.59l7.78-7.78 2.81-2.81c.8-.78.8-2.07 0-2.86zM5.41 20L4 18.59l7.72-7.72 1.47 1.35L5.41 20z\"/>\n",
              "  </svg>\n",
              "      </button>\n",
              "      \n",
              "  <style>\n",
              "    .colab-df-container {\n",
              "      display:flex;\n",
              "      flex-wrap:wrap;\n",
              "      gap: 12px;\n",
              "    }\n",
              "\n",
              "    .colab-df-convert {\n",
              "      background-color: #E8F0FE;\n",
              "      border: none;\n",
              "      border-radius: 50%;\n",
              "      cursor: pointer;\n",
              "      display: none;\n",
              "      fill: #1967D2;\n",
              "      height: 32px;\n",
              "      padding: 0 0 0 0;\n",
              "      width: 32px;\n",
              "    }\n",
              "\n",
              "    .colab-df-convert:hover {\n",
              "      background-color: #E2EBFA;\n",
              "      box-shadow: 0px 1px 2px rgba(60, 64, 67, 0.3), 0px 1px 3px 1px rgba(60, 64, 67, 0.15);\n",
              "      fill: #174EA6;\n",
              "    }\n",
              "\n",
              "    [theme=dark] .colab-df-convert {\n",
              "      background-color: #3B4455;\n",
              "      fill: #D2E3FC;\n",
              "    }\n",
              "\n",
              "    [theme=dark] .colab-df-convert:hover {\n",
              "      background-color: #434B5C;\n",
              "      box-shadow: 0px 1px 3px 1px rgba(0, 0, 0, 0.15);\n",
              "      filter: drop-shadow(0px 1px 2px rgba(0, 0, 0, 0.3));\n",
              "      fill: #FFFFFF;\n",
              "    }\n",
              "  </style>\n",
              "\n",
              "      <script>\n",
              "        const buttonEl =\n",
              "          document.querySelector('#df-ed2c9488-4c05-4c05-9e7d-cbf58c508328 button.colab-df-convert');\n",
              "        buttonEl.style.display =\n",
              "          google.colab.kernel.accessAllowed ? 'block' : 'none';\n",
              "\n",
              "        async function convertToInteractive(key) {\n",
              "          const element = document.querySelector('#df-ed2c9488-4c05-4c05-9e7d-cbf58c508328');\n",
              "          const dataTable =\n",
              "            await google.colab.kernel.invokeFunction('convertToInteractive',\n",
              "                                                     [key], {});\n",
              "          if (!dataTable) return;\n",
              "\n",
              "          const docLinkHtml = 'Like what you see? Visit the ' +\n",
              "            '<a target=\"_blank\" href=https://colab.research.google.com/notebooks/data_table.ipynb>data table notebook</a>'\n",
              "            + ' to learn more about interactive tables.';\n",
              "          element.innerHTML = '';\n",
              "          dataTable['output_type'] = 'display_data';\n",
              "          await google.colab.output.renderOutput(dataTable, element);\n",
              "          const docLink = document.createElement('div');\n",
              "          docLink.innerHTML = docLinkHtml;\n",
              "          element.appendChild(docLink);\n",
              "        }\n",
              "      </script>\n",
              "    </div>\n",
              "  </div>\n",
              "  "
            ]
          },
          "metadata": {},
          "execution_count": 24
        }
      ]
    },
    {
      "cell_type": "code",
      "source": [
        "df_1.to_csv('review_score_2.csv', index=None, header=True, encoding =\"utf-8\")"
      ],
      "metadata": {
        "id": "b8MXLIucfaiW"
      },
      "execution_count": 25,
      "outputs": []
    },
    {
      "cell_type": "code",
      "source": [
        "from google.colab import files\n",
        "files.download('review_score_2.csv')"
      ],
      "metadata": {
        "colab": {
          "base_uri": "https://localhost:8080/",
          "height": 17
        },
        "outputId": "15053382-8c72-4e67-fdf8-c78cd9e037ff",
        "id": "G-UeZTz_faiW"
      },
      "execution_count": 26,
      "outputs": [
        {
          "output_type": "display_data",
          "data": {
            "text/plain": [
              "<IPython.core.display.Javascript object>"
            ],
            "application/javascript": [
              "\n",
              "    async function download(id, filename, size) {\n",
              "      if (!google.colab.kernel.accessAllowed) {\n",
              "        return;\n",
              "      }\n",
              "      const div = document.createElement('div');\n",
              "      const label = document.createElement('label');\n",
              "      label.textContent = `Downloading \"${filename}\": `;\n",
              "      div.appendChild(label);\n",
              "      const progress = document.createElement('progress');\n",
              "      progress.max = size;\n",
              "      div.appendChild(progress);\n",
              "      document.body.appendChild(div);\n",
              "\n",
              "      const buffers = [];\n",
              "      let downloaded = 0;\n",
              "\n",
              "      const channel = await google.colab.kernel.comms.open(id);\n",
              "      // Send a message to notify the kernel that we're ready.\n",
              "      channel.send({})\n",
              "\n",
              "      for await (const message of channel.messages) {\n",
              "        // Send a message to notify the kernel that we're ready.\n",
              "        channel.send({})\n",
              "        if (message.buffers) {\n",
              "          for (const buffer of message.buffers) {\n",
              "            buffers.push(buffer);\n",
              "            downloaded += buffer.byteLength;\n",
              "            progress.value = downloaded;\n",
              "          }\n",
              "        }\n",
              "      }\n",
              "      const blob = new Blob(buffers, {type: 'application/binary'});\n",
              "      const a = document.createElement('a');\n",
              "      a.href = window.URL.createObjectURL(blob);\n",
              "      a.download = filename;\n",
              "      div.appendChild(a);\n",
              "      a.click();\n",
              "      div.remove();\n",
              "    }\n",
              "  "
            ]
          },
          "metadata": {}
        },
        {
          "output_type": "display_data",
          "data": {
            "text/plain": [
              "<IPython.core.display.Javascript object>"
            ],
            "application/javascript": [
              "download(\"download_3ee22252-1bde-4535-ad2d-c91a78077884\", \"review_score_2.csv\", 2903311)"
            ]
          },
          "metadata": {}
        }
      ]
    },
    {
      "cell_type": "markdown",
      "source": [
        "###Scraping data 3"
      ],
      "metadata": {
        "id": "gTguSYnthO_1"
      }
    },
    {
      "cell_type": "code",
      "execution_count": 27,
      "metadata": {
        "id": "6EwEPS6GhO_2"
      },
      "outputs": [],
      "source": [
        "from google_play_scraper import Sort, reviews\n",
        "\n",
        "result, continuation_token = reviews(\n",
        "    'com.tencent.ig',\n",
        "    lang = 'id',\n",
        "    country = 'id',\n",
        "    sort = Sort.NEWEST,\n",
        "    count = 10000,\n",
        "    filter_score_with = 3\n",
        ")"
      ]
    },
    {
      "cell_type": "code",
      "source": [
        "import pandas as pd"
      ],
      "metadata": {
        "id": "lhz3k5eLhO_9"
      },
      "execution_count": 28,
      "outputs": []
    },
    {
      "cell_type": "code",
      "source": [
        "df_2 = pd.DataFrame(result)"
      ],
      "metadata": {
        "id": "z1HX3KUUhO_9"
      },
      "execution_count": 29,
      "outputs": []
    },
    {
      "cell_type": "code",
      "source": [
        "df_2.shape"
      ],
      "metadata": {
        "colab": {
          "base_uri": "https://localhost:8080/"
        },
        "outputId": "5019b51a-ba3e-46a6-f81e-31e89dc62f93",
        "id": "D3ycl0ElhO_9"
      },
      "execution_count": 30,
      "outputs": [
        {
          "output_type": "execute_result",
          "data": {
            "text/plain": [
              "(10000, 10)"
            ]
          },
          "metadata": {},
          "execution_count": 30
        }
      ]
    },
    {
      "cell_type": "code",
      "source": [
        "df_2.head()"
      ],
      "metadata": {
        "colab": {
          "base_uri": "https://localhost:8080/",
          "height": 721
        },
        "outputId": "0093905f-355e-4cf3-b12a-9be357a95e75",
        "id": "LAjuMZXChO_9"
      },
      "execution_count": 31,
      "outputs": [
        {
          "output_type": "execute_result",
          "data": {
            "text/plain": [
              "                               reviewId           userName  \\\n",
              "0  575dfe83-72e5-40f9-b1a5-379e0d313e1c          Aldio Dio   \n",
              "1  4c9c20a2-c1ff-4082-974b-17c443870cd6        Winny Lunet   \n",
              "2  d3216549-37a3-4713-8209-642fcca1a9ce  Mursalin Addurary   \n",
              "3  4d990969-3cbd-4227-aeb7-9533819c7f1d             S Seee   \n",
              "4  469cfada-ee0f-41d2-b2ca-60895ad29624       Muhammad Ris   \n",
              "\n",
              "                                           userImage  \\\n",
              "0  https://play-lh.googleusercontent.com/a/AItbvm...   \n",
              "1  https://play-lh.googleusercontent.com/a-/AFdZu...   \n",
              "2  https://play-lh.googleusercontent.com/a/AItbvm...   \n",
              "3  https://play-lh.googleusercontent.com/a-/AFdZu...   \n",
              "4  https://play-lh.googleusercontent.com/a/AItbvm...   \n",
              "\n",
              "                                             content  score  thumbsUpCount  \\\n",
              "0                                     Bagus game nya      3              0   \n",
              "1                            Terlalu sering update..      3              0   \n",
              "2  rp nya jgn peawat terus gantiin dg mobil ........      3              0   \n",
              "3      Bug video dan audio patah patah sampai 1menit      3              0   \n",
              "4  Pugb lebih bagus di banding kan geme sebelah y...      3              0   \n",
              "\n",
              "  reviewCreatedVersion                  at  \\\n",
              "0                 None 2022-09-01 14:25:05   \n",
              "1                2.0.0 2022-09-01 14:01:19   \n",
              "2                2.1.0 2022-09-01 13:54:59   \n",
              "3                2.1.0 2022-09-01 13:49:18   \n",
              "4                 None 2022-09-01 13:29:53   \n",
              "\n",
              "                                        replyContent           repliedAt  \n",
              "0                                               None                 NaT  \n",
              "1                                               None                 NaT  \n",
              "2  Halo Mursalin Addurary, kami mohon maaf jika p... 2022-03-20 15:49:12  \n",
              "3  Halo Pemain, kami minta maaf atas ketidaknyama... 2022-09-01 09:42:20  \n",
              "4                                               None                 NaT  "
            ],
            "text/html": [
              "\n",
              "  <div id=\"df-1eb9dc77-8f2e-4401-83fb-4002cba505ec\">\n",
              "    <div class=\"colab-df-container\">\n",
              "      <div>\n",
              "<style scoped>\n",
              "    .dataframe tbody tr th:only-of-type {\n",
              "        vertical-align: middle;\n",
              "    }\n",
              "\n",
              "    .dataframe tbody tr th {\n",
              "        vertical-align: top;\n",
              "    }\n",
              "\n",
              "    .dataframe thead th {\n",
              "        text-align: right;\n",
              "    }\n",
              "</style>\n",
              "<table border=\"1\" class=\"dataframe\">\n",
              "  <thead>\n",
              "    <tr style=\"text-align: right;\">\n",
              "      <th></th>\n",
              "      <th>reviewId</th>\n",
              "      <th>userName</th>\n",
              "      <th>userImage</th>\n",
              "      <th>content</th>\n",
              "      <th>score</th>\n",
              "      <th>thumbsUpCount</th>\n",
              "      <th>reviewCreatedVersion</th>\n",
              "      <th>at</th>\n",
              "      <th>replyContent</th>\n",
              "      <th>repliedAt</th>\n",
              "    </tr>\n",
              "  </thead>\n",
              "  <tbody>\n",
              "    <tr>\n",
              "      <th>0</th>\n",
              "      <td>575dfe83-72e5-40f9-b1a5-379e0d313e1c</td>\n",
              "      <td>Aldio Dio</td>\n",
              "      <td>https://play-lh.googleusercontent.com/a/AItbvm...</td>\n",
              "      <td>Bagus game nya</td>\n",
              "      <td>3</td>\n",
              "      <td>0</td>\n",
              "      <td>None</td>\n",
              "      <td>2022-09-01 14:25:05</td>\n",
              "      <td>None</td>\n",
              "      <td>NaT</td>\n",
              "    </tr>\n",
              "    <tr>\n",
              "      <th>1</th>\n",
              "      <td>4c9c20a2-c1ff-4082-974b-17c443870cd6</td>\n",
              "      <td>Winny Lunet</td>\n",
              "      <td>https://play-lh.googleusercontent.com/a-/AFdZu...</td>\n",
              "      <td>Terlalu sering update..</td>\n",
              "      <td>3</td>\n",
              "      <td>0</td>\n",
              "      <td>2.0.0</td>\n",
              "      <td>2022-09-01 14:01:19</td>\n",
              "      <td>None</td>\n",
              "      <td>NaT</td>\n",
              "    </tr>\n",
              "    <tr>\n",
              "      <th>2</th>\n",
              "      <td>d3216549-37a3-4713-8209-642fcca1a9ce</td>\n",
              "      <td>Mursalin Addurary</td>\n",
              "      <td>https://play-lh.googleusercontent.com/a/AItbvm...</td>\n",
              "      <td>rp nya jgn peawat terus gantiin dg mobil ........</td>\n",
              "      <td>3</td>\n",
              "      <td>0</td>\n",
              "      <td>2.1.0</td>\n",
              "      <td>2022-09-01 13:54:59</td>\n",
              "      <td>Halo Mursalin Addurary, kami mohon maaf jika p...</td>\n",
              "      <td>2022-03-20 15:49:12</td>\n",
              "    </tr>\n",
              "    <tr>\n",
              "      <th>3</th>\n",
              "      <td>4d990969-3cbd-4227-aeb7-9533819c7f1d</td>\n",
              "      <td>S Seee</td>\n",
              "      <td>https://play-lh.googleusercontent.com/a-/AFdZu...</td>\n",
              "      <td>Bug video dan audio patah patah sampai 1menit</td>\n",
              "      <td>3</td>\n",
              "      <td>0</td>\n",
              "      <td>2.1.0</td>\n",
              "      <td>2022-09-01 13:49:18</td>\n",
              "      <td>Halo Pemain, kami minta maaf atas ketidaknyama...</td>\n",
              "      <td>2022-09-01 09:42:20</td>\n",
              "    </tr>\n",
              "    <tr>\n",
              "      <th>4</th>\n",
              "      <td>469cfada-ee0f-41d2-b2ca-60895ad29624</td>\n",
              "      <td>Muhammad Ris</td>\n",
              "      <td>https://play-lh.googleusercontent.com/a/AItbvm...</td>\n",
              "      <td>Pugb lebih bagus di banding kan geme sebelah y...</td>\n",
              "      <td>3</td>\n",
              "      <td>0</td>\n",
              "      <td>None</td>\n",
              "      <td>2022-09-01 13:29:53</td>\n",
              "      <td>None</td>\n",
              "      <td>NaT</td>\n",
              "    </tr>\n",
              "  </tbody>\n",
              "</table>\n",
              "</div>\n",
              "      <button class=\"colab-df-convert\" onclick=\"convertToInteractive('df-1eb9dc77-8f2e-4401-83fb-4002cba505ec')\"\n",
              "              title=\"Convert this dataframe to an interactive table.\"\n",
              "              style=\"display:none;\">\n",
              "        \n",
              "  <svg xmlns=\"http://www.w3.org/2000/svg\" height=\"24px\"viewBox=\"0 0 24 24\"\n",
              "       width=\"24px\">\n",
              "    <path d=\"M0 0h24v24H0V0z\" fill=\"none\"/>\n",
              "    <path d=\"M18.56 5.44l.94 2.06.94-2.06 2.06-.94-2.06-.94-.94-2.06-.94 2.06-2.06.94zm-11 1L8.5 8.5l.94-2.06 2.06-.94-2.06-.94L8.5 2.5l-.94 2.06-2.06.94zm10 10l.94 2.06.94-2.06 2.06-.94-2.06-.94-.94-2.06-.94 2.06-2.06.94z\"/><path d=\"M17.41 7.96l-1.37-1.37c-.4-.4-.92-.59-1.43-.59-.52 0-1.04.2-1.43.59L10.3 9.45l-7.72 7.72c-.78.78-.78 2.05 0 2.83L4 21.41c.39.39.9.59 1.41.59.51 0 1.02-.2 1.41-.59l7.78-7.78 2.81-2.81c.8-.78.8-2.07 0-2.86zM5.41 20L4 18.59l7.72-7.72 1.47 1.35L5.41 20z\"/>\n",
              "  </svg>\n",
              "      </button>\n",
              "      \n",
              "  <style>\n",
              "    .colab-df-container {\n",
              "      display:flex;\n",
              "      flex-wrap:wrap;\n",
              "      gap: 12px;\n",
              "    }\n",
              "\n",
              "    .colab-df-convert {\n",
              "      background-color: #E8F0FE;\n",
              "      border: none;\n",
              "      border-radius: 50%;\n",
              "      cursor: pointer;\n",
              "      display: none;\n",
              "      fill: #1967D2;\n",
              "      height: 32px;\n",
              "      padding: 0 0 0 0;\n",
              "      width: 32px;\n",
              "    }\n",
              "\n",
              "    .colab-df-convert:hover {\n",
              "      background-color: #E2EBFA;\n",
              "      box-shadow: 0px 1px 2px rgba(60, 64, 67, 0.3), 0px 1px 3px 1px rgba(60, 64, 67, 0.15);\n",
              "      fill: #174EA6;\n",
              "    }\n",
              "\n",
              "    [theme=dark] .colab-df-convert {\n",
              "      background-color: #3B4455;\n",
              "      fill: #D2E3FC;\n",
              "    }\n",
              "\n",
              "    [theme=dark] .colab-df-convert:hover {\n",
              "      background-color: #434B5C;\n",
              "      box-shadow: 0px 1px 3px 1px rgba(0, 0, 0, 0.15);\n",
              "      filter: drop-shadow(0px 1px 2px rgba(0, 0, 0, 0.3));\n",
              "      fill: #FFFFFF;\n",
              "    }\n",
              "  </style>\n",
              "\n",
              "      <script>\n",
              "        const buttonEl =\n",
              "          document.querySelector('#df-1eb9dc77-8f2e-4401-83fb-4002cba505ec button.colab-df-convert');\n",
              "        buttonEl.style.display =\n",
              "          google.colab.kernel.accessAllowed ? 'block' : 'none';\n",
              "\n",
              "        async function convertToInteractive(key) {\n",
              "          const element = document.querySelector('#df-1eb9dc77-8f2e-4401-83fb-4002cba505ec');\n",
              "          const dataTable =\n",
              "            await google.colab.kernel.invokeFunction('convertToInteractive',\n",
              "                                                     [key], {});\n",
              "          if (!dataTable) return;\n",
              "\n",
              "          const docLinkHtml = 'Like what you see? Visit the ' +\n",
              "            '<a target=\"_blank\" href=https://colab.research.google.com/notebooks/data_table.ipynb>data table notebook</a>'\n",
              "            + ' to learn more about interactive tables.';\n",
              "          element.innerHTML = '';\n",
              "          dataTable['output_type'] = 'display_data';\n",
              "          await google.colab.output.renderOutput(dataTable, element);\n",
              "          const docLink = document.createElement('div');\n",
              "          docLink.innerHTML = docLinkHtml;\n",
              "          element.appendChild(docLink);\n",
              "        }\n",
              "      </script>\n",
              "    </div>\n",
              "  </div>\n",
              "  "
            ]
          },
          "metadata": {},
          "execution_count": 31
        }
      ]
    },
    {
      "cell_type": "code",
      "source": [
        "df_2.to_csv('review_score_3.csv', index=None, header=True, encoding =\"utf-8\")"
      ],
      "metadata": {
        "id": "E3fAv8k1hcqR"
      },
      "execution_count": 32,
      "outputs": []
    },
    {
      "cell_type": "code",
      "source": [
        "from google.colab import files\n",
        "files.download('review_score_3.csv')"
      ],
      "metadata": {
        "colab": {
          "base_uri": "https://localhost:8080/",
          "height": 17
        },
        "outputId": "c83d6530-aaf4-4cef-ccf2-e49e5c22e4ff",
        "id": "oPINZ7O9hcqR"
      },
      "execution_count": 35,
      "outputs": [
        {
          "output_type": "display_data",
          "data": {
            "text/plain": [
              "<IPython.core.display.Javascript object>"
            ],
            "application/javascript": [
              "\n",
              "    async function download(id, filename, size) {\n",
              "      if (!google.colab.kernel.accessAllowed) {\n",
              "        return;\n",
              "      }\n",
              "      const div = document.createElement('div');\n",
              "      const label = document.createElement('label');\n",
              "      label.textContent = `Downloading \"${filename}\": `;\n",
              "      div.appendChild(label);\n",
              "      const progress = document.createElement('progress');\n",
              "      progress.max = size;\n",
              "      div.appendChild(progress);\n",
              "      document.body.appendChild(div);\n",
              "\n",
              "      const buffers = [];\n",
              "      let downloaded = 0;\n",
              "\n",
              "      const channel = await google.colab.kernel.comms.open(id);\n",
              "      // Send a message to notify the kernel that we're ready.\n",
              "      channel.send({})\n",
              "\n",
              "      for await (const message of channel.messages) {\n",
              "        // Send a message to notify the kernel that we're ready.\n",
              "        channel.send({})\n",
              "        if (message.buffers) {\n",
              "          for (const buffer of message.buffers) {\n",
              "            buffers.push(buffer);\n",
              "            downloaded += buffer.byteLength;\n",
              "            progress.value = downloaded;\n",
              "          }\n",
              "        }\n",
              "      }\n",
              "      const blob = new Blob(buffers, {type: 'application/binary'});\n",
              "      const a = document.createElement('a');\n",
              "      a.href = window.URL.createObjectURL(blob);\n",
              "      a.download = filename;\n",
              "      div.appendChild(a);\n",
              "      a.click();\n",
              "      div.remove();\n",
              "    }\n",
              "  "
            ]
          },
          "metadata": {}
        },
        {
          "output_type": "display_data",
          "data": {
            "text/plain": [
              "<IPython.core.display.Javascript object>"
            ],
            "application/javascript": [
              "download(\"download_420305e3-069f-43cc-948c-a8d62d677b85\", \"review_score_3.csv\", 5676837)"
            ]
          },
          "metadata": {}
        }
      ]
    },
    {
      "cell_type": "markdown",
      "source": [
        "###Scraping data 4"
      ],
      "metadata": {
        "id": "im9TPzkIis2H"
      }
    },
    {
      "cell_type": "code",
      "execution_count": 43,
      "metadata": {
        "id": "obUtr0ZXis2H"
      },
      "outputs": [],
      "source": [
        "from google_play_scraper import Sort, reviews\n",
        "\n",
        "result, continuation_token = reviews(\n",
        "    'com.tencent.ig',\n",
        "    lang = 'id',\n",
        "    country = 'id',\n",
        "    sort = Sort.NEWEST,\n",
        "    count = 5000,\n",
        "    filter_score_with = 4\n",
        ")"
      ]
    },
    {
      "cell_type": "code",
      "source": [
        "import pandas as pd2"
      ],
      "metadata": {
        "id": "cHbR93HUis2H"
      },
      "execution_count": 44,
      "outputs": []
    },
    {
      "cell_type": "code",
      "source": [
        "df_3 = pd.DataFrame(result)"
      ],
      "metadata": {
        "id": "smINWSzmis2H"
      },
      "execution_count": 45,
      "outputs": []
    },
    {
      "cell_type": "code",
      "source": [
        "df_3.shape"
      ],
      "metadata": {
        "colab": {
          "base_uri": "https://localhost:8080/"
        },
        "outputId": "b2ef52f8-a1bd-4096-a283-6a6d55409df7",
        "id": "JNrFm8Yxis2I"
      },
      "execution_count": 46,
      "outputs": [
        {
          "output_type": "execute_result",
          "data": {
            "text/plain": [
              "(5000, 10)"
            ]
          },
          "metadata": {},
          "execution_count": 46
        }
      ]
    },
    {
      "cell_type": "code",
      "source": [
        "df_3.head()"
      ],
      "metadata": {
        "colab": {
          "base_uri": "https://localhost:8080/",
          "height": 582
        },
        "outputId": "c2c5e5b0-45da-4473-c921-7da984d0381d",
        "id": "Vmhrn1mCis2I"
      },
      "execution_count": 47,
      "outputs": [
        {
          "output_type": "execute_result",
          "data": {
            "text/plain": [
              "                               reviewId                userName  \\\n",
              "0  dfcc6125-1a11-4a8e-aad6-5b96a7d75c44           FAISAL KUSUMA   \n",
              "1  67459972-c03e-486c-a9c0-6713c19b0f77           Mishael Aaron   \n",
              "2  12037c5b-036b-444c-a0a2-4629da9fb173              Angga Baru   \n",
              "3  b936c3bc-3617-49e4-88a3-0e9308f327e5         M fiqih Firdaus   \n",
              "4  c8957f64-7ae9-4f61-bd15-bd25b75b2909  ADRIAN SAPUTRA X IPA 6   \n",
              "\n",
              "                                           userImage  \\\n",
              "0  https://play-lh.googleusercontent.com/a-/AFdZu...   \n",
              "1  https://play-lh.googleusercontent.com/a/AItbvm...   \n",
              "2  https://play-lh.googleusercontent.com/a/AItbvm...   \n",
              "3  https://play-lh.googleusercontent.com/a/AItbvm...   \n",
              "4  https://play-lh.googleusercontent.com/a-/AFdZu...   \n",
              "\n",
              "                                             content  score  thumbsUpCount  \\\n",
              "0  Kurangnya kenyamanan saat bermain, ukuran terl...      4              0   \n",
              "1  Ini game mantap sih keren banget dari hd nya s...      4              0   \n",
              "2                                               Seru      4              0   \n",
              "3                                              buruk      4              0   \n",
              "4  permisi ini kenapa ya khusus player emulator j...      4              0   \n",
              "\n",
              "  reviewCreatedVersion                  at  \\\n",
              "0                2.0.0 2022-09-01 14:00:11   \n",
              "1                 None 2022-09-01 12:23:50   \n",
              "2                1.6.0 2022-09-01 11:37:46   \n",
              "3                2.1.0 2022-09-01 11:35:20   \n",
              "4                2.1.0 2022-09-01 11:26:11   \n",
              "\n",
              "                                        replyContent           repliedAt  \n",
              "0  Halo  terima kasih atas tanggapannya! Jika And... 2020-10-16 01:38:03  \n",
              "1                                               None                 NaT  \n",
              "2                                               None                 NaT  \n",
              "3                                               None                 NaT  \n",
              "4                                               None                 NaT  "
            ],
            "text/html": [
              "\n",
              "  <div id=\"df-b2b28c30-8c25-4b7d-9e08-2f2c70ed883d\">\n",
              "    <div class=\"colab-df-container\">\n",
              "      <div>\n",
              "<style scoped>\n",
              "    .dataframe tbody tr th:only-of-type {\n",
              "        vertical-align: middle;\n",
              "    }\n",
              "\n",
              "    .dataframe tbody tr th {\n",
              "        vertical-align: top;\n",
              "    }\n",
              "\n",
              "    .dataframe thead th {\n",
              "        text-align: right;\n",
              "    }\n",
              "</style>\n",
              "<table border=\"1\" class=\"dataframe\">\n",
              "  <thead>\n",
              "    <tr style=\"text-align: right;\">\n",
              "      <th></th>\n",
              "      <th>reviewId</th>\n",
              "      <th>userName</th>\n",
              "      <th>userImage</th>\n",
              "      <th>content</th>\n",
              "      <th>score</th>\n",
              "      <th>thumbsUpCount</th>\n",
              "      <th>reviewCreatedVersion</th>\n",
              "      <th>at</th>\n",
              "      <th>replyContent</th>\n",
              "      <th>repliedAt</th>\n",
              "    </tr>\n",
              "  </thead>\n",
              "  <tbody>\n",
              "    <tr>\n",
              "      <th>0</th>\n",
              "      <td>dfcc6125-1a11-4a8e-aad6-5b96a7d75c44</td>\n",
              "      <td>FAISAL KUSUMA</td>\n",
              "      <td>https://play-lh.googleusercontent.com/a-/AFdZu...</td>\n",
              "      <td>Kurangnya kenyamanan saat bermain, ukuran terl...</td>\n",
              "      <td>4</td>\n",
              "      <td>0</td>\n",
              "      <td>2.0.0</td>\n",
              "      <td>2022-09-01 14:00:11</td>\n",
              "      <td>Halo  terima kasih atas tanggapannya! Jika And...</td>\n",
              "      <td>2020-10-16 01:38:03</td>\n",
              "    </tr>\n",
              "    <tr>\n",
              "      <th>1</th>\n",
              "      <td>67459972-c03e-486c-a9c0-6713c19b0f77</td>\n",
              "      <td>Mishael Aaron</td>\n",
              "      <td>https://play-lh.googleusercontent.com/a/AItbvm...</td>\n",
              "      <td>Ini game mantap sih keren banget dari hd nya s...</td>\n",
              "      <td>4</td>\n",
              "      <td>0</td>\n",
              "      <td>None</td>\n",
              "      <td>2022-09-01 12:23:50</td>\n",
              "      <td>None</td>\n",
              "      <td>NaT</td>\n",
              "    </tr>\n",
              "    <tr>\n",
              "      <th>2</th>\n",
              "      <td>12037c5b-036b-444c-a0a2-4629da9fb173</td>\n",
              "      <td>Angga Baru</td>\n",
              "      <td>https://play-lh.googleusercontent.com/a/AItbvm...</td>\n",
              "      <td>Seru</td>\n",
              "      <td>4</td>\n",
              "      <td>0</td>\n",
              "      <td>1.6.0</td>\n",
              "      <td>2022-09-01 11:37:46</td>\n",
              "      <td>None</td>\n",
              "      <td>NaT</td>\n",
              "    </tr>\n",
              "    <tr>\n",
              "      <th>3</th>\n",
              "      <td>b936c3bc-3617-49e4-88a3-0e9308f327e5</td>\n",
              "      <td>M fiqih Firdaus</td>\n",
              "      <td>https://play-lh.googleusercontent.com/a/AItbvm...</td>\n",
              "      <td>buruk</td>\n",
              "      <td>4</td>\n",
              "      <td>0</td>\n",
              "      <td>2.1.0</td>\n",
              "      <td>2022-09-01 11:35:20</td>\n",
              "      <td>None</td>\n",
              "      <td>NaT</td>\n",
              "    </tr>\n",
              "    <tr>\n",
              "      <th>4</th>\n",
              "      <td>c8957f64-7ae9-4f61-bd15-bd25b75b2909</td>\n",
              "      <td>ADRIAN SAPUTRA X IPA 6</td>\n",
              "      <td>https://play-lh.googleusercontent.com/a-/AFdZu...</td>\n",
              "      <td>permisi ini kenapa ya khusus player emulator j...</td>\n",
              "      <td>4</td>\n",
              "      <td>0</td>\n",
              "      <td>2.1.0</td>\n",
              "      <td>2022-09-01 11:26:11</td>\n",
              "      <td>None</td>\n",
              "      <td>NaT</td>\n",
              "    </tr>\n",
              "  </tbody>\n",
              "</table>\n",
              "</div>\n",
              "      <button class=\"colab-df-convert\" onclick=\"convertToInteractive('df-b2b28c30-8c25-4b7d-9e08-2f2c70ed883d')\"\n",
              "              title=\"Convert this dataframe to an interactive table.\"\n",
              "              style=\"display:none;\">\n",
              "        \n",
              "  <svg xmlns=\"http://www.w3.org/2000/svg\" height=\"24px\"viewBox=\"0 0 24 24\"\n",
              "       width=\"24px\">\n",
              "    <path d=\"M0 0h24v24H0V0z\" fill=\"none\"/>\n",
              "    <path d=\"M18.56 5.44l.94 2.06.94-2.06 2.06-.94-2.06-.94-.94-2.06-.94 2.06-2.06.94zm-11 1L8.5 8.5l.94-2.06 2.06-.94-2.06-.94L8.5 2.5l-.94 2.06-2.06.94zm10 10l.94 2.06.94-2.06 2.06-.94-2.06-.94-.94-2.06-.94 2.06-2.06.94z\"/><path d=\"M17.41 7.96l-1.37-1.37c-.4-.4-.92-.59-1.43-.59-.52 0-1.04.2-1.43.59L10.3 9.45l-7.72 7.72c-.78.78-.78 2.05 0 2.83L4 21.41c.39.39.9.59 1.41.59.51 0 1.02-.2 1.41-.59l7.78-7.78 2.81-2.81c.8-.78.8-2.07 0-2.86zM5.41 20L4 18.59l7.72-7.72 1.47 1.35L5.41 20z\"/>\n",
              "  </svg>\n",
              "      </button>\n",
              "      \n",
              "  <style>\n",
              "    .colab-df-container {\n",
              "      display:flex;\n",
              "      flex-wrap:wrap;\n",
              "      gap: 12px;\n",
              "    }\n",
              "\n",
              "    .colab-df-convert {\n",
              "      background-color: #E8F0FE;\n",
              "      border: none;\n",
              "      border-radius: 50%;\n",
              "      cursor: pointer;\n",
              "      display: none;\n",
              "      fill: #1967D2;\n",
              "      height: 32px;\n",
              "      padding: 0 0 0 0;\n",
              "      width: 32px;\n",
              "    }\n",
              "\n",
              "    .colab-df-convert:hover {\n",
              "      background-color: #E2EBFA;\n",
              "      box-shadow: 0px 1px 2px rgba(60, 64, 67, 0.3), 0px 1px 3px 1px rgba(60, 64, 67, 0.15);\n",
              "      fill: #174EA6;\n",
              "    }\n",
              "\n",
              "    [theme=dark] .colab-df-convert {\n",
              "      background-color: #3B4455;\n",
              "      fill: #D2E3FC;\n",
              "    }\n",
              "\n",
              "    [theme=dark] .colab-df-convert:hover {\n",
              "      background-color: #434B5C;\n",
              "      box-shadow: 0px 1px 3px 1px rgba(0, 0, 0, 0.15);\n",
              "      filter: drop-shadow(0px 1px 2px rgba(0, 0, 0, 0.3));\n",
              "      fill: #FFFFFF;\n",
              "    }\n",
              "  </style>\n",
              "\n",
              "      <script>\n",
              "        const buttonEl =\n",
              "          document.querySelector('#df-b2b28c30-8c25-4b7d-9e08-2f2c70ed883d button.colab-df-convert');\n",
              "        buttonEl.style.display =\n",
              "          google.colab.kernel.accessAllowed ? 'block' : 'none';\n",
              "\n",
              "        async function convertToInteractive(key) {\n",
              "          const element = document.querySelector('#df-b2b28c30-8c25-4b7d-9e08-2f2c70ed883d');\n",
              "          const dataTable =\n",
              "            await google.colab.kernel.invokeFunction('convertToInteractive',\n",
              "                                                     [key], {});\n",
              "          if (!dataTable) return;\n",
              "\n",
              "          const docLinkHtml = 'Like what you see? Visit the ' +\n",
              "            '<a target=\"_blank\" href=https://colab.research.google.com/notebooks/data_table.ipynb>data table notebook</a>'\n",
              "            + ' to learn more about interactive tables.';\n",
              "          element.innerHTML = '';\n",
              "          dataTable['output_type'] = 'display_data';\n",
              "          await google.colab.output.renderOutput(dataTable, element);\n",
              "          const docLink = document.createElement('div');\n",
              "          docLink.innerHTML = docLinkHtml;\n",
              "          element.appendChild(docLink);\n",
              "        }\n",
              "      </script>\n",
              "    </div>\n",
              "  </div>\n",
              "  "
            ]
          },
          "metadata": {},
          "execution_count": 47
        }
      ]
    },
    {
      "cell_type": "code",
      "source": [
        "df_3.to_csv('review_score_4.csv', index=None, header=True, encoding =\"utf-8\")"
      ],
      "metadata": {
        "id": "P1qDPSXbinmP"
      },
      "execution_count": 59,
      "outputs": []
    },
    {
      "cell_type": "code",
      "source": [
        "from google.colab import files\n",
        "files.download('review_score_4.csv')"
      ],
      "metadata": {
        "colab": {
          "base_uri": "https://localhost:8080/",
          "height": 17
        },
        "outputId": "a73fd467-892b-4f24-fe16-062dba3f0824",
        "id": "bVTMnuVdinmQ"
      },
      "execution_count": 49,
      "outputs": [
        {
          "output_type": "display_data",
          "data": {
            "text/plain": [
              "<IPython.core.display.Javascript object>"
            ],
            "application/javascript": [
              "\n",
              "    async function download(id, filename, size) {\n",
              "      if (!google.colab.kernel.accessAllowed) {\n",
              "        return;\n",
              "      }\n",
              "      const div = document.createElement('div');\n",
              "      const label = document.createElement('label');\n",
              "      label.textContent = `Downloading \"${filename}\": `;\n",
              "      div.appendChild(label);\n",
              "      const progress = document.createElement('progress');\n",
              "      progress.max = size;\n",
              "      div.appendChild(progress);\n",
              "      document.body.appendChild(div);\n",
              "\n",
              "      const buffers = [];\n",
              "      let downloaded = 0;\n",
              "\n",
              "      const channel = await google.colab.kernel.comms.open(id);\n",
              "      // Send a message to notify the kernel that we're ready.\n",
              "      channel.send({})\n",
              "\n",
              "      for await (const message of channel.messages) {\n",
              "        // Send a message to notify the kernel that we're ready.\n",
              "        channel.send({})\n",
              "        if (message.buffers) {\n",
              "          for (const buffer of message.buffers) {\n",
              "            buffers.push(buffer);\n",
              "            downloaded += buffer.byteLength;\n",
              "            progress.value = downloaded;\n",
              "          }\n",
              "        }\n",
              "      }\n",
              "      const blob = new Blob(buffers, {type: 'application/binary'});\n",
              "      const a = document.createElement('a');\n",
              "      a.href = window.URL.createObjectURL(blob);\n",
              "      a.download = filename;\n",
              "      div.appendChild(a);\n",
              "      a.click();\n",
              "      div.remove();\n",
              "    }\n",
              "  "
            ]
          },
          "metadata": {}
        },
        {
          "output_type": "display_data",
          "data": {
            "text/plain": [
              "<IPython.core.display.Javascript object>"
            ],
            "application/javascript": [
              "download(\"download_d6c1a6a3-6208-41df-b6e9-633d8db73147\", \"review_score_4.csv\", 2903311)"
            ]
          },
          "metadata": {}
        }
      ]
    },
    {
      "cell_type": "markdown",
      "source": [
        "###Scraping data 5"
      ],
      "metadata": {
        "id": "2qVF2DNfjZjW"
      }
    },
    {
      "cell_type": "code",
      "execution_count": 51,
      "metadata": {
        "id": "Wq8vB9lljZjX"
      },
      "outputs": [],
      "source": [
        "from google_play_scraper import Sort, reviews\n",
        "\n",
        "result, continuation_token = reviews(\n",
        "    'com.tencent.ig',\n",
        "    lang = 'id',\n",
        "    country = 'id',\n",
        "    sort = Sort.NEWEST,\n",
        "    count = 5000,\n",
        "    filter_score_with = 5\n",
        ")"
      ]
    },
    {
      "cell_type": "code",
      "source": [
        "import pandas as pd"
      ],
      "metadata": {
        "id": "JQO-t1w1jZjX"
      },
      "execution_count": 52,
      "outputs": []
    },
    {
      "cell_type": "code",
      "source": [
        "df_4 = pd.DataFrame(result)"
      ],
      "metadata": {
        "id": "mNLyhHxZjZjX"
      },
      "execution_count": 53,
      "outputs": []
    },
    {
      "cell_type": "code",
      "source": [
        "df_4.shape"
      ],
      "metadata": {
        "colab": {
          "base_uri": "https://localhost:8080/"
        },
        "outputId": "72f36c42-79c0-4132-c9dd-8fc959e3fe12",
        "id": "gGTWHLL4jZjY"
      },
      "execution_count": 54,
      "outputs": [
        {
          "output_type": "execute_result",
          "data": {
            "text/plain": [
              "(5000, 10)"
            ]
          },
          "metadata": {},
          "execution_count": 54
        }
      ]
    },
    {
      "cell_type": "code",
      "source": [
        "df_4.head()"
      ],
      "metadata": {
        "colab": {
          "base_uri": "https://localhost:8080/",
          "height": 548
        },
        "outputId": "977a6ff3-d113-42ec-e67a-d4a2b221218d",
        "id": "NtvGHCJajZjY"
      },
      "execution_count": 55,
      "outputs": [
        {
          "output_type": "execute_result",
          "data": {
            "text/plain": [
              "                               reviewId                   userName  \\\n",
              "0  6a3db0e3-3184-4386-9762-a29549a8ee65               Mita Sasmita   \n",
              "1  35050577-a152-4af6-962d-af0b211bfdaf               Tia Angereni   \n",
              "2  19080016-1198-4234-8e87-9b7174a27083             Imanuel Parker   \n",
              "3  c5def0c3-03ad-436d-a0e5-16fc257b63c9               KobamBooster   \n",
              "4  ccbc80da-c395-4f21-940d-17fa323c7da7  Joaquina Dos Reis Pereira   \n",
              "\n",
              "                                           userImage  \\\n",
              "0  https://play-lh.googleusercontent.com/a/AItbvm...   \n",
              "1  https://play-lh.googleusercontent.com/a-/AFdZu...   \n",
              "2  https://play-lh.googleusercontent.com/a-/AFdZu...   \n",
              "3  https://play-lh.googleusercontent.com/a-/AFdZu...   \n",
              "4  https://play-lh.googleusercontent.com/a/AItbvm...   \n",
              "\n",
              "                                             content  score  thumbsUpCount  \\\n",
              "0                                        Mita Brimob      5              0   \n",
              "1  Bikin lh hp ram 2gb bisa main lgi gk berat sep...      5              0   \n",
              "2                               Game ini sangat baik      5              0   \n",
              "3  Anda terdeteksi menggunakan iphone,maka anda a...      5              1   \n",
              "4                        Sangat enak untuk dimainkan      5              0   \n",
              "\n",
              "  reviewCreatedVersion                  at  \\\n",
              "0                 None 2022-08-31 14:56:31   \n",
              "1                 None 2022-08-31 14:55:30   \n",
              "2                 None 2022-08-31 14:52:44   \n",
              "3                2.1.0 2022-08-31 14:40:03   \n",
              "4                 None 2022-08-31 14:38:44   \n",
              "\n",
              "                                        replyContent           repliedAt  \n",
              "0                                               None                 NaT  \n",
              "1                                               None                 NaT  \n",
              "2                                               None                 NaT  \n",
              "3  Halo KobamBooster, kami memerlukan lebih banya... 2022-09-01 03:50:23  \n",
              "4  Hai Joaquina , terima kasih atas tanggapannya.... 2022-09-01 03:50:35  "
            ],
            "text/html": [
              "\n",
              "  <div id=\"df-d63f6e91-0db7-4d41-8d5a-9fe6a77d92e1\">\n",
              "    <div class=\"colab-df-container\">\n",
              "      <div>\n",
              "<style scoped>\n",
              "    .dataframe tbody tr th:only-of-type {\n",
              "        vertical-align: middle;\n",
              "    }\n",
              "\n",
              "    .dataframe tbody tr th {\n",
              "        vertical-align: top;\n",
              "    }\n",
              "\n",
              "    .dataframe thead th {\n",
              "        text-align: right;\n",
              "    }\n",
              "</style>\n",
              "<table border=\"1\" class=\"dataframe\">\n",
              "  <thead>\n",
              "    <tr style=\"text-align: right;\">\n",
              "      <th></th>\n",
              "      <th>reviewId</th>\n",
              "      <th>userName</th>\n",
              "      <th>userImage</th>\n",
              "      <th>content</th>\n",
              "      <th>score</th>\n",
              "      <th>thumbsUpCount</th>\n",
              "      <th>reviewCreatedVersion</th>\n",
              "      <th>at</th>\n",
              "      <th>replyContent</th>\n",
              "      <th>repliedAt</th>\n",
              "    </tr>\n",
              "  </thead>\n",
              "  <tbody>\n",
              "    <tr>\n",
              "      <th>0</th>\n",
              "      <td>6a3db0e3-3184-4386-9762-a29549a8ee65</td>\n",
              "      <td>Mita Sasmita</td>\n",
              "      <td>https://play-lh.googleusercontent.com/a/AItbvm...</td>\n",
              "      <td>Mita Brimob</td>\n",
              "      <td>5</td>\n",
              "      <td>0</td>\n",
              "      <td>None</td>\n",
              "      <td>2022-08-31 14:56:31</td>\n",
              "      <td>None</td>\n",
              "      <td>NaT</td>\n",
              "    </tr>\n",
              "    <tr>\n",
              "      <th>1</th>\n",
              "      <td>35050577-a152-4af6-962d-af0b211bfdaf</td>\n",
              "      <td>Tia Angereni</td>\n",
              "      <td>https://play-lh.googleusercontent.com/a-/AFdZu...</td>\n",
              "      <td>Bikin lh hp ram 2gb bisa main lgi gk berat sep...</td>\n",
              "      <td>5</td>\n",
              "      <td>0</td>\n",
              "      <td>None</td>\n",
              "      <td>2022-08-31 14:55:30</td>\n",
              "      <td>None</td>\n",
              "      <td>NaT</td>\n",
              "    </tr>\n",
              "    <tr>\n",
              "      <th>2</th>\n",
              "      <td>19080016-1198-4234-8e87-9b7174a27083</td>\n",
              "      <td>Imanuel Parker</td>\n",
              "      <td>https://play-lh.googleusercontent.com/a-/AFdZu...</td>\n",
              "      <td>Game ini sangat baik</td>\n",
              "      <td>5</td>\n",
              "      <td>0</td>\n",
              "      <td>None</td>\n",
              "      <td>2022-08-31 14:52:44</td>\n",
              "      <td>None</td>\n",
              "      <td>NaT</td>\n",
              "    </tr>\n",
              "    <tr>\n",
              "      <th>3</th>\n",
              "      <td>c5def0c3-03ad-436d-a0e5-16fc257b63c9</td>\n",
              "      <td>KobamBooster</td>\n",
              "      <td>https://play-lh.googleusercontent.com/a-/AFdZu...</td>\n",
              "      <td>Anda terdeteksi menggunakan iphone,maka anda a...</td>\n",
              "      <td>5</td>\n",
              "      <td>1</td>\n",
              "      <td>2.1.0</td>\n",
              "      <td>2022-08-31 14:40:03</td>\n",
              "      <td>Halo KobamBooster, kami memerlukan lebih banya...</td>\n",
              "      <td>2022-09-01 03:50:23</td>\n",
              "    </tr>\n",
              "    <tr>\n",
              "      <th>4</th>\n",
              "      <td>ccbc80da-c395-4f21-940d-17fa323c7da7</td>\n",
              "      <td>Joaquina Dos Reis Pereira</td>\n",
              "      <td>https://play-lh.googleusercontent.com/a/AItbvm...</td>\n",
              "      <td>Sangat enak untuk dimainkan</td>\n",
              "      <td>5</td>\n",
              "      <td>0</td>\n",
              "      <td>None</td>\n",
              "      <td>2022-08-31 14:38:44</td>\n",
              "      <td>Hai Joaquina , terima kasih atas tanggapannya....</td>\n",
              "      <td>2022-09-01 03:50:35</td>\n",
              "    </tr>\n",
              "  </tbody>\n",
              "</table>\n",
              "</div>\n",
              "      <button class=\"colab-df-convert\" onclick=\"convertToInteractive('df-d63f6e91-0db7-4d41-8d5a-9fe6a77d92e1')\"\n",
              "              title=\"Convert this dataframe to an interactive table.\"\n",
              "              style=\"display:none;\">\n",
              "        \n",
              "  <svg xmlns=\"http://www.w3.org/2000/svg\" height=\"24px\"viewBox=\"0 0 24 24\"\n",
              "       width=\"24px\">\n",
              "    <path d=\"M0 0h24v24H0V0z\" fill=\"none\"/>\n",
              "    <path d=\"M18.56 5.44l.94 2.06.94-2.06 2.06-.94-2.06-.94-.94-2.06-.94 2.06-2.06.94zm-11 1L8.5 8.5l.94-2.06 2.06-.94-2.06-.94L8.5 2.5l-.94 2.06-2.06.94zm10 10l.94 2.06.94-2.06 2.06-.94-2.06-.94-.94-2.06-.94 2.06-2.06.94z\"/><path d=\"M17.41 7.96l-1.37-1.37c-.4-.4-.92-.59-1.43-.59-.52 0-1.04.2-1.43.59L10.3 9.45l-7.72 7.72c-.78.78-.78 2.05 0 2.83L4 21.41c.39.39.9.59 1.41.59.51 0 1.02-.2 1.41-.59l7.78-7.78 2.81-2.81c.8-.78.8-2.07 0-2.86zM5.41 20L4 18.59l7.72-7.72 1.47 1.35L5.41 20z\"/>\n",
              "  </svg>\n",
              "      </button>\n",
              "      \n",
              "  <style>\n",
              "    .colab-df-container {\n",
              "      display:flex;\n",
              "      flex-wrap:wrap;\n",
              "      gap: 12px;\n",
              "    }\n",
              "\n",
              "    .colab-df-convert {\n",
              "      background-color: #E8F0FE;\n",
              "      border: none;\n",
              "      border-radius: 50%;\n",
              "      cursor: pointer;\n",
              "      display: none;\n",
              "      fill: #1967D2;\n",
              "      height: 32px;\n",
              "      padding: 0 0 0 0;\n",
              "      width: 32px;\n",
              "    }\n",
              "\n",
              "    .colab-df-convert:hover {\n",
              "      background-color: #E2EBFA;\n",
              "      box-shadow: 0px 1px 2px rgba(60, 64, 67, 0.3), 0px 1px 3px 1px rgba(60, 64, 67, 0.15);\n",
              "      fill: #174EA6;\n",
              "    }\n",
              "\n",
              "    [theme=dark] .colab-df-convert {\n",
              "      background-color: #3B4455;\n",
              "      fill: #D2E3FC;\n",
              "    }\n",
              "\n",
              "    [theme=dark] .colab-df-convert:hover {\n",
              "      background-color: #434B5C;\n",
              "      box-shadow: 0px 1px 3px 1px rgba(0, 0, 0, 0.15);\n",
              "      filter: drop-shadow(0px 1px 2px rgba(0, 0, 0, 0.3));\n",
              "      fill: #FFFFFF;\n",
              "    }\n",
              "  </style>\n",
              "\n",
              "      <script>\n",
              "        const buttonEl =\n",
              "          document.querySelector('#df-d63f6e91-0db7-4d41-8d5a-9fe6a77d92e1 button.colab-df-convert');\n",
              "        buttonEl.style.display =\n",
              "          google.colab.kernel.accessAllowed ? 'block' : 'none';\n",
              "\n",
              "        async function convertToInteractive(key) {\n",
              "          const element = document.querySelector('#df-d63f6e91-0db7-4d41-8d5a-9fe6a77d92e1');\n",
              "          const dataTable =\n",
              "            await google.colab.kernel.invokeFunction('convertToInteractive',\n",
              "                                                     [key], {});\n",
              "          if (!dataTable) return;\n",
              "\n",
              "          const docLinkHtml = 'Like what you see? Visit the ' +\n",
              "            '<a target=\"_blank\" href=https://colab.research.google.com/notebooks/data_table.ipynb>data table notebook</a>'\n",
              "            + ' to learn more about interactive tables.';\n",
              "          element.innerHTML = '';\n",
              "          dataTable['output_type'] = 'display_data';\n",
              "          await google.colab.output.renderOutput(dataTable, element);\n",
              "          const docLink = document.createElement('div');\n",
              "          docLink.innerHTML = docLinkHtml;\n",
              "          element.appendChild(docLink);\n",
              "        }\n",
              "      </script>\n",
              "    </div>\n",
              "  </div>\n",
              "  "
            ]
          },
          "metadata": {},
          "execution_count": 55
        }
      ]
    },
    {
      "cell_type": "code",
      "source": [
        "df_4.to_csv('review_score_5.csv', index=None, header=True, encoding =\"utf-8\")"
      ],
      "metadata": {
        "id": "yHghJOwAjh8Y"
      },
      "execution_count": 56,
      "outputs": []
    },
    {
      "cell_type": "code",
      "source": [
        "from google.colab import files\n",
        "files.download('review_score_5.csv')"
      ],
      "metadata": {
        "colab": {
          "base_uri": "https://localhost:8080/",
          "height": 17
        },
        "outputId": "d6a25230-1dbe-4cd3-cc9a-a35fa271ea87",
        "id": "snqbzNO5jh8Y"
      },
      "execution_count": 57,
      "outputs": [
        {
          "output_type": "display_data",
          "data": {
            "text/plain": [
              "<IPython.core.display.Javascript object>"
            ],
            "application/javascript": [
              "\n",
              "    async function download(id, filename, size) {\n",
              "      if (!google.colab.kernel.accessAllowed) {\n",
              "        return;\n",
              "      }\n",
              "      const div = document.createElement('div');\n",
              "      const label = document.createElement('label');\n",
              "      label.textContent = `Downloading \"${filename}\": `;\n",
              "      div.appendChild(label);\n",
              "      const progress = document.createElement('progress');\n",
              "      progress.max = size;\n",
              "      div.appendChild(progress);\n",
              "      document.body.appendChild(div);\n",
              "\n",
              "      const buffers = [];\n",
              "      let downloaded = 0;\n",
              "\n",
              "      const channel = await google.colab.kernel.comms.open(id);\n",
              "      // Send a message to notify the kernel that we're ready.\n",
              "      channel.send({})\n",
              "\n",
              "      for await (const message of channel.messages) {\n",
              "        // Send a message to notify the kernel that we're ready.\n",
              "        channel.send({})\n",
              "        if (message.buffers) {\n",
              "          for (const buffer of message.buffers) {\n",
              "            buffers.push(buffer);\n",
              "            downloaded += buffer.byteLength;\n",
              "            progress.value = downloaded;\n",
              "          }\n",
              "        }\n",
              "      }\n",
              "      const blob = new Blob(buffers, {type: 'application/binary'});\n",
              "      const a = document.createElement('a');\n",
              "      a.href = window.URL.createObjectURL(blob);\n",
              "      a.download = filename;\n",
              "      div.appendChild(a);\n",
              "      a.click();\n",
              "      div.remove();\n",
              "    }\n",
              "  "
            ]
          },
          "metadata": {}
        },
        {
          "output_type": "display_data",
          "data": {
            "text/plain": [
              "<IPython.core.display.Javascript object>"
            ],
            "application/javascript": [
              "download(\"download_77991e2c-8b56-46dd-a282-428edd8f8b54\", \"review_score_5.csv\", 2601542)"
            ]
          },
          "metadata": {}
        }
      ]
    },
    {
      "cell_type": "code",
      "source": [
        "from glob import glob"
      ],
      "metadata": {
        "id": "Ak0vBUGzvW2L"
      },
      "execution_count": 83,
      "outputs": []
    },
    {
      "cell_type": "code",
      "source": [
        "df_5 = sorted(glob('/content/data/review_score*.csv'))\n",
        "df_5"
      ],
      "metadata": {
        "colab": {
          "base_uri": "https://localhost:8080/"
        },
        "id": "oWoQSQGwvrYj",
        "outputId": "896dd62e-bf36-4c25-ab19-a4d6416233fa"
      },
      "execution_count": 84,
      "outputs": [
        {
          "output_type": "execute_result",
          "data": {
            "text/plain": [
              "['/content/data/review_score_1.csv',\n",
              " '/content/data/review_score_2.csv',\n",
              " '/content/data/review_score_3.csv',\n",
              " '/content/data/review_score_4.csv',\n",
              " '/content/data/review_score_5.csv']"
            ]
          },
          "metadata": {},
          "execution_count": 84
        }
      ]
    },
    {
      "cell_type": "code",
      "source": [
        "%%time \n",
        "df_6 = pd.concat((pd.read_csv(file).assign(filename = file) for file in df_5), ignore_index = True)"
      ],
      "metadata": {
        "colab": {
          "base_uri": "https://localhost:8080/"
        },
        "id": "Vvdp96pcwiXj",
        "outputId": "74cce93b-a333-4a2d-c941-5b1b47e2d65f"
      },
      "execution_count": 85,
      "outputs": [
        {
          "output_type": "stream",
          "name": "stdout",
          "text": [
            "CPU times: user 376 ms, sys: 63.2 ms, total: 440 ms\n",
            "Wall time: 436 ms\n"
          ]
        }
      ]
    },
    {
      "cell_type": "code",
      "source": [
        "df_7 = df_6.sample(frac = 1).reset_index()"
      ],
      "metadata": {
        "id": "amZgOoYN1cXl"
      },
      "execution_count": null,
      "outputs": []
    },
    {
      "cell_type": "code",
      "source": [
        "df_7"
      ],
      "metadata": {
        "colab": {
          "base_uri": "https://localhost:8080/",
          "height": 1000
        },
        "id": "j4eBIuiV2pIL",
        "outputId": "dcf5bf68-d217-4910-b220-dd1c03b2ba7e"
      },
      "execution_count": 88,
      "outputs": [
        {
          "output_type": "execute_result",
          "data": {
            "text/plain": [
              "       index                              reviewId                  userName  \\\n",
              "0      27737  1ad0a27d-01df-4f27-8c6b-c69e5cc628c8               Black Mamba   \n",
              "1      27994  b1d94d71-cd5d-41ae-839b-34ec7b694273                Hizbil Ali   \n",
              "2      12897  ee9fbf6d-a9f0-4880-b2ad-f072ba2ce8a5             Gareng Petrok   \n",
              "3      29403  d62c3338-bead-43c6-8bad-bfb80bd0daeb             Hari Siswanto   \n",
              "4      25796  9a80c56a-245a-422b-800f-d68a5279bed9           MVP Luki Gaming   \n",
              "...      ...                                   ...                       ...   \n",
              "29995  20321  dec6c842-71a2-4d21-bc13-927956cf00b4  A.H.F_29 A.Haikal.Fanani   \n",
              "29996  27194  475f3b4c-94ca-457c-9ad7-301c7ca7ea31                 Vino Vino   \n",
              "29997  25220  78efd26a-2939-4d82-b88f-e39e29c11649         Rendy Ady Satmoko   \n",
              "29998  14676  f43b9465-c2d4-477d-a7cc-6c8ba91168ed                      Rosa   \n",
              "29999  24173  619b466a-2228-4d36-b61f-c8d470d6226e            Khairul Bahrin   \n",
              "\n",
              "                                               userImage  \\\n",
              "0      https://play-lh.googleusercontent.com/a-/AFdZu...   \n",
              "1      https://play-lh.googleusercontent.com/a-/AFdZu...   \n",
              "2      https://play-lh.googleusercontent.com/a/AItbvm...   \n",
              "3      https://play-lh.googleusercontent.com/a/AItbvm...   \n",
              "4      https://play-lh.googleusercontent.com/a-/AFdZu...   \n",
              "...                                                  ...   \n",
              "29995  https://play-lh.googleusercontent.com/a-/AFdZu...   \n",
              "29996  https://play-lh.googleusercontent.com/a/AItbvm...   \n",
              "29997  https://play-lh.googleusercontent.com/a/AItbvm...   \n",
              "29998  https://play-lh.googleusercontent.com/a-/AFdZu...   \n",
              "29999  https://play-lh.googleusercontent.com/a-/AFdZu...   \n",
              "\n",
              "                                                 content  score  \\\n",
              "0      Game ini bagus,,tapi lebih bagus game gimbot k...      5   \n",
              "1                                               Gem bgus      5   \n",
              "2      Akun pubg ku kena hecker..gimna sih cara menga...      3   \n",
              "3      Plis jangan mahal mahal men ganti jadi 650 mb ...      5   \n",
              "4                                     mntep dah pokoknya      5   \n",
              "...                                                  ...    ...   \n",
              "29995  Lama kelamaan pudate demi update kenapa saat s...      4   \n",
              "29996  Wow saya main dari season 5 sampe Sekarang ga ...      5   \n",
              "29997      Aku suka main ini seru banget (•‿•)(•‿•)(•‿•)      5   \n",
              "29998  Kasih bintang 3 dulu soalnya di saat aku mau d...      3   \n",
              "29999  Minal aidzin walfa idzin mohon maaf lahir dan ...      4   \n",
              "\n",
              "       thumbsUpCount reviewCreatedVersion                   at  \\\n",
              "0                  1                2.0.0  2022-08-01 06:55:26   \n",
              "1                  0                2.1.0  2022-07-30 03:54:59   \n",
              "2                  0                2.0.0  2022-05-18 07:38:36   \n",
              "3                  0                  NaN  2022-07-21 13:07:52   \n",
              "4                  7                2.1.0  2022-08-22 13:37:42   \n",
              "...              ...                  ...                  ...   \n",
              "29995              0                  NaN  2022-08-09 00:37:26   \n",
              "29996              0                2.1.0  2022-08-06 16:45:39   \n",
              "29997              0                  NaN  2022-08-29 07:38:02   \n",
              "29998              0                1.9.0  2022-04-10 07:38:25   \n",
              "29999              0                  NaN  2022-05-03 09:11:08   \n",
              "\n",
              "                                            replyContent            repliedAt  \\\n",
              "0      Hai Black, rating 5 bintang Anda adalah upaya ...  2022-08-02 18:37:39   \n",
              "1      Olá, obrigado pelo seu feedback. Para obter as...  2022-07-30 15:47:07   \n",
              "2      Halo Gareng, kami sangat menyesal mendengar An...  2022-05-19 08:25:41   \n",
              "3      Halo Hari, kami benar-benar menghargai umpan b...  2022-07-23 19:15:25   \n",
              "4      Halo MVP Luki Gaming, kami ingin mengucapkan t...  2022-08-30 08:29:57   \n",
              "...                                                  ...                  ...   \n",
              "29995  Halo A.H.F_29 A.Haikal.Fanani, kami mohon maaf...  2022-08-10 01:18:08   \n",
              "29996  Halo Vino Vino, terima kasih atas kata-kata ba...  2022-08-07 07:10:15   \n",
              "29997  Halo Rendy, kami senang mendengar bahwa Anda m...  2022-08-30 07:12:03   \n",
              "29998  Hai ROSELA, kami mohon maaf mendengar Anda men...  2022-04-11 21:54:13   \n",
              "29999                                                NaN                  NaN   \n",
              "\n",
              "                               filename  \n",
              "0      /content/data/review_score_5.csv  \n",
              "1      /content/data/review_score_5.csv  \n",
              "2      /content/data/review_score_3.csv  \n",
              "3      /content/data/review_score_5.csv  \n",
              "4      /content/data/review_score_5.csv  \n",
              "...                                 ...  \n",
              "29995  /content/data/review_score_4.csv  \n",
              "29996  /content/data/review_score_5.csv  \n",
              "29997  /content/data/review_score_5.csv  \n",
              "29998  /content/data/review_score_3.csv  \n",
              "29999  /content/data/review_score_4.csv  \n",
              "\n",
              "[30000 rows x 12 columns]"
            ],
            "text/html": [
              "\n",
              "  <div id=\"df-8a00d7ef-b502-4800-8ac7-ce4d8f6e0b76\">\n",
              "    <div class=\"colab-df-container\">\n",
              "      <div>\n",
              "<style scoped>\n",
              "    .dataframe tbody tr th:only-of-type {\n",
              "        vertical-align: middle;\n",
              "    }\n",
              "\n",
              "    .dataframe tbody tr th {\n",
              "        vertical-align: top;\n",
              "    }\n",
              "\n",
              "    .dataframe thead th {\n",
              "        text-align: right;\n",
              "    }\n",
              "</style>\n",
              "<table border=\"1\" class=\"dataframe\">\n",
              "  <thead>\n",
              "    <tr style=\"text-align: right;\">\n",
              "      <th></th>\n",
              "      <th>index</th>\n",
              "      <th>reviewId</th>\n",
              "      <th>userName</th>\n",
              "      <th>userImage</th>\n",
              "      <th>content</th>\n",
              "      <th>score</th>\n",
              "      <th>thumbsUpCount</th>\n",
              "      <th>reviewCreatedVersion</th>\n",
              "      <th>at</th>\n",
              "      <th>replyContent</th>\n",
              "      <th>repliedAt</th>\n",
              "      <th>filename</th>\n",
              "    </tr>\n",
              "  </thead>\n",
              "  <tbody>\n",
              "    <tr>\n",
              "      <th>0</th>\n",
              "      <td>27737</td>\n",
              "      <td>1ad0a27d-01df-4f27-8c6b-c69e5cc628c8</td>\n",
              "      <td>Black Mamba</td>\n",
              "      <td>https://play-lh.googleusercontent.com/a-/AFdZu...</td>\n",
              "      <td>Game ini bagus,,tapi lebih bagus game gimbot k...</td>\n",
              "      <td>5</td>\n",
              "      <td>1</td>\n",
              "      <td>2.0.0</td>\n",
              "      <td>2022-08-01 06:55:26</td>\n",
              "      <td>Hai Black, rating 5 bintang Anda adalah upaya ...</td>\n",
              "      <td>2022-08-02 18:37:39</td>\n",
              "      <td>/content/data/review_score_5.csv</td>\n",
              "    </tr>\n",
              "    <tr>\n",
              "      <th>1</th>\n",
              "      <td>27994</td>\n",
              "      <td>b1d94d71-cd5d-41ae-839b-34ec7b694273</td>\n",
              "      <td>Hizbil Ali</td>\n",
              "      <td>https://play-lh.googleusercontent.com/a-/AFdZu...</td>\n",
              "      <td>Gem bgus</td>\n",
              "      <td>5</td>\n",
              "      <td>0</td>\n",
              "      <td>2.1.0</td>\n",
              "      <td>2022-07-30 03:54:59</td>\n",
              "      <td>Olá, obrigado pelo seu feedback. Para obter as...</td>\n",
              "      <td>2022-07-30 15:47:07</td>\n",
              "      <td>/content/data/review_score_5.csv</td>\n",
              "    </tr>\n",
              "    <tr>\n",
              "      <th>2</th>\n",
              "      <td>12897</td>\n",
              "      <td>ee9fbf6d-a9f0-4880-b2ad-f072ba2ce8a5</td>\n",
              "      <td>Gareng Petrok</td>\n",
              "      <td>https://play-lh.googleusercontent.com/a/AItbvm...</td>\n",
              "      <td>Akun pubg ku kena hecker..gimna sih cara menga...</td>\n",
              "      <td>3</td>\n",
              "      <td>0</td>\n",
              "      <td>2.0.0</td>\n",
              "      <td>2022-05-18 07:38:36</td>\n",
              "      <td>Halo Gareng, kami sangat menyesal mendengar An...</td>\n",
              "      <td>2022-05-19 08:25:41</td>\n",
              "      <td>/content/data/review_score_3.csv</td>\n",
              "    </tr>\n",
              "    <tr>\n",
              "      <th>3</th>\n",
              "      <td>29403</td>\n",
              "      <td>d62c3338-bead-43c6-8bad-bfb80bd0daeb</td>\n",
              "      <td>Hari Siswanto</td>\n",
              "      <td>https://play-lh.googleusercontent.com/a/AItbvm...</td>\n",
              "      <td>Plis jangan mahal mahal men ganti jadi 650 mb ...</td>\n",
              "      <td>5</td>\n",
              "      <td>0</td>\n",
              "      <td>NaN</td>\n",
              "      <td>2022-07-21 13:07:52</td>\n",
              "      <td>Halo Hari, kami benar-benar menghargai umpan b...</td>\n",
              "      <td>2022-07-23 19:15:25</td>\n",
              "      <td>/content/data/review_score_5.csv</td>\n",
              "    </tr>\n",
              "    <tr>\n",
              "      <th>4</th>\n",
              "      <td>25796</td>\n",
              "      <td>9a80c56a-245a-422b-800f-d68a5279bed9</td>\n",
              "      <td>MVP Luki Gaming</td>\n",
              "      <td>https://play-lh.googleusercontent.com/a-/AFdZu...</td>\n",
              "      <td>mntep dah pokoknya</td>\n",
              "      <td>5</td>\n",
              "      <td>7</td>\n",
              "      <td>2.1.0</td>\n",
              "      <td>2022-08-22 13:37:42</td>\n",
              "      <td>Halo MVP Luki Gaming, kami ingin mengucapkan t...</td>\n",
              "      <td>2022-08-30 08:29:57</td>\n",
              "      <td>/content/data/review_score_5.csv</td>\n",
              "    </tr>\n",
              "    <tr>\n",
              "      <th>...</th>\n",
              "      <td>...</td>\n",
              "      <td>...</td>\n",
              "      <td>...</td>\n",
              "      <td>...</td>\n",
              "      <td>...</td>\n",
              "      <td>...</td>\n",
              "      <td>...</td>\n",
              "      <td>...</td>\n",
              "      <td>...</td>\n",
              "      <td>...</td>\n",
              "      <td>...</td>\n",
              "      <td>...</td>\n",
              "    </tr>\n",
              "    <tr>\n",
              "      <th>29995</th>\n",
              "      <td>20321</td>\n",
              "      <td>dec6c842-71a2-4d21-bc13-927956cf00b4</td>\n",
              "      <td>A.H.F_29 A.Haikal.Fanani</td>\n",
              "      <td>https://play-lh.googleusercontent.com/a-/AFdZu...</td>\n",
              "      <td>Lama kelamaan pudate demi update kenapa saat s...</td>\n",
              "      <td>4</td>\n",
              "      <td>0</td>\n",
              "      <td>NaN</td>\n",
              "      <td>2022-08-09 00:37:26</td>\n",
              "      <td>Halo A.H.F_29 A.Haikal.Fanani, kami mohon maaf...</td>\n",
              "      <td>2022-08-10 01:18:08</td>\n",
              "      <td>/content/data/review_score_4.csv</td>\n",
              "    </tr>\n",
              "    <tr>\n",
              "      <th>29996</th>\n",
              "      <td>27194</td>\n",
              "      <td>475f3b4c-94ca-457c-9ad7-301c7ca7ea31</td>\n",
              "      <td>Vino Vino</td>\n",
              "      <td>https://play-lh.googleusercontent.com/a/AItbvm...</td>\n",
              "      <td>Wow saya main dari season 5 sampe Sekarang ga ...</td>\n",
              "      <td>5</td>\n",
              "      <td>0</td>\n",
              "      <td>2.1.0</td>\n",
              "      <td>2022-08-06 16:45:39</td>\n",
              "      <td>Halo Vino Vino, terima kasih atas kata-kata ba...</td>\n",
              "      <td>2022-08-07 07:10:15</td>\n",
              "      <td>/content/data/review_score_5.csv</td>\n",
              "    </tr>\n",
              "    <tr>\n",
              "      <th>29997</th>\n",
              "      <td>25220</td>\n",
              "      <td>78efd26a-2939-4d82-b88f-e39e29c11649</td>\n",
              "      <td>Rendy Ady Satmoko</td>\n",
              "      <td>https://play-lh.googleusercontent.com/a/AItbvm...</td>\n",
              "      <td>Aku suka main ini seru banget (•‿•)(•‿•)(•‿•)</td>\n",
              "      <td>5</td>\n",
              "      <td>0</td>\n",
              "      <td>NaN</td>\n",
              "      <td>2022-08-29 07:38:02</td>\n",
              "      <td>Halo Rendy, kami senang mendengar bahwa Anda m...</td>\n",
              "      <td>2022-08-30 07:12:03</td>\n",
              "      <td>/content/data/review_score_5.csv</td>\n",
              "    </tr>\n",
              "    <tr>\n",
              "      <th>29998</th>\n",
              "      <td>14676</td>\n",
              "      <td>f43b9465-c2d4-477d-a7cc-6c8ba91168ed</td>\n",
              "      <td>Rosa</td>\n",
              "      <td>https://play-lh.googleusercontent.com/a-/AFdZu...</td>\n",
              "      <td>Kasih bintang 3 dulu soalnya di saat aku mau d...</td>\n",
              "      <td>3</td>\n",
              "      <td>0</td>\n",
              "      <td>1.9.0</td>\n",
              "      <td>2022-04-10 07:38:25</td>\n",
              "      <td>Hai ROSELA, kami mohon maaf mendengar Anda men...</td>\n",
              "      <td>2022-04-11 21:54:13</td>\n",
              "      <td>/content/data/review_score_3.csv</td>\n",
              "    </tr>\n",
              "    <tr>\n",
              "      <th>29999</th>\n",
              "      <td>24173</td>\n",
              "      <td>619b466a-2228-4d36-b61f-c8d470d6226e</td>\n",
              "      <td>Khairul Bahrin</td>\n",
              "      <td>https://play-lh.googleusercontent.com/a-/AFdZu...</td>\n",
              "      <td>Minal aidzin walfa idzin mohon maaf lahir dan ...</td>\n",
              "      <td>4</td>\n",
              "      <td>0</td>\n",
              "      <td>NaN</td>\n",
              "      <td>2022-05-03 09:11:08</td>\n",
              "      <td>NaN</td>\n",
              "      <td>NaN</td>\n",
              "      <td>/content/data/review_score_4.csv</td>\n",
              "    </tr>\n",
              "  </tbody>\n",
              "</table>\n",
              "<p>30000 rows × 12 columns</p>\n",
              "</div>\n",
              "      <button class=\"colab-df-convert\" onclick=\"convertToInteractive('df-8a00d7ef-b502-4800-8ac7-ce4d8f6e0b76')\"\n",
              "              title=\"Convert this dataframe to an interactive table.\"\n",
              "              style=\"display:none;\">\n",
              "        \n",
              "  <svg xmlns=\"http://www.w3.org/2000/svg\" height=\"24px\"viewBox=\"0 0 24 24\"\n",
              "       width=\"24px\">\n",
              "    <path d=\"M0 0h24v24H0V0z\" fill=\"none\"/>\n",
              "    <path d=\"M18.56 5.44l.94 2.06.94-2.06 2.06-.94-2.06-.94-.94-2.06-.94 2.06-2.06.94zm-11 1L8.5 8.5l.94-2.06 2.06-.94-2.06-.94L8.5 2.5l-.94 2.06-2.06.94zm10 10l.94 2.06.94-2.06 2.06-.94-2.06-.94-.94-2.06-.94 2.06-2.06.94z\"/><path d=\"M17.41 7.96l-1.37-1.37c-.4-.4-.92-.59-1.43-.59-.52 0-1.04.2-1.43.59L10.3 9.45l-7.72 7.72c-.78.78-.78 2.05 0 2.83L4 21.41c.39.39.9.59 1.41.59.51 0 1.02-.2 1.41-.59l7.78-7.78 2.81-2.81c.8-.78.8-2.07 0-2.86zM5.41 20L4 18.59l7.72-7.72 1.47 1.35L5.41 20z\"/>\n",
              "  </svg>\n",
              "      </button>\n",
              "      \n",
              "  <style>\n",
              "    .colab-df-container {\n",
              "      display:flex;\n",
              "      flex-wrap:wrap;\n",
              "      gap: 12px;\n",
              "    }\n",
              "\n",
              "    .colab-df-convert {\n",
              "      background-color: #E8F0FE;\n",
              "      border: none;\n",
              "      border-radius: 50%;\n",
              "      cursor: pointer;\n",
              "      display: none;\n",
              "      fill: #1967D2;\n",
              "      height: 32px;\n",
              "      padding: 0 0 0 0;\n",
              "      width: 32px;\n",
              "    }\n",
              "\n",
              "    .colab-df-convert:hover {\n",
              "      background-color: #E2EBFA;\n",
              "      box-shadow: 0px 1px 2px rgba(60, 64, 67, 0.3), 0px 1px 3px 1px rgba(60, 64, 67, 0.15);\n",
              "      fill: #174EA6;\n",
              "    }\n",
              "\n",
              "    [theme=dark] .colab-df-convert {\n",
              "      background-color: #3B4455;\n",
              "      fill: #D2E3FC;\n",
              "    }\n",
              "\n",
              "    [theme=dark] .colab-df-convert:hover {\n",
              "      background-color: #434B5C;\n",
              "      box-shadow: 0px 1px 3px 1px rgba(0, 0, 0, 0.15);\n",
              "      filter: drop-shadow(0px 1px 2px rgba(0, 0, 0, 0.3));\n",
              "      fill: #FFFFFF;\n",
              "    }\n",
              "  </style>\n",
              "\n",
              "      <script>\n",
              "        const buttonEl =\n",
              "          document.querySelector('#df-8a00d7ef-b502-4800-8ac7-ce4d8f6e0b76 button.colab-df-convert');\n",
              "        buttonEl.style.display =\n",
              "          google.colab.kernel.accessAllowed ? 'block' : 'none';\n",
              "\n",
              "        async function convertToInteractive(key) {\n",
              "          const element = document.querySelector('#df-8a00d7ef-b502-4800-8ac7-ce4d8f6e0b76');\n",
              "          const dataTable =\n",
              "            await google.colab.kernel.invokeFunction('convertToInteractive',\n",
              "                                                     [key], {});\n",
              "          if (!dataTable) return;\n",
              "\n",
              "          const docLinkHtml = 'Like what you see? Visit the ' +\n",
              "            '<a target=\"_blank\" href=https://colab.research.google.com/notebooks/data_table.ipynb>data table notebook</a>'\n",
              "            + ' to learn more about interactive tables.';\n",
              "          element.innerHTML = '';\n",
              "          dataTable['output_type'] = 'display_data';\n",
              "          await google.colab.output.renderOutput(dataTable, element);\n",
              "          const docLink = document.createElement('div');\n",
              "          docLink.innerHTML = docLinkHtml;\n",
              "          element.appendChild(docLink);\n",
              "        }\n",
              "      </script>\n",
              "    </div>\n",
              "  </div>\n",
              "  "
            ]
          },
          "metadata": {},
          "execution_count": 88
        }
      ]
    },
    {
      "cell_type": "code",
      "source": [
        "df_7.to_csv('df_review.csv', index=None, header=True, encoding =\"utf-8\")"
      ],
      "metadata": {
        "id": "sslfuqbrzoZi"
      },
      "execution_count": 90,
      "outputs": []
    }
  ]
}