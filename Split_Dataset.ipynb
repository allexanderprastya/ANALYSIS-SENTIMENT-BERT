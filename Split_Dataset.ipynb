{
  "nbformat": 4,
  "nbformat_minor": 0,
  "metadata": {
    "colab": {
      "provenance": [],
      "collapsed_sections": [],
      "authorship_tag": "ABX9TyPAyRmTti7jsMkf7sRl79Or",
      "include_colab_link": true
    },
    "kernelspec": {
      "name": "python3",
      "display_name": "Python 3"
    },
    "language_info": {
      "name": "python"
    }
  },
  "cells": [
    {
      "cell_type": "markdown",
      "metadata": {
        "id": "view-in-github",
        "colab_type": "text"
      },
      "source": [
        "<a href=\"https://colab.research.google.com/github/allexanderprastya/PROJECT-TA-JURNAL/blob/main/Split_Dataset.ipynb\" target=\"_parent\"><img src=\"https://colab.research.google.com/assets/colab-badge.svg\" alt=\"Open In Colab\"/></a>"
      ]
    },
    {
      "cell_type": "code",
      "source": [
        "import numpy as np\n",
        "import pandas as pd\n",
        "from sklearn.model_selection import train_test_split"
      ],
      "metadata": {
        "id": "UydwU2e7wKUn"
      },
      "execution_count": 8,
      "outputs": []
    },
    {
      "cell_type": "code",
      "source": [
        "df = pd.read_csv('/content/review_15k_stopwords.csv')"
      ],
      "metadata": {
        "id": "vMTwDl5fwT4X"
      },
      "execution_count": 9,
      "outputs": []
    },
    {
      "cell_type": "code",
      "source": [
        "df.shape"
      ],
      "metadata": {
        "colab": {
          "base_uri": "https://localhost:8080/"
        },
        "id": "YrFgEvRVGRmr",
        "outputId": "1df66fa6-a25a-4ded-dde4-e451a9e5d575"
      },
      "execution_count": 10,
      "outputs": [
        {
          "output_type": "execute_result",
          "data": {
            "text/plain": [
              "(14490, 2)"
            ]
          },
          "metadata": {},
          "execution_count": 10
        }
      ]
    },
    {
      "cell_type": "markdown",
      "source": [
        "###Split Dataset Rasio 75% 15% 10%\n"
      ],
      "metadata": {
        "id": "An69zn2CWdmw"
      }
    },
    {
      "cell_type": "code",
      "source": [
        "train_df, val_df, test_df = np.split(df.sample(frac=1), [int(.75*len(df)), int(.9*len(df))])"
      ],
      "metadata": {
        "id": "Zn_Z3InzVCXZ"
      },
      "execution_count": 11,
      "outputs": []
    },
    {
      "cell_type": "code",
      "source": [
        "print(len(train_df), len(val_df), len(test_df))"
      ],
      "metadata": {
        "colab": {
          "base_uri": "https://localhost:8080/"
        },
        "id": "Gn3ByDxNVIJ5",
        "outputId": "5f04dda4-27db-47cb-855f-18711891095b"
      },
      "execution_count": 12,
      "outputs": [
        {
          "output_type": "stream",
          "name": "stdout",
          "text": [
            "10867 2174 1449\n"
          ]
        }
      ]
    },
    {
      "cell_type": "code",
      "source": [
        "train_df['sentiment'].value_counts()"
      ],
      "metadata": {
        "colab": {
          "base_uri": "https://localhost:8080/"
        },
        "id": "zXM38CpEVaso",
        "outputId": "5af44826-0ebd-4414-db16-75c4862afb74"
      },
      "execution_count": 20,
      "outputs": [
        {
          "output_type": "execute_result",
          "data": {
            "text/plain": [
              "1    3694\n",
              "0    3674\n",
              "2    3499\n",
              "Name: sentiment, dtype: int64"
            ]
          },
          "metadata": {},
          "execution_count": 20
        }
      ]
    },
    {
      "cell_type": "code",
      "source": [
        "val_df['sentiment'].value_counts()"
      ],
      "metadata": {
        "colab": {
          "base_uri": "https://localhost:8080/"
        },
        "id": "yNN3wlYMWOGI",
        "outputId": "2d81eac3-5fa3-4b2e-8b45-ab9618453025"
      },
      "execution_count": 21,
      "outputs": [
        {
          "output_type": "execute_result",
          "data": {
            "text/plain": [
              "0    746\n",
              "1    725\n",
              "2    703\n",
              "Name: sentiment, dtype: int64"
            ]
          },
          "metadata": {},
          "execution_count": 21
        }
      ]
    },
    {
      "cell_type": "code",
      "source": [
        "test_df['sentiment'].value_counts()"
      ],
      "metadata": {
        "colab": {
          "base_uri": "https://localhost:8080/"
        },
        "id": "ByCfH85mWRHg",
        "outputId": "72dd5ab7-395f-475b-c871-bd47d436fa9f"
      },
      "execution_count": 22,
      "outputs": [
        {
          "output_type": "execute_result",
          "data": {
            "text/plain": [
              "0    495\n",
              "1    488\n",
              "2    466\n",
              "Name: sentiment, dtype: int64"
            ]
          },
          "metadata": {},
          "execution_count": 22
        }
      ]
    },
    {
      "cell_type": "code",
      "source": [
        "train_df.to_csv('train_75.csv', encoding='utf8', index=None, header=True)\n",
        "val_df.to_csv('val_15.csv',  encoding='utf8', index=None, header=True)\n",
        "test_df.to_csv('test_10.csv',  encoding='utf8', index=None, header=True)"
      ],
      "metadata": {
        "id": "XdteO58yWyvp"
      },
      "execution_count": 23,
      "outputs": []
    },
    {
      "cell_type": "markdown",
      "source": [
        "###Split Dataset Rasio 60% 20% 20%"
      ],
      "metadata": {
        "id": "2LbMJnBoWqHY"
      }
    },
    {
      "cell_type": "code",
      "source": [
        "df2 = pd.read_csv('/content/review_15k_stopwords.csv')"
      ],
      "metadata": {
        "id": "wkOBwQb7XUvY"
      },
      "execution_count": 24,
      "outputs": []
    },
    {
      "cell_type": "code",
      "source": [
        "train_df, val_df, test_df = np.split(df2.sample(frac=1), [int(.6*len(df2)), int(.8*len(df2))])"
      ],
      "metadata": {
        "id": "yz6NCOxcX6av"
      },
      "execution_count": 25,
      "outputs": []
    },
    {
      "cell_type": "code",
      "source": [
        "print(len(train_df), len(val_df), len(test_df))"
      ],
      "metadata": {
        "colab": {
          "base_uri": "https://localhost:8080/"
        },
        "id": "vzUVFzyuYL0X",
        "outputId": "6a4dee56-7174-4327-f3fa-d34b7b18d0cc"
      },
      "execution_count": 29,
      "outputs": [
        {
          "output_type": "stream",
          "name": "stdout",
          "text": [
            "8694 2898 2898\n"
          ]
        }
      ]
    },
    {
      "cell_type": "code",
      "source": [
        "train_df['sentiment'].value_counts()"
      ],
      "metadata": {
        "colab": {
          "base_uri": "https://localhost:8080/"
        },
        "outputId": "1cdb3600-4ebb-438f-e48f-a5dfe52ad4e7",
        "id": "tGfaWGl0YGNC"
      },
      "execution_count": 26,
      "outputs": [
        {
          "output_type": "execute_result",
          "data": {
            "text/plain": [
              "0    2974\n",
              "1    2936\n",
              "2    2784\n",
              "Name: sentiment, dtype: int64"
            ]
          },
          "metadata": {},
          "execution_count": 26
        }
      ]
    },
    {
      "cell_type": "code",
      "source": [
        "val_df['sentiment'].value_counts()"
      ],
      "metadata": {
        "colab": {
          "base_uri": "https://localhost:8080/"
        },
        "outputId": "ed27b268-5a0a-4867-a38a-4dbc684e678f",
        "id": "m9WLtLF4YGND"
      },
      "execution_count": 27,
      "outputs": [
        {
          "output_type": "execute_result",
          "data": {
            "text/plain": [
              "0    986\n",
              "1    984\n",
              "2    928\n",
              "Name: sentiment, dtype: int64"
            ]
          },
          "metadata": {},
          "execution_count": 27
        }
      ]
    },
    {
      "cell_type": "code",
      "source": [
        "test_df['sentiment'].value_counts()"
      ],
      "metadata": {
        "colab": {
          "base_uri": "https://localhost:8080/"
        },
        "outputId": "50673eaa-ffab-4a77-e6fd-0357be5474ed",
        "id": "6uTrOXHlYGND"
      },
      "execution_count": 28,
      "outputs": [
        {
          "output_type": "execute_result",
          "data": {
            "text/plain": [
              "1    987\n",
              "2    956\n",
              "0    955\n",
              "Name: sentiment, dtype: int64"
            ]
          },
          "metadata": {},
          "execution_count": 28
        }
      ]
    },
    {
      "cell_type": "code",
      "source": [
        "train_df.to_csv('train_60.csv', encoding='utf8', index=None, header=True)\n",
        "val_df.to_csv('val_20.csv',  encoding='utf8', index=None, header=True)\n",
        "test_df.to_csv('test_20.csv',  encoding='utf8', index=None, header=True)"
      ],
      "metadata": {
        "id": "eyGdCMzXYGND"
      },
      "execution_count": 30,
      "outputs": []
    },
    {
      "cell_type": "code",
      "source": [],
      "metadata": {
        "id": "-JK7iW2VaveT"
      },
      "execution_count": null,
      "outputs": []
    },
    {
      "cell_type": "markdown",
      "source": [
        "###Split Dataset Rasio 80% 10% 10%"
      ],
      "metadata": {
        "id": "IrPao4CkavpF"
      }
    },
    {
      "cell_type": "code",
      "source": [
        "df3 = pd.read_csv('/content/review_15k_stopwords.csv')"
      ],
      "metadata": {
        "id": "4C1KbgbRavpF"
      },
      "execution_count": 31,
      "outputs": []
    },
    {
      "cell_type": "code",
      "source": [
        "train_df, val_df, test_df = np.split(df3.sample(frac=1), [int(.8*len(df3)), int(.9*len(df3))])"
      ],
      "metadata": {
        "id": "1zyuJ7mHavpF"
      },
      "execution_count": 32,
      "outputs": []
    },
    {
      "cell_type": "code",
      "source": [
        "print(len(train_df), len(val_df), len(test_df))"
      ],
      "metadata": {
        "colab": {
          "base_uri": "https://localhost:8080/"
        },
        "outputId": "e1281153-87fa-4051-b517-33cc660dc55e",
        "id": "L2e1D_s7avpF"
      },
      "execution_count": 33,
      "outputs": [
        {
          "output_type": "stream",
          "name": "stdout",
          "text": [
            "11592 1449 1449\n"
          ]
        }
      ]
    },
    {
      "cell_type": "code",
      "source": [
        "train_df['sentiment'].value_counts()"
      ],
      "metadata": {
        "colab": {
          "base_uri": "https://localhost:8080/"
        },
        "outputId": "e21e6301-4ab7-4a69-9f57-2661108469ea",
        "id": "Ne1wgbl1avpF"
      },
      "execution_count": 34,
      "outputs": [
        {
          "output_type": "execute_result",
          "data": {
            "text/plain": [
              "0    3930\n",
              "1    3893\n",
              "2    3769\n",
              "Name: sentiment, dtype: int64"
            ]
          },
          "metadata": {},
          "execution_count": 34
        }
      ]
    },
    {
      "cell_type": "code",
      "source": [
        "val_df['sentiment'].value_counts()"
      ],
      "metadata": {
        "colab": {
          "base_uri": "https://localhost:8080/"
        },
        "outputId": "1e69a5bf-4989-4ba3-e116-939631446bf7",
        "id": "jgl6WuHGavpG"
      },
      "execution_count": 35,
      "outputs": [
        {
          "output_type": "execute_result",
          "data": {
            "text/plain": [
              "0    505\n",
              "1    487\n",
              "2    457\n",
              "Name: sentiment, dtype: int64"
            ]
          },
          "metadata": {},
          "execution_count": 35
        }
      ]
    },
    {
      "cell_type": "code",
      "source": [
        "test_df['sentiment'].value_counts()"
      ],
      "metadata": {
        "colab": {
          "base_uri": "https://localhost:8080/"
        },
        "outputId": "6718041c-3643-4c8a-ea4b-795a5adc55c9",
        "id": "m5rRoucLavpG"
      },
      "execution_count": 36,
      "outputs": [
        {
          "output_type": "execute_result",
          "data": {
            "text/plain": [
              "1    527\n",
              "0    480\n",
              "2    442\n",
              "Name: sentiment, dtype: int64"
            ]
          },
          "metadata": {},
          "execution_count": 36
        }
      ]
    },
    {
      "cell_type": "code",
      "source": [
        "train_df.to_csv('train_80.csv', encoding='utf8', index=None, header=True)\n",
        "val_df.to_csv('val_10.csv',  encoding='utf8', index=None, header=True)\n",
        "test_df.to_csv('test_10.csv',  encoding='utf8', index=None, header=True)"
      ],
      "metadata": {
        "id": "2grkSUyeavpG"
      },
      "execution_count": 37,
      "outputs": []
    }
  ]
}