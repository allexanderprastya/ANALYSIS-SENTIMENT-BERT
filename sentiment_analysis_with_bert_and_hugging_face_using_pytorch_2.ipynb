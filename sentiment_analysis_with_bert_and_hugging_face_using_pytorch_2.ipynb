{
  "cells": [
    {
      "cell_type": "markdown",
      "metadata": {
        "id": "view-in-github",
        "colab_type": "text"
      },
      "source": [
        "<a href=\"https://colab.research.google.com/github/allexanderprastya/PROJECT-TA-JURNAL/blob/main/sentiment_analysis_with_bert_and_hugging_face_using_pytorch_2.ipynb\" target=\"_parent\"><img src=\"https://colab.research.google.com/assets/colab-badge.svg\" alt=\"Open In Colab\"/></a>"
      ]
    },
    {
      "cell_type": "code",
      "source": [
        "!pip install transformers"
      ],
      "metadata": {
        "id": "_WBx0VYXpZD_",
        "colab": {
          "base_uri": "https://localhost:8080/"
        },
        "outputId": "37e087ca-5120-47e3-c613-c5766e55d17e"
      },
      "id": "_WBx0VYXpZD_",
      "execution_count": 1,
      "outputs": [
        {
          "output_type": "stream",
          "name": "stdout",
          "text": [
            "Looking in indexes: https://pypi.org/simple, https://us-python.pkg.dev/colab-wheels/public/simple/\n",
            "Collecting transformers\n",
            "  Downloading transformers-4.23.1-py3-none-any.whl (5.3 MB)\n",
            "\u001b[K     |████████████████████████████████| 5.3 MB 6.7 MB/s \n",
            "\u001b[?25hRequirement already satisfied: importlib-metadata in /usr/local/lib/python3.7/dist-packages (from transformers) (4.13.0)\n",
            "Requirement already satisfied: packaging>=20.0 in /usr/local/lib/python3.7/dist-packages (from transformers) (21.3)\n",
            "Requirement already satisfied: requests in /usr/local/lib/python3.7/dist-packages (from transformers) (2.23.0)\n",
            "Collecting tokenizers!=0.11.3,<0.14,>=0.11.1\n",
            "  Downloading tokenizers-0.13.1-cp37-cp37m-manylinux_2_17_x86_64.manylinux2014_x86_64.whl (7.6 MB)\n",
            "\u001b[K     |████████████████████████████████| 7.6 MB 51.4 MB/s \n",
            "\u001b[?25hRequirement already satisfied: tqdm>=4.27 in /usr/local/lib/python3.7/dist-packages (from transformers) (4.64.1)\n",
            "Requirement already satisfied: numpy>=1.17 in /usr/local/lib/python3.7/dist-packages (from transformers) (1.21.6)\n",
            "Requirement already satisfied: regex!=2019.12.17 in /usr/local/lib/python3.7/dist-packages (from transformers) (2022.6.2)\n",
            "Requirement already satisfied: filelock in /usr/local/lib/python3.7/dist-packages (from transformers) (3.8.0)\n",
            "Collecting huggingface-hub<1.0,>=0.10.0\n",
            "  Downloading huggingface_hub-0.10.1-py3-none-any.whl (163 kB)\n",
            "\u001b[K     |████████████████████████████████| 163 kB 64.7 MB/s \n",
            "\u001b[?25hRequirement already satisfied: pyyaml>=5.1 in /usr/local/lib/python3.7/dist-packages (from transformers) (6.0)\n",
            "Requirement already satisfied: typing-extensions>=3.7.4.3 in /usr/local/lib/python3.7/dist-packages (from huggingface-hub<1.0,>=0.10.0->transformers) (4.1.1)\n",
            "Requirement already satisfied: pyparsing!=3.0.5,>=2.0.2 in /usr/local/lib/python3.7/dist-packages (from packaging>=20.0->transformers) (3.0.9)\n",
            "Requirement already satisfied: zipp>=0.5 in /usr/local/lib/python3.7/dist-packages (from importlib-metadata->transformers) (3.9.0)\n",
            "Requirement already satisfied: chardet<4,>=3.0.2 in /usr/local/lib/python3.7/dist-packages (from requests->transformers) (3.0.4)\n",
            "Requirement already satisfied: urllib3!=1.25.0,!=1.25.1,<1.26,>=1.21.1 in /usr/local/lib/python3.7/dist-packages (from requests->transformers) (1.24.3)\n",
            "Requirement already satisfied: idna<3,>=2.5 in /usr/local/lib/python3.7/dist-packages (from requests->transformers) (2.10)\n",
            "Requirement already satisfied: certifi>=2017.4.17 in /usr/local/lib/python3.7/dist-packages (from requests->transformers) (2022.9.24)\n",
            "Installing collected packages: tokenizers, huggingface-hub, transformers\n",
            "Successfully installed huggingface-hub-0.10.1 tokenizers-0.13.1 transformers-4.23.1\n"
          ]
        }
      ]
    },
    {
      "cell_type": "markdown",
      "id": "541c4f07",
      "metadata": {
        "id": "541c4f07"
      },
      "source": [
        "# Google Play App Sentiment Analysis "
      ]
    },
    {
      "cell_type": "markdown",
      "id": "c37a44e3",
      "metadata": {
        "id": "c37a44e3"
      },
      "source": [
        "### Importing Required Libraries"
      ]
    },
    {
      "cell_type": "code",
      "execution_count": 2,
      "id": "c54b6fdc",
      "metadata": {
        "id": "c54b6fdc"
      },
      "outputs": [],
      "source": [
        "import pandas as pd\n",
        "import numpy as np\n",
        "import matplotlib.pyplot as plt\n",
        "import seaborn as sns\n",
        "sns.set(style='whitegrid',font_scale=1.2)\n",
        "sns.set_palette(sns.color_palette(\"rocket\"))\n",
        "\n",
        "from sklearn.model_selection import train_test_split\n",
        "from sklearn.metrics import confusion_matrix, classification_report\n",
        "\n",
        "import transformers\n",
        "from transformers import AutoModel, BertTokenizer, AdamW, get_linear_schedule_with_warmup\n",
        "import torch\n",
        "from torch import nn, optim\n",
        "from torch.utils.data import Dataset, DataLoader\n",
        "\n",
        "from collections import defaultdict\n",
        "\n",
        "# ignore the warnings\n",
        "import warnings\n",
        "warnings.filterwarnings('ignore')"
      ]
    },
    {
      "cell_type": "code",
      "execution_count": 3,
      "id": "9d62f5a6",
      "metadata": {
        "id": "9d62f5a6"
      },
      "outputs": [],
      "source": [
        "# Let's start by defining some key variables that will be used later on in the training/evaluation process\n",
        "RANDOM_SEED = 42\n",
        "BATCH_SIZE = 16 \n",
        "# Note that increasing the batch size reduces the training time significantly, but gives you lower accuracy.\n",
        "# Set seed for reproducibility.\n",
        "np.random.seed(RANDOM_SEED)\n",
        "torch.manual_seed(RANDOM_SEED)\n",
        "device = torch.device(\"cuda:0\" if torch.cuda.is_available() else \"cpu\")"
      ]
    },
    {
      "cell_type": "markdown",
      "id": "b20f6116",
      "metadata": {
        "id": "b20f6116"
      },
      "source": [
        "### Load the Dataset"
      ]
    },
    {
      "cell_type": "code",
      "execution_count": 4,
      "id": "94e84464",
      "metadata": {
        "colab": {
          "base_uri": "https://localhost:8080/",
          "height": 206
        },
        "id": "94e84464",
        "outputId": "b9ad54f1-cc26-4c59-fa05-1761a276866a"
      },
      "outputs": [
        {
          "output_type": "execute_result",
          "data": {
            "text/plain": [
              "                                             content     label\n",
              "0  bangkai turun knock langsung tolong tencent sa...  negative\n",
              "1              mangapa pubg loading login kuota beli   neutral\n",
              "2                   bug developer baik keluh bug lag  positive\n",
              "3                        berat putar enak main bagus  positive\n",
              "4  game bagus sayang sinyal turun gameplay sulit ...  negative"
            ],
            "text/html": [
              "\n",
              "  <div id=\"df-655464d2-2ac9-4eb0-8f78-a7ec8236510d\">\n",
              "    <div class=\"colab-df-container\">\n",
              "      <div>\n",
              "<style scoped>\n",
              "    .dataframe tbody tr th:only-of-type {\n",
              "        vertical-align: middle;\n",
              "    }\n",
              "\n",
              "    .dataframe tbody tr th {\n",
              "        vertical-align: top;\n",
              "    }\n",
              "\n",
              "    .dataframe thead th {\n",
              "        text-align: right;\n",
              "    }\n",
              "</style>\n",
              "<table border=\"1\" class=\"dataframe\">\n",
              "  <thead>\n",
              "    <tr style=\"text-align: right;\">\n",
              "      <th></th>\n",
              "      <th>content</th>\n",
              "      <th>label</th>\n",
              "    </tr>\n",
              "  </thead>\n",
              "  <tbody>\n",
              "    <tr>\n",
              "      <th>0</th>\n",
              "      <td>bangkai turun knock langsung tolong tencent sa...</td>\n",
              "      <td>negative</td>\n",
              "    </tr>\n",
              "    <tr>\n",
              "      <th>1</th>\n",
              "      <td>mangapa pubg loading login kuota beli</td>\n",
              "      <td>neutral</td>\n",
              "    </tr>\n",
              "    <tr>\n",
              "      <th>2</th>\n",
              "      <td>bug developer baik keluh bug lag</td>\n",
              "      <td>positive</td>\n",
              "    </tr>\n",
              "    <tr>\n",
              "      <th>3</th>\n",
              "      <td>berat putar enak main bagus</td>\n",
              "      <td>positive</td>\n",
              "    </tr>\n",
              "    <tr>\n",
              "      <th>4</th>\n",
              "      <td>game bagus sayang sinyal turun gameplay sulit ...</td>\n",
              "      <td>negative</td>\n",
              "    </tr>\n",
              "  </tbody>\n",
              "</table>\n",
              "</div>\n",
              "      <button class=\"colab-df-convert\" onclick=\"convertToInteractive('df-655464d2-2ac9-4eb0-8f78-a7ec8236510d')\"\n",
              "              title=\"Convert this dataframe to an interactive table.\"\n",
              "              style=\"display:none;\">\n",
              "        \n",
              "  <svg xmlns=\"http://www.w3.org/2000/svg\" height=\"24px\"viewBox=\"0 0 24 24\"\n",
              "       width=\"24px\">\n",
              "    <path d=\"M0 0h24v24H0V0z\" fill=\"none\"/>\n",
              "    <path d=\"M18.56 5.44l.94 2.06.94-2.06 2.06-.94-2.06-.94-.94-2.06-.94 2.06-2.06.94zm-11 1L8.5 8.5l.94-2.06 2.06-.94-2.06-.94L8.5 2.5l-.94 2.06-2.06.94zm10 10l.94 2.06.94-2.06 2.06-.94-2.06-.94-.94-2.06-.94 2.06-2.06.94z\"/><path d=\"M17.41 7.96l-1.37-1.37c-.4-.4-.92-.59-1.43-.59-.52 0-1.04.2-1.43.59L10.3 9.45l-7.72 7.72c-.78.78-.78 2.05 0 2.83L4 21.41c.39.39.9.59 1.41.59.51 0 1.02-.2 1.41-.59l7.78-7.78 2.81-2.81c.8-.78.8-2.07 0-2.86zM5.41 20L4 18.59l7.72-7.72 1.47 1.35L5.41 20z\"/>\n",
              "  </svg>\n",
              "      </button>\n",
              "      \n",
              "  <style>\n",
              "    .colab-df-container {\n",
              "      display:flex;\n",
              "      flex-wrap:wrap;\n",
              "      gap: 12px;\n",
              "    }\n",
              "\n",
              "    .colab-df-convert {\n",
              "      background-color: #E8F0FE;\n",
              "      border: none;\n",
              "      border-radius: 50%;\n",
              "      cursor: pointer;\n",
              "      display: none;\n",
              "      fill: #1967D2;\n",
              "      height: 32px;\n",
              "      padding: 0 0 0 0;\n",
              "      width: 32px;\n",
              "    }\n",
              "\n",
              "    .colab-df-convert:hover {\n",
              "      background-color: #E2EBFA;\n",
              "      box-shadow: 0px 1px 2px rgba(60, 64, 67, 0.3), 0px 1px 3px 1px rgba(60, 64, 67, 0.15);\n",
              "      fill: #174EA6;\n",
              "    }\n",
              "\n",
              "    [theme=dark] .colab-df-convert {\n",
              "      background-color: #3B4455;\n",
              "      fill: #D2E3FC;\n",
              "    }\n",
              "\n",
              "    [theme=dark] .colab-df-convert:hover {\n",
              "      background-color: #434B5C;\n",
              "      box-shadow: 0px 1px 3px 1px rgba(0, 0, 0, 0.15);\n",
              "      filter: drop-shadow(0px 1px 2px rgba(0, 0, 0, 0.3));\n",
              "      fill: #FFFFFF;\n",
              "    }\n",
              "  </style>\n",
              "\n",
              "      <script>\n",
              "        const buttonEl =\n",
              "          document.querySelector('#df-655464d2-2ac9-4eb0-8f78-a7ec8236510d button.colab-df-convert');\n",
              "        buttonEl.style.display =\n",
              "          google.colab.kernel.accessAllowed ? 'block' : 'none';\n",
              "\n",
              "        async function convertToInteractive(key) {\n",
              "          const element = document.querySelector('#df-655464d2-2ac9-4eb0-8f78-a7ec8236510d');\n",
              "          const dataTable =\n",
              "            await google.colab.kernel.invokeFunction('convertToInteractive',\n",
              "                                                     [key], {});\n",
              "          if (!dataTable) return;\n",
              "\n",
              "          const docLinkHtml = 'Like what you see? Visit the ' +\n",
              "            '<a target=\"_blank\" href=https://colab.research.google.com/notebooks/data_table.ipynb>data table notebook</a>'\n",
              "            + ' to learn more about interactive tables.';\n",
              "          element.innerHTML = '';\n",
              "          dataTable['output_type'] = 'display_data';\n",
              "          await google.colab.output.renderOutput(dataTable, element);\n",
              "          const docLink = document.createElement('div');\n",
              "          docLink.innerHTML = docLinkHtml;\n",
              "          element.appendChild(docLink);\n",
              "        }\n",
              "      </script>\n",
              "    </div>\n",
              "  </div>\n",
              "  "
            ]
          },
          "metadata": {},
          "execution_count": 4
        }
      ],
      "source": [
        "df_reviews = pd.read_csv(\"/content/labelTextBlob_fix.csv\")\n",
        "df_reviews.head()"
      ]
    },
    {
      "cell_type": "code",
      "execution_count": 5,
      "id": "b83da6f8",
      "metadata": {
        "colab": {
          "base_uri": "https://localhost:8080/"
        },
        "id": "b83da6f8",
        "outputId": "b3aad722-ca4d-4a4e-9c4c-f1d72c411b6e"
      },
      "outputs": [
        {
          "output_type": "execute_result",
          "data": {
            "text/plain": [
              "(14341, 2)"
            ]
          },
          "metadata": {},
          "execution_count": 5
        }
      ],
      "source": [
        "# lets check the shape of reviews dataframe\n",
        "df_reviews.shape"
      ]
    },
    {
      "cell_type": "markdown",
      "id": "2ac902e5",
      "metadata": {
        "id": "2ac902e5"
      },
      "source": [
        "We have about 15k examples. Let's check for missing values-"
      ]
    },
    {
      "cell_type": "code",
      "execution_count": 6,
      "id": "be36352f",
      "metadata": {
        "colab": {
          "base_uri": "https://localhost:8080/"
        },
        "id": "be36352f",
        "outputId": "db3d7841-066e-4824-9332-5b3e9e198154"
      },
      "outputs": [
        {
          "output_type": "execute_result",
          "data": {
            "text/plain": [
              "content    0\n",
              "label      0\n",
              "dtype: int64"
            ]
          },
          "metadata": {},
          "execution_count": 6
        }
      ],
      "source": [
        "df_reviews.isnull().sum()"
      ]
    },
    {
      "cell_type": "markdown",
      "id": "a4b2fe98",
      "metadata": {
        "id": "a4b2fe98"
      },
      "source": [
        "**Great, no missing values in the score and review texts! Do we have class imbalance?**"
      ]
    },
    {
      "cell_type": "code",
      "execution_count": 7,
      "id": "8d8f22dc",
      "metadata": {
        "id": "8d8f22dc"
      },
      "outputs": [],
      "source": [
        "# helper function to draw percentage above each bar\n",
        "def draw_percentage(ax,total=float(len(df_reviews))):\n",
        "    for p in ax.patches:\n",
        "        percentage = '{:.1f}%'.format(100 * p.get_height()/total)\n",
        "        x = p.get_x() + p.get_width() / 2.\n",
        "        y = p.get_height()\n",
        "        ax.annotate(percentage, (x, y),ha='center',va='bottom')"
      ]
    },
    {
      "cell_type": "markdown",
      "id": "3f4836d8",
      "metadata": {
        "id": "3f4836d8"
      },
      "source": [
        "**That's hugely imbalanced, but it's okay. We're going to convert the dataset into negative, neutral and positive sentiment.**"
      ]
    },
    {
      "cell_type": "code",
      "execution_count": 8,
      "id": "b3f7bb9b",
      "metadata": {
        "id": "b3f7bb9b"
      },
      "outputs": [],
      "source": [
        "def to_sentiment(rating):\n",
        "    if rating <= \"negative\":\n",
        "        return 0\n",
        "    elif rating == \"neutral\":\n",
        "        return 1\n",
        "    else:\n",
        "        return 2\n",
        "    \n",
        "df_reviews['sentiment'] = df_reviews.label.apply(to_sentiment)"
      ]
    },
    {
      "cell_type": "code",
      "execution_count": 9,
      "id": "98336e65",
      "metadata": {
        "colab": {
          "base_uri": "https://localhost:8080/",
          "height": 419
        },
        "id": "98336e65",
        "outputId": "22927c45-0e2d-487e-8985-da2d462ff057"
      },
      "outputs": [
        {
          "output_type": "display_data",
          "data": {
            "text/plain": [
              "<Figure size 576x432 with 1 Axes>"
            ],
            "image/png": "[encoded data removed]"
          },
          "metadata": {}
        }
      ],
      "source": [
        "plt.figure(figsize = (8,6))\n",
        "total = float(len(df_reviews))\n",
        "ax = sns.countplot(x = 'sentiment',data=df_reviews)\n",
        "\n",
        "\n",
        "class_names = ['negative', 'neutral', 'positive']\n",
        "ax.set_xticklabels(class_names)\n",
        "plt.title('Count Plot of Review Score', fontsize=20)\n",
        "plt.xlabel('review sentiment')\n",
        "draw_percentage(ax)\n",
        "\n",
        "plt.show()"
      ]
    },
    {
      "cell_type": "code",
      "source": [
        "df_reviews"
      ],
      "metadata": {
        "colab": {
          "base_uri": "https://localhost:8080/",
          "height": 424
        },
        "id": "igFD1Uvdro7O",
        "outputId": "a075c787-6a98-49cc-858a-be75310b9b2a"
      },
      "id": "igFD1Uvdro7O",
      "execution_count": 11,
      "outputs": [
        {
          "output_type": "execute_result",
          "data": {
            "text/plain": [
              "                                                 content     label  sentiment\n",
              "0      bangkai turun knock langsung tolong tencent sa...  negative          0\n",
              "1                  mangapa pubg loading login kuota beli   neutral          1\n",
              "2                       bug developer baik keluh bug lag  positive          2\n",
              "3                            berat putar enak main bagus  positive          2\n",
              "4      game bagus sayang sinyal turun gameplay sulit ...  negative          0\n",
              "...                                                  ...       ...        ...\n",
              "14336  game grafis buruk high definition burik anjing...  negative          0\n",
              "14337                                             lambat  negative          0\n",
              "14338                                       bagus banget  positive          2\n",
              "14339  game seru keren high definition bug pakai memo...  positive          2\n",
              "14340                                        gagal login  negative          0\n",
              "\n",
              "[14341 rows x 3 columns]"
            ],
            "text/html": [
              "\n",
              "  <div id=\"df-a1c2fab9-4569-4048-8729-d7c540b53305\">\n",
              "    <div class=\"colab-df-container\">\n",
              "      <div>\n",
              "<style scoped>\n",
              "    .dataframe tbody tr th:only-of-type {\n",
              "        vertical-align: middle;\n",
              "    }\n",
              "\n",
              "    .dataframe tbody tr th {\n",
              "        vertical-align: top;\n",
              "    }\n",
              "\n",
              "    .dataframe thead th {\n",
              "        text-align: right;\n",
              "    }\n",
              "</style>\n",
              "<table border=\"1\" class=\"dataframe\">\n",
              "  <thead>\n",
              "    <tr style=\"text-align: right;\">\n",
              "      <th></th>\n",
              "      <th>content</th>\n",
              "      <th>label</th>\n",
              "      <th>sentiment</th>\n",
              "    </tr>\n",
              "  </thead>\n",
              "  <tbody>\n",
              "    <tr>\n",
              "      <th>0</th>\n",
              "      <td>bangkai turun knock langsung tolong tencent sa...</td>\n",
              "      <td>negative</td>\n",
              "      <td>0</td>\n",
              "    </tr>\n",
              "    <tr>\n",
              "      <th>1</th>\n",
              "      <td>mangapa pubg loading login kuota beli</td>\n",
              "      <td>neutral</td>\n",
              "      <td>1</td>\n",
              "    </tr>\n",
              "    <tr>\n",
              "      <th>2</th>\n",
              "      <td>bug developer baik keluh bug lag</td>\n",
              "      <td>positive</td>\n",
              "      <td>2</td>\n",
              "    </tr>\n",
              "    <tr>\n",
              "      <th>3</th>\n",
              "      <td>berat putar enak main bagus</td>\n",
              "      <td>positive</td>\n",
              "      <td>2</td>\n",
              "    </tr>\n",
              "    <tr>\n",
              "      <th>4</th>\n",
              "      <td>game bagus sayang sinyal turun gameplay sulit ...</td>\n",
              "      <td>negative</td>\n",
              "      <td>0</td>\n",
              "    </tr>\n",
              "    <tr>\n",
              "      <th>...</th>\n",
              "      <td>...</td>\n",
              "      <td>...</td>\n",
              "      <td>...</td>\n",
              "    </tr>\n",
              "    <tr>\n",
              "      <th>14336</th>\n",
              "      <td>game grafis buruk high definition burik anjing...</td>\n",
              "      <td>negative</td>\n",
              "      <td>0</td>\n",
              "    </tr>\n",
              "    <tr>\n",
              "      <th>14337</th>\n",
              "      <td>lambat</td>\n",
              "      <td>negative</td>\n",
              "      <td>0</td>\n",
              "    </tr>\n",
              "    <tr>\n",
              "      <th>14338</th>\n",
              "      <td>bagus banget</td>\n",
              "      <td>positive</td>\n",
              "      <td>2</td>\n",
              "    </tr>\n",
              "    <tr>\n",
              "      <th>14339</th>\n",
              "      <td>game seru keren high definition bug pakai memo...</td>\n",
              "      <td>positive</td>\n",
              "      <td>2</td>\n",
              "    </tr>\n",
              "    <tr>\n",
              "      <th>14340</th>\n",
              "      <td>gagal login</td>\n",
              "      <td>negative</td>\n",
              "      <td>0</td>\n",
              "    </tr>\n",
              "  </tbody>\n",
              "</table>\n",
              "<p>14341 rows × 3 columns</p>\n",
              "</div>\n",
              "      <button class=\"colab-df-convert\" onclick=\"convertToInteractive('df-a1c2fab9-4569-4048-8729-d7c540b53305')\"\n",
              "              title=\"Convert this dataframe to an interactive table.\"\n",
              "              style=\"display:none;\">\n",
              "        \n",
              "  <svg xmlns=\"http://www.w3.org/2000/svg\" height=\"24px\"viewBox=\"0 0 24 24\"\n",
              "       width=\"24px\">\n",
              "    <path d=\"M0 0h24v24H0V0z\" fill=\"none\"/>\n",
              "    <path d=\"M18.56 5.44l.94 2.06.94-2.06 2.06-.94-2.06-.94-.94-2.06-.94 2.06-2.06.94zm-11 1L8.5 8.5l.94-2.06 2.06-.94-2.06-.94L8.5 2.5l-.94 2.06-2.06.94zm10 10l.94 2.06.94-2.06 2.06-.94-2.06-.94-.94-2.06-.94 2.06-2.06.94z\"/><path d=\"M17.41 7.96l-1.37-1.37c-.4-.4-.92-.59-1.43-.59-.52 0-1.04.2-1.43.59L10.3 9.45l-7.72 7.72c-.78.78-.78 2.05 0 2.83L4 21.41c.39.39.9.59 1.41.59.51 0 1.02-.2 1.41-.59l7.78-7.78 2.81-2.81c.8-.78.8-2.07 0-2.86zM5.41 20L4 18.59l7.72-7.72 1.47 1.35L5.41 20z\"/>\n",
              "  </svg>\n",
              "      </button>\n",
              "      \n",
              "  <style>\n",
              "    .colab-df-container {\n",
              "      display:flex;\n",
              "      flex-wrap:wrap;\n",
              "      gap: 12px;\n",
              "    }\n",
              "\n",
              "    .colab-df-convert {\n",
              "      background-color: #E8F0FE;\n",
              "      border: none;\n",
              "      border-radius: 50%;\n",
              "      cursor: pointer;\n",
              "      display: none;\n",
              "      fill: #1967D2;\n",
              "      height: 32px;\n",
              "      padding: 0 0 0 0;\n",
              "      width: 32px;\n",
              "    }\n",
              "\n",
              "    .colab-df-convert:hover {\n",
              "      background-color: #E2EBFA;\n",
              "      box-shadow: 0px 1px 2px rgba(60, 64, 67, 0.3), 0px 1px 3px 1px rgba(60, 64, 67, 0.15);\n",
              "      fill: #174EA6;\n",
              "    }\n",
              "\n",
              "    [theme=dark] .colab-df-convert {\n",
              "      background-color: #3B4455;\n",
              "      fill: #D2E3FC;\n",
              "    }\n",
              "\n",
              "    [theme=dark] .colab-df-convert:hover {\n",
              "      background-color: #434B5C;\n",
              "      box-shadow: 0px 1px 3px 1px rgba(0, 0, 0, 0.15);\n",
              "      filter: drop-shadow(0px 1px 2px rgba(0, 0, 0, 0.3));\n",
              "      fill: #FFFFFF;\n",
              "    }\n",
              "  </style>\n",
              "\n",
              "      <script>\n",
              "        const buttonEl =\n",
              "          document.querySelector('#df-a1c2fab9-4569-4048-8729-d7c540b53305 button.colab-df-convert');\n",
              "        buttonEl.style.display =\n",
              "          google.colab.kernel.accessAllowed ? 'block' : 'none';\n",
              "\n",
              "        async function convertToInteractive(key) {\n",
              "          const element = document.querySelector('#df-a1c2fab9-4569-4048-8729-d7c540b53305');\n",
              "          const dataTable =\n",
              "            await google.colab.kernel.invokeFunction('convertToInteractive',\n",
              "                                                     [key], {});\n",
              "          if (!dataTable) return;\n",
              "\n",
              "          const docLinkHtml = 'Like what you see? Visit the ' +\n",
              "            '<a target=\"_blank\" href=https://colab.research.google.com/notebooks/data_table.ipynb>data table notebook</a>'\n",
              "            + ' to learn more about interactive tables.';\n",
              "          element.innerHTML = '';\n",
              "          dataTable['output_type'] = 'display_data';\n",
              "          await google.colab.output.renderOutput(dataTable, element);\n",
              "          const docLink = document.createElement('div');\n",
              "          docLink.innerHTML = docLinkHtml;\n",
              "          element.appendChild(docLink);\n",
              "        }\n",
              "      </script>\n",
              "    </div>\n",
              "  </div>\n",
              "  "
            ]
          },
          "metadata": {},
          "execution_count": 11
        }
      ]
    },
    {
      "cell_type": "markdown",
      "id": "f2c6e5e2",
      "metadata": {
        "id": "f2c6e5e2"
      },
      "source": [
        "### Data Preprocessing"
      ]
    },
    {
      "cell_type": "code",
      "execution_count": 12,
      "id": "8256fd89",
      "metadata": {
        "id": "8256fd89",
        "colab": {
          "base_uri": "https://localhost:8080/",
          "height": 145,
          "referenced_widgets": [
            "34870fb4f52d42858e971927e9734e20",
            "272ee24945134991bc1543b226050d5f",
            "b9264d058d1344ba8f0170b43ad0883c",
            "4b2fae8f28ca4c1c9e838a0403f68c9c",
            "c616949223fa4b26995e9e30cc0f81b1",
            "9279faf1aa904cc9bd63ab8873f44840",
            "d5019ea52eee4c21815a855a47fe41c4",
            "1b6f446200b4480aa7bbc69111a5bfa8",
            "c972076d53ae4f4d8a88f2a7ab933890",
            "6a7d39a35c3e477e86814981ae479f9a",
            "3f6b18e3032f4b2d9517b5659f714d80",
            "ed51611c7dda421689fd7f1c3e7a1127",
            "98d1a41d615c44e798793b6d74b00fc2",
            "5ce5c59c4a62433a9e1b1efd3adb5a88",
            "6143e7a18bf541deb73f6808bd884df2",
            "7b2b5a7681054b36915fc14ac3a77883",
            "8fab9019b4894bd79c07940c5c0bb37d",
            "0d5a14a65ed94d45aede2eeb43c6b30a",
            "61b95fb499b2487a8b769b1a6c054e0a",
            "12b0f6289b45467599a87331a1a54d4d",
            "88ff67af42bc46b9bb2e26addff30553",
            "ec3613cc4fc543d8a02484bb1466667e",
            "aa519eb408cd42fe907c68331c84de1c",
            "4014e15254e44bfea23d7a3a57dce2f9",
            "369426efd8f444dd87656e3d3abc9c8f",
            "6387c5a07ff7410eb38c909644561501",
            "d81e7a733efa4075a48122350411131f",
            "fa5350a056b9408e8de71b50e758b8d7",
            "c2fd46b1ed6d41ec98ea2424b075ce94",
            "f5e236407e264acc850ad07a4162cae5",
            "b2b1fdd648d544428f7c0fb65849d14f",
            "c90fb476f20e4a7891e2db165afc2566",
            "d5b77e61d35e47b38bf912be72d12cf1",
            "3c266e78f5734b739812964e8edb84cb",
            "a0e4dc76429d449ea45a9a8fc0cc28fb",
            "9932bc3154464ceb99ba5742947d35f1",
            "9c8e6c6865d145579a468f59af74c496",
            "8f7ae4ba8b2e4e8ebde9e6552ac34dc0",
            "f630e32477764ec6bb18d3466f2b5e1f",
            "75fbed1ec1aa4e5dac2a40f78cda54b9",
            "53530cab123e410faa668ee6b8d0c6f8",
            "58af8a31dbe34e26b854a1649a904291",
            "c10540906c794d13b17b79a0bb9de4d5",
            "b31988faf63d44cc80969829a037b590"
          ]
        },
        "outputId": "5378a8a1-96b0-4110-a383-0281f9008f90"
      },
      "outputs": [
        {
          "output_type": "display_data",
          "data": {
            "text/plain": [
              "Downloading:   0%|          | 0.00/229k [00:00<?, ?B/s]"
            ],
            "application/vnd.jupyter.widget-view+json": {
              "version_major": 2,
              "version_minor": 0,
              "model_id": "34870fb4f52d42858e971927e9734e20"
            }
          },
          "metadata": {}
        },
        {
          "output_type": "display_data",
          "data": {
            "text/plain": [
              "Downloading:   0%|          | 0.00/112 [00:00<?, ?B/s]"
            ],
            "application/vnd.jupyter.widget-view+json": {
              "version_major": 2,
              "version_minor": 0,
              "model_id": "ed51611c7dda421689fd7f1c3e7a1127"
            }
          },
          "metadata": {}
        },
        {
          "output_type": "display_data",
          "data": {
            "text/plain": [
              "Downloading:   0%|          | 0.00/2.00 [00:00<?, ?B/s]"
            ],
            "application/vnd.jupyter.widget-view+json": {
              "version_major": 2,
              "version_minor": 0,
              "model_id": "aa519eb408cd42fe907c68331c84de1c"
            }
          },
          "metadata": {}
        },
        {
          "output_type": "display_data",
          "data": {
            "text/plain": [
              "Downloading:   0%|          | 0.00/1.53k [00:00<?, ?B/s]"
            ],
            "application/vnd.jupyter.widget-view+json": {
              "version_major": 2,
              "version_minor": 0,
              "model_id": "3c266e78f5734b739812964e8edb84cb"
            }
          },
          "metadata": {}
        }
      ],
      "source": [
        "# Saya menggunakan versi BERT tokenizer dari Indobenchmark (https://huggingface.co/indobenchmark/indobert-base-p1)\n",
        "PRE_TRAINED_MODEL_NAME = 'indobenchmark/indobert-base-p1'\n",
        "\n",
        "# Saya memuat BertTokenizer yang telah dilatih sebelumnya\n",
        "tokenizer = BertTokenizer.from_pretrained(PRE_TRAINED_MODEL_NAME)"
      ]
    },
    {
      "cell_type": "code",
      "execution_count": 13,
      "id": "ef93815d",
      "metadata": {
        "colab": {
          "base_uri": "https://localhost:8080/"
        },
        "id": "ef93815d",
        "outputId": "5ff1ba3c-0e51-4800-b177-44962278dd3e"
      },
      "outputs": [
        {
          "output_type": "stream",
          "name": "stdout",
          "text": [
            " Sentence: game bagus sayang sinyal turun gameplay sulit main mati frame mati sulit download peta update kouta boros berat game\n",
            "   Tokens: ['game', 'bagus', 'sayang', 'sinyal', 'turun', 'game', '##play', 'sulit', 'main', 'mati', 'frame', 'mati', 'sulit', 'download', 'peta', 'update', 'ko', '##uta', 'boros', 'berat', 'game']\n",
            "Token IDs: [2010, 1305, 3067, 5711, 2061, 2010, 8907, 1899, 2724, 1861, 11795, 1861, 1899, 1974, 2577, 4398, 1455, 1257, 15516, 1396, 2010]\n"
          ]
        }
      ],
      "source": [
        "sample_txt = \"game bagus sayang sinyal turun gameplay sulit main mati frame mati sulit download peta update kouta boros berat game\"\n",
        "\n",
        "tokens = tokenizer.tokenize(sample_txt)\n",
        "token_ids = tokenizer.convert_tokens_to_ids(tokens)\n",
        "\n",
        "print(f' Sentence: {sample_txt}')\n",
        "print(f'   Tokens: {tokens}')\n",
        "print(f'Token IDs: {token_ids}')"
      ]
    },
    {
      "cell_type": "code",
      "execution_count": 14,
      "id": "0f65f22b",
      "metadata": {
        "colab": {
          "base_uri": "https://localhost:8080/"
        },
        "id": "0f65f22b",
        "outputId": "f12cdf7d-fe96-4e44-ba71-c52b0d502061"
      },
      "outputs": [
        {
          "output_type": "execute_result",
          "data": {
            "text/plain": [
              "dict_keys(['input_ids', 'attention_mask'])"
            ]
          },
          "metadata": {},
          "execution_count": 14
        }
      ],
      "source": [
        "# pengkodean kalimat\n",
        "encoding = tokenizer.encode_plus(\n",
        "    sample_txt,\n",
        "    padding='max_length', # Pad kalimat dengan panjang maksimum '[PAD]'.\n",
        "    truncation=True,  #Potong kalimat menjadi panjang maksimum.\n",
        "    max_length=32,\n",
        "    add_special_tokens=True, # menambahkan '[CLS]' dan '[SEP]'\n",
        "    return_token_type_ids=False,\n",
        "    return_attention_mask=True, # Kembali attention mask\n",
        "    return_tensors='pt',  # Kembali torch objects\n",
        "    )\n",
        "\n",
        "encoding.keys()"
      ]
    },
    {
      "cell_type": "markdown",
      "id": "990edb63",
      "metadata": {
        "id": "990edb63"
      },
      "source": [
        "ID token sekarang disimpan di tensorflow tensor dan diisi dengan panjang 32."
      ]
    },
    {
      "cell_type": "code",
      "execution_count": 15,
      "id": "6c6b1960",
      "metadata": {
        "colab": {
          "base_uri": "https://localhost:8080/"
        },
        "id": "6c6b1960",
        "outputId": "2dace5f0-d1dd-4144-f345-158764fa7460"
      },
      "outputs": [
        {
          "output_type": "stream",
          "name": "stdout",
          "text": [
            "32\n",
            "tensor([    2,  2010,  1305,  3067,  5711,  2061,  2010,  8907,  1899,  2724,\n",
            "         1861, 11795,  1861,  1899,  1974,  2577,  4398,  1455,  1257, 15516,\n",
            "         1396,  2010,     3,     0,     0,     0,     0,     0,     0,     0,\n",
            "            0,     0])\n"
          ]
        }
      ],
      "source": [
        "print(len(encoding['input_ids'][0]))\n",
        "print(encoding['input_ids'][0])"
      ]
    },
    {
      "cell_type": "code",
      "execution_count": 16,
      "id": "b4da3391",
      "metadata": {
        "colab": {
          "base_uri": "https://localhost:8080/"
        },
        "id": "b4da3391",
        "outputId": "a7195ca0-7732-4c86-ff7b-92a47ccd7940"
      },
      "outputs": [
        {
          "output_type": "stream",
          "name": "stdout",
          "text": [
            "32\n",
            "tensor([[1, 1, 1, 1, 1, 1, 1, 1, 1, 1, 1, 1, 1, 1, 1, 1, 1, 1, 1, 1, 1, 1, 1, 0,\n",
            "         0, 0, 0, 0, 0, 0, 0, 0]])\n"
          ]
        }
      ],
      "source": [
        "# Attention mask memiliki panjang yang sama\n",
        "print(len(encoding['attention_mask'][0]))\n",
        "print(encoding['attention_mask'])"
      ]
    },
    {
      "cell_type": "code",
      "execution_count": 17,
      "id": "1f0ee926",
      "metadata": {
        "colab": {
          "base_uri": "https://localhost:8080/"
        },
        "id": "1f0ee926",
        "outputId": "ae93090f-d4af-4f0c-c745-12e2b63a123c"
      },
      "outputs": [
        {
          "output_type": "execute_result",
          "data": {
            "text/plain": [
              "['[CLS]',\n",
              " 'game',\n",
              " 'bagus',\n",
              " 'sayang',\n",
              " 'sinyal',\n",
              " 'turun',\n",
              " 'game',\n",
              " '##play',\n",
              " 'sulit',\n",
              " 'main',\n",
              " 'mati',\n",
              " 'frame',\n",
              " 'mati',\n",
              " 'sulit',\n",
              " 'download',\n",
              " 'peta',\n",
              " 'update',\n",
              " 'ko',\n",
              " '##uta',\n",
              " 'boros',\n",
              " 'berat',\n",
              " 'game',\n",
              " '[SEP]',\n",
              " '[PAD]',\n",
              " '[PAD]',\n",
              " '[PAD]',\n",
              " '[PAD]',\n",
              " '[PAD]',\n",
              " '[PAD]',\n",
              " '[PAD]',\n",
              " '[PAD]',\n",
              " '[PAD]']"
            ]
          },
          "metadata": {},
          "execution_count": 17
        }
      ],
      "source": [
        "#membalikkan tokenisasi untuk melihat token khusus\n",
        "tokenizer.convert_ids_to_tokens(encoding['input_ids'][0])"
      ]
    },
    {
      "cell_type": "markdown",
      "id": "7b52a736",
      "metadata": {
        "id": "7b52a736"
      },
      "source": [
        "Memilih Panjang Urutan"
      ]
    },
    {
      "cell_type": "code",
      "execution_count": 18,
      "id": "8224788f",
      "metadata": {
        "id": "8224788f"
      },
      "outputs": [],
      "source": [
        "#Saya akan menggunakan strategi sederhana untuk memilih panjang maksimal yaitu simpan panjang token setiap review.\n",
        "token_lens = []\n",
        "for text in df_reviews.content:\n",
        "    tokens = tokenizer.encode(text, truncation=True,max_length=512)\n",
        "    token_lens.append(len(tokens))"
      ]
    },
    {
      "cell_type": "code",
      "execution_count": 19,
      "id": "4280914a",
      "metadata": {
        "colab": {
          "base_uri": "https://localhost:8080/",
          "height": 398
        },
        "id": "4280914a",
        "outputId": "747ede0b-be5d-4a27-c2fd-e485595841f2"
      },
      "outputs": [
        {
          "output_type": "display_data",
          "data": {
            "text/plain": [
              "<Figure size 576x432 with 1 Axes>"
            ],
            "image/png": "[encoded data removed]"
          },
          "metadata": {}
        }
      ],
      "source": [
        "plt.figure(figsize = (8,6))\n",
        "sns.histplot(token_lens,kde=True)\n",
        "plt.xlim([0, 100])\n",
        "plt.xlabel('Token count')\n",
        "plt.show()"
      ]
    },
    {
      "cell_type": "markdown",
      "id": "2c302eda",
      "metadata": {
        "id": "2c302eda"
      },
      "source": [
        "Sebagian besar ulasan tampaknya berisi kurang dari 80 token, tetapi saya menggunakan panjang maksimum 100 untuk amannya."
      ]
    },
    {
      "cell_type": "code",
      "execution_count": 20,
      "id": "b78c4cd2",
      "metadata": {
        "id": "b78c4cd2"
      },
      "outputs": [],
      "source": [
        "MAX_LEN = 100"
      ]
    },
    {
      "cell_type": "markdown",
      "source": [
        "Sekarang setelah data telah diproses sebelumnya, saya dapat mengubahnya menjadi tensor PyTorch sehingga dapat meneruskannya ke model."
      ],
      "metadata": {
        "id": "SXXJfaNi98gv"
      },
      "id": "SXXJfaNi98gv"
    },
    {
      "cell_type": "code",
      "execution_count": 21,
      "id": "9ed4d8e2",
      "metadata": {
        "id": "9ed4d8e2"
      },
      "outputs": [],
      "source": [
        "# We have all building blocks required to create a torch dataset.\n",
        "class dataset(Dataset):\n",
        "    \n",
        "    def __init__(self, reviews, targets, tokenizer, max_len):\n",
        "        \n",
        "        self.reviews = reviews\n",
        "        self.targets = targets\n",
        "        self.tokenizer = tokenizer\n",
        "        self.max_len = max_len\n",
        "        \n",
        "    def __len__(self):\n",
        "        return len(self.reviews)\n",
        "    \n",
        "    def __getitem__(self, item):\n",
        "        # langkah 1: dapatkan review dan target\n",
        "        review = str(self.reviews[item])\n",
        "        target = self.targets[item]\n",
        "        # langkah 2: menggunakan tokenizer untuk mengkodekan kalimat (termasuk padding/cutting ke panjang maksimal)\n",
        "        encoding = self.tokenizer.encode_plus(\n",
        "            review,\n",
        "            add_special_tokens=True, # menambahkan '[CLS]' dan '[SEP]'\n",
        "            padding='max_length',  # Padding kalimat menjadi panjang maksimum.\n",
        "            truncation=True,    # Potong kalimat menjadi panjang maksimum.\n",
        "            max_length=self.max_len,\n",
        "            return_token_type_ids=False,\n",
        "            return_attention_mask=True, # Kembali attention mask\n",
        "            return_tensors='pt', # Kembali  torch objects/tensor\n",
        "        )\n",
        "        return {\n",
        "            'review_text': review,\n",
        "            'input_ids': encoding['input_ids'].flatten(), # Tensor ID token untuk dimasukkan ke dalam model\n",
        "            'attention_mask': encoding['attention_mask'].flatten(),  #Tensor Index yang menentukan token mana yang harus diperhatikan oleh model\n",
        "            'targets': torch.tensor(target, dtype=torch.long)\n",
        "            }"
      ]
    },
    {
      "cell_type": "markdown",
      "id": "106442ff",
      "metadata": {
        "id": "106442ff"
      },
      "source": [
        "Tokenizer melakukan sebagian besar pekerjaan berat untuk model dan Saya mengembalikan teks ulasan, sehingga akan lebih mudah untuk mengevaluasi prediksi model."
      ]
    },
    {
      "cell_type": "code",
      "execution_count": 22,
      "id": "5f0efd4f",
      "metadata": {
        "colab": {
          "base_uri": "https://localhost:8080/"
        },
        "id": "5f0efd4f",
        "outputId": "0cae2a6b-3dc6-450b-ce6d-c778323e5d60"
      },
      "outputs": [
        {
          "output_type": "stream",
          "name": "stdout",
          "text": [
            "Train Data Size (12906, 3)\n",
            "Validation Data Size (717, 3)\n",
            "Test Data Size (718, 3)\n"
          ]
        }
      ],
      "source": [
        "#pisahkan data train, validation dan test (rasio 90:10:10)\n",
        "df_train, df_test = train_test_split(df_reviews, test_size=0.1, random_state=RANDOM_SEED)\n",
        "df_val, df_test = train_test_split(df_test, test_size=0.5, random_state=RANDOM_SEED)\n",
        "\n",
        "print('Train Data Size', df_train.shape)\n",
        "print('Validation Data Size', df_val.shape)\n",
        "print('Test Data Size', df_test.shape)"
      ]
    },
    {
      "cell_type": "markdown",
      "id": "824d8ae6",
      "metadata": {
        "id": "824d8ae6"
      },
      "source": [
        "Saya perlu membuat beberapa pemuat data. Inilah fungsi pembantu untuk model."
      ]
    },
    {
      "cell_type": "code",
      "execution_count": 23,
      "id": "fb85e348",
      "metadata": {
        "id": "fb85e348"
      },
      "outputs": [],
      "source": [
        "def create_data_loader(df, tokenizer, max_len, batch_size):\n",
        "    ds = dataset(\n",
        "        reviews=df.content.to_numpy(),\n",
        "        targets=df.sentiment.to_numpy(),\n",
        "        tokenizer=tokenizer,\n",
        "        max_len=max_len\n",
        "      )\n",
        "    return DataLoader(\n",
        "        ds,\n",
        "        batch_size=batch_size\n",
        "      )"
      ]
    },
    {
      "cell_type": "markdown",
      "source": [
        "Terapkan pemuat data untuk melatih data train, validation , dan test."
      ],
      "metadata": {
        "id": "dqwMW8_R270u"
      },
      "id": "dqwMW8_R270u"
    },
    {
      "cell_type": "code",
      "execution_count": 24,
      "id": "11692551",
      "metadata": {
        "id": "11692551"
      },
      "outputs": [],
      "source": [
        "train_data_loader = create_data_loader(df_train, tokenizer, MAX_LEN, BATCH_SIZE)\n",
        "val_data_loader = create_data_loader(df_val, tokenizer, MAX_LEN, BATCH_SIZE)\n",
        "test_data_loader = create_data_loader(df_test, tokenizer, MAX_LEN, BATCH_SIZE)"
      ]
    },
    {
      "cell_type": "markdown",
      "source": [
        "melihat kumpulan dari pemuat data training"
      ],
      "metadata": {
        "id": "NLeFHaWC3Esr"
      },
      "id": "NLeFHaWC3Esr"
    },
    {
      "cell_type": "code",
      "execution_count": 25,
      "id": "c2b70d1e",
      "metadata": {
        "colab": {
          "base_uri": "https://localhost:8080/"
        },
        "id": "c2b70d1e",
        "outputId": "bb448b16-0872-4d61-bc6b-790b293337c5"
      },
      "outputs": [
        {
          "output_type": "execute_result",
          "data": {
            "text/plain": [
              "dict_keys(['review_text', 'input_ids', 'attention_mask', 'targets'])"
            ]
          },
          "metadata": {},
          "execution_count": 25
        }
      ],
      "source": [
        "data = next(iter(train_data_loader))\n",
        "data.keys()"
      ]
    },
    {
      "cell_type": "markdown",
      "source": [
        "### Bangun Model BERT"
      ],
      "metadata": {
        "id": "FM8WH-nc45Su"
      },
      "id": "FM8WH-nc45Su"
    },
    {
      "cell_type": "markdown",
      "source": [
        "Saya akan menggunakan AutoModel untuk membangun pengklasifikasi sentimen dan muat modelnya"
      ],
      "metadata": {
        "id": "asMblnSR3W4C"
      },
      "id": "asMblnSR3W4C"
    },
    {
      "cell_type": "code",
      "execution_count": 26,
      "id": "df563fbe",
      "metadata": {
        "colab": {
          "base_uri": "https://localhost:8080/",
          "height": 49,
          "referenced_widgets": [
            "8872f9cd1da84dd3b0b29133408ad7de",
            "ffa1c1453c8a41ea9151d663a8c29271",
            "e985a99d95ec467da73d8a2374c49e1d",
            "0e9f00198dce490b8cad7b5bc19cb6ab",
            "9b9893ab039840e09215b85b1401bcf2",
            "2e74ae0cdefb4f679e452bb9e8a16381",
            "9f71bde9eed84dd59a6ef3a4c5400459",
            "724f7ff0c8d04382bb77e75212bb6a4b",
            "1a78d5fe4cd94eb0861709fbdeac9037",
            "30cea123aa98497da4a4aa53330ccf7a",
            "553aa1c55eb6431cb99fd82776913c57"
          ]
        },
        "id": "df563fbe",
        "outputId": "4f82011c-aec3-4155-de99-f6f7d81c00be"
      },
      "outputs": [
        {
          "output_type": "display_data",
          "data": {
            "text/plain": [
              "Downloading:   0%|          | 0.00/498M [00:00<?, ?B/s]"
            ],
            "application/vnd.jupyter.widget-view+json": {
              "version_major": 2,
              "version_minor": 0,
              "model_id": "8872f9cd1da84dd3b0b29133408ad7de"
            }
          },
          "metadata": {}
        }
      ],
      "source": [
        "bert_model = AutoModel.from_pretrained(PRE_TRAINED_MODEL_NAME,return_dict=False)"
      ]
    },
    {
      "cell_type": "markdown",
      "source": [
        "Saya mencoba menggunakan bert_model pada pengkodean teks sampel."
      ],
      "metadata": {
        "id": "vS8ktvbg3i8k"
      },
      "id": "vS8ktvbg3i8k"
    },
    {
      "cell_type": "code",
      "execution_count": 27,
      "id": "cc26871a",
      "metadata": {
        "colab": {
          "base_uri": "https://localhost:8080/"
        },
        "id": "cc26871a",
        "outputId": "3949e702-d344-4f07-a2ca-478f44da8b41"
      },
      "outputs": [
        {
          "output_type": "execute_result",
          "data": {
            "text/plain": [
              "torch.Size([1, 32, 768])"
            ]
          },
          "metadata": {},
          "execution_count": 27
        }
      ],
      "source": [
        "last_hidden_state, pooled_output = bert_model(\n",
        "  input_ids=encoding['input_ids'],\n",
        "  attention_mask=encoding['attention_mask']\n",
        ")\n",
        "# The last_hidden_state adalah urutan status tersembunyi dari lapisan terakhir model.\n",
        "# Mendapatkan pooled_output dilakukan dengan menerapkan BertPooler pada last_hidden_state.\n",
        "last_hidden_state.shape"
      ]
    },
    {
      "cell_type": "markdown",
      "source": [
        "Saya memiliki hidden_state untuk masing-masing dari 32 token (panjang urutan sampel) dan 768 adalah jumlah unit tersembunyi di jaringan feedforward. saya akan menggunakan torch.Size untuk membuat classifier model BERT."
      ],
      "metadata": {
        "id": "L9d98mQG34Yv"
      },
      "id": "L9d98mQG34Yv"
    },
    {
      "cell_type": "code",
      "execution_count": 28,
      "id": "bec7f035",
      "metadata": {
        "id": "bec7f035"
      },
      "outputs": [],
      "source": [
        "class SentimentClassifier(nn.Module):\n",
        "    def __init__(self, n_classes):\n",
        "        super(SentimentClassifier, self).__init__()\n",
        "        self.bert = AutoModel.from_pretrained(PRE_TRAINED_MODEL_NAME,return_dict=False)\n",
        "        # dropout layer untuk beberapa regularisasi\n",
        "        self.drop = nn.Dropout(p=0.3)\n",
        "        # Lapisan yang sepenuhnya terhubung untuk output terakhir\n",
        "        self.out = nn.Linear(self.bert.config.hidden_size, n_classes)\n",
        "    def forward(self, input_ids, attention_mask):\n",
        "        \"\"\"\n",
        "        Masukkan input ke BERT dan classifier untuk menghitung logit.\n",
        "        @param    input_ids(torch.Tensor): masukan tensor dengan bentuk (batch_size, \n",
        "                          max_length)\n",
        "        @param    attention_mask (torch.Tensor): tensor yang memegang informasi attention mask dengan bentuk (batch_size, \n",
        "                          max_length)\n",
        "        @return   logits (torch.Tensor): sebuah tensor keluaran dari formulir (batch_size, \n",
        "                          number_label)\n",
        "        \"\"\"\n",
        "        # Masukkan input ke BERT\n",
        "        last_hidden_state,pooled_output = self.bert(\n",
        "        input_ids=input_ids,\n",
        "        attention_mask=attention_mask\n",
        "        )\n",
        "        output = self.drop(pooled_output)\n",
        "        return self.out(output)"
      ]
    },
    {
      "cell_type": "code",
      "execution_count": 29,
      "id": "7bd8150a",
      "metadata": {
        "id": "7bd8150a"
      },
      "outputs": [],
      "source": [
        "# Membuat instance dan pindahkan ke GPU.\n",
        "model = SentimentClassifier(len(class_names))\n",
        "model = model.to(device)"
      ]
    },
    {
      "cell_type": "code",
      "execution_count": 30,
      "id": "9b135e13",
      "metadata": {
        "colab": {
          "base_uri": "https://localhost:8080/"
        },
        "id": "9b135e13",
        "outputId": "7cc03338-509d-4bee-ffb0-0dca03e13fee"
      },
      "outputs": [
        {
          "output_type": "stream",
          "name": "stdout",
          "text": [
            "torch.Size([16, 100])\n",
            "torch.Size([16, 100])\n"
          ]
        }
      ],
      "source": [
        "# We'll move the example batch of our training data to the GPU\n",
        "input_ids = data['input_ids'].to(device)\n",
        "attention_mask = data['attention_mask'].to(device)\n",
        "print(input_ids.shape) # batch size x seq length\n",
        "print(attention_mask.shape) # batch size x seq length"
      ]
    },
    {
      "cell_type": "markdown",
      "source": [
        "### Model Training"
      ],
      "metadata": {
        "id": "hBnTCkt_4-nc"
      },
      "id": "hBnTCkt_4-nc"
    },
    {
      "cell_type": "code",
      "execution_count": 31,
      "id": "602505ab",
      "metadata": {
        "id": "602505ab"
      },
      "outputs": [],
      "source": [
        "EPOCHS = 5\n",
        "#  AdamW optimizer to correct weight decay\n",
        "optimizer = AdamW(model.parameters(), lr=2e-5, correct_bias=False)\n",
        "total_steps = len(train_data_loader) * EPOCHS\n",
        "#  We'll also use a linear scheduler with no warmup steps\n",
        "scheduler = get_linear_schedule_with_warmup(\n",
        "  optimizer,\n",
        "  num_warmup_steps=0,\n",
        "  num_training_steps=total_steps\n",
        ")\n",
        "# cross-entropy loss function\n",
        "loss_fn = nn.CrossEntropyLoss().to(device)"
      ]
    },
    {
      "cell_type": "markdown",
      "source": [
        "Let's continue with writing a helper function for training our model..."
      ],
      "metadata": {
        "id": "syZBej8r5wdB"
      },
      "id": "syZBej8r5wdB"
    },
    {
      "cell_type": "code",
      "execution_count": 32,
      "id": "883971fd",
      "metadata": {
        "id": "883971fd"
      },
      "outputs": [],
      "source": [
        "def train_epoch(model,data_loader,loss_fn,optimizer,device,scheduler,n_examples):\n",
        "    # put model in training mode\n",
        "    model = model.train()\n",
        "    # Create empty lists to store outputs\n",
        "    losses = []\n",
        "    correct_predictions = 0\n",
        "    for batch in data_loader:\n",
        "        # We'll move the example batch of our training data to the GPU\n",
        "        input_ids = batch[\"input_ids\"].to(device)\n",
        "        attention_mask = batch[\"attention_mask\"].to(device)\n",
        "        targets = batch[\"targets\"].to(device)\n",
        "\n",
        "        # Perform a forward pass. This will return logits.\n",
        "        outputs = model(\n",
        "              input_ids=input_ids,\n",
        "              attention_mask=attention_mask\n",
        "            )\n",
        "        # Get the predictions\n",
        "        _, preds = torch.max(outputs, dim=1)\n",
        "\n",
        "        # Compute loss and accumulate the loss values\n",
        "        loss = loss_fn(outputs, targets)\n",
        "        losses.append(loss.item())\n",
        "        # Calculate the accuracy rate\n",
        "        correct_predictions += torch.sum(preds == targets)\n",
        "        # backward pass - Perform a backward pass to calculate gradients\n",
        "        loss.backward()\n",
        "        # gradient clipping - Clip the norm of the gradients to 1.0 to prevent \"exploding gradients\"\n",
        "        nn.utils.clip_grad_norm_(model.parameters(), max_norm=1.0)\n",
        "        # Update parameters and the learning rate\n",
        "        optimizer.step()\n",
        "        scheduler.step()\n",
        "        # Zero out any previously calculated gradients\n",
        "        optimizer.zero_grad()\n",
        "    \n",
        "    return correct_predictions.double() / n_examples, np.mean(losses)  # Compute the average accuracy and loss over the training set."
      ]
    },
    {
      "cell_type": "markdown",
      "source": [
        "Let's write another one that helps us evaluate the model on a given data loader."
      ],
      "metadata": {
        "id": "0ole_Z4wHH27"
      },
      "id": "0ole_Z4wHH27"
    },
    {
      "cell_type": "code",
      "execution_count": 33,
      "id": "cfa1f483",
      "metadata": {
        "id": "cfa1f483"
      },
      "outputs": [],
      "source": [
        "def eval_model(model, data_loader, loss_fn, device, n_examples):\n",
        "    # put model in evaluation mode\n",
        "    model = model.eval()\n",
        "    # Create empty lists to store outputs\n",
        "    losses = []\n",
        "    correct_predictions = 0\n",
        "    with torch.no_grad():\n",
        "        for batch in data_loader:\n",
        "            # We'll move the example batch of our validation data to the GPU\n",
        "            input_ids = batch[\"input_ids\"].to(device)\n",
        "            attention_mask = batch[\"attention_mask\"].to(device)\n",
        "            targets = batch[\"targets\"].to(device) \n",
        "\n",
        "            # Perform a forward pass. This will return logits.\n",
        "            outputs = model(input_ids=input_ids,attention_mask=attention_mask)\n",
        "            # Get the predictions\n",
        "            _, preds = torch.max(outputs, dim=1) \n",
        "\n",
        "            # Compute loss and accumulate the loss values\n",
        "            loss = loss_fn(outputs, targets)\n",
        "            losses.append(loss.item())\n",
        "            # Calculate the accuracy rate\n",
        "            correct_predictions += torch.sum(preds == targets)\n",
        "            \n",
        "    return correct_predictions.double() / n_examples, np.mean(losses) # Compute the average accuracy and loss over the validation set."
      ]
    },
    {
      "cell_type": "markdown",
      "source": [
        "Using those two helper function, we can write our training loop. We'll also store the training history for future use..."
      ],
      "metadata": {
        "id": "wXINXzXQHOww"
      },
      "id": "wXINXzXQHOww"
    },
    {
      "cell_type": "code",
      "execution_count": 34,
      "id": "d8e63963",
      "metadata": {
        "colab": {
          "base_uri": "https://localhost:8080/"
        },
        "id": "d8e63963",
        "outputId": "59711936-e33c-4505-911b-0d3401f86506"
      },
      "outputs": [
        {
          "output_type": "stream",
          "name": "stdout",
          "text": [
            "Epoch 1/5\n",
            "----------------------------------------------------------------------------------------------------\n",
            "Train loss 0.5005905248843309 accuracy 0.82481016581435\n",
            "Val loss   0.322167007625103 accuracy 0.8814504881450488\n",
            "\n",
            "Epoch 2/5\n",
            "----------------------------------------------------------------------------------------------------\n",
            "Train loss 0.2980842604619235 accuracy 0.9039981403998141\n",
            "Val loss   0.2699858759633369 accuracy 0.909344490934449\n",
            "\n",
            "Epoch 3/5\n",
            "----------------------------------------------------------------------------------------------------\n",
            "Train loss 0.20632456547016326 accuracy 0.9425848442584844\n",
            "Val loss   0.24866772010508512 accuracy 0.9330543933054393\n",
            "\n",
            "Epoch 4/5\n",
            "----------------------------------------------------------------------------------------------------\n",
            "Train loss 0.1400308666088361 accuracy 0.9638152797148614\n",
            "Val loss   0.2446069411881682 accuracy 0.9400278940027894\n",
            "\n",
            "Epoch 5/5\n",
            "----------------------------------------------------------------------------------------------------\n",
            "Train loss 0.09790542874386582 accuracy 0.9770649310398265\n",
            "Val loss   0.26210368125854683 accuracy 0.9497907949790795\n",
            "\n",
            "CPU times: user 13min 32s, sys: 5min 15s, total: 18min 47s\n",
            "Wall time: 19min 39s\n"
          ]
        }
      ],
      "source": [
        "%%time\n",
        "history = defaultdict(list)\n",
        "best_accuracy = 0\n",
        "\n",
        "# Mulai training loop\n",
        "for epoch in range(EPOCHS):\n",
        "    print(f'Epoch {epoch + 1}/{EPOCHS}')\n",
        "    print('-' * 100)\n",
        "\n",
        "    # model training\n",
        "    train_acc, train_loss = train_epoch(model, \n",
        "                                        train_data_loader, \n",
        "                                        loss_fn, optimizer, \n",
        "                                        device, scheduler,\n",
        "                                        len(df_train))\n",
        "    print(f'Train loss {train_loss} accuracy {train_acc}')\n",
        "\n",
        "    # Setelah menyelesaikan setiap periode training, ukur kinerja model pada set validasi.\n",
        "    val_acc, val_loss = eval_model(model,\n",
        "                                   val_data_loader,\n",
        "                                   loss_fn,\n",
        "                                   device,\n",
        "                                   len(df_val))\n",
        "    print(f'Val loss   {val_loss} accuracy {val_acc}')\n",
        "    print()\n",
        "\n",
        "    # menambahkan akurasi training, loss dan akurasi validation dan loss ke variabel history\n",
        "    history['train_acc'].append(train_acc)\n",
        "    history['train_loss'].append(train_loss)\n",
        "    history['val_acc'].append(val_acc)\n",
        "    history['val_loss'].append(val_loss)\n",
        "    \n",
        "    # simpan model terbaik\n",
        "    if val_acc > best_accuracy:\n",
        "        torch.save(model.state_dict(), 'best_model_state.bin')\n",
        "        best_accuracy = val_acc"
      ]
    },
    {
      "cell_type": "markdown",
      "source": [
        "Perhatikan bahwa saya menyimpan status model terbaik, yang ditunjukkan dengan akurasi validasi tertinggi.\n",
        "\n",
        "proses training ini butuh waktu, Kita bisa melihat akurasi training vs validation."
      ],
      "metadata": {
        "id": "eeuUQvA9Hhlh"
      },
      "id": "eeuUQvA9Hhlh"
    },
    {
      "cell_type": "code",
      "source": [
        "history_cpu_train_acc = [i.cpu() for i in history['train_acc']]\n",
        "history_cpu_val_acc = [i.cpu() for i in history['val_acc']]"
      ],
      "metadata": {
        "id": "SL2_yHq0cPE1"
      },
      "id": "SL2_yHq0cPE1",
      "execution_count": 35,
      "outputs": []
    },
    {
      "cell_type": "code",
      "source": [
        "plt.plot(history_cpu_train_acc, label='train accuracy')\n",
        "plt.plot(history_cpu_val_acc, label='validation accuracy')\n",
        "plt.title('Training history')\n",
        "plt.ylabel('Accuracy')\n",
        "plt.xlabel('Epoch')\n",
        "plt.legend()\n",
        "plt.ylim([0, 1])\n",
        "plt.show()"
      ],
      "metadata": {
        "colab": {
          "base_uri": "https://localhost:8080/",
          "height": 306
        },
        "id": "D-6ZPx3GHgad",
        "outputId": "8064a3fd-a952-48a8-a021-a87961b9eee5"
      },
      "id": "D-6ZPx3GHgad",
      "execution_count": 36,
      "outputs": [
        {
          "output_type": "display_data",
          "data": {
            "text/plain": [
              "<Figure size 432x288 with 1 Axes>"
            ],
            "image/png": "[encoded data removed]"
          },
          "metadata": {}
        }
      ]
    },
    {
      "cell_type": "markdown",
      "source": [
        "Akurasi pelatihan mulai mendekati 97% setelah 5 epoch. saya mungkin mencoba untuk menyempurnakan parameter sedikit lebih banyak, tetapi ini sudah cukup baik bagi saya."
      ],
      "metadata": {
        "id": "fQYb-fYxHxU_"
      },
      "id": "fQYb-fYxHxU_"
    },
    {
      "cell_type": "markdown",
      "source": [
        "### Load Pretrained Model"
      ],
      "metadata": {
        "id": "fEdFT87BHaSU"
      },
      "id": "fEdFT87BHaSU"
    },
    {
      "cell_type": "code",
      "source": [
        "model = SentimentClassifier(len(class_names))\n",
        "model.load_state_dict(torch.load('best_model_state.bin'))\n",
        "model = model.to(device)"
      ],
      "metadata": {
        "id": "DVVNyeU4Hdez"
      },
      "id": "DVVNyeU4Hdez",
      "execution_count": 37,
      "outputs": []
    },
    {
      "cell_type": "markdown",
      "source": [
        "### Model Evaluation"
      ],
      "metadata": {
        "id": "p6elowKmXG40"
      },
      "id": "p6elowKmXG40"
    },
    {
      "cell_type": "code",
      "source": [
        "test_acc, _ = eval_model(model,\n",
        "                         test_data_loader,\n",
        "                         loss_fn,\n",
        "                         device,\n",
        "                         len(df_test))\n",
        "test_acc.item()"
      ],
      "metadata": {
        "id": "pvDR9o7_YKEe",
        "colab": {
          "base_uri": "https://localhost:8080/"
        },
        "outputId": "9e81cae3-d461-4f0c-8b60-fc35980624a9"
      },
      "id": "pvDR9o7_YKEe",
      "execution_count": 38,
      "outputs": [
        {
          "output_type": "execute_result",
          "data": {
            "text/plain": [
              "0.9317548746518106"
            ]
          },
          "metadata": {},
          "execution_count": 38
        }
      ]
    },
    {
      "cell_type": "markdown",
      "source": [
        "Akurasinya cukup bagus pada set data test. Model membutuhkan penyetelan, saya akan periksa prediksi kembali untuk mendefinisikan fungsi pembantu untuk mendapatkan prediksi terbaik dari model."
      ],
      "metadata": {
        "id": "JkEzzRunXsA-"
      },
      "id": "JkEzzRunXsA-"
    },
    {
      "cell_type": "code",
      "source": [
        "def get_predictions(model, data_loader):\n",
        "  # put model in evaluation mode\n",
        "  model = model.eval()\n",
        "  # Create empty lists to store outputs\n",
        "  review_texts = []\n",
        "  predictions = []\n",
        "  prediction_probs = []\n",
        "  real_values = []\n",
        "\n",
        "  with torch.no_grad():\n",
        "    for batch in data_loader:\n",
        "      # We'll move the example batch of our test data to the GPU\n",
        "      texts = batch[\"review_text\"]\n",
        "      input_ids = batch[\"input_ids\"].to(device)\n",
        "      attention_mask = batch[\"attention_mask\"].to(device)\n",
        "      targets = batch[\"targets\"].to(device)\n",
        "      # Perform a forward pass. This will return logits.\n",
        "      outputs = model(\n",
        "        input_ids=input_ids,\n",
        "        attention_mask=attention_mask\n",
        "      )\n",
        "      # Get the predictions\n",
        "      _, preds = torch.max(outputs, dim=1)\n",
        "      review_texts.extend(texts)\n",
        "      predictions.extend(preds)\n",
        "      prediction_probs.extend(outputs)\n",
        "      real_values.extend(targets)\n",
        "  predictions = torch.stack(predictions).cpu()\n",
        "  prediction_probs = torch.stack(prediction_probs).cpu()\n",
        "  real_values = torch.stack(real_values).cpu()\n",
        "  return review_texts, predictions, prediction_probs, real_values"
      ],
      "metadata": {
        "id": "q2k8ZVQQXu5V"
      },
      "id": "q2k8ZVQQXu5V",
      "execution_count": 39,
      "outputs": []
    },
    {
      "cell_type": "markdown",
      "source": [
        "This is similar to the evaluation function, except that we're storing the text of the reviews and the predicted probabilities."
      ],
      "metadata": {
        "id": "pAGPLrYfZXt2"
      },
      "id": "pAGPLrYfZXt2"
    },
    {
      "cell_type": "code",
      "source": [
        "y_review_texts, y_pred, y_pred_probs, y_test = get_predictions(model,test_data_loader)"
      ],
      "metadata": {
        "id": "yoIgD22yZboP"
      },
      "id": "yoIgD22yZboP",
      "execution_count": 40,
      "outputs": []
    },
    {
      "cell_type": "markdown",
      "source": [
        "Let's have a look at the classification report."
      ],
      "metadata": {
        "id": "4huQEcW4Zg1E"
      },
      "id": "4huQEcW4Zg1E"
    },
    {
      "cell_type": "code",
      "source": [
        "print(classification_report(y_test, y_pred, target_names=class_names))"
      ],
      "metadata": {
        "colab": {
          "base_uri": "https://localhost:8080/"
        },
        "id": "LSXSi7kwZi0-",
        "outputId": "deb04a3e-9f54-4541-c041-a3c6b750a66a"
      },
      "id": "LSXSi7kwZi0-",
      "execution_count": 41,
      "outputs": [
        {
          "output_type": "stream",
          "name": "stdout",
          "text": [
            "              precision    recall  f1-score   support\n",
            "\n",
            "    negative       0.91      0.92      0.92       211\n",
            "     neutral       0.95      0.91      0.93       185\n",
            "    positive       0.94      0.95      0.94       322\n",
            "\n",
            "    accuracy                           0.93       718\n",
            "   macro avg       0.93      0.93      0.93       718\n",
            "weighted avg       0.93      0.93      0.93       718\n",
            "\n"
          ]
        }
      ]
    },
    {
      "cell_type": "markdown",
      "source": [
        "Looks like it is really hard to classify neutral (3 stars) reviews. And I can tell you from experience, looking at many reviews, those are hard to classify.\n",
        "\n",
        "We'll continue with the confusion matrix-"
      ],
      "metadata": {
        "id": "LZYNdZmQaL-a"
      },
      "id": "LZYNdZmQaL-a"
    },
    {
      "cell_type": "code",
      "source": [
        "def show_confusion_matrix(confusion_matrix):\n",
        "  hmap = sns.heatmap(confusion_matrix, annot=True, fmt=\"d\", cmap=\"plasma\")\n",
        "  hmap.yaxis.set_ticklabels(hmap.yaxis.get_ticklabels(), rotation=0, ha='right')\n",
        "  hmap.xaxis.set_ticklabels(hmap.xaxis.get_ticklabels(), rotation=30, ha='right')\n",
        "  plt.ylabel('True sentiment')\n",
        "  plt.xlabel('Predicted sentiment');\n",
        "cm = confusion_matrix(y_test, y_pred)\n",
        "df_cm = pd.DataFrame(cm, index=class_names, columns=class_names)\n",
        "show_confusion_matrix(df_cm)"
      ],
      "metadata": {
        "colab": {
          "base_uri": "https://localhost:8080/",
          "height": 317
        },
        "id": "-sxq20v6aRly",
        "outputId": "0c2720c1-d5a9-42c0-e41c-151f8a5e2545"
      },
      "id": "-sxq20v6aRly",
      "execution_count": 42,
      "outputs": [
        {
          "output_type": "display_data",
          "data": {
            "text/plain": [
              "<Figure size 432x288 with 2 Axes>"
            ],
            "image/png": "[encoded data removed]"
          },
          "metadata": {}
        }
      ]
    },
    {
      "cell_type": "markdown",
      "source": [
        "This confirms that our model is having difficulty classifying neutral reviews.\n",
        "\n",
        "That's a good overview of the performance of our model. But let's have a look at an example from our test data."
      ],
      "metadata": {
        "id": "_dQ6lHVmasmY"
      },
      "id": "_dQ6lHVmasmY"
    },
    {
      "cell_type": "code",
      "source": [
        "idx = 29\n",
        "review_text = y_review_texts[idx]\n",
        "true_sentiment = y_test[idx]\n",
        "pred_df = pd.DataFrame({\n",
        "  'class_names': class_names,\n",
        "  'values': y_pred_probs[idx]\n",
        "})\n",
        "\n",
        "from textwrap import wrap \n",
        "print(\"\\n\".join(wrap(review_text)))\n",
        "print()\n",
        "print(f'Test sentiment: {class_names[true_sentiment]}')"
      ],
      "metadata": {
        "colab": {
          "base_uri": "https://localhost:8080/"
        },
        "id": "7qJyPRr9a18P",
        "outputId": "f01648fd-1e98-4a5c-e309-6d55a11480c9"
      },
      "id": "7qJyPRr9a18P",
      "execution_count": 44,
      "outputs": [
        {
          "output_type": "stream",
          "name": "stdout",
          "text": [
            "malas download\n",
            "\n",
            "Test sentiment: negative\n"
          ]
        }
      ]
    },
    {
      "cell_type": "markdown",
      "source": [
        "Now, we can look at the confidence of each sentiment of our mode."
      ],
      "metadata": {
        "id": "BmeUtlfGbtut"
      },
      "id": "BmeUtlfGbtut"
    },
    {
      "cell_type": "code",
      "source": [
        "sns.barplot(x='values', y='class_names', data=pred_df, orient='h')\n",
        "plt.ylabel('sentiment')\n",
        "plt.xlabel('probability')\n",
        "plt.xlim([0, 1])\n",
        "plt.show()"
      ],
      "metadata": {
        "colab": {
          "base_uri": "https://localhost:8080/",
          "height": 289
        },
        "id": "vbdSnCOQbwnQ",
        "outputId": "17d0a7ff-98bd-4d8d-bdd6-c3a338ddd372"
      },
      "id": "vbdSnCOQbwnQ",
      "execution_count": 45,
      "outputs": [
        {
          "output_type": "display_data",
          "data": {
            "text/plain": [
              "<Figure size 432x288 with 1 Axes>"
            ],
            "image/png": "[encoded data removed]"
          },
          "metadata": {}
        }
      ]
    },
    {
      "cell_type": "markdown",
      "source": [
        "### Prediction on Raw Text"
      ],
      "metadata": {
        "id": "Mg0UYcxEb4Tw"
      },
      "id": "Mg0UYcxEb4Tw"
    },
    {
      "cell_type": "code",
      "source": [
        "# Let's use our model to predict the sentiment of some raw text\n",
        "raw_text = \"aplikasi ini sangat bagus\"\n"
      ],
      "metadata": {
        "id": "197dixleb7BS"
      },
      "id": "197dixleb7BS",
      "execution_count": 46,
      "outputs": []
    },
    {
      "cell_type": "code",
      "source": [
        "def prediction_on_raw_data(raw_text):\n",
        "  encoded_review = tokenizer.encode_plus(\n",
        "  raw_text,\n",
        "  padding='max_length', # Pad sentence to max length\n",
        "  truncation=True,  #Truncate sentence to max length\n",
        "  max_length=32,\n",
        "  add_special_tokens=True, # Add '[CLS]' and '[SEP]'\n",
        "  return_token_type_ids=False,\n",
        "  return_attention_mask=True, # Return attention mask\n",
        "  return_tensors='pt',  # Return torch objects\n",
        "  )\n",
        "\n",
        "  input_ids = encoded_review['input_ids'].to(device)\n",
        "  attention_mask = encoded_review['attention_mask'].to(device)\n",
        "  output = model(input_ids, attention_mask)\n",
        "\n",
        "  _, prediction = torch.max(output, dim=1)\n",
        "  \n",
        "  print(f'Review text: {raw_text}')\n",
        "  print(f'Sentiment  : {class_names[prediction]}')\n",
        "\n"
      ],
      "metadata": {
        "id": "D_UyY53hdcPN"
      },
      "id": "D_UyY53hdcPN",
      "execution_count": 47,
      "outputs": []
    },
    {
      "cell_type": "code",
      "source": [
        "prediction_on_raw_data(raw_text)"
      ],
      "metadata": {
        "colab": {
          "base_uri": "https://localhost:8080/"
        },
        "id": "CxJQZ2ZGeC5v",
        "outputId": "4713c321-3a97-4a2b-adda-b956f4bd2eaf"
      },
      "id": "CxJQZ2ZGeC5v",
      "execution_count": 48,
      "outputs": [
        {
          "output_type": "stream",
          "name": "stdout",
          "text": [
            "Review text: aplikasi ini sangat bagus\n",
            "Sentiment  : positive\n"
          ]
        }
      ]
    },
    {
      "cell_type": "code",
      "source": [
        "raw_text = \"game ini banyak bugnya jelek\"\n",
        "prediction_on_raw_data(raw_text)\n"
      ],
      "metadata": {
        "colab": {
          "base_uri": "https://localhost:8080/"
        },
        "id": "JINMdYXXw1Bc",
        "outputId": "81614d86-fc4d-4c9e-e9f0-9f51887bbc05"
      },
      "id": "JINMdYXXw1Bc",
      "execution_count": 49,
      "outputs": [
        {
          "output_type": "stream",
          "name": "stdout",
          "text": [
            "Review text: game ini banyak bugnya jelek\n",
            "Sentiment  : negative\n"
          ]
        }
      ]
    },
    {
      "cell_type": "code",
      "source": [
        "raw_text = \"tolong perbaiki banyak bug\"\n",
        "prediction_on_raw_data(raw_text)"
      ],
      "metadata": {
        "id": "_b078p_VxESj",
        "colab": {
          "base_uri": "https://localhost:8080/"
        },
        "outputId": "8f11ccaa-db99-4f8d-fa05-2792d5606968"
      },
      "id": "_b078p_VxESj",
      "execution_count": 50,
      "outputs": [
        {
          "output_type": "stream",
          "name": "stdout",
          "text": [
            "Review text: tolong perbaiki banyak bug\n",
            "Sentiment  : neutral\n"
          ]
        }
      ]
    }
  ],
  "metadata": {
    "kernelspec": {
      "display_name": "Python 3",
      "name": "python3"
    },
    "language_info": {
      "name": "python"
    },
    "colab": {
      "provenance": [],
      "collapsed_sections": [],
      "include_colab_link": true
    },
    "accelerator": "GPU",
    "widgets": {
      "application/vnd.jupyter.widget-state+json": {
        "34870fb4f52d42858e971927e9734e20": {
          "model_module": "@jupyter-widgets/controls",
          "model_name": "HBoxModel",
          "model_module_version": "1.5.0",
          "state": {
            "_dom_classes": [],
            "_model_module": "@jupyter-widgets/controls",
            "_model_module_version": "1.5.0",
            "_model_name": "HBoxModel",
            "_view_count": null,
            "_view_module": "@jupyter-widgets/controls",
            "_view_module_version": "1.5.0",
            "_view_name": "HBoxView",
            "box_style": "",
            "children": [
              "IPY_MODEL_272ee24945134991bc1543b226050d5f",
              "IPY_MODEL_b9264d058d1344ba8f0170b43ad0883c",
              "IPY_MODEL_4b2fae8f28ca4c1c9e838a0403f68c9c"
            ],
            "layout": "IPY_MODEL_c616949223fa4b26995e9e30cc0f81b1"
          }
        },
        "272ee24945134991bc1543b226050d5f": {
          "model_module": "@jupyter-widgets/controls",
          "model_name": "HTMLModel",
          "model_module_version": "1.5.0",
          "state": {
            "_dom_classes": [],
            "_model_module": "@jupyter-widgets/controls",
            "_model_module_version": "1.5.0",
            "_model_name": "HTMLModel",
            "_view_count": null,
            "_view_module": "@jupyter-widgets/controls",
            "_view_module_version": "1.5.0",
            "_view_name": "HTMLView",
            "description": "",
            "description_tooltip": null,
            "layout": "IPY_MODEL_9279faf1aa904cc9bd63ab8873f44840",
            "placeholder": "​",
            "style": "IPY_MODEL_d5019ea52eee4c21815a855a47fe41c4",
            "value": "Downloading: 100%"
          }
        },
        "b9264d058d1344ba8f0170b43ad0883c": {
          "model_module": "@jupyter-widgets/controls",
          "model_name": "FloatProgressModel",
          "model_module_version": "1.5.0",
          "state": {
            "_dom_classes": [],
            "_model_module": "@jupyter-widgets/controls",
            "_model_module_version": "1.5.0",
            "_model_name": "FloatProgressModel",
            "_view_count": null,
            "_view_module": "@jupyter-widgets/controls",
            "_view_module_version": "1.5.0",
            "_view_name": "ProgressView",
            "bar_style": "success",
            "description": "",
            "description_tooltip": null,
            "layout": "IPY_MODEL_1b6f446200b4480aa7bbc69111a5bfa8",
            "max": 229167,
            "min": 0,
            "orientation": "horizontal",
            "style": "IPY_MODEL_c972076d53ae4f4d8a88f2a7ab933890",
            "value": 229167
          }
        },
        "4b2fae8f28ca4c1c9e838a0403f68c9c": {
          "model_module": "@jupyter-widgets/controls",
          "model_name": "HTMLModel",
          "model_module_version": "1.5.0",
          "state": {
            "_dom_classes": [],
            "_model_module": "@jupyter-widgets/controls",
            "_model_module_version": "1.5.0",
            "_model_name": "HTMLModel",
            "_view_count": null,
            "_view_module": "@jupyter-widgets/controls",
            "_view_module_version": "1.5.0",
            "_view_name": "HTMLView",
            "description": "",
            "description_tooltip": null,
            "layout": "IPY_MODEL_6a7d39a35c3e477e86814981ae479f9a",
            "placeholder": "​",
            "style": "IPY_MODEL_3f6b18e3032f4b2d9517b5659f714d80",
            "value": " 229k/229k [00:00&lt;00:00, 842kB/s]"
          }
        },
        "c616949223fa4b26995e9e30cc0f81b1": {
          "model_module": "@jupyter-widgets/base",
          "model_name": "LayoutModel",
          "model_module_version": "1.2.0",
          "state": {
            "_model_module": "@jupyter-widgets/base",
            "_model_module_version": "1.2.0",
            "_model_name": "LayoutModel",
            "_view_count": null,
            "_view_module": "@jupyter-widgets/base",
            "_view_module_version": "1.2.0",
            "_view_name": "LayoutView",
            "align_content": null,
            "align_items": null,
            "align_self": null,
            "border": null,
            "bottom": null,
            "display": null,
            "flex": null,
            "flex_flow": null,
            "grid_area": null,
            "grid_auto_columns": null,
            "grid_auto_flow": null,
            "grid_auto_rows": null,
            "grid_column": null,
            "grid_gap": null,
            "grid_row": null,
            "grid_template_areas": null,
            "grid_template_columns": null,
            "grid_template_rows": null,
            "height": null,
            "justify_content": null,
            "justify_items": null,
            "left": null,
            "margin": null,
            "max_height": null,
            "max_width": null,
            "min_height": null,
            "min_width": null,
            "object_fit": null,
            "object_position": null,
            "order": null,
            "overflow": null,
            "overflow_x": null,
            "overflow_y": null,
            "padding": null,
            "right": null,
            "top": null,
            "visibility": null,
            "width": null
          }
        },
        "9279faf1aa904cc9bd63ab8873f44840": {
          "model_module": "@jupyter-widgets/base",
          "model_name": "LayoutModel",
          "model_module_version": "1.2.0",
          "state": {
            "_model_module": "@jupyter-widgets/base",
            "_model_module_version": "1.2.0",
            "_model_name": "LayoutModel",
            "_view_count": null,
            "_view_module": "@jupyter-widgets/base",
            "_view_module_version": "1.2.0",
            "_view_name": "LayoutView",
            "align_content": null,
            "align_items": null,
            "align_self": null,
            "border": null,
            "bottom": null,
            "display": null,
            "flex": null,
            "flex_flow": null,
            "grid_area": null,
            "grid_auto_columns": null,
            "grid_auto_flow": null,
            "grid_auto_rows": null,
            "grid_column": null,
            "grid_gap": null,
            "grid_row": null,
            "grid_template_areas": null,
            "grid_template_columns": null,
            "grid_template_rows": null,
            "height": null,
            "justify_content": null,
            "justify_items": null,
            "left": null,
            "margin": null,
            "max_height": null,
            "max_width": null,
            "min_height": null,
            "min_width": null,
            "object_fit": null,
            "object_position": null,
            "order": null,
            "overflow": null,
            "overflow_x": null,
            "overflow_y": null,
            "padding": null,
            "right": null,
            "top": null,
            "visibility": null,
            "width": null
          }
        },
        "d5019ea52eee4c21815a855a47fe41c4": {
          "model_module": "@jupyter-widgets/controls",
          "model_name": "DescriptionStyleModel",
          "model_module_version": "1.5.0",
          "state": {
            "_model_module": "@jupyter-widgets/controls",
            "_model_module_version": "1.5.0",
            "_model_name": "DescriptionStyleModel",
            "_view_count": null,
            "_view_module": "@jupyter-widgets/base",
            "_view_module_version": "1.2.0",
            "_view_name": "StyleView",
            "description_width": ""
          }
        },
        "1b6f446200b4480aa7bbc69111a5bfa8": {
          "model_module": "@jupyter-widgets/base",
          "model_name": "LayoutModel",
          "model_module_version": "1.2.0",
          "state": {
            "_model_module": "@jupyter-widgets/base",
            "_model_module_version": "1.2.0",
            "_model_name": "LayoutModel",
            "_view_count": null,
            "_view_module": "@jupyter-widgets/base",
            "_view_module_version": "1.2.0",
            "_view_name": "LayoutView",
            "align_content": null,
            "align_items": null,
            "align_self": null,
            "border": null,
            "bottom": null,
            "display": null,
            "flex": null,
            "flex_flow": null,
            "grid_area": null,
            "grid_auto_columns": null,
            "grid_auto_flow": null,
            "grid_auto_rows": null,
            "grid_column": null,
            "grid_gap": null,
            "grid_row": null,
            "grid_template_areas": null,
            "grid_template_columns": null,
            "grid_template_rows": null,
            "height": null,
            "justify_content": null,
            "justify_items": null,
            "left": null,
            "margin": null,
            "max_height": null,
            "max_width": null,
            "min_height": null,
            "min_width": null,
            "object_fit": null,
            "object_position": null,
            "order": null,
            "overflow": null,
            "overflow_x": null,
            "overflow_y": null,
            "padding": null,
            "right": null,
            "top": null,
            "visibility": null,
            "width": null
          }
        },
        "c972076d53ae4f4d8a88f2a7ab933890": {
          "model_module": "@jupyter-widgets/controls",
          "model_name": "ProgressStyleModel",
          "model_module_version": "1.5.0",
          "state": {
            "_model_module": "@jupyter-widgets/controls",
            "_model_module_version": "1.5.0",
            "_model_name": "ProgressStyleModel",
            "_view_count": null,
            "_view_module": "@jupyter-widgets/base",
            "_view_module_version": "1.2.0",
            "_view_name": "StyleView",
            "bar_color": null,
            "description_width": ""
          }
        },
        "6a7d39a35c3e477e86814981ae479f9a": {
          "model_module": "@jupyter-widgets/base",
          "model_name": "LayoutModel",
          "model_module_version": "1.2.0",
          "state": {
            "_model_module": "@jupyter-widgets/base",
            "_model_module_version": "1.2.0",
            "_model_name": "LayoutModel",
            "_view_count": null,
            "_view_module": "@jupyter-widgets/base",
            "_view_module_version": "1.2.0",
            "_view_name": "LayoutView",
            "align_content": null,
            "align_items": null,
            "align_self": null,
            "border": null,
            "bottom": null,
            "display": null,
            "flex": null,
            "flex_flow": null,
            "grid_area": null,
            "grid_auto_columns": null,
            "grid_auto_flow": null,
            "grid_auto_rows": null,
            "grid_column": null,
            "grid_gap": null,
            "grid_row": null,
            "grid_template_areas": null,
            "grid_template_columns": null,
            "grid_template_rows": null,
            "height": null,
            "justify_content": null,
            "justify_items": null,
            "left": null,
            "margin": null,
            "max_height": null,
            "max_width": null,
            "min_height": null,
            "min_width": null,
            "object_fit": null,
            "object_position": null,
            "order": null,
            "overflow": null,
            "overflow_x": null,
            "overflow_y": null,
            "padding": null,
            "right": null,
            "top": null,
            "visibility": null,
            "width": null
          }
        },
        "3f6b18e3032f4b2d9517b5659f714d80": {
          "model_module": "@jupyter-widgets/controls",
          "model_name": "DescriptionStyleModel",
          "model_module_version": "1.5.0",
          "state": {
            "_model_module": "@jupyter-widgets/controls",
            "_model_module_version": "1.5.0",
            "_model_name": "DescriptionStyleModel",
            "_view_count": null,
            "_view_module": "@jupyter-widgets/base",
            "_view_module_version": "1.2.0",
            "_view_name": "StyleView",
            "description_width": ""
          }
        },
        "ed51611c7dda421689fd7f1c3e7a1127": {
          "model_module": "@jupyter-widgets/controls",
          "model_name": "HBoxModel",
          "model_module_version": "1.5.0",
          "state": {
            "_dom_classes": [],
            "_model_module": "@jupyter-widgets/controls",
            "_model_module_version": "1.5.0",
            "_model_name": "HBoxModel",
            "_view_count": null,
            "_view_module": "@jupyter-widgets/controls",
            "_view_module_version": "1.5.0",
            "_view_name": "HBoxView",
            "box_style": "",
            "children": [
              "IPY_MODEL_98d1a41d615c44e798793b6d74b00fc2",
              "IPY_MODEL_5ce5c59c4a62433a9e1b1efd3adb5a88",
              "IPY_MODEL_6143e7a18bf541deb73f6808bd884df2"
            ],
            "layout": "IPY_MODEL_7b2b5a7681054b36915fc14ac3a77883"
          }
        },
        "98d1a41d615c44e798793b6d74b00fc2": {
          "model_module": "@jupyter-widgets/controls",
          "model_name": "HTMLModel",
          "model_module_version": "1.5.0",
          "state": {
            "_dom_classes": [],
            "_model_module": "@jupyter-widgets/controls",
            "_model_module_version": "1.5.0",
            "_model_name": "HTMLModel",
            "_view_count": null,
            "_view_module": "@jupyter-widgets/controls",
            "_view_module_version": "1.5.0",
            "_view_name": "HTMLView",
            "description": "",
            "description_tooltip": null,
            "layout": "IPY_MODEL_8fab9019b4894bd79c07940c5c0bb37d",
            "placeholder": "​",
            "style": "IPY_MODEL_0d5a14a65ed94d45aede2eeb43c6b30a",
            "value": "Downloading: 100%"
          }
        },
        "5ce5c59c4a62433a9e1b1efd3adb5a88": {
          "model_module": "@jupyter-widgets/controls",
          "model_name": "FloatProgressModel",
          "model_module_version": "1.5.0",
          "state": {
            "_dom_classes": [],
            "_model_module": "@jupyter-widgets/controls",
            "_model_module_version": "1.5.0",
            "_model_name": "FloatProgressModel",
            "_view_count": null,
            "_view_module": "@jupyter-widgets/controls",
            "_view_module_version": "1.5.0",
            "_view_name": "ProgressView",
            "bar_style": "success",
            "description": "",
            "description_tooltip": null,
            "layout": "IPY_MODEL_61b95fb499b2487a8b769b1a6c054e0a",
            "max": 112,
            "min": 0,
            "orientation": "horizontal",
            "style": "IPY_MODEL_12b0f6289b45467599a87331a1a54d4d",
            "value": 112
          }
        },
        "6143e7a18bf541deb73f6808bd884df2": {
          "model_module": "@jupyter-widgets/controls",
          "model_name": "HTMLModel",
          "model_module_version": "1.5.0",
          "state": {
            "_dom_classes": [],
            "_model_module": "@jupyter-widgets/controls",
            "_model_module_version": "1.5.0",
            "_model_name": "HTMLModel",
            "_view_count": null,
            "_view_module": "@jupyter-widgets/controls",
            "_view_module_version": "1.5.0",
            "_view_name": "HTMLView",
            "description": "",
            "description_tooltip": null,
            "layout": "IPY_MODEL_88ff67af42bc46b9bb2e26addff30553",
            "placeholder": "​",
            "style": "IPY_MODEL_ec3613cc4fc543d8a02484bb1466667e",
            "value": " 112/112 [00:00&lt;00:00, 2.91kB/s]"
          }
        },
        "7b2b5a7681054b36915fc14ac3a77883": {
          "model_module": "@jupyter-widgets/base",
          "model_name": "LayoutModel",
          "model_module_version": "1.2.0",
          "state": {
            "_model_module": "@jupyter-widgets/base",
            "_model_module_version": "1.2.0",
            "_model_name": "LayoutModel",
            "_view_count": null,
            "_view_module": "@jupyter-widgets/base",
            "_view_module_version": "1.2.0",
            "_view_name": "LayoutView",
            "align_content": null,
            "align_items": null,
            "align_self": null,
            "border": null,
            "bottom": null,
            "display": null,
            "flex": null,
            "flex_flow": null,
            "grid_area": null,
            "grid_auto_columns": null,
            "grid_auto_flow": null,
            "grid_auto_rows": null,
            "grid_column": null,
            "grid_gap": null,
            "grid_row": null,
            "grid_template_areas": null,
            "grid_template_columns": null,
            "grid_template_rows": null,
            "height": null,
            "justify_content": null,
            "justify_items": null,
            "left": null,
            "margin": null,
            "max_height": null,
            "max_width": null,
            "min_height": null,
            "min_width": null,
            "object_fit": null,
            "object_position": null,
            "order": null,
            "overflow": null,
            "overflow_x": null,
            "overflow_y": null,
            "padding": null,
            "right": null,
            "top": null,
            "visibility": null,
            "width": null
          }
        },
        "8fab9019b4894bd79c07940c5c0bb37d": {
          "model_module": "@jupyter-widgets/base",
          "model_name": "LayoutModel",
          "model_module_version": "1.2.0",
          "state": {
            "_model_module": "@jupyter-widgets/base",
            "_model_module_version": "1.2.0",
            "_model_name": "LayoutModel",
            "_view_count": null,
            "_view_module": "@jupyter-widgets/base",
            "_view_module_version": "1.2.0",
            "_view_name": "LayoutView",
            "align_content": null,
            "align_items": null,
            "align_self": null,
            "border": null,
            "bottom": null,
            "display": null,
            "flex": null,
            "flex_flow": null,
            "grid_area": null,
            "grid_auto_columns": null,
            "grid_auto_flow": null,
            "grid_auto_rows": null,
            "grid_column": null,
            "grid_gap": null,
            "grid_row": null,
            "grid_template_areas": null,
            "grid_template_columns": null,
            "grid_template_rows": null,
            "height": null,
            "justify_content": null,
            "justify_items": null,
            "left": null,
            "margin": null,
            "max_height": null,
            "max_width": null,
            "min_height": null,
            "min_width": null,
            "object_fit": null,
            "object_position": null,
            "order": null,
            "overflow": null,
            "overflow_x": null,
            "overflow_y": null,
            "padding": null,
            "right": null,
            "top": null,
            "visibility": null,
            "width": null
          }
        },
        "0d5a14a65ed94d45aede2eeb43c6b30a": {
          "model_module": "@jupyter-widgets/controls",
          "model_name": "DescriptionStyleModel",
          "model_module_version": "1.5.0",
          "state": {
            "_model_module": "@jupyter-widgets/controls",
            "_model_module_version": "1.5.0",
            "_model_name": "DescriptionStyleModel",
            "_view_count": null,
            "_view_module": "@jupyter-widgets/base",
            "_view_module_version": "1.2.0",
            "_view_name": "StyleView",
            "description_width": ""
          }
        },
        "61b95fb499b2487a8b769b1a6c054e0a": {
          "model_module": "@jupyter-widgets/base",
          "model_name": "LayoutModel",
          "model_module_version": "1.2.0",
          "state": {
            "_model_module": "@jupyter-widgets/base",
            "_model_module_version": "1.2.0",
            "_model_name": "LayoutModel",
            "_view_count": null,
            "_view_module": "@jupyter-widgets/base",
            "_view_module_version": "1.2.0",
            "_view_name": "LayoutView",
            "align_content": null,
            "align_items": null,
            "align_self": null,
            "border": null,
            "bottom": null,
            "display": null,
            "flex": null,
            "flex_flow": null,
            "grid_area": null,
            "grid_auto_columns": null,
            "grid_auto_flow": null,
            "grid_auto_rows": null,
            "grid_column": null,
            "grid_gap": null,
            "grid_row": null,
            "grid_template_areas": null,
            "grid_template_columns": null,
            "grid_template_rows": null,
            "height": null,
            "justify_content": null,
            "justify_items": null,
            "left": null,
            "margin": null,
            "max_height": null,
            "max_width": null,
            "min_height": null,
            "min_width": null,
            "object_fit": null,
            "object_position": null,
            "order": null,
            "overflow": null,
            "overflow_x": null,
            "overflow_y": null,
            "padding": null,
            "right": null,
            "top": null,
            "visibility": null,
            "width": null
          }
        },
        "12b0f6289b45467599a87331a1a54d4d": {
          "model_module": "@jupyter-widgets/controls",
          "model_name": "ProgressStyleModel",
          "model_module_version": "1.5.0",
          "state": {
            "_model_module": "@jupyter-widgets/controls",
            "_model_module_version": "1.5.0",
            "_model_name": "ProgressStyleModel",
            "_view_count": null,
            "_view_module": "@jupyter-widgets/base",
            "_view_module_version": "1.2.0",
            "_view_name": "StyleView",
            "bar_color": null,
            "description_width": ""
          }
        },
        "88ff67af42bc46b9bb2e26addff30553": {
          "model_module": "@jupyter-widgets/base",
          "model_name": "LayoutModel",
          "model_module_version": "1.2.0",
          "state": {
            "_model_module": "@jupyter-widgets/base",
            "_model_module_version": "1.2.0",
            "_model_name": "LayoutModel",
            "_view_count": null,
            "_view_module": "@jupyter-widgets/base",
            "_view_module_version": "1.2.0",
            "_view_name": "LayoutView",
            "align_content": null,
            "align_items": null,
            "align_self": null,
            "border": null,
            "bottom": null,
            "display": null,
            "flex": null,
            "flex_flow": null,
            "grid_area": null,
            "grid_auto_columns": null,
            "grid_auto_flow": null,
            "grid_auto_rows": null,
            "grid_column": null,
            "grid_gap": null,
            "grid_row": null,
            "grid_template_areas": null,
            "grid_template_columns": null,
            "grid_template_rows": null,
            "height": null,
            "justify_content": null,
            "justify_items": null,
            "left": null,
            "margin": null,
            "max_height": null,
            "max_width": null,
            "min_height": null,
            "min_width": null,
            "object_fit": null,
            "object_position": null,
            "order": null,
            "overflow": null,
            "overflow_x": null,
            "overflow_y": null,
            "padding": null,
            "right": null,
            "top": null,
            "visibility": null,
            "width": null
          }
        },
        "ec3613cc4fc543d8a02484bb1466667e": {
          "model_module": "@jupyter-widgets/controls",
          "model_name": "DescriptionStyleModel",
          "model_module_version": "1.5.0",
          "state": {
            "_model_module": "@jupyter-widgets/controls",
            "_model_module_version": "1.5.0",
            "_model_name": "DescriptionStyleModel",
            "_view_count": null,
            "_view_module": "@jupyter-widgets/base",
            "_view_module_version": "1.2.0",
            "_view_name": "StyleView",
            "description_width": ""
          }
        },
        "aa519eb408cd42fe907c68331c84de1c": {
          "model_module": "@jupyter-widgets/controls",
          "model_name": "HBoxModel",
          "model_module_version": "1.5.0",
          "state": {
            "_dom_classes": [],
            "_model_module": "@jupyter-widgets/controls",
            "_model_module_version": "1.5.0",
            "_model_name": "HBoxModel",
            "_view_count": null,
            "_view_module": "@jupyter-widgets/controls",
            "_view_module_version": "1.5.0",
            "_view_name": "HBoxView",
            "box_style": "",
            "children": [
              "IPY_MODEL_4014e15254e44bfea23d7a3a57dce2f9",
              "IPY_MODEL_369426efd8f444dd87656e3d3abc9c8f",
              "IPY_MODEL_6387c5a07ff7410eb38c909644561501"
            ],
            "layout": "IPY_MODEL_d81e7a733efa4075a48122350411131f"
          }
        },
        "4014e15254e44bfea23d7a3a57dce2f9": {
          "model_module": "@jupyter-widgets/controls",
          "model_name": "HTMLModel",
          "model_module_version": "1.5.0",
          "state": {
            "_dom_classes": [],
            "_model_module": "@jupyter-widgets/controls",
            "_model_module_version": "1.5.0",
            "_model_name": "HTMLModel",
            "_view_count": null,
            "_view_module": "@jupyter-widgets/controls",
            "_view_module_version": "1.5.0",
            "_view_name": "HTMLView",
            "description": "",
            "description_tooltip": null,
            "layout": "IPY_MODEL_fa5350a056b9408e8de71b50e758b8d7",
            "placeholder": "​",
            "style": "IPY_MODEL_c2fd46b1ed6d41ec98ea2424b075ce94",
            "value": "Downloading: 100%"
          }
        },
        "369426efd8f444dd87656e3d3abc9c8f": {
          "model_module": "@jupyter-widgets/controls",
          "model_name": "FloatProgressModel",
          "model_module_version": "1.5.0",
          "state": {
            "_dom_classes": [],
            "_model_module": "@jupyter-widgets/controls",
            "_model_module_version": "1.5.0",
            "_model_name": "FloatProgressModel",
            "_view_count": null,
            "_view_module": "@jupyter-widgets/controls",
            "_view_module_version": "1.5.0",
            "_view_name": "ProgressView",
            "bar_style": "success",
            "description": "",
            "description_tooltip": null,
            "layout": "IPY_MODEL_f5e236407e264acc850ad07a4162cae5",
            "max": 2,
            "min": 0,
            "orientation": "horizontal",
            "style": "IPY_MODEL_b2b1fdd648d544428f7c0fb65849d14f",
            "value": 2
          }
        },
        "6387c5a07ff7410eb38c909644561501": {
          "model_module": "@jupyter-widgets/controls",
          "model_name": "HTMLModel",
          "model_module_version": "1.5.0",
          "state": {
            "_dom_classes": [],
            "_model_module": "@jupyter-widgets/controls",
            "_model_module_version": "1.5.0",
            "_model_name": "HTMLModel",
            "_view_count": null,
            "_view_module": "@jupyter-widgets/controls",
            "_view_module_version": "1.5.0",
            "_view_name": "HTMLView",
            "description": "",
            "description_tooltip": null,
            "layout": "IPY_MODEL_c90fb476f20e4a7891e2db165afc2566",
            "placeholder": "​",
            "style": "IPY_MODEL_d5b77e61d35e47b38bf912be72d12cf1",
            "value": " 2.00/2.00 [00:00&lt;00:00, 65.5B/s]"
          }
        },
        "d81e7a733efa4075a48122350411131f": {
          "model_module": "@jupyter-widgets/base",
          "model_name": "LayoutModel",
          "model_module_version": "1.2.0",
          "state": {
            "_model_module": "@jupyter-widgets/base",
            "_model_module_version": "1.2.0",
            "_model_name": "LayoutModel",
            "_view_count": null,
            "_view_module": "@jupyter-widgets/base",
            "_view_module_version": "1.2.0",
            "_view_name": "LayoutView",
            "align_content": null,
            "align_items": null,
            "align_self": null,
            "border": null,
            "bottom": null,
            "display": null,
            "flex": null,
            "flex_flow": null,
            "grid_area": null,
            "grid_auto_columns": null,
            "grid_auto_flow": null,
            "grid_auto_rows": null,
            "grid_column": null,
            "grid_gap": null,
            "grid_row": null,
            "grid_template_areas": null,
            "grid_template_columns": null,
            "grid_template_rows": null,
            "height": null,
            "justify_content": null,
            "justify_items": null,
            "left": null,
            "margin": null,
            "max_height": null,
            "max_width": null,
            "min_height": null,
            "min_width": null,
            "object_fit": null,
            "object_position": null,
            "order": null,
            "overflow": null,
            "overflow_x": null,
            "overflow_y": null,
            "padding": null,
            "right": null,
            "top": null,
            "visibility": null,
            "width": null
          }
        },
        "fa5350a056b9408e8de71b50e758b8d7": {
          "model_module": "@jupyter-widgets/base",
          "model_name": "LayoutModel",
          "model_module_version": "1.2.0",
          "state": {
            "_model_module": "@jupyter-widgets/base",
            "_model_module_version": "1.2.0",
            "_model_name": "LayoutModel",
            "_view_count": null,
            "_view_module": "@jupyter-widgets/base",
            "_view_module_version": "1.2.0",
            "_view_name": "LayoutView",
            "align_content": null,
            "align_items": null,
            "align_self": null,
            "border": null,
            "bottom": null,
            "display": null,
            "flex": null,
            "flex_flow": null,
            "grid_area": null,
            "grid_auto_columns": null,
            "grid_auto_flow": null,
            "grid_auto_rows": null,
            "grid_column": null,
            "grid_gap": null,
            "grid_row": null,
            "grid_template_areas": null,
            "grid_template_columns": null,
            "grid_template_rows": null,
            "height": null,
            "justify_content": null,
            "justify_items": null,
            "left": null,
            "margin": null,
            "max_height": null,
            "max_width": null,
            "min_height": null,
            "min_width": null,
            "object_fit": null,
            "object_position": null,
            "order": null,
            "overflow": null,
            "overflow_x": null,
            "overflow_y": null,
            "padding": null,
            "right": null,
            "top": null,
            "visibility": null,
            "width": null
          }
        },
        "c2fd46b1ed6d41ec98ea2424b075ce94": {
          "model_module": "@jupyter-widgets/controls",
          "model_name": "DescriptionStyleModel",
          "model_module_version": "1.5.0",
          "state": {
            "_model_module": "@jupyter-widgets/controls",
            "_model_module_version": "1.5.0",
            "_model_name": "DescriptionStyleModel",
            "_view_count": null,
            "_view_module": "@jupyter-widgets/base",
            "_view_module_version": "1.2.0",
            "_view_name": "StyleView",
            "description_width": ""
          }
        },
        "f5e236407e264acc850ad07a4162cae5": {
          "model_module": "@jupyter-widgets/base",
          "model_name": "LayoutModel",
          "model_module_version": "1.2.0",
          "state": {
            "_model_module": "@jupyter-widgets/base",
            "_model_module_version": "1.2.0",
            "_model_name": "LayoutModel",
            "_view_count": null,
            "_view_module": "@jupyter-widgets/base",
            "_view_module_version": "1.2.0",
            "_view_name": "LayoutView",
            "align_content": null,
            "align_items": null,
            "align_self": null,
            "border": null,
            "bottom": null,
            "display": null,
            "flex": null,
            "flex_flow": null,
            "grid_area": null,
            "grid_auto_columns": null,
            "grid_auto_flow": null,
            "grid_auto_rows": null,
            "grid_column": null,
            "grid_gap": null,
            "grid_row": null,
            "grid_template_areas": null,
            "grid_template_columns": null,
            "grid_template_rows": null,
            "height": null,
            "justify_content": null,
            "justify_items": null,
            "left": null,
            "margin": null,
            "max_height": null,
            "max_width": null,
            "min_height": null,
            "min_width": null,
            "object_fit": null,
            "object_position": null,
            "order": null,
            "overflow": null,
            "overflow_x": null,
            "overflow_y": null,
            "padding": null,
            "right": null,
            "top": null,
            "visibility": null,
            "width": null
          }
        },
        "b2b1fdd648d544428f7c0fb65849d14f": {
          "model_module": "@jupyter-widgets/controls",
          "model_name": "ProgressStyleModel",
          "model_module_version": "1.5.0",
          "state": {
            "_model_module": "@jupyter-widgets/controls",
            "_model_module_version": "1.5.0",
            "_model_name": "ProgressStyleModel",
            "_view_count": null,
            "_view_module": "@jupyter-widgets/base",
            "_view_module_version": "1.2.0",
            "_view_name": "StyleView",
            "bar_color": null,
            "description_width": ""
          }
        },
        "c90fb476f20e4a7891e2db165afc2566": {
          "model_module": "@jupyter-widgets/base",
          "model_name": "LayoutModel",
          "model_module_version": "1.2.0",
          "state": {
            "_model_module": "@jupyter-widgets/base",
            "_model_module_version": "1.2.0",
            "_model_name": "LayoutModel",
            "_view_count": null,
            "_view_module": "@jupyter-widgets/base",
            "_view_module_version": "1.2.0",
            "_view_name": "LayoutView",
            "align_content": null,
            "align_items": null,
            "align_self": null,
            "border": null,
            "bottom": null,
            "display": null,
            "flex": null,
            "flex_flow": null,
            "grid_area": null,
            "grid_auto_columns": null,
            "grid_auto_flow": null,
            "grid_auto_rows": null,
            "grid_column": null,
            "grid_gap": null,
            "grid_row": null,
            "grid_template_areas": null,
            "grid_template_columns": null,
            "grid_template_rows": null,
            "height": null,
            "justify_content": null,
            "justify_items": null,
            "left": null,
            "margin": null,
            "max_height": null,
            "max_width": null,
            "min_height": null,
            "min_width": null,
            "object_fit": null,
            "object_position": null,
            "order": null,
            "overflow": null,
            "overflow_x": null,
            "overflow_y": null,
            "padding": null,
            "right": null,
            "top": null,
            "visibility": null,
            "width": null
          }
        },
        "d5b77e61d35e47b38bf912be72d12cf1": {
          "model_module": "@jupyter-widgets/controls",
          "model_name": "DescriptionStyleModel",
          "model_module_version": "1.5.0",
          "state": {
            "_model_module": "@jupyter-widgets/controls",
            "_model_module_version": "1.5.0",
            "_model_name": "DescriptionStyleModel",
            "_view_count": null,
            "_view_module": "@jupyter-widgets/base",
            "_view_module_version": "1.2.0",
            "_view_name": "StyleView",
            "description_width": ""
          }
        },
        "3c266e78f5734b739812964e8edb84cb": {
          "model_module": "@jupyter-widgets/controls",
          "model_name": "HBoxModel",
          "model_module_version": "1.5.0",
          "state": {
            "_dom_classes": [],
            "_model_module": "@jupyter-widgets/controls",
            "_model_module_version": "1.5.0",
            "_model_name": "HBoxModel",
            "_view_count": null,
            "_view_module": "@jupyter-widgets/controls",
            "_view_module_version": "1.5.0",
            "_view_name": "HBoxView",
            "box_style": "",
            "children": [
              "IPY_MODEL_a0e4dc76429d449ea45a9a8fc0cc28fb",
              "IPY_MODEL_9932bc3154464ceb99ba5742947d35f1",
              "IPY_MODEL_9c8e6c6865d145579a468f59af74c496"
            ],
            "layout": "IPY_MODEL_8f7ae4ba8b2e4e8ebde9e6552ac34dc0"
          }
        },
        "a0e4dc76429d449ea45a9a8fc0cc28fb": {
          "model_module": "@jupyter-widgets/controls",
          "model_name": "HTMLModel",
          "model_module_version": "1.5.0",
          "state": {
            "_dom_classes": [],
            "_model_module": "@jupyter-widgets/controls",
            "_model_module_version": "1.5.0",
            "_model_name": "HTMLModel",
            "_view_count": null,
            "_view_module": "@jupyter-widgets/controls",
            "_view_module_version": "1.5.0",
            "_view_name": "HTMLView",
            "description": "",
            "description_tooltip": null,
            "layout": "IPY_MODEL_f630e32477764ec6bb18d3466f2b5e1f",
            "placeholder": "​",
            "style": "IPY_MODEL_75fbed1ec1aa4e5dac2a40f78cda54b9",
            "value": "Downloading: 100%"
          }
        },
        "9932bc3154464ceb99ba5742947d35f1": {
          "model_module": "@jupyter-widgets/controls",
          "model_name": "FloatProgressModel",
          "model_module_version": "1.5.0",
          "state": {
            "_dom_classes": [],
            "_model_module": "@jupyter-widgets/controls",
            "_model_module_version": "1.5.0",
            "_model_name": "FloatProgressModel",
            "_view_count": null,
            "_view_module": "@jupyter-widgets/controls",
            "_view_module_version": "1.5.0",
            "_view_name": "ProgressView",
            "bar_style": "success",
            "description": "",
            "description_tooltip": null,
            "layout": "IPY_MODEL_53530cab123e410faa668ee6b8d0c6f8",
            "max": 1534,
            "min": 0,
            "orientation": "horizontal",
            "style": "IPY_MODEL_58af8a31dbe34e26b854a1649a904291",
            "value": 1534
          }
        },
        "9c8e6c6865d145579a468f59af74c496": {
          "model_module": "@jupyter-widgets/controls",
          "model_name": "HTMLModel",
          "model_module_version": "1.5.0",
          "state": {
            "_dom_classes": [],
            "_model_module": "@jupyter-widgets/controls",
            "_model_module_version": "1.5.0",
            "_model_name": "HTMLModel",
            "_view_count": null,
            "_view_module": "@jupyter-widgets/controls",
            "_view_module_version": "1.5.0",
            "_view_name": "HTMLView",
            "description": "",
            "description_tooltip": null,
            "layout": "IPY_MODEL_c10540906c794d13b17b79a0bb9de4d5",
            "placeholder": "​",
            "style": "IPY_MODEL_b31988faf63d44cc80969829a037b590",
            "value": " 1.53k/1.53k [00:00&lt;00:00, 49.0kB/s]"
          }
        },
        "8f7ae4ba8b2e4e8ebde9e6552ac34dc0": {
          "model_module": "@jupyter-widgets/base",
          "model_name": "LayoutModel",
          "model_module_version": "1.2.0",
          "state": {
            "_model_module": "@jupyter-widgets/base",
            "_model_module_version": "1.2.0",
            "_model_name": "LayoutModel",
            "_view_count": null,
            "_view_module": "@jupyter-widgets/base",
            "_view_module_version": "1.2.0",
            "_view_name": "LayoutView",
            "align_content": null,
            "align_items": null,
            "align_self": null,
            "border": null,
            "bottom": null,
            "display": null,
            "flex": null,
            "flex_flow": null,
            "grid_area": null,
            "grid_auto_columns": null,
            "grid_auto_flow": null,
            "grid_auto_rows": null,
            "grid_column": null,
            "grid_gap": null,
            "grid_row": null,
            "grid_template_areas": null,
            "grid_template_columns": null,
            "grid_template_rows": null,
            "height": null,
            "justify_content": null,
            "justify_items": null,
            "left": null,
            "margin": null,
            "max_height": null,
            "max_width": null,
            "min_height": null,
            "min_width": null,
            "object_fit": null,
            "object_position": null,
            "order": null,
            "overflow": null,
            "overflow_x": null,
            "overflow_y": null,
            "padding": null,
            "right": null,
            "top": null,
            "visibility": null,
            "width": null
          }
        },
        "f630e32477764ec6bb18d3466f2b5e1f": {
          "model_module": "@jupyter-widgets/base",
          "model_name": "LayoutModel",
          "model_module_version": "1.2.0",
          "state": {
            "_model_module": "@jupyter-widgets/base",
            "_model_module_version": "1.2.0",
            "_model_name": "LayoutModel",
            "_view_count": null,
            "_view_module": "@jupyter-widgets/base",
            "_view_module_version": "1.2.0",
            "_view_name": "LayoutView",
            "align_content": null,
            "align_items": null,
            "align_self": null,
            "border": null,
            "bottom": null,
            "display": null,
            "flex": null,
            "flex_flow": null,
            "grid_area": null,
            "grid_auto_columns": null,
            "grid_auto_flow": null,
            "grid_auto_rows": null,
            "grid_column": null,
            "grid_gap": null,
            "grid_row": null,
            "grid_template_areas": null,
            "grid_template_columns": null,
            "grid_template_rows": null,
            "height": null,
            "justify_content": null,
            "justify_items": null,
            "left": null,
            "margin": null,
            "max_height": null,
            "max_width": null,
            "min_height": null,
            "min_width": null,
            "object_fit": null,
            "object_position": null,
            "order": null,
            "overflow": null,
            "overflow_x": null,
            "overflow_y": null,
            "padding": null,
            "right": null,
            "top": null,
            "visibility": null,
            "width": null
          }
        },
        "75fbed1ec1aa4e5dac2a40f78cda54b9": {
          "model_module": "@jupyter-widgets/controls",
          "model_name": "DescriptionStyleModel",
          "model_module_version": "1.5.0",
          "state": {
            "_model_module": "@jupyter-widgets/controls",
            "_model_module_version": "1.5.0",
            "_model_name": "DescriptionStyleModel",
            "_view_count": null,
            "_view_module": "@jupyter-widgets/base",
            "_view_module_version": "1.2.0",
            "_view_name": "StyleView",
            "description_width": ""
          }
        },
        "53530cab123e410faa668ee6b8d0c6f8": {
          "model_module": "@jupyter-widgets/base",
          "model_name": "LayoutModel",
          "model_module_version": "1.2.0",
          "state": {
            "_model_module": "@jupyter-widgets/base",
            "_model_module_version": "1.2.0",
            "_model_name": "LayoutModel",
            "_view_count": null,
            "_view_module": "@jupyter-widgets/base",
            "_view_module_version": "1.2.0",
            "_view_name": "LayoutView",
            "align_content": null,
            "align_items": null,
            "align_self": null,
            "border": null,
            "bottom": null,
            "display": null,
            "flex": null,
            "flex_flow": null,
            "grid_area": null,
            "grid_auto_columns": null,
            "grid_auto_flow": null,
            "grid_auto_rows": null,
            "grid_column": null,
            "grid_gap": null,
            "grid_row": null,
            "grid_template_areas": null,
            "grid_template_columns": null,
            "grid_template_rows": null,
            "height": null,
            "justify_content": null,
            "justify_items": null,
            "left": null,
            "margin": null,
            "max_height": null,
            "max_width": null,
            "min_height": null,
            "min_width": null,
            "object_fit": null,
            "object_position": null,
            "order": null,
            "overflow": null,
            "overflow_x": null,
            "overflow_y": null,
            "padding": null,
            "right": null,
            "top": null,
            "visibility": null,
            "width": null
          }
        },
        "58af8a31dbe34e26b854a1649a904291": {
          "model_module": "@jupyter-widgets/controls",
          "model_name": "ProgressStyleModel",
          "model_module_version": "1.5.0",
          "state": {
            "_model_module": "@jupyter-widgets/controls",
            "_model_module_version": "1.5.0",
            "_model_name": "ProgressStyleModel",
            "_view_count": null,
            "_view_module": "@jupyter-widgets/base",
            "_view_module_version": "1.2.0",
            "_view_name": "StyleView",
            "bar_color": null,
            "description_width": ""
          }
        },
        "c10540906c794d13b17b79a0bb9de4d5": {
          "model_module": "@jupyter-widgets/base",
          "model_name": "LayoutModel",
          "model_module_version": "1.2.0",
          "state": {
            "_model_module": "@jupyter-widgets/base",
            "_model_module_version": "1.2.0",
            "_model_name": "LayoutModel",
            "_view_count": null,
            "_view_module": "@jupyter-widgets/base",
            "_view_module_version": "1.2.0",
            "_view_name": "LayoutView",
            "align_content": null,
            "align_items": null,
            "align_self": null,
            "border": null,
            "bottom": null,
            "display": null,
            "flex": null,
            "flex_flow": null,
            "grid_area": null,
            "grid_auto_columns": null,
            "grid_auto_flow": null,
            "grid_auto_rows": null,
            "grid_column": null,
            "grid_gap": null,
            "grid_row": null,
            "grid_template_areas": null,
            "grid_template_columns": null,
            "grid_template_rows": null,
            "height": null,
            "justify_content": null,
            "justify_items": null,
            "left": null,
            "margin": null,
            "max_height": null,
            "max_width": null,
            "min_height": null,
            "min_width": null,
            "object_fit": null,
            "object_position": null,
            "order": null,
            "overflow": null,
            "overflow_x": null,
            "overflow_y": null,
            "padding": null,
            "right": null,
            "top": null,
            "visibility": null,
            "width": null
          }
        },
        "b31988faf63d44cc80969829a037b590": {
          "model_module": "@jupyter-widgets/controls",
          "model_name": "DescriptionStyleModel",
          "model_module_version": "1.5.0",
          "state": {
            "_model_module": "@jupyter-widgets/controls",
            "_model_module_version": "1.5.0",
            "_model_name": "DescriptionStyleModel",
            "_view_count": null,
            "_view_module": "@jupyter-widgets/base",
            "_view_module_version": "1.2.0",
            "_view_name": "StyleView",
            "description_width": ""
          }
        },
        "8872f9cd1da84dd3b0b29133408ad7de": {
          "model_module": "@jupyter-widgets/controls",
          "model_name": "HBoxModel",
          "model_module_version": "1.5.0",
          "state": {
            "_dom_classes": [],
            "_model_module": "@jupyter-widgets/controls",
            "_model_module_version": "1.5.0",
            "_model_name": "HBoxModel",
            "_view_count": null,
            "_view_module": "@jupyter-widgets/controls",
            "_view_module_version": "1.5.0",
            "_view_name": "HBoxView",
            "box_style": "",
            "children": [
              "IPY_MODEL_ffa1c1453c8a41ea9151d663a8c29271",
              "IPY_MODEL_e985a99d95ec467da73d8a2374c49e1d",
              "IPY_MODEL_0e9f00198dce490b8cad7b5bc19cb6ab"
            ],
            "layout": "IPY_MODEL_9b9893ab039840e09215b85b1401bcf2"
          }
        },
        "ffa1c1453c8a41ea9151d663a8c29271": {
          "model_module": "@jupyter-widgets/controls",
          "model_name": "HTMLModel",
          "model_module_version": "1.5.0",
          "state": {
            "_dom_classes": [],
            "_model_module": "@jupyter-widgets/controls",
            "_model_module_version": "1.5.0",
            "_model_name": "HTMLModel",
            "_view_count": null,
            "_view_module": "@jupyter-widgets/controls",
            "_view_module_version": "1.5.0",
            "_view_name": "HTMLView",
            "description": "",
            "description_tooltip": null,
            "layout": "IPY_MODEL_2e74ae0cdefb4f679e452bb9e8a16381",
            "placeholder": "​",
            "style": "IPY_MODEL_9f71bde9eed84dd59a6ef3a4c5400459",
            "value": "Downloading: 100%"
          }
        },
        "e985a99d95ec467da73d8a2374c49e1d": {
          "model_module": "@jupyter-widgets/controls",
          "model_name": "FloatProgressModel",
          "model_module_version": "1.5.0",
          "state": {
            "_dom_classes": [],
            "_model_module": "@jupyter-widgets/controls",
            "_model_module_version": "1.5.0",
            "_model_name": "FloatProgressModel",
            "_view_count": null,
            "_view_module": "@jupyter-widgets/controls",
            "_view_module_version": "1.5.0",
            "_view_name": "ProgressView",
            "bar_style": "success",
            "description": "",
            "description_tooltip": null,
            "layout": "IPY_MODEL_724f7ff0c8d04382bb77e75212bb6a4b",
            "max": 497810400,
            "min": 0,
            "orientation": "horizontal",
            "style": "IPY_MODEL_1a78d5fe4cd94eb0861709fbdeac9037",
            "value": 497810400
          }
        },
        "0e9f00198dce490b8cad7b5bc19cb6ab": {
          "model_module": "@jupyter-widgets/controls",
          "model_name": "HTMLModel",
          "model_module_version": "1.5.0",
          "state": {
            "_dom_classes": [],
            "_model_module": "@jupyter-widgets/controls",
            "_model_module_version": "1.5.0",
            "_model_name": "HTMLModel",
            "_view_count": null,
            "_view_module": "@jupyter-widgets/controls",
            "_view_module_version": "1.5.0",
            "_view_name": "HTMLView",
            "description": "",
            "description_tooltip": null,
            "layout": "IPY_MODEL_30cea123aa98497da4a4aa53330ccf7a",
            "placeholder": "​",
            "style": "IPY_MODEL_553aa1c55eb6431cb99fd82776913c57",
            "value": " 498M/498M [00:08&lt;00:00, 57.4MB/s]"
          }
        },
        "9b9893ab039840e09215b85b1401bcf2": {
          "model_module": "@jupyter-widgets/base",
          "model_name": "LayoutModel",
          "model_module_version": "1.2.0",
          "state": {
            "_model_module": "@jupyter-widgets/base",
            "_model_module_version": "1.2.0",
            "_model_name": "LayoutModel",
            "_view_count": null,
            "_view_module": "@jupyter-widgets/base",
            "_view_module_version": "1.2.0",
            "_view_name": "LayoutView",
            "align_content": null,
            "align_items": null,
            "align_self": null,
            "border": null,
            "bottom": null,
            "display": null,
            "flex": null,
            "flex_flow": null,
            "grid_area": null,
            "grid_auto_columns": null,
            "grid_auto_flow": null,
            "grid_auto_rows": null,
            "grid_column": null,
            "grid_gap": null,
            "grid_row": null,
            "grid_template_areas": null,
            "grid_template_columns": null,
            "grid_template_rows": null,
            "height": null,
            "justify_content": null,
            "justify_items": null,
            "left": null,
            "margin": null,
            "max_height": null,
            "max_width": null,
            "min_height": null,
            "min_width": null,
            "object_fit": null,
            "object_position": null,
            "order": null,
            "overflow": null,
            "overflow_x": null,
            "overflow_y": null,
            "padding": null,
            "right": null,
            "top": null,
            "visibility": null,
            "width": null
          }
        },
        "2e74ae0cdefb4f679e452bb9e8a16381": {
          "model_module": "@jupyter-widgets/base",
          "model_name": "LayoutModel",
          "model_module_version": "1.2.0",
          "state": {
            "_model_module": "@jupyter-widgets/base",
            "_model_module_version": "1.2.0",
            "_model_name": "LayoutModel",
            "_view_count": null,
            "_view_module": "@jupyter-widgets/base",
            "_view_module_version": "1.2.0",
            "_view_name": "LayoutView",
            "align_content": null,
            "align_items": null,
            "align_self": null,
            "border": null,
            "bottom": null,
            "display": null,
            "flex": null,
            "flex_flow": null,
            "grid_area": null,
            "grid_auto_columns": null,
            "grid_auto_flow": null,
            "grid_auto_rows": null,
            "grid_column": null,
            "grid_gap": null,
            "grid_row": null,
            "grid_template_areas": null,
            "grid_template_columns": null,
            "grid_template_rows": null,
            "height": null,
            "justify_content": null,
            "justify_items": null,
            "left": null,
            "margin": null,
            "max_height": null,
            "max_width": null,
            "min_height": null,
            "min_width": null,
            "object_fit": null,
            "object_position": null,
            "order": null,
            "overflow": null,
            "overflow_x": null,
            "overflow_y": null,
            "padding": null,
            "right": null,
            "top": null,
            "visibility": null,
            "width": null
          }
        },
        "9f71bde9eed84dd59a6ef3a4c5400459": {
          "model_module": "@jupyter-widgets/controls",
          "model_name": "DescriptionStyleModel",
          "model_module_version": "1.5.0",
          "state": {
            "_model_module": "@jupyter-widgets/controls",
            "_model_module_version": "1.5.0",
            "_model_name": "DescriptionStyleModel",
            "_view_count": null,
            "_view_module": "@jupyter-widgets/base",
            "_view_module_version": "1.2.0",
            "_view_name": "StyleView",
            "description_width": ""
          }
        },
        "724f7ff0c8d04382bb77e75212bb6a4b": {
          "model_module": "@jupyter-widgets/base",
          "model_name": "LayoutModel",
          "model_module_version": "1.2.0",
          "state": {
            "_model_module": "@jupyter-widgets/base",
            "_model_module_version": "1.2.0",
            "_model_name": "LayoutModel",
            "_view_count": null,
            "_view_module": "@jupyter-widgets/base",
            "_view_module_version": "1.2.0",
            "_view_name": "LayoutView",
            "align_content": null,
            "align_items": null,
            "align_self": null,
            "border": null,
            "bottom": null,
            "display": null,
            "flex": null,
            "flex_flow": null,
            "grid_area": null,
            "grid_auto_columns": null,
            "grid_auto_flow": null,
            "grid_auto_rows": null,
            "grid_column": null,
            "grid_gap": null,
            "grid_row": null,
            "grid_template_areas": null,
            "grid_template_columns": null,
            "grid_template_rows": null,
            "height": null,
            "justify_content": null,
            "justify_items": null,
            "left": null,
            "margin": null,
            "max_height": null,
            "max_width": null,
            "min_height": null,
            "min_width": null,
            "object_fit": null,
            "object_position": null,
            "order": null,
            "overflow": null,
            "overflow_x": null,
            "overflow_y": null,
            "padding": null,
            "right": null,
            "top": null,
            "visibility": null,
            "width": null
          }
        },
        "1a78d5fe4cd94eb0861709fbdeac9037": {
          "model_module": "@jupyter-widgets/controls",
          "model_name": "ProgressStyleModel",
          "model_module_version": "1.5.0",
          "state": {
            "_model_module": "@jupyter-widgets/controls",
            "_model_module_version": "1.5.0",
            "_model_name": "ProgressStyleModel",
            "_view_count": null,
            "_view_module": "@jupyter-widgets/base",
            "_view_module_version": "1.2.0",
            "_view_name": "StyleView",
            "bar_color": null,
            "description_width": ""
          }
        },
        "30cea123aa98497da4a4aa53330ccf7a": {
          "model_module": "@jupyter-widgets/base",
          "model_name": "LayoutModel",
          "model_module_version": "1.2.0",
          "state": {
            "_model_module": "@jupyter-widgets/base",
            "_model_module_version": "1.2.0",
            "_model_name": "LayoutModel",
            "_view_count": null,
            "_view_module": "@jupyter-widgets/base",
            "_view_module_version": "1.2.0",
            "_view_name": "LayoutView",
            "align_content": null,
            "align_items": null,
            "align_self": null,
            "border": null,
            "bottom": null,
            "display": null,
            "flex": null,
            "flex_flow": null,
            "grid_area": null,
            "grid_auto_columns": null,
            "grid_auto_flow": null,
            "grid_auto_rows": null,
            "grid_column": null,
            "grid_gap": null,
            "grid_row": null,
            "grid_template_areas": null,
            "grid_template_columns": null,
            "grid_template_rows": null,
            "height": null,
            "justify_content": null,
            "justify_items": null,
            "left": null,
            "margin": null,
            "max_height": null,
            "max_width": null,
            "min_height": null,
            "min_width": null,
            "object_fit": null,
            "object_position": null,
            "order": null,
            "overflow": null,
            "overflow_x": null,
            "overflow_y": null,
            "padding": null,
            "right": null,
            "top": null,
            "visibility": null,
            "width": null
          }
        },
        "553aa1c55eb6431cb99fd82776913c57": {
          "model_module": "@jupyter-widgets/controls",
          "model_name": "DescriptionStyleModel",
          "model_module_version": "1.5.0",
          "state": {
            "_model_module": "@jupyter-widgets/controls",
            "_model_module_version": "1.5.0",
            "_model_name": "DescriptionStyleModel",
            "_view_count": null,
            "_view_module": "@jupyter-widgets/base",
            "_view_module_version": "1.2.0",
            "_view_name": "StyleView",
            "description_width": ""
          }
        }
      }
    }
  },
  "nbformat": 4,
  "nbformat_minor": 5
}