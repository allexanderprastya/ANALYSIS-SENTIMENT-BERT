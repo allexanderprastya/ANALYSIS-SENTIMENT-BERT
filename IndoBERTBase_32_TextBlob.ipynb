{
  "cells": [
    {
      "cell_type": "markdown",
      "metadata": {
        "id": "view-in-github",
        "colab_type": "text"
      },
      "source": [
        "<a href=\"https://colab.research.google.com/github/allexanderprastya/PROJECT-TA-JURNAL/blob/main/IndoBERTBase_32_TextBlob.ipynb\" target=\"_parent\"><img src=\"https://colab.research.google.com/assets/colab-badge.svg\" alt=\"Open In Colab\"/></a>"
      ]
    },
    {
      "cell_type": "markdown",
      "metadata": {
        "id": "36e62642"
      },
      "source": [
        "# Multi-Class Sentiment Analysis with BERT"
      ],
      "id": "36e62642"
    },
    {
      "cell_type": "code",
      "execution_count": 1,
      "metadata": {
        "id": "811fa6ad",
        "colab": {
          "base_uri": "https://localhost:8080/"
        },
        "outputId": "266674c0-05ec-4fe4-d65e-76d8ce4b52a8"
      },
      "outputs": [
        {
          "output_type": "stream",
          "name": "stdout",
          "text": [
            "\u001b[?25l\r\u001b[K     |▏                               | 10 kB 35.1 MB/s eta 0:00:01\r\u001b[K     |▍                               | 20 kB 40.0 MB/s eta 0:00:01\r\u001b[K     |▋                               | 30 kB 48.8 MB/s eta 0:00:01\r\u001b[K     |▉                               | 40 kB 24.5 MB/s eta 0:00:01\r\u001b[K     |█                               | 51 kB 27.8 MB/s eta 0:00:01\r\u001b[K     |█▎                              | 61 kB 31.7 MB/s eta 0:00:01\r\u001b[K     |█▌                              | 71 kB 26.8 MB/s eta 0:00:01\r\u001b[K     |█▊                              | 81 kB 27.9 MB/s eta 0:00:01\r\u001b[K     |█▉                              | 92 kB 29.8 MB/s eta 0:00:01\r\u001b[K     |██                              | 102 kB 31.9 MB/s eta 0:00:01\r\u001b[K     |██▎                             | 112 kB 31.9 MB/s eta 0:00:01\r\u001b[K     |██▌                             | 122 kB 31.9 MB/s eta 0:00:01\r\u001b[K     |██▊                             | 133 kB 31.9 MB/s eta 0:00:01\r\u001b[K     |███                             | 143 kB 31.9 MB/s eta 0:00:01\r\u001b[K     |███▏                            | 153 kB 31.9 MB/s eta 0:00:01\r\u001b[K     |███▍                            | 163 kB 31.9 MB/s eta 0:00:01\r\u001b[K     |███▌                            | 174 kB 31.9 MB/s eta 0:00:01\r\u001b[K     |███▊                            | 184 kB 31.9 MB/s eta 0:00:01\r\u001b[K     |████                            | 194 kB 31.9 MB/s eta 0:00:01\r\u001b[K     |████▏                           | 204 kB 31.9 MB/s eta 0:00:01\r\u001b[K     |████▍                           | 215 kB 31.9 MB/s eta 0:00:01\r\u001b[K     |████▋                           | 225 kB 31.9 MB/s eta 0:00:01\r\u001b[K     |████▉                           | 235 kB 31.9 MB/s eta 0:00:01\r\u001b[K     |█████                           | 245 kB 31.9 MB/s eta 0:00:01\r\u001b[K     |█████▎                          | 256 kB 31.9 MB/s eta 0:00:01\r\u001b[K     |█████▍                          | 266 kB 31.9 MB/s eta 0:00:01\r\u001b[K     |█████▋                          | 276 kB 31.9 MB/s eta 0:00:01\r\u001b[K     |█████▉                          | 286 kB 31.9 MB/s eta 0:00:01\r\u001b[K     |██████                          | 296 kB 31.9 MB/s eta 0:00:01\r\u001b[K     |██████▎                         | 307 kB 31.9 MB/s eta 0:00:01\r\u001b[K     |██████▌                         | 317 kB 31.9 MB/s eta 0:00:01\r\u001b[K     |██████▊                         | 327 kB 31.9 MB/s eta 0:00:01\r\u001b[K     |███████                         | 337 kB 31.9 MB/s eta 0:00:01\r\u001b[K     |███████                         | 348 kB 31.9 MB/s eta 0:00:01\r\u001b[K     |███████▎                        | 358 kB 31.9 MB/s eta 0:00:01\r\u001b[K     |███████▌                        | 368 kB 31.9 MB/s eta 0:00:01\r\u001b[K     |███████▊                        | 378 kB 31.9 MB/s eta 0:00:01\r\u001b[K     |████████                        | 389 kB 31.9 MB/s eta 0:00:01\r\u001b[K     |████████▏                       | 399 kB 31.9 MB/s eta 0:00:01\r\u001b[K     |████████▍                       | 409 kB 31.9 MB/s eta 0:00:01\r\u001b[K     |████████▋                       | 419 kB 31.9 MB/s eta 0:00:01\r\u001b[K     |████████▊                       | 430 kB 31.9 MB/s eta 0:00:01\r\u001b[K     |█████████                       | 440 kB 31.9 MB/s eta 0:00:01\r\u001b[K     |█████████▏                      | 450 kB 31.9 MB/s eta 0:00:01\r\u001b[K     |█████████▍                      | 460 kB 31.9 MB/s eta 0:00:01\r\u001b[K     |█████████▋                      | 471 kB 31.9 MB/s eta 0:00:01\r\u001b[K     |█████████▉                      | 481 kB 31.9 MB/s eta 0:00:01\r\u001b[K     |██████████                      | 491 kB 31.9 MB/s eta 0:00:01\r\u001b[K     |██████████▎                     | 501 kB 31.9 MB/s eta 0:00:01\r\u001b[K     |██████████▌                     | 512 kB 31.9 MB/s eta 0:00:01\r\u001b[K     |██████████▋                     | 522 kB 31.9 MB/s eta 0:00:01\r\u001b[K     |██████████▉                     | 532 kB 31.9 MB/s eta 0:00:01\r\u001b[K     |███████████                     | 542 kB 31.9 MB/s eta 0:00:01\r\u001b[K     |███████████▎                    | 552 kB 31.9 MB/s eta 0:00:01\r\u001b[K     |███████████▌                    | 563 kB 31.9 MB/s eta 0:00:01\r\u001b[K     |███████████▊                    | 573 kB 31.9 MB/s eta 0:00:01\r\u001b[K     |████████████                    | 583 kB 31.9 MB/s eta 0:00:01\r\u001b[K     |████████████▏                   | 593 kB 31.9 MB/s eta 0:00:01\r\u001b[K     |████████████▎                   | 604 kB 31.9 MB/s eta 0:00:01\r\u001b[K     |████████████▌                   | 614 kB 31.9 MB/s eta 0:00:01\r\u001b[K     |████████████▊                   | 624 kB 31.9 MB/s eta 0:00:01\r\u001b[K     |█████████████                   | 634 kB 31.9 MB/s eta 0:00:01\r\u001b[K     |█████████████▏                  | 645 kB 31.9 MB/s eta 0:00:01\r\u001b[K     |█████████████▍                  | 655 kB 31.9 MB/s eta 0:00:01\r\u001b[K     |█████████████▋                  | 665 kB 31.9 MB/s eta 0:00:01\r\u001b[K     |█████████████▉                  | 675 kB 31.9 MB/s eta 0:00:01\r\u001b[K     |██████████████                  | 686 kB 31.9 MB/s eta 0:00:01\r\u001b[K     |██████████████▏                 | 696 kB 31.9 MB/s eta 0:00:01\r\u001b[K     |██████████████▍                 | 706 kB 31.9 MB/s eta 0:00:01\r\u001b[K     |██████████████▋                 | 716 kB 31.9 MB/s eta 0:00:01\r\u001b[K     |██████████████▉                 | 727 kB 31.9 MB/s eta 0:00:01\r\u001b[K     |███████████████                 | 737 kB 31.9 MB/s eta 0:00:01\r\u001b[K     |███████████████▎                | 747 kB 31.9 MB/s eta 0:00:01\r\u001b[K     |███████████████▌                | 757 kB 31.9 MB/s eta 0:00:01\r\u001b[K     |███████████████▊                | 768 kB 31.9 MB/s eta 0:00:01\r\u001b[K     |███████████████▉                | 778 kB 31.9 MB/s eta 0:00:01\r\u001b[K     |████████████████                | 788 kB 31.9 MB/s eta 0:00:01\r\u001b[K     |████████████████▎               | 798 kB 31.9 MB/s eta 0:00:01\r\u001b[K     |████████████████▌               | 808 kB 31.9 MB/s eta 0:00:01\r\u001b[K     |████████████████▊               | 819 kB 31.9 MB/s eta 0:00:01\r\u001b[K     |█████████████████               | 829 kB 31.9 MB/s eta 0:00:01\r\u001b[K     |█████████████████▏              | 839 kB 31.9 MB/s eta 0:00:01\r\u001b[K     |█████████████████▍              | 849 kB 31.9 MB/s eta 0:00:01\r\u001b[K     |█████████████████▌              | 860 kB 31.9 MB/s eta 0:00:01\r\u001b[K     |█████████████████▊              | 870 kB 31.9 MB/s eta 0:00:01\r\u001b[K     |██████████████████              | 880 kB 31.9 MB/s eta 0:00:01\r\u001b[K     |██████████████████▏             | 890 kB 31.9 MB/s eta 0:00:01\r\u001b[K     |██████████████████▍             | 901 kB 31.9 MB/s eta 0:00:01\r\u001b[K     |██████████████████▋             | 911 kB 31.9 MB/s eta 0:00:01\r\u001b[K     |██████████████████▉             | 921 kB 31.9 MB/s eta 0:00:01\r\u001b[K     |███████████████████             | 931 kB 31.9 MB/s eta 0:00:01\r\u001b[K     |███████████████████▎            | 942 kB 31.9 MB/s eta 0:00:01\r\u001b[K     |███████████████████▍            | 952 kB 31.9 MB/s eta 0:00:01\r\u001b[K     |███████████████████▋            | 962 kB 31.9 MB/s eta 0:00:01\r\u001b[K     |███████████████████▉            | 972 kB 31.9 MB/s eta 0:00:01\r\u001b[K     |████████████████████            | 983 kB 31.9 MB/s eta 0:00:01\r\u001b[K     |████████████████████▎           | 993 kB 31.9 MB/s eta 0:00:01\r\u001b[K     |████████████████████▌           | 1.0 MB 31.9 MB/s eta 0:00:01\r\u001b[K     |████████████████████▊           | 1.0 MB 31.9 MB/s eta 0:00:01\r\u001b[K     |█████████████████████           | 1.0 MB 31.9 MB/s eta 0:00:01\r\u001b[K     |█████████████████████           | 1.0 MB 31.9 MB/s eta 0:00:01\r\u001b[K     |█████████████████████▎          | 1.0 MB 31.9 MB/s eta 0:00:01\r\u001b[K     |█████████████████████▌          | 1.1 MB 31.9 MB/s eta 0:00:01\r\u001b[K     |█████████████████████▊          | 1.1 MB 31.9 MB/s eta 0:00:01\r\u001b[K     |██████████████████████          | 1.1 MB 31.9 MB/s eta 0:00:01\r\u001b[K     |██████████████████████▏         | 1.1 MB 31.9 MB/s eta 0:00:01\r\u001b[K     |██████████████████████▍         | 1.1 MB 31.9 MB/s eta 0:00:01\r\u001b[K     |██████████████████████▋         | 1.1 MB 31.9 MB/s eta 0:00:01\r\u001b[K     |██████████████████████▊         | 1.1 MB 31.9 MB/s eta 0:00:01\r\u001b[K     |███████████████████████         | 1.1 MB 31.9 MB/s eta 0:00:01\r\u001b[K     |███████████████████████▏        | 1.1 MB 31.9 MB/s eta 0:00:01\r\u001b[K     |███████████████████████▍        | 1.1 MB 31.9 MB/s eta 0:00:01\r\u001b[K     |███████████████████████▋        | 1.2 MB 31.9 MB/s eta 0:00:01\r\u001b[K     |███████████████████████▉        | 1.2 MB 31.9 MB/s eta 0:00:01\r\u001b[K     |████████████████████████        | 1.2 MB 31.9 MB/s eta 0:00:01\r\u001b[K     |████████████████████████▎       | 1.2 MB 31.9 MB/s eta 0:00:01\r\u001b[K     |████████████████████████▌       | 1.2 MB 31.9 MB/s eta 0:00:01\r\u001b[K     |████████████████████████▋       | 1.2 MB 31.9 MB/s eta 0:00:01\r\u001b[K     |████████████████████████▉       | 1.2 MB 31.9 MB/s eta 0:00:01\r\u001b[K     |█████████████████████████       | 1.2 MB 31.9 MB/s eta 0:00:01\r\u001b[K     |█████████████████████████▎      | 1.2 MB 31.9 MB/s eta 0:00:01\r\u001b[K     |█████████████████████████▌      | 1.2 MB 31.9 MB/s eta 0:00:01\r\u001b[K     |█████████████████████████▊      | 1.3 MB 31.9 MB/s eta 0:00:01\r\u001b[K     |██████████████████████████      | 1.3 MB 31.9 MB/s eta 0:00:01\r\u001b[K     |██████████████████████████▏     | 1.3 MB 31.9 MB/s eta 0:00:01\r\u001b[K     |██████████████████████████▎     | 1.3 MB 31.9 MB/s eta 0:00:01\r\u001b[K     |██████████████████████████▌     | 1.3 MB 31.9 MB/s eta 0:00:01\r\u001b[K     |██████████████████████████▊     | 1.3 MB 31.9 MB/s eta 0:00:01\r\u001b[K     |███████████████████████████     | 1.3 MB 31.9 MB/s eta 0:00:01\r\u001b[K     |███████████████████████████▏    | 1.3 MB 31.9 MB/s eta 0:00:01\r\u001b[K     |███████████████████████████▍    | 1.3 MB 31.9 MB/s eta 0:00:01\r\u001b[K     |███████████████████████████▋    | 1.4 MB 31.9 MB/s eta 0:00:01\r\u001b[K     |███████████████████████████▉    | 1.4 MB 31.9 MB/s eta 0:00:01\r\u001b[K     |████████████████████████████    | 1.4 MB 31.9 MB/s eta 0:00:01\r\u001b[K     |████████████████████████████▏   | 1.4 MB 31.9 MB/s eta 0:00:01\r\u001b[K     |████████████████████████████▍   | 1.4 MB 31.9 MB/s eta 0:00:01\r\u001b[K     |████████████████████████████▋   | 1.4 MB 31.9 MB/s eta 0:00:01\r\u001b[K     |████████████████████████████▉   | 1.4 MB 31.9 MB/s eta 0:00:01\r\u001b[K     |█████████████████████████████   | 1.4 MB 31.9 MB/s eta 0:00:01\r\u001b[K     |█████████████████████████████▎  | 1.4 MB 31.9 MB/s eta 0:00:01\r\u001b[K     |█████████████████████████████▌  | 1.4 MB 31.9 MB/s eta 0:00:01\r\u001b[K     |█████████████████████████████▊  | 1.5 MB 31.9 MB/s eta 0:00:01\r\u001b[K     |█████████████████████████████▉  | 1.5 MB 31.9 MB/s eta 0:00:01\r\u001b[K     |██████████████████████████████  | 1.5 MB 31.9 MB/s eta 0:00:01\r\u001b[K     |██████████████████████████████▎ | 1.5 MB 31.9 MB/s eta 0:00:01\r\u001b[K     |██████████████████████████████▌ | 1.5 MB 31.9 MB/s eta 0:00:01\r\u001b[K     |██████████████████████████████▊ | 1.5 MB 31.9 MB/s eta 0:00:01\r\u001b[K     |███████████████████████████████ | 1.5 MB 31.9 MB/s eta 0:00:01\r\u001b[K     |███████████████████████████████▏| 1.5 MB 31.9 MB/s eta 0:00:01\r\u001b[K     |███████████████████████████████▍| 1.5 MB 31.9 MB/s eta 0:00:01\r\u001b[K     |███████████████████████████████▌| 1.5 MB 31.9 MB/s eta 0:00:01\r\u001b[K     |███████████████████████████████▊| 1.6 MB 31.9 MB/s eta 0:00:01\r\u001b[K     |████████████████████████████████| 1.6 MB 31.9 MB/s eta 0:00:01\r\u001b[K     |████████████████████████████████| 1.6 MB 31.9 MB/s \n",
            "\u001b[?25h"
          ]
        }
      ],
      "source": [
        "!pip install -q -U watermark"
      ],
      "id": "811fa6ad"
    },
    {
      "cell_type": "code",
      "execution_count": 2,
      "metadata": {
        "id": "7824d10a",
        "colab": {
          "base_uri": "https://localhost:8080/"
        },
        "outputId": "7eaecb82-f313-49db-f540-5bdb3587c457"
      },
      "outputs": [
        {
          "output_type": "stream",
          "name": "stdout",
          "text": [
            "\u001b[K     |████████████████████████████████| 5.8 MB 27.9 MB/s \n",
            "\u001b[K     |████████████████████████████████| 182 kB 78.7 MB/s \n",
            "\u001b[K     |████████████████████████████████| 7.6 MB 48.9 MB/s \n",
            "\u001b[?25h"
          ]
        }
      ],
      "source": [
        "!pip install -qq transformers"
      ],
      "id": "7824d10a"
    },
    {
      "cell_type": "code",
      "execution_count": 3,
      "metadata": {
        "colab": {
          "base_uri": "https://localhost:8080/"
        },
        "id": "f07df2e5",
        "outputId": "965335fd-e2c0-45c4-cec7-0b6091d93be8"
      },
      "outputs": [
        {
          "output_type": "stream",
          "name": "stdout",
          "text": [
            "Python implementation: CPython\n",
            "Python version       : 3.8.15\n",
            "IPython version      : 7.9.0\n",
            "\n",
            "numpy       : 1.21.6\n",
            "pandas      : 1.3.5\n",
            "torch       : 1.12.1+cu113\n",
            "transformers: 4.25.1\n",
            "\n"
          ]
        }
      ],
      "source": [
        "%reload_ext watermark\n",
        "%watermark -v -p numpy,pandas,torch,transformers"
      ],
      "id": "f07df2e5"
    },
    {
      "cell_type": "code",
      "execution_count": 4,
      "metadata": {
        "colab": {
          "base_uri": "https://localhost:8080/"
        },
        "id": "b2da0a9f",
        "outputId": "b485d141-0097-417e-ef54-1ff483cf4a91"
      },
      "outputs": [
        {
          "output_type": "execute_result",
          "data": {
            "text/plain": [
              "device(type='cuda', index=0)"
            ]
          },
          "metadata": {},
          "execution_count": 4
        }
      ],
      "source": [
        "# Setup & Config\n",
        "import time\n",
        "import numpy as np\n",
        "import pandas as pd\n",
        "import matplotlib.pyplot as plt\n",
        "import seaborn as sns\n",
        "sns.set(style='darkgrid',font_scale= 1.2)\n",
        "sns.set_palette(sns.color_palette(\"bright\"))\n",
        "\n",
        "import transformers\n",
        "from transformers import (\n",
        "    AutoModel,\n",
        "    BertTokenizer,\n",
        "    AdamW,\n",
        "    get_linear_schedule_with_warmup\n",
        "    )\n",
        "\n",
        "from sklearn.preprocessing import LabelEncoder\n",
        "from sklearn.model_selection import train_test_split\n",
        "from sklearn.metrics import confusion_matrix, classification_report\n",
        "\n",
        "from collections import defaultdict\n",
        "from textwrap import wrap\n",
        "\n",
        "import torch\n",
        "import torch.nn as nn\n",
        "import torch.nn.functional as F\n",
        "from torch import optim\n",
        "from torch.utils.data import Dataset, DataLoader\n",
        "\n",
        "RANDOM_SEED = 42\n",
        "np.random.seed(RANDOM_SEED)\n",
        "torch.manual_seed(RANDOM_SEED)\n",
        "\n",
        "device = torch.device(\"cuda:0\" if torch.cuda.is_available() else \"cpu\")\n",
        "device"
      ],
      "id": "b2da0a9f"
    },
    {
      "cell_type": "markdown",
      "metadata": {
        "id": "053ee133"
      },
      "source": [
        "# Data Exploration"
      ],
      "id": "053ee133"
    },
    {
      "cell_type": "markdown",
      "metadata": {
        "id": "6751eacf"
      },
      "source": [
        "## Download the dataset"
      ],
      "id": "6751eacf"
    },
    {
      "cell_type": "code",
      "execution_count": 5,
      "metadata": {
        "id": "3b7ce8f3"
      },
      "outputs": [],
      "source": [
        "df = pd.read_csv(\"/content/labelTextBlob_no_stemming.csv\")"
      ],
      "id": "3b7ce8f3"
    },
    {
      "cell_type": "code",
      "execution_count": 6,
      "metadata": {
        "colab": {
          "base_uri": "https://localhost:8080/"
        },
        "id": "2a718802",
        "outputId": "ec4759ca-22f1-47d6-8ce8-5c20bfc1d63f"
      },
      "outputs": [
        {
          "output_type": "execute_result",
          "data": {
            "text/plain": [
              "Index(['content', 'polarity', 'label'], dtype='object')"
            ]
          },
          "metadata": {},
          "execution_count": 6
        }
      ],
      "source": [
        "df.columns"
      ],
      "id": "2a718802"
    },
    {
      "cell_type": "code",
      "execution_count": 7,
      "metadata": {
        "id": "8be2395c"
      },
      "outputs": [],
      "source": [
        "df = df[[\"content\", \"label\"]]"
      ],
      "id": "8be2395c"
    },
    {
      "cell_type": "code",
      "execution_count": 8,
      "metadata": {
        "colab": {
          "base_uri": "https://localhost:8080/",
          "height": 206
        },
        "id": "07d9145f",
        "outputId": "247ecaf4-3c91-496f-ffa5-d75b6a91fffa"
      },
      "outputs": [
        {
          "output_type": "execute_result",
          "data": {
            "text/plain": [
              "                                             content     label\n",
              "0  bangkai turun knock langsung tolong tencent sa...  negative\n",
              "1              mangapa pubg loading login kuota beli   neutral\n",
              "2            bug developer perbaiki mengeluh bug lag   neutral\n",
              "3                     berat putar enak mainnya bagus  positive\n",
              "4  game bagus sayang sinyal turun gameplay sulit ...  negative"
            ],
            "text/html": [
              "\n",
              "  <div id=\"df-b6e72a58-c7e7-4d01-8470-c09066e4d638\">\n",
              "    <div class=\"colab-df-container\">\n",
              "      <div>\n",
              "<style scoped>\n",
              "    .dataframe tbody tr th:only-of-type {\n",
              "        vertical-align: middle;\n",
              "    }\n",
              "\n",
              "    .dataframe tbody tr th {\n",
              "        vertical-align: top;\n",
              "    }\n",
              "\n",
              "    .dataframe thead th {\n",
              "        text-align: right;\n",
              "    }\n",
              "</style>\n",
              "<table border=\"1\" class=\"dataframe\">\n",
              "  <thead>\n",
              "    <tr style=\"text-align: right;\">\n",
              "      <th></th>\n",
              "      <th>content</th>\n",
              "      <th>label</th>\n",
              "    </tr>\n",
              "  </thead>\n",
              "  <tbody>\n",
              "    <tr>\n",
              "      <th>0</th>\n",
              "      <td>bangkai turun knock langsung tolong tencent sa...</td>\n",
              "      <td>negative</td>\n",
              "    </tr>\n",
              "    <tr>\n",
              "      <th>1</th>\n",
              "      <td>mangapa pubg loading login kuota beli</td>\n",
              "      <td>neutral</td>\n",
              "    </tr>\n",
              "    <tr>\n",
              "      <th>2</th>\n",
              "      <td>bug developer perbaiki mengeluh bug lag</td>\n",
              "      <td>neutral</td>\n",
              "    </tr>\n",
              "    <tr>\n",
              "      <th>3</th>\n",
              "      <td>berat putar enak mainnya bagus</td>\n",
              "      <td>positive</td>\n",
              "    </tr>\n",
              "    <tr>\n",
              "      <th>4</th>\n",
              "      <td>game bagus sayang sinyal turun gameplay sulit ...</td>\n",
              "      <td>negative</td>\n",
              "    </tr>\n",
              "  </tbody>\n",
              "</table>\n",
              "</div>\n",
              "      <button class=\"colab-df-convert\" onclick=\"convertToInteractive('df-b6e72a58-c7e7-4d01-8470-c09066e4d638')\"\n",
              "              title=\"Convert this dataframe to an interactive table.\"\n",
              "              style=\"display:none;\">\n",
              "        \n",
              "  <svg xmlns=\"http://www.w3.org/2000/svg\" height=\"24px\"viewBox=\"0 0 24 24\"\n",
              "       width=\"24px\">\n",
              "    <path d=\"M0 0h24v24H0V0z\" fill=\"none\"/>\n",
              "    <path d=\"M18.56 5.44l.94 2.06.94-2.06 2.06-.94-2.06-.94-.94-2.06-.94 2.06-2.06.94zm-11 1L8.5 8.5l.94-2.06 2.06-.94-2.06-.94L8.5 2.5l-.94 2.06-2.06.94zm10 10l.94 2.06.94-2.06 2.06-.94-2.06-.94-.94-2.06-.94 2.06-2.06.94z\"/><path d=\"M17.41 7.96l-1.37-1.37c-.4-.4-.92-.59-1.43-.59-.52 0-1.04.2-1.43.59L10.3 9.45l-7.72 7.72c-.78.78-.78 2.05 0 2.83L4 21.41c.39.39.9.59 1.41.59.51 0 1.02-.2 1.41-.59l7.78-7.78 2.81-2.81c.8-.78.8-2.07 0-2.86zM5.41 20L4 18.59l7.72-7.72 1.47 1.35L5.41 20z\"/>\n",
              "  </svg>\n",
              "      </button>\n",
              "      \n",
              "  <style>\n",
              "    .colab-df-container {\n",
              "      display:flex;\n",
              "      flex-wrap:wrap;\n",
              "      gap: 12px;\n",
              "    }\n",
              "\n",
              "    .colab-df-convert {\n",
              "      background-color: #E8F0FE;\n",
              "      border: none;\n",
              "      border-radius: 50%;\n",
              "      cursor: pointer;\n",
              "      display: none;\n",
              "      fill: #1967D2;\n",
              "      height: 32px;\n",
              "      padding: 0 0 0 0;\n",
              "      width: 32px;\n",
              "    }\n",
              "\n",
              "    .colab-df-convert:hover {\n",
              "      background-color: #E2EBFA;\n",
              "      box-shadow: 0px 1px 2px rgba(60, 64, 67, 0.3), 0px 1px 3px 1px rgba(60, 64, 67, 0.15);\n",
              "      fill: #174EA6;\n",
              "    }\n",
              "\n",
              "    [theme=dark] .colab-df-convert {\n",
              "      background-color: #3B4455;\n",
              "      fill: #D2E3FC;\n",
              "    }\n",
              "\n",
              "    [theme=dark] .colab-df-convert:hover {\n",
              "      background-color: #434B5C;\n",
              "      box-shadow: 0px 1px 3px 1px rgba(0, 0, 0, 0.15);\n",
              "      filter: drop-shadow(0px 1px 2px rgba(0, 0, 0, 0.3));\n",
              "      fill: #FFFFFF;\n",
              "    }\n",
              "  </style>\n",
              "\n",
              "      <script>\n",
              "        const buttonEl =\n",
              "          document.querySelector('#df-b6e72a58-c7e7-4d01-8470-c09066e4d638 button.colab-df-convert');\n",
              "        buttonEl.style.display =\n",
              "          google.colab.kernel.accessAllowed ? 'block' : 'none';\n",
              "\n",
              "        async function convertToInteractive(key) {\n",
              "          const element = document.querySelector('#df-b6e72a58-c7e7-4d01-8470-c09066e4d638');\n",
              "          const dataTable =\n",
              "            await google.colab.kernel.invokeFunction('convertToInteractive',\n",
              "                                                     [key], {});\n",
              "          if (!dataTable) return;\n",
              "\n",
              "          const docLinkHtml = 'Like what you see? Visit the ' +\n",
              "            '<a target=\"_blank\" href=https://colab.research.google.com/notebooks/data_table.ipynb>data table notebook</a>'\n",
              "            + ' to learn more about interactive tables.';\n",
              "          element.innerHTML = '';\n",
              "          dataTable['output_type'] = 'display_data';\n",
              "          await google.colab.output.renderOutput(dataTable, element);\n",
              "          const docLink = document.createElement('div');\n",
              "          docLink.innerHTML = docLinkHtml;\n",
              "          element.appendChild(docLink);\n",
              "        }\n",
              "      </script>\n",
              "    </div>\n",
              "  </div>\n",
              "  "
            ]
          },
          "metadata": {},
          "execution_count": 8
        }
      ],
      "source": [
        "df.head()"
      ],
      "id": "07d9145f"
    },
    {
      "cell_type": "code",
      "execution_count": 9,
      "metadata": {
        "colab": {
          "base_uri": "https://localhost:8080/"
        },
        "id": "0bda3a3b",
        "outputId": "b2d398b0-70cc-492c-ef8b-e1cb1b136f2e"
      },
      "outputs": [
        {
          "output_type": "stream",
          "name": "stdout",
          "text": [
            "<class 'pandas.core.frame.DataFrame'>\n",
            "RangeIndex: 14341 entries, 0 to 14340\n",
            "Data columns (total 2 columns):\n",
            " #   Column   Non-Null Count  Dtype \n",
            "---  ------   --------------  ----- \n",
            " 0   content  14341 non-null  object\n",
            " 1   label    14341 non-null  object\n",
            "dtypes: object(2)\n",
            "memory usage: 224.2+ KB\n"
          ]
        }
      ],
      "source": [
        "df.info()"
      ],
      "id": "0bda3a3b"
    },
    {
      "cell_type": "code",
      "execution_count": 10,
      "metadata": {
        "id": "_iMBzK9OtBDt"
      },
      "outputs": [],
      "source": [
        "# helper function to draw percentage above each bar\n",
        "def draw_percentage(ax,total=float(len(df))):\n",
        "    for p in ax.patches:\n",
        "        percentage = '{:.1f}%'.format(100 * p.get_height()/total)\n",
        "        x = p.get_x() + p.get_width() / 2.\n",
        "        y = p.get_height()\n",
        "        ax.annotate(percentage, (x, y),ha='center',va='bottom')"
      ],
      "id": "_iMBzK9OtBDt"
    },
    {
      "cell_type": "code",
      "execution_count": 11,
      "metadata": {
        "colab": {
          "base_uri": "https://localhost:8080/",
          "height": 419
        },
        "id": "iAe5sir2tGB1",
        "outputId": "d33b14a4-3332-43c6-a026-c57c47db9a85"
      },
      "outputs": [
        {
          "output_type": "display_data",
          "data": {
            "text/plain": [
              "<Figure size 576x432 with 1 Axes>"
            ],
            "image/png": "[encoded data removed]"
          },
          "metadata": {}
        }
      ],
      "source": [
        "plt.figure(figsize = (8,6))\n",
        "total = float(len(df))\n",
        "ax = sns.countplot(x = 'label',data=df)\n",
        "\n",
        "class_names = ['negative', 'neutral', 'positive']\n",
        "ax.set_xticklabels(class_names)\n",
        "plt.title('Calculate Review Sentiment', fontsize=20)\n",
        "plt.xlabel('review sentiment')\n",
        "draw_percentage(ax)\n",
        "\n",
        "plt.show()"
      ],
      "id": "iAe5sir2tGB1"
    },
    {
      "cell_type": "code",
      "execution_count": 12,
      "metadata": {
        "colab": {
          "base_uri": "https://localhost:8080/",
          "height": 424
        },
        "id": "e6d7cd40",
        "outputId": "59679fbe-447b-452d-ec7d-c99c1bad9436"
      },
      "outputs": [
        {
          "output_type": "execute_result",
          "data": {
            "text/plain": [
              "                                                 content  label\n",
              "0      bangkai turun knock langsung tolong tencent sa...      0\n",
              "1                  mangapa pubg loading login kuota beli      1\n",
              "2                bug developer perbaiki mengeluh bug lag      1\n",
              "3                         berat putar enak mainnya bagus      2\n",
              "4      game bagus sayang sinyal turun gameplay sulit ...      0\n",
              "...                                                  ...    ...\n",
              "14336  game grafis buruk high definition keburikannya...      0\n",
              "14337                                             lambat      0\n",
              "14338                                       bagus banget      2\n",
              "14339  game seru keren high definition bug pemakaian ...      2\n",
              "14340                                        gagal login      0\n",
              "\n",
              "[14341 rows x 2 columns]"
            ],
            "text/html": [
              "\n",
              "  <div id=\"df-9f083ef2-aa74-4242-95b0-cec4d88ebc9f\">\n",
              "    <div class=\"colab-df-container\">\n",
              "      <div>\n",
              "<style scoped>\n",
              "    .dataframe tbody tr th:only-of-type {\n",
              "        vertical-align: middle;\n",
              "    }\n",
              "\n",
              "    .dataframe tbody tr th {\n",
              "        vertical-align: top;\n",
              "    }\n",
              "\n",
              "    .dataframe thead th {\n",
              "        text-align: right;\n",
              "    }\n",
              "</style>\n",
              "<table border=\"1\" class=\"dataframe\">\n",
              "  <thead>\n",
              "    <tr style=\"text-align: right;\">\n",
              "      <th></th>\n",
              "      <th>content</th>\n",
              "      <th>label</th>\n",
              "    </tr>\n",
              "  </thead>\n",
              "  <tbody>\n",
              "    <tr>\n",
              "      <th>0</th>\n",
              "      <td>bangkai turun knock langsung tolong tencent sa...</td>\n",
              "      <td>0</td>\n",
              "    </tr>\n",
              "    <tr>\n",
              "      <th>1</th>\n",
              "      <td>mangapa pubg loading login kuota beli</td>\n",
              "      <td>1</td>\n",
              "    </tr>\n",
              "    <tr>\n",
              "      <th>2</th>\n",
              "      <td>bug developer perbaiki mengeluh bug lag</td>\n",
              "      <td>1</td>\n",
              "    </tr>\n",
              "    <tr>\n",
              "      <th>3</th>\n",
              "      <td>berat putar enak mainnya bagus</td>\n",
              "      <td>2</td>\n",
              "    </tr>\n",
              "    <tr>\n",
              "      <th>4</th>\n",
              "      <td>game bagus sayang sinyal turun gameplay sulit ...</td>\n",
              "      <td>0</td>\n",
              "    </tr>\n",
              "    <tr>\n",
              "      <th>...</th>\n",
              "      <td>...</td>\n",
              "      <td>...</td>\n",
              "    </tr>\n",
              "    <tr>\n",
              "      <th>14336</th>\n",
              "      <td>game grafis buruk high definition keburikannya...</td>\n",
              "      <td>0</td>\n",
              "    </tr>\n",
              "    <tr>\n",
              "      <th>14337</th>\n",
              "      <td>lambat</td>\n",
              "      <td>0</td>\n",
              "    </tr>\n",
              "    <tr>\n",
              "      <th>14338</th>\n",
              "      <td>bagus banget</td>\n",
              "      <td>2</td>\n",
              "    </tr>\n",
              "    <tr>\n",
              "      <th>14339</th>\n",
              "      <td>game seru keren high definition bug pemakaian ...</td>\n",
              "      <td>2</td>\n",
              "    </tr>\n",
              "    <tr>\n",
              "      <th>14340</th>\n",
              "      <td>gagal login</td>\n",
              "      <td>0</td>\n",
              "    </tr>\n",
              "  </tbody>\n",
              "</table>\n",
              "<p>14341 rows × 2 columns</p>\n",
              "</div>\n",
              "      <button class=\"colab-df-convert\" onclick=\"convertToInteractive('df-9f083ef2-aa74-4242-95b0-cec4d88ebc9f')\"\n",
              "              title=\"Convert this dataframe to an interactive table.\"\n",
              "              style=\"display:none;\">\n",
              "        \n",
              "  <svg xmlns=\"http://www.w3.org/2000/svg\" height=\"24px\"viewBox=\"0 0 24 24\"\n",
              "       width=\"24px\">\n",
              "    <path d=\"M0 0h24v24H0V0z\" fill=\"none\"/>\n",
              "    <path d=\"M18.56 5.44l.94 2.06.94-2.06 2.06-.94-2.06-.94-.94-2.06-.94 2.06-2.06.94zm-11 1L8.5 8.5l.94-2.06 2.06-.94-2.06-.94L8.5 2.5l-.94 2.06-2.06.94zm10 10l.94 2.06.94-2.06 2.06-.94-2.06-.94-.94-2.06-.94 2.06-2.06.94z\"/><path d=\"M17.41 7.96l-1.37-1.37c-.4-.4-.92-.59-1.43-.59-.52 0-1.04.2-1.43.59L10.3 9.45l-7.72 7.72c-.78.78-.78 2.05 0 2.83L4 21.41c.39.39.9.59 1.41.59.51 0 1.02-.2 1.41-.59l7.78-7.78 2.81-2.81c.8-.78.8-2.07 0-2.86zM5.41 20L4 18.59l7.72-7.72 1.47 1.35L5.41 20z\"/>\n",
              "  </svg>\n",
              "      </button>\n",
              "      \n",
              "  <style>\n",
              "    .colab-df-container {\n",
              "      display:flex;\n",
              "      flex-wrap:wrap;\n",
              "      gap: 12px;\n",
              "    }\n",
              "\n",
              "    .colab-df-convert {\n",
              "      background-color: #E8F0FE;\n",
              "      border: none;\n",
              "      border-radius: 50%;\n",
              "      cursor: pointer;\n",
              "      display: none;\n",
              "      fill: #1967D2;\n",
              "      height: 32px;\n",
              "      padding: 0 0 0 0;\n",
              "      width: 32px;\n",
              "    }\n",
              "\n",
              "    .colab-df-convert:hover {\n",
              "      background-color: #E2EBFA;\n",
              "      box-shadow: 0px 1px 2px rgba(60, 64, 67, 0.3), 0px 1px 3px 1px rgba(60, 64, 67, 0.15);\n",
              "      fill: #174EA6;\n",
              "    }\n",
              "\n",
              "    [theme=dark] .colab-df-convert {\n",
              "      background-color: #3B4455;\n",
              "      fill: #D2E3FC;\n",
              "    }\n",
              "\n",
              "    [theme=dark] .colab-df-convert:hover {\n",
              "      background-color: #434B5C;\n",
              "      box-shadow: 0px 1px 3px 1px rgba(0, 0, 0, 0.15);\n",
              "      filter: drop-shadow(0px 1px 2px rgba(0, 0, 0, 0.3));\n",
              "      fill: #FFFFFF;\n",
              "    }\n",
              "  </style>\n",
              "\n",
              "      <script>\n",
              "        const buttonEl =\n",
              "          document.querySelector('#df-9f083ef2-aa74-4242-95b0-cec4d88ebc9f button.colab-df-convert');\n",
              "        buttonEl.style.display =\n",
              "          google.colab.kernel.accessAllowed ? 'block' : 'none';\n",
              "\n",
              "        async function convertToInteractive(key) {\n",
              "          const element = document.querySelector('#df-9f083ef2-aa74-4242-95b0-cec4d88ebc9f');\n",
              "          const dataTable =\n",
              "            await google.colab.kernel.invokeFunction('convertToInteractive',\n",
              "                                                     [key], {});\n",
              "          if (!dataTable) return;\n",
              "\n",
              "          const docLinkHtml = 'Like what you see? Visit the ' +\n",
              "            '<a target=\"_blank\" href=https://colab.research.google.com/notebooks/data_table.ipynb>data table notebook</a>'\n",
              "            + ' to learn more about interactive tables.';\n",
              "          element.innerHTML = '';\n",
              "          dataTable['output_type'] = 'display_data';\n",
              "          await google.colab.output.renderOutput(dataTable, element);\n",
              "          const docLink = document.createElement('div');\n",
              "          docLink.innerHTML = docLinkHtml;\n",
              "          element.appendChild(docLink);\n",
              "        }\n",
              "      </script>\n",
              "    </div>\n",
              "  </div>\n",
              "  "
            ]
          },
          "metadata": {},
          "execution_count": 12
        }
      ],
      "source": [
        "# to transform string labels to integer values\n",
        "LE = LabelEncoder()\n",
        "df[\"label\"] = LE.fit_transform(df[\"label\"].values)\n",
        "df"
      ],
      "id": "e6d7cd40"
    },
    {
      "cell_type": "markdown",
      "metadata": {
        "id": "d9fd5787"
      },
      "source": [
        "# Data Preprocessing\n",
        "You might already know that Machine Learning models don't work with raw text. You need to convert text to numbers (of some sort). BERT requires even more attention (good one, right?). Here are the requirements:\n",
        "\n",
        "- Add special tokens to separate sentences and do classification\n",
        "- Pass sequences of constant length (introduce padding)\n",
        "- Create array of 0s (pad token) and 1s (real token) called attention mask\n",
        "\n",
        "The Transformers library provides (you've guessed it) a wide variety of Transformer models (including BERT). It works with TensorFlow and PyTorch! It also includes prebuild tokenizers that do the heavy lifting for us!"
      ],
      "id": "d9fd5787"
    },
    {
      "cell_type": "code",
      "execution_count": 13,
      "metadata": {
        "id": "7524f631"
      },
      "outputs": [],
      "source": [
        "PRE_TRAINED_MODEL_NAME = \"indobenchmark/indobert-base-p2\""
      ],
      "id": "7524f631"
    },
    {
      "cell_type": "markdown",
      "metadata": {
        "id": "a088eba8"
      },
      "source": [
        "You can use a cased and uncased version of BERT and tokenizer. I've experimented with both. The cased version works better. Intuitively, that makes sense, since \"BAD\" might convey more sentiment than \"bad\".\n",
        "\n",
        "Let's load a pre-trained [BertTokenizer](https://huggingface.co/transformers/model_doc/bert.html#berttokenizer):"
      ],
      "id": "a088eba8"
    },
    {
      "cell_type": "code",
      "execution_count": 14,
      "metadata": {
        "id": "0690d8c3",
        "colab": {
          "base_uri": "https://localhost:8080/",
          "height": 145,
          "referenced_widgets": [
            "02d1fc673da54b23ae4b4231593edafd",
            "0860070df1d6402da0c76bf2bdb07953",
            "1237f060068f49dbba09a79a340dbfb2",
            "543376c5da894e438fd4f38bc183f505",
            "aa02df757a6640d79c42d2815db6acb3",
            "78e4d2813a694c07ae215391b69784c2",
            "bdfa9787a2f84af3b0f35baa14401805",
            "af04e16fd9554f849090e3c4fa0244c0",
            "e773bcf0e3264478ba4587eb0ee3d568",
            "5df3a93d87394e788c80a204d716f7ae",
            "8d126050565a427c951522d8b045737b",
            "8ac3eef44d0742b3b5379a4254cdfa69",
            "3ab6e1bf615445fcb3e12de6c2a2bf5c",
            "775c9593699948adbfde4db095d1981f",
            "c54596ea299a40858ad92fa9975ecd89",
            "f249c8426434413dba9450a2aa6c81ea",
            "1e1beab573e747c39c80e50145c9e94c",
            "15a4e9e3cbcf4188895f1616c04efb9b",
            "335dfebdf52a4634b8ae0b065fc7ccec",
            "e4dba2b4daf341cf99641739e550bbd4",
            "94d427d09a7541948493aa73dc42ffbd",
            "28587106bb764ffeaa73984e773c12c2",
            "7d925ac711164f6dabb2b86756da2a25",
            "e11f32e700dd40bb9b74bffcfc8d3565",
            "e9f3f1d4b05d4ef9b72f7ee387b98066",
            "f07e98e393a84a349fb65d9c8e36f5ab",
            "150626ff7e554c129b9f8cdffc3c902f",
            "b6ab5be35f8948acb144701a1472a6b7",
            "85d3faead0994362acf3c50076dda00c",
            "fc1a2e7f4c7f4f4190bccb3e81518e4b",
            "8455457027db48c6823b07e12266fe4e",
            "c17b488c5f754cacbf2d9d4caa1acfee",
            "a49dfbc50c5040718f5a3247200272af",
            "92cfd369eeff4a9ea75214362c1d1a9e",
            "4b727316dab64dba877991bd4365864f",
            "7238d348e7a8493d989ad415106716df",
            "e755714e4afe458ba27bdcce78e20269",
            "5c287578c17a4bf08582f50c674f5866",
            "7f5585c565ef4a2cb30c9ca310f010d0",
            "aa1c3c349fbf4331914e8a9f91f5f4f7",
            "ec1b15ada72b46f2a921ab7bb52c743f",
            "6af63dae462b4fd2bf15571bdbfb326f",
            "348c2cff47a049a994a49e9433d792cf",
            "d4bd0b30179d4389bdcbd0c58760c25e"
          ]
        },
        "outputId": "ff56f221-03d1-49d0-a8a7-caf852925eb1"
      },
      "outputs": [
        {
          "output_type": "display_data",
          "data": {
            "text/plain": [
              "Downloading:   0%|          | 0.00/229k [00:00<?, ?B/s]"
            ],
            "application/vnd.jupyter.widget-view+json": {
              "version_major": 2,
              "version_minor": 0,
              "model_id": "02d1fc673da54b23ae4b4231593edafd"
            }
          },
          "metadata": {}
        },
        {
          "output_type": "display_data",
          "data": {
            "text/plain": [
              "Downloading:   0%|          | 0.00/112 [00:00<?, ?B/s]"
            ],
            "application/vnd.jupyter.widget-view+json": {
              "version_major": 2,
              "version_minor": 0,
              "model_id": "8ac3eef44d0742b3b5379a4254cdfa69"
            }
          },
          "metadata": {}
        },
        {
          "output_type": "display_data",
          "data": {
            "text/plain": [
              "Downloading:   0%|          | 0.00/2.00 [00:00<?, ?B/s]"
            ],
            "application/vnd.jupyter.widget-view+json": {
              "version_major": 2,
              "version_minor": 0,
              "model_id": "7d925ac711164f6dabb2b86756da2a25"
            }
          },
          "metadata": {}
        },
        {
          "output_type": "display_data",
          "data": {
            "text/plain": [
              "Downloading:   0%|          | 0.00/1.53k [00:00<?, ?B/s]"
            ],
            "application/vnd.jupyter.widget-view+json": {
              "version_major": 2,
              "version_minor": 0,
              "model_id": "92cfd369eeff4a9ea75214362c1d1a9e"
            }
          },
          "metadata": {}
        }
      ],
      "source": [
        "tokenizer = BertTokenizer.from_pretrained(PRE_TRAINED_MODEL_NAME)"
      ],
      "id": "0690d8c3"
    },
    {
      "cell_type": "markdown",
      "metadata": {
        "id": "a50201d9"
      },
      "source": [
        "We'll use this text to understand the tokenization process:"
      ],
      "id": "a50201d9"
    },
    {
      "cell_type": "code",
      "execution_count": 15,
      "metadata": {
        "id": "158a06bd"
      },
      "outputs": [],
      "source": [
        "sample_txt = \"Setelah pembaruan terakhir gim ini menjadi sangat buruk Meskipun saya memiliki internet yang layak ini menunjukkan masalah jaringan Selain itu dalam mode solo tidak dapat menemukan saya menunggu selama 3 menit tetapi tidak bisa Saya berharap para pengembang akan melakukan sesuatu tentang masalah ini\""
      ],
      "id": "158a06bd"
    },
    {
      "cell_type": "markdown",
      "metadata": {
        "id": "82b2239e"
      },
      "source": [
        "Some basic operations can convert the text to tokens and tokens to unique integers (ids):"
      ],
      "id": "82b2239e"
    },
    {
      "cell_type": "code",
      "execution_count": 16,
      "metadata": {
        "colab": {
          "base_uri": "https://localhost:8080/"
        },
        "id": "87679696",
        "outputId": "d2c01f8c-29af-4584-d2a1-11941a5e285a"
      },
      "outputs": [
        {
          "output_type": "stream",
          "name": "stdout",
          "text": [
            " Sentence: Setelah pembaruan terakhir gim ini menjadi sangat buruk Meskipun saya memiliki internet yang layak ini menunjukkan masalah jaringan Selain itu dalam mode solo tidak dapat menemukan saya menunggu selama 3 menit tetapi tidak bisa Saya berharap para pengembang akan melakukan sesuatu tentang masalah ini\n",
            "   Tokens: ['setelah', 'pembaruan', 'terakhir', 'gim', 'ini', 'menjadi', 'sangat', 'buruk', 'meskipun', 'saya', 'memiliki', 'internet', 'yang', 'layak', 'ini', 'menunjukkan', 'masalah', 'jaringan', 'selain', 'itu', 'dalam', 'mode', 'solo', 'tidak', 'dapat', 'menemukan', 'saya', 'menunggu', 'selama', '3', 'menit', 'tetapi', 'tidak', 'bisa', 'saya', 'berharap', 'para', 'pengembang', 'akan', 'melakukan', 'sesuatu', 'tentang', 'masalah', 'ini']\n",
            "Token IDs: [450, 7749, 1668, 19742, 92, 234, 310, 2632, 1863, 209, 343, 1454, 34, 4102, 92, 1647, 805, 1799, 751, 137, 112, 6852, 4412, 119, 173, 1451, 209, 3016, 776, 283, 1815, 638, 119, 166, 209, 3047, 383, 9604, 150, 464, 1370, 416, 805, 92]\n"
          ]
        }
      ],
      "source": [
        "tokens = tokenizer.tokenize(sample_txt)\n",
        "token_ids = tokenizer.convert_tokens_to_ids(tokens)\n",
        "\n",
        "print(f\" Sentence: {sample_txt}\")\n",
        "print(f\"   Tokens: {tokens}\")\n",
        "print(f\"Token IDs: {token_ids}\")"
      ],
      "id": "87679696"
    },
    {
      "cell_type": "markdown",
      "metadata": {
        "id": "dda68672"
      },
      "source": [
        "## Special Tokens\n",
        "[SEP] - marker for ending of a sentence"
      ],
      "id": "dda68672"
    },
    {
      "cell_type": "code",
      "execution_count": 17,
      "metadata": {
        "colab": {
          "base_uri": "https://localhost:8080/"
        },
        "id": "f55f28e0",
        "outputId": "8436c2a0-de8c-4732-e512-9e0a3e1795f6"
      },
      "outputs": [
        {
          "output_type": "execute_result",
          "data": {
            "text/plain": [
              "('[SEP]', 3)"
            ]
          },
          "metadata": {},
          "execution_count": 17
        }
      ],
      "source": [
        "tokenizer.sep_token, tokenizer.sep_token_id"
      ],
      "id": "f55f28e0"
    },
    {
      "cell_type": "markdown",
      "metadata": {
        "id": "28d66cbe"
      },
      "source": [
        "[CLS] - we must add this token to the start of each sentence, so BERT knows we're doing classification"
      ],
      "id": "28d66cbe"
    },
    {
      "cell_type": "code",
      "execution_count": 18,
      "metadata": {
        "colab": {
          "base_uri": "https://localhost:8080/"
        },
        "id": "bfbd0998",
        "outputId": "bf822024-6cc9-4f73-a806-be7307b023d8"
      },
      "outputs": [
        {
          "output_type": "execute_result",
          "data": {
            "text/plain": [
              "('[CLS]', 2)"
            ]
          },
          "metadata": {},
          "execution_count": 18
        }
      ],
      "source": [
        "tokenizer.cls_token, tokenizer.cls_token_id"
      ],
      "id": "bfbd0998"
    },
    {
      "cell_type": "markdown",
      "metadata": {
        "id": "195cc5cb"
      },
      "source": [
        "There is also a special token for padding:"
      ],
      "id": "195cc5cb"
    },
    {
      "cell_type": "code",
      "execution_count": 19,
      "metadata": {
        "colab": {
          "base_uri": "https://localhost:8080/"
        },
        "id": "413729f8",
        "outputId": "a096f36f-3778-46dd-f91b-8a81bd5ef208"
      },
      "outputs": [
        {
          "output_type": "execute_result",
          "data": {
            "text/plain": [
              "('[PAD]', 0)"
            ]
          },
          "metadata": {},
          "execution_count": 19
        }
      ],
      "source": [
        "tokenizer.pad_token, tokenizer.pad_token_id"
      ],
      "id": "413729f8"
    },
    {
      "cell_type": "code",
      "execution_count": 20,
      "metadata": {
        "colab": {
          "base_uri": "https://localhost:8080/"
        },
        "id": "700c6075",
        "outputId": "5d66873b-50d2-4cc6-d0d9-6a2ea2109627"
      },
      "outputs": [
        {
          "output_type": "execute_result",
          "data": {
            "text/plain": [
              "('[UNK]', 1)"
            ]
          },
          "metadata": {},
          "execution_count": 20
        }
      ],
      "source": [
        "tokenizer.unk_token, tokenizer.unk_token_id"
      ],
      "id": "700c6075"
    },
    {
      "cell_type": "markdown",
      "metadata": {
        "id": "203dda34"
      },
      "source": [
        "All of that work can be done using the encode_plus() method:"
      ],
      "id": "203dda34"
    },
    {
      "cell_type": "code",
      "execution_count": 21,
      "metadata": {
        "colab": {
          "base_uri": "https://localhost:8080/"
        },
        "id": "c791b06d",
        "outputId": "e5b8f4f0-a835-4c05-93a0-c13dd124dbd6"
      },
      "outputs": [
        {
          "output_type": "execute_result",
          "data": {
            "text/plain": [
              "dict_keys(['input_ids', 'attention_mask'])"
            ]
          },
          "metadata": {},
          "execution_count": 21
        }
      ],
      "source": [
        "encoding = tokenizer.encode_plus(\n",
        "    sample_txt,\n",
        "    max_length=64,\n",
        "    add_special_tokens=True,  # Add '[CLS]' and '[SEP]'\n",
        "    return_token_type_ids=False,\n",
        "    padding=\"max_length\",\n",
        "    return_attention_mask=True,\n",
        "    return_tensors=\"pt\"  # Return PyTorch tensors\n",
        ")\n",
        "\n",
        "encoding.keys()"
      ],
      "id": "c791b06d"
    },
    {
      "cell_type": "markdown",
      "metadata": {
        "id": "1f6d3797"
      },
      "source": [
        "The token ids are now stored in a Tensor and padded to a length of 32:"
      ],
      "id": "1f6d3797"
    },
    {
      "cell_type": "code",
      "execution_count": 22,
      "metadata": {
        "colab": {
          "base_uri": "https://localhost:8080/"
        },
        "id": "18ca971d",
        "outputId": "65193a47-942d-495e-bcef-d9ca01ab7779"
      },
      "outputs": [
        {
          "output_type": "stream",
          "name": "stdout",
          "text": [
            "64\n"
          ]
        },
        {
          "output_type": "execute_result",
          "data": {
            "text/plain": [
              "tensor([    2,   450,  7749,  1668, 19742,    92,   234,   310,  2632,  1863,\n",
              "          209,   343,  1454,    34,  4102,    92,  1647,   805,  1799,   751,\n",
              "          137,   112,  6852,  4412,   119,   173,  1451,   209,  3016,   776,\n",
              "          283,  1815,   638,   119,   166,   209,  3047,   383,  9604,   150,\n",
              "          464,  1370,   416,   805,    92,     3,     0,     0,     0,     0,\n",
              "            0,     0,     0,     0,     0,     0,     0,     0,     0,     0,\n",
              "            0,     0,     0,     0])"
            ]
          },
          "metadata": {},
          "execution_count": 22
        }
      ],
      "source": [
        "print(len(encoding[\"input_ids\"][0]))\n",
        "encoding[\"input_ids\"][0]"
      ],
      "id": "18ca971d"
    },
    {
      "cell_type": "markdown",
      "metadata": {
        "id": "0a2a52e9"
      },
      "source": [
        "The attention mask has the same length:"
      ],
      "id": "0a2a52e9"
    },
    {
      "cell_type": "code",
      "execution_count": 23,
      "metadata": {
        "colab": {
          "base_uri": "https://localhost:8080/"
        },
        "id": "5f5277ec",
        "outputId": "047d7238-f5cf-4065-e171-bc474951e637"
      },
      "outputs": [
        {
          "output_type": "stream",
          "name": "stdout",
          "text": [
            "64\n"
          ]
        },
        {
          "output_type": "execute_result",
          "data": {
            "text/plain": [
              "tensor([[1, 1, 1, 1, 1, 1, 1, 1, 1, 1, 1, 1, 1, 1, 1, 1, 1, 1, 1, 1, 1, 1, 1, 1,\n",
              "         1, 1, 1, 1, 1, 1, 1, 1, 1, 1, 1, 1, 1, 1, 1, 1, 1, 1, 1, 1, 1, 1, 0, 0,\n",
              "         0, 0, 0, 0, 0, 0, 0, 0, 0, 0, 0, 0, 0, 0, 0, 0]])"
            ]
          },
          "metadata": {},
          "execution_count": 23
        }
      ],
      "source": [
        "print(len(encoding[\"attention_mask\"][0]))\n",
        "encoding[\"attention_mask\"]"
      ],
      "id": "5f5277ec"
    },
    {
      "cell_type": "markdown",
      "metadata": {
        "id": "bdab72fc"
      },
      "source": [
        "We can inverse the tokenization to have a look at the special tokens:"
      ],
      "id": "bdab72fc"
    },
    {
      "cell_type": "code",
      "execution_count": 24,
      "metadata": {
        "colab": {
          "base_uri": "https://localhost:8080/"
        },
        "id": "a9af6426",
        "outputId": "e571321f-ef69-4486-a21e-f00330afcfd0"
      },
      "outputs": [
        {
          "output_type": "execute_result",
          "data": {
            "text/plain": [
              "['[CLS]',\n",
              " 'setelah',\n",
              " 'pembaruan',\n",
              " 'terakhir',\n",
              " 'gim',\n",
              " 'ini',\n",
              " 'menjadi',\n",
              " 'sangat',\n",
              " 'buruk',\n",
              " 'meskipun',\n",
              " 'saya',\n",
              " 'memiliki',\n",
              " 'internet',\n",
              " 'yang',\n",
              " 'layak',\n",
              " 'ini',\n",
              " 'menunjukkan',\n",
              " 'masalah',\n",
              " 'jaringan',\n",
              " 'selain',\n",
              " 'itu',\n",
              " 'dalam',\n",
              " 'mode',\n",
              " 'solo',\n",
              " 'tidak',\n",
              " 'dapat',\n",
              " 'menemukan',\n",
              " 'saya',\n",
              " 'menunggu',\n",
              " 'selama',\n",
              " '3',\n",
              " 'menit',\n",
              " 'tetapi',\n",
              " 'tidak',\n",
              " 'bisa',\n",
              " 'saya',\n",
              " 'berharap',\n",
              " 'para',\n",
              " 'pengembang',\n",
              " 'akan',\n",
              " 'melakukan',\n",
              " 'sesuatu',\n",
              " 'tentang',\n",
              " 'masalah',\n",
              " 'ini',\n",
              " '[SEP]',\n",
              " '[PAD]',\n",
              " '[PAD]',\n",
              " '[PAD]',\n",
              " '[PAD]',\n",
              " '[PAD]',\n",
              " '[PAD]',\n",
              " '[PAD]',\n",
              " '[PAD]',\n",
              " '[PAD]',\n",
              " '[PAD]',\n",
              " '[PAD]',\n",
              " '[PAD]',\n",
              " '[PAD]',\n",
              " '[PAD]',\n",
              " '[PAD]',\n",
              " '[PAD]',\n",
              " '[PAD]',\n",
              " '[PAD]']"
            ]
          },
          "metadata": {},
          "execution_count": 24
        }
      ],
      "source": [
        "tokenizer.convert_ids_to_tokens(encoding[\"input_ids\"][0])"
      ],
      "id": "a9af6426"
    },
    {
      "cell_type": "markdown",
      "metadata": {
        "id": "820d88af"
      },
      "source": [
        "## Choosing Sequence Length\n",
        "BERT works with fixed-length sequences. We'll use a simple strategy to choose the max length. Let's store the token length of each review:"
      ],
      "id": "820d88af"
    },
    {
      "cell_type": "code",
      "execution_count": 25,
      "metadata": {
        "id": "ffb2128a",
        "colab": {
          "base_uri": "https://localhost:8080/"
        },
        "outputId": "cb7d2be1-f1cb-4e23-f4ba-98d0e448691e"
      },
      "outputs": [
        {
          "output_type": "stream",
          "name": "stderr",
          "text": [
            "Asking to truncate to max_length but no maximum length is provided and the model has no predefined maximum length. Default to no truncation.\n"
          ]
        }
      ],
      "source": [
        "token_lens = []\n",
        "\n",
        "for txt in df.content:\n",
        "    tokens = tokenizer.encode(txt, truncation=True)\n",
        "    token_lens.append(len(tokens))"
      ],
      "id": "ffb2128a"
    },
    {
      "cell_type": "markdown",
      "metadata": {
        "id": "d8e965b3"
      },
      "source": [
        "and plot the distribution:"
      ],
      "id": "d8e965b3"
    },
    {
      "cell_type": "code",
      "execution_count": 26,
      "metadata": {
        "colab": {
          "base_uri": "https://localhost:8080/",
          "height": 398
        },
        "id": "28b2b274",
        "outputId": "742f5c82-4eaf-4b52-fe13-82591b2a2906"
      },
      "outputs": [
        {
          "output_type": "display_data",
          "data": {
            "text/plain": [
              "<Figure size 576x432 with 1 Axes>"
            ],
            "image/png": "[encoded data removed]"
          },
          "metadata": {}
        }
      ],
      "source": [
        "plt.figure(figsize = (8,6))\n",
        "sns.histplot(data = token_lens, kde=True)\n",
        "plt.xlabel('Token count')\n",
        "plt.show()"
      ],
      "id": "28b2b274"
    },
    {
      "cell_type": "markdown",
      "metadata": {
        "id": "7b84e219"
      },
      "source": [
        "Most of the reviews seem to contain less than 25 tokens, but we'll be on the safe side and choose a maximum length of 35."
      ],
      "id": "7b84e219"
    },
    {
      "cell_type": "code",
      "execution_count": 27,
      "metadata": {
        "id": "e6699690"
      },
      "outputs": [],
      "source": [
        "max_len = 70"
      ],
      "id": "e6699690"
    },
    {
      "cell_type": "markdown",
      "metadata": {
        "id": "756d3593"
      },
      "source": [
        "We have all building blocks required to create a PyTorch dataset. Let's do it:"
      ],
      "id": "756d3593"
    },
    {
      "cell_type": "code",
      "execution_count": 28,
      "metadata": {
        "id": "975394aa"
      },
      "outputs": [],
      "source": [
        "class AppReviewDataset(Dataset):\n",
        "    def __init__(self, reviews, targets, tokenizer, max_len):\n",
        "        self.reviews = reviews\n",
        "        self.targets = targets\n",
        "        self.tokenizer = tokenizer\n",
        "        self.max_len = max_len\n",
        "\n",
        "    def __len__(self):\n",
        "        return len(self.reviews)\n",
        "    # langkah 1: dapatkan review dan target\n",
        "    def __getitem__(self, item):\n",
        "        review = str(self.reviews[item])\n",
        "        target = self.targets[item]\n",
        "    # langkah 2: menggunakan tokenizer untuk mengkodekan kalimat (termasuk padding/cutting ke panjang maksimal)\n",
        "        encoding = self.tokenizer.encode_plus(\n",
        "            review,\n",
        "            add_special_tokens = True, # menambahkan '[CLS]' dan '[SEP]'\n",
        "            max_length = self.max_len, \n",
        "            return_token_type_ids = False,\n",
        "            padding = \"max_length\", # Padding kalimat menjadi panjang maksimum.\n",
        "            truncation = True, # Potong kalimat menjadi panjang maksimum.\n",
        "            return_attention_mask = True, # Kembali attention mask\n",
        "            return_tensors = \"pt\", # Kembali  torch objects/tensor\n",
        "        )\n",
        "\n",
        "        return {\n",
        "            \"review_text\": review,\n",
        "            \"input_ids\": encoding[\"input_ids\"].flatten(), # Tensor ID token untuk dimasukkan ke dalam model\n",
        "            \"attention_mask\": encoding[\"attention_mask\"].flatten(), #Tensor Index yang menentukan token mana yang harus diperhatikan oleh model\n",
        "            \"targets\": torch.tensor(target, dtype=torch.long),\n",
        "        }"
      ],
      "id": "975394aa"
    },
    {
      "cell_type": "markdown",
      "metadata": {
        "id": "4eaa50a4"
      },
      "source": [
        "The tokenizer is doing most of the heavy lifting for us. We also return the review texts, so it'll be easier to evaluate the predictions from our model. Let's split the data:"
      ],
      "id": "4eaa50a4"
    },
    {
      "cell_type": "code",
      "execution_count": 29,
      "metadata": {
        "id": "26867ba5"
      },
      "outputs": [],
      "source": [
        "#pisahkan data train, validation dan test (rasio 80:10:10)\n",
        "df_train, df_test = train_test_split(\n",
        "    df,\n",
        "    test_size = 0.2,\n",
        "    random_state = RANDOM_SEED\n",
        "    )\n",
        "\n",
        "df_val, df_test = train_test_split(\n",
        "    df_test,\n",
        "    test_size = 0.5,\n",
        "    random_state = RANDOM_SEED\n",
        "    )"
      ],
      "id": "26867ba5"
    },
    {
      "cell_type": "code",
      "source": [
        "print('Train Data Size', df_train.shape)\n",
        "print('Validation Data Size', df_val.shape)\n",
        "print('Test Data Size', df_test.shape)"
      ],
      "metadata": {
        "colab": {
          "base_uri": "https://localhost:8080/"
        },
        "id": "YUJEVvYiWyil",
        "outputId": "d2ff5f18-e40b-4d41-cc57-c35cd223e5cd"
      },
      "id": "YUJEVvYiWyil",
      "execution_count": 30,
      "outputs": [
        {
          "output_type": "stream",
          "name": "stdout",
          "text": [
            "Train Data Size (11472, 2)\n",
            "Validation Data Size (1434, 2)\n",
            "Test Data Size (1435, 2)\n"
          ]
        }
      ]
    },
    {
      "cell_type": "code",
      "execution_count": 31,
      "metadata": {
        "colab": {
          "base_uri": "https://localhost:8080/"
        },
        "id": "9REroWBHj7xk",
        "outputId": "8f1e6e4d-1c71-40ec-89c0-1e97ebcc94bc"
      },
      "outputs": [
        {
          "output_type": "execute_result",
          "data": {
            "text/plain": [
              "2    4696\n",
              "0    3480\n",
              "1    3296\n",
              "Name: label, dtype: int64"
            ]
          },
          "metadata": {},
          "execution_count": 31
        }
      ],
      "source": [
        "df_train['label'].value_counts()"
      ],
      "id": "9REroWBHj7xk"
    },
    {
      "cell_type": "code",
      "execution_count": 32,
      "metadata": {
        "colab": {
          "base_uri": "https://localhost:8080/"
        },
        "id": "b8X04HXDjJDv",
        "outputId": "315d6958-65ca-43bd-e5ec-947ab58493b0"
      },
      "outputs": [
        {
          "output_type": "execute_result",
          "data": {
            "text/plain": [
              "2    553\n",
              "0    450\n",
              "1    431\n",
              "Name: label, dtype: int64"
            ]
          },
          "metadata": {},
          "execution_count": 32
        }
      ],
      "source": [
        "df_val['label'].value_counts()"
      ],
      "id": "b8X04HXDjJDv"
    },
    {
      "cell_type": "code",
      "execution_count": 33,
      "metadata": {
        "colab": {
          "base_uri": "https://localhost:8080/"
        },
        "id": "BznMGr_Njpu4",
        "outputId": "1a191d1d-6efa-4956-fd6f-f59ca5b26f3b"
      },
      "outputs": [
        {
          "output_type": "execute_result",
          "data": {
            "text/plain": [
              "2    565\n",
              "1    440\n",
              "0    430\n",
              "Name: label, dtype: int64"
            ]
          },
          "metadata": {},
          "execution_count": 33
        }
      ],
      "source": [
        "df_test['label'].value_counts()"
      ],
      "id": "BznMGr_Njpu4"
    },
    {
      "cell_type": "markdown",
      "metadata": {
        "id": "38085a08"
      },
      "source": [
        "We also need to create a couple of data loaders. Here's a helper function to do it:"
      ],
      "id": "38085a08"
    },
    {
      "cell_type": "code",
      "execution_count": 34,
      "metadata": {
        "id": "12163972"
      },
      "outputs": [],
      "source": [
        "def create_data_loader(df, tokenizer, max_len, batch_size):\n",
        "    ds = AppReviewDataset(\n",
        "        reviews = df.content.to_numpy(),\n",
        "        targets = df.label.to_numpy(),\n",
        "        tokenizer = tokenizer,\n",
        "        max_len = max_len\n",
        "        )\n",
        "\n",
        "    return DataLoader(\n",
        "        ds,\n",
        "        batch_size = batch_size,\n",
        "        num_workers = 2\n",
        "        )"
      ],
      "id": "12163972"
    },
    {
      "cell_type": "code",
      "execution_count": 35,
      "metadata": {
        "id": "6b2dad6a"
      },
      "outputs": [],
      "source": [
        "BATCH_SIZE = 32\n",
        "\n",
        "train_data_loader = create_data_loader(\n",
        "    df_train,\n",
        "    tokenizer,\n",
        "    max_len,\n",
        "    BATCH_SIZE\n",
        "    )\n",
        "\n",
        "val_data_loader = create_data_loader(\n",
        "    df_val,\n",
        "    tokenizer,\n",
        "    max_len,\n",
        "    BATCH_SIZE\n",
        "    )\n",
        "\n",
        "test_data_loader = create_data_loader(\n",
        "    df_test,\n",
        "    tokenizer,\n",
        "    max_len,\n",
        "    BATCH_SIZE\n",
        "    )"
      ],
      "id": "6b2dad6a"
    },
    {
      "cell_type": "markdown",
      "metadata": {
        "id": "33343adc"
      },
      "source": [
        "Let's have a look at an example batch from our training data loader:"
      ],
      "id": "33343adc"
    },
    {
      "cell_type": "code",
      "execution_count": 36,
      "metadata": {
        "colab": {
          "base_uri": "https://localhost:8080/"
        },
        "id": "ef0c90f4",
        "outputId": "56631ad4-5a7d-471f-8e32-0a588f754e63",
        "scrolled": true
      },
      "outputs": [
        {
          "output_type": "execute_result",
          "data": {
            "text/plain": [
              "dict_keys(['review_text', 'input_ids', 'attention_mask', 'targets'])"
            ]
          },
          "metadata": {},
          "execution_count": 36
        }
      ],
      "source": [
        "data = next(iter(train_data_loader))\n",
        "data.keys()"
      ],
      "id": "ef0c90f4"
    },
    {
      "cell_type": "code",
      "execution_count": 37,
      "metadata": {
        "colab": {
          "base_uri": "https://localhost:8080/"
        },
        "id": "6e1a8a74",
        "outputId": "4e24f3e0-63e8-4e7a-8dfc-8ec75f888ada"
      },
      "outputs": [
        {
          "output_type": "stream",
          "name": "stdout",
          "text": [
            "torch.Size([32, 70])\n",
            "torch.Size([32, 70])\n",
            "torch.Size([32])\n"
          ]
        }
      ],
      "source": [
        "print(data[\"input_ids\"].shape)\n",
        "print(data[\"attention_mask\"].shape)\n",
        "print(data[\"targets\"].shape)"
      ],
      "id": "6e1a8a74"
    },
    {
      "cell_type": "markdown",
      "metadata": {
        "id": "aebe82b8"
      },
      "source": [
        "# Sentiment Classification with BERT and Hugging Face\n",
        "There are a lot of helpers that make using BERT easy with the Transformers library. Depending on the task you might want to use [BertForSequenceClassification](https://huggingface.co/transformers/model_doc/bert.html#bertforsequenceclassification), [BertForQuestionAnswering](https://huggingface.co/transformers/model_doc/bert.html#bertforquestionanswering) or something else.\n",
        "\n",
        "But who cares, right? We're hardcore! We'll use the basic [BertModel](https://huggingface.co/transformers/model_doc/bert.html#bertmodel) and build our sentiment classifier on top of it. Let's load the model:"
      ],
      "id": "aebe82b8"
    },
    {
      "cell_type": "code",
      "execution_count": 38,
      "metadata": {
        "id": "23ce5eda",
        "colab": {
          "base_uri": "https://localhost:8080/",
          "height": 49,
          "referenced_widgets": [
            "7cd6db8b264d4bb3b8a5d60fc9ab1fb8",
            "ba8a71f35281424a95b4c87ab702995a",
            "4a5b73d754dc420e867bcee366a3493e",
            "f7e5ad6bcb504ceb9b1dbfc0d9bf6c21",
            "8cf8165cf1024c77996884af4c02f447",
            "3756bdd1101d43299cadc8449c9af11d",
            "dab1b1d09f354923b118fe2031e9a253",
            "340a569682264319a77fd0a390eb56d9",
            "32f4c0d553b7450d9eceea451756ed8c",
            "a7a10c6cadc945c6b95ec072d4a514f5",
            "ef3352637e75484aade267b989688c18"
          ]
        },
        "outputId": "bd86ba1f-2fae-4e45-c719-425d875d17ae"
      },
      "outputs": [
        {
          "output_type": "display_data",
          "data": {
            "text/plain": [
              "Downloading:   0%|          | 0.00/498M [00:00<?, ?B/s]"
            ],
            "application/vnd.jupyter.widget-view+json": {
              "version_major": 2,
              "version_minor": 0,
              "model_id": "7cd6db8b264d4bb3b8a5d60fc9ab1fb8"
            }
          },
          "metadata": {}
        }
      ],
      "source": [
        "bert_model = AutoModel.from_pretrained(PRE_TRAINED_MODEL_NAME, return_dict=False)"
      ],
      "id": "23ce5eda"
    },
    {
      "cell_type": "markdown",
      "metadata": {
        "id": "7dc02e5a"
      },
      "source": [
        "And try to use it on the encoding of our sample text:"
      ],
      "id": "7dc02e5a"
    },
    {
      "cell_type": "code",
      "execution_count": 39,
      "metadata": {
        "id": "5c667845"
      },
      "outputs": [],
      "source": [
        "last_hidden_state, pooled_output = bert_model(\n",
        "    input_ids = encoding['input_ids'],\n",
        "    attention_mask = encoding['attention_mask']\n",
        "    )"
      ],
      "id": "5c667845"
    },
    {
      "cell_type": "markdown",
      "metadata": {
        "id": "073f21e8"
      },
      "source": [
        "The last_hidden_state is a sequence of hidden states of the last layer of the model."
      ],
      "id": "073f21e8"
    },
    {
      "cell_type": "code",
      "execution_count": 40,
      "metadata": {
        "colab": {
          "base_uri": "https://localhost:8080/"
        },
        "id": "9b75666e",
        "outputId": "8ef2bdc1-ca97-47cd-d460-34ae2baf79d4"
      },
      "outputs": [
        {
          "output_type": "execute_result",
          "data": {
            "text/plain": [
              "torch.Size([1, 64, 768])"
            ]
          },
          "metadata": {},
          "execution_count": 40
        }
      ],
      "source": [
        "last_hidden_state.shape"
      ],
      "id": "9b75666e"
    },
    {
      "cell_type": "markdown",
      "metadata": {
        "id": "867d0f18"
      },
      "source": [
        "We have the hidden state for each of our 32 tokens (the length of our example sequence). But why 768? This is the number of hidden units in the feedforward-networks. We can verify that by checking the config:"
      ],
      "id": "867d0f18"
    },
    {
      "cell_type": "code",
      "execution_count": 41,
      "metadata": {
        "id": "81d909d1",
        "colab": {
          "base_uri": "https://localhost:8080/"
        },
        "outputId": "edf5ee15-b046-4fa2-a19b-76cc2f8d7a85"
      },
      "outputs": [
        {
          "output_type": "execute_result",
          "data": {
            "text/plain": [
              "768"
            ]
          },
          "metadata": {},
          "execution_count": 41
        }
      ],
      "source": [
        "bert_model.config.hidden_size"
      ],
      "id": "81d909d1"
    },
    {
      "cell_type": "markdown",
      "metadata": {
        "id": "43008280"
      },
      "source": [
        "We can use all of this knowledge to create a classifier that uses the BERT model:"
      ],
      "id": "43008280"
    },
    {
      "cell_type": "code",
      "execution_count": 42,
      "metadata": {
        "id": "4b221e0d"
      },
      "outputs": [],
      "source": [
        "class TextClassificationModel(nn.Module):\n",
        "    def __init__(self, n_classes):\n",
        "        super(TextClassificationModel, self).__init__()\n",
        "        self.bert = bert_model\n",
        "        self.drop = nn.Dropout(p=0.3)\n",
        "        self.out = nn.Linear(\n",
        "            self.bert.config.hidden_size,\n",
        "            n_classes\n",
        "            )\n",
        "\n",
        "    def forward(self, input_ids, attention_mask):\n",
        "        _, pooled_output = self.bert(\n",
        "            input_ids = input_ids,\n",
        "            attention_mask = attention_mask\n",
        "            )\n",
        "        \n",
        "        output = self.drop(pooled_output)\n",
        "        return self.out(output)"
      ],
      "id": "4b221e0d"
    },
    {
      "cell_type": "markdown",
      "metadata": {
        "id": "8d07b191"
      },
      "source": [
        "Our classifier delegates most of the heavy lifting to the BertModel. We use a dropout layer for some regularization and a fully-connected layer for our output. Note that we're returning the raw output of the last layer since that is required for the cross-entropy loss function in PyTorch to work.\n",
        "\n",
        "This should work like any other PyTorch model. Let's create an instance and move it to the GPU:"
      ],
      "id": "8d07b191"
    },
    {
      "cell_type": "code",
      "execution_count": 43,
      "metadata": {
        "id": "cf9b8de3"
      },
      "outputs": [],
      "source": [
        "model = TextClassificationModel(len(class_names))\n",
        "model = model.to(device)"
      ],
      "id": "cf9b8de3"
    },
    {
      "cell_type": "code",
      "execution_count": 44,
      "metadata": {
        "id": "PfH2n62g6I9Z",
        "colab": {
          "base_uri": "https://localhost:8080/"
        },
        "outputId": "2d400fab-cbb7-4303-81c8-810842e7b6db"
      },
      "outputs": [
        {
          "output_type": "execute_result",
          "data": {
            "text/plain": [
              "TextClassificationModel(\n",
              "  (bert): BertModel(\n",
              "    (embeddings): BertEmbeddings(\n",
              "      (word_embeddings): Embedding(50000, 768, padding_idx=0)\n",
              "      (position_embeddings): Embedding(512, 768)\n",
              "      (token_type_embeddings): Embedding(2, 768)\n",
              "      (LayerNorm): LayerNorm((768,), eps=1e-12, elementwise_affine=True)\n",
              "      (dropout): Dropout(p=0.1, inplace=False)\n",
              "    )\n",
              "    (encoder): BertEncoder(\n",
              "      (layer): ModuleList(\n",
              "        (0): BertLayer(\n",
              "          (attention): BertAttention(\n",
              "            (self): BertSelfAttention(\n",
              "              (query): Linear(in_features=768, out_features=768, bias=True)\n",
              "              (key): Linear(in_features=768, out_features=768, bias=True)\n",
              "              (value): Linear(in_features=768, out_features=768, bias=True)\n",
              "              (dropout): Dropout(p=0.1, inplace=False)\n",
              "            )\n",
              "            (output): BertSelfOutput(\n",
              "              (dense): Linear(in_features=768, out_features=768, bias=True)\n",
              "              (LayerNorm): LayerNorm((768,), eps=1e-12, elementwise_affine=True)\n",
              "              (dropout): Dropout(p=0.1, inplace=False)\n",
              "            )\n",
              "          )\n",
              "          (intermediate): BertIntermediate(\n",
              "            (dense): Linear(in_features=768, out_features=3072, bias=True)\n",
              "            (intermediate_act_fn): GELUActivation()\n",
              "          )\n",
              "          (output): BertOutput(\n",
              "            (dense): Linear(in_features=3072, out_features=768, bias=True)\n",
              "            (LayerNorm): LayerNorm((768,), eps=1e-12, elementwise_affine=True)\n",
              "            (dropout): Dropout(p=0.1, inplace=False)\n",
              "          )\n",
              "        )\n",
              "        (1): BertLayer(\n",
              "          (attention): BertAttention(\n",
              "            (self): BertSelfAttention(\n",
              "              (query): Linear(in_features=768, out_features=768, bias=True)\n",
              "              (key): Linear(in_features=768, out_features=768, bias=True)\n",
              "              (value): Linear(in_features=768, out_features=768, bias=True)\n",
              "              (dropout): Dropout(p=0.1, inplace=False)\n",
              "            )\n",
              "            (output): BertSelfOutput(\n",
              "              (dense): Linear(in_features=768, out_features=768, bias=True)\n",
              "              (LayerNorm): LayerNorm((768,), eps=1e-12, elementwise_affine=True)\n",
              "              (dropout): Dropout(p=0.1, inplace=False)\n",
              "            )\n",
              "          )\n",
              "          (intermediate): BertIntermediate(\n",
              "            (dense): Linear(in_features=768, out_features=3072, bias=True)\n",
              "            (intermediate_act_fn): GELUActivation()\n",
              "          )\n",
              "          (output): BertOutput(\n",
              "            (dense): Linear(in_features=3072, out_features=768, bias=True)\n",
              "            (LayerNorm): LayerNorm((768,), eps=1e-12, elementwise_affine=True)\n",
              "            (dropout): Dropout(p=0.1, inplace=False)\n",
              "          )\n",
              "        )\n",
              "        (2): BertLayer(\n",
              "          (attention): BertAttention(\n",
              "            (self): BertSelfAttention(\n",
              "              (query): Linear(in_features=768, out_features=768, bias=True)\n",
              "              (key): Linear(in_features=768, out_features=768, bias=True)\n",
              "              (value): Linear(in_features=768, out_features=768, bias=True)\n",
              "              (dropout): Dropout(p=0.1, inplace=False)\n",
              "            )\n",
              "            (output): BertSelfOutput(\n",
              "              (dense): Linear(in_features=768, out_features=768, bias=True)\n",
              "              (LayerNorm): LayerNorm((768,), eps=1e-12, elementwise_affine=True)\n",
              "              (dropout): Dropout(p=0.1, inplace=False)\n",
              "            )\n",
              "          )\n",
              "          (intermediate): BertIntermediate(\n",
              "            (dense): Linear(in_features=768, out_features=3072, bias=True)\n",
              "            (intermediate_act_fn): GELUActivation()\n",
              "          )\n",
              "          (output): BertOutput(\n",
              "            (dense): Linear(in_features=3072, out_features=768, bias=True)\n",
              "            (LayerNorm): LayerNorm((768,), eps=1e-12, elementwise_affine=True)\n",
              "            (dropout): Dropout(p=0.1, inplace=False)\n",
              "          )\n",
              "        )\n",
              "        (3): BertLayer(\n",
              "          (attention): BertAttention(\n",
              "            (self): BertSelfAttention(\n",
              "              (query): Linear(in_features=768, out_features=768, bias=True)\n",
              "              (key): Linear(in_features=768, out_features=768, bias=True)\n",
              "              (value): Linear(in_features=768, out_features=768, bias=True)\n",
              "              (dropout): Dropout(p=0.1, inplace=False)\n",
              "            )\n",
              "            (output): BertSelfOutput(\n",
              "              (dense): Linear(in_features=768, out_features=768, bias=True)\n",
              "              (LayerNorm): LayerNorm((768,), eps=1e-12, elementwise_affine=True)\n",
              "              (dropout): Dropout(p=0.1, inplace=False)\n",
              "            )\n",
              "          )\n",
              "          (intermediate): BertIntermediate(\n",
              "            (dense): Linear(in_features=768, out_features=3072, bias=True)\n",
              "            (intermediate_act_fn): GELUActivation()\n",
              "          )\n",
              "          (output): BertOutput(\n",
              "            (dense): Linear(in_features=3072, out_features=768, bias=True)\n",
              "            (LayerNorm): LayerNorm((768,), eps=1e-12, elementwise_affine=True)\n",
              "            (dropout): Dropout(p=0.1, inplace=False)\n",
              "          )\n",
              "        )\n",
              "        (4): BertLayer(\n",
              "          (attention): BertAttention(\n",
              "            (self): BertSelfAttention(\n",
              "              (query): Linear(in_features=768, out_features=768, bias=True)\n",
              "              (key): Linear(in_features=768, out_features=768, bias=True)\n",
              "              (value): Linear(in_features=768, out_features=768, bias=True)\n",
              "              (dropout): Dropout(p=0.1, inplace=False)\n",
              "            )\n",
              "            (output): BertSelfOutput(\n",
              "              (dense): Linear(in_features=768, out_features=768, bias=True)\n",
              "              (LayerNorm): LayerNorm((768,), eps=1e-12, elementwise_affine=True)\n",
              "              (dropout): Dropout(p=0.1, inplace=False)\n",
              "            )\n",
              "          )\n",
              "          (intermediate): BertIntermediate(\n",
              "            (dense): Linear(in_features=768, out_features=3072, bias=True)\n",
              "            (intermediate_act_fn): GELUActivation()\n",
              "          )\n",
              "          (output): BertOutput(\n",
              "            (dense): Linear(in_features=3072, out_features=768, bias=True)\n",
              "            (LayerNorm): LayerNorm((768,), eps=1e-12, elementwise_affine=True)\n",
              "            (dropout): Dropout(p=0.1, inplace=False)\n",
              "          )\n",
              "        )\n",
              "        (5): BertLayer(\n",
              "          (attention): BertAttention(\n",
              "            (self): BertSelfAttention(\n",
              "              (query): Linear(in_features=768, out_features=768, bias=True)\n",
              "              (key): Linear(in_features=768, out_features=768, bias=True)\n",
              "              (value): Linear(in_features=768, out_features=768, bias=True)\n",
              "              (dropout): Dropout(p=0.1, inplace=False)\n",
              "            )\n",
              "            (output): BertSelfOutput(\n",
              "              (dense): Linear(in_features=768, out_features=768, bias=True)\n",
              "              (LayerNorm): LayerNorm((768,), eps=1e-12, elementwise_affine=True)\n",
              "              (dropout): Dropout(p=0.1, inplace=False)\n",
              "            )\n",
              "          )\n",
              "          (intermediate): BertIntermediate(\n",
              "            (dense): Linear(in_features=768, out_features=3072, bias=True)\n",
              "            (intermediate_act_fn): GELUActivation()\n",
              "          )\n",
              "          (output): BertOutput(\n",
              "            (dense): Linear(in_features=3072, out_features=768, bias=True)\n",
              "            (LayerNorm): LayerNorm((768,), eps=1e-12, elementwise_affine=True)\n",
              "            (dropout): Dropout(p=0.1, inplace=False)\n",
              "          )\n",
              "        )\n",
              "        (6): BertLayer(\n",
              "          (attention): BertAttention(\n",
              "            (self): BertSelfAttention(\n",
              "              (query): Linear(in_features=768, out_features=768, bias=True)\n",
              "              (key): Linear(in_features=768, out_features=768, bias=True)\n",
              "              (value): Linear(in_features=768, out_features=768, bias=True)\n",
              "              (dropout): Dropout(p=0.1, inplace=False)\n",
              "            )\n",
              "            (output): BertSelfOutput(\n",
              "              (dense): Linear(in_features=768, out_features=768, bias=True)\n",
              "              (LayerNorm): LayerNorm((768,), eps=1e-12, elementwise_affine=True)\n",
              "              (dropout): Dropout(p=0.1, inplace=False)\n",
              "            )\n",
              "          )\n",
              "          (intermediate): BertIntermediate(\n",
              "            (dense): Linear(in_features=768, out_features=3072, bias=True)\n",
              "            (intermediate_act_fn): GELUActivation()\n",
              "          )\n",
              "          (output): BertOutput(\n",
              "            (dense): Linear(in_features=3072, out_features=768, bias=True)\n",
              "            (LayerNorm): LayerNorm((768,), eps=1e-12, elementwise_affine=True)\n",
              "            (dropout): Dropout(p=0.1, inplace=False)\n",
              "          )\n",
              "        )\n",
              "        (7): BertLayer(\n",
              "          (attention): BertAttention(\n",
              "            (self): BertSelfAttention(\n",
              "              (query): Linear(in_features=768, out_features=768, bias=True)\n",
              "              (key): Linear(in_features=768, out_features=768, bias=True)\n",
              "              (value): Linear(in_features=768, out_features=768, bias=True)\n",
              "              (dropout): Dropout(p=0.1, inplace=False)\n",
              "            )\n",
              "            (output): BertSelfOutput(\n",
              "              (dense): Linear(in_features=768, out_features=768, bias=True)\n",
              "              (LayerNorm): LayerNorm((768,), eps=1e-12, elementwise_affine=True)\n",
              "              (dropout): Dropout(p=0.1, inplace=False)\n",
              "            )\n",
              "          )\n",
              "          (intermediate): BertIntermediate(\n",
              "            (dense): Linear(in_features=768, out_features=3072, bias=True)\n",
              "            (intermediate_act_fn): GELUActivation()\n",
              "          )\n",
              "          (output): BertOutput(\n",
              "            (dense): Linear(in_features=3072, out_features=768, bias=True)\n",
              "            (LayerNorm): LayerNorm((768,), eps=1e-12, elementwise_affine=True)\n",
              "            (dropout): Dropout(p=0.1, inplace=False)\n",
              "          )\n",
              "        )\n",
              "        (8): BertLayer(\n",
              "          (attention): BertAttention(\n",
              "            (self): BertSelfAttention(\n",
              "              (query): Linear(in_features=768, out_features=768, bias=True)\n",
              "              (key): Linear(in_features=768, out_features=768, bias=True)\n",
              "              (value): Linear(in_features=768, out_features=768, bias=True)\n",
              "              (dropout): Dropout(p=0.1, inplace=False)\n",
              "            )\n",
              "            (output): BertSelfOutput(\n",
              "              (dense): Linear(in_features=768, out_features=768, bias=True)\n",
              "              (LayerNorm): LayerNorm((768,), eps=1e-12, elementwise_affine=True)\n",
              "              (dropout): Dropout(p=0.1, inplace=False)\n",
              "            )\n",
              "          )\n",
              "          (intermediate): BertIntermediate(\n",
              "            (dense): Linear(in_features=768, out_features=3072, bias=True)\n",
              "            (intermediate_act_fn): GELUActivation()\n",
              "          )\n",
              "          (output): BertOutput(\n",
              "            (dense): Linear(in_features=3072, out_features=768, bias=True)\n",
              "            (LayerNorm): LayerNorm((768,), eps=1e-12, elementwise_affine=True)\n",
              "            (dropout): Dropout(p=0.1, inplace=False)\n",
              "          )\n",
              "        )\n",
              "        (9): BertLayer(\n",
              "          (attention): BertAttention(\n",
              "            (self): BertSelfAttention(\n",
              "              (query): Linear(in_features=768, out_features=768, bias=True)\n",
              "              (key): Linear(in_features=768, out_features=768, bias=True)\n",
              "              (value): Linear(in_features=768, out_features=768, bias=True)\n",
              "              (dropout): Dropout(p=0.1, inplace=False)\n",
              "            )\n",
              "            (output): BertSelfOutput(\n",
              "              (dense): Linear(in_features=768, out_features=768, bias=True)\n",
              "              (LayerNorm): LayerNorm((768,), eps=1e-12, elementwise_affine=True)\n",
              "              (dropout): Dropout(p=0.1, inplace=False)\n",
              "            )\n",
              "          )\n",
              "          (intermediate): BertIntermediate(\n",
              "            (dense): Linear(in_features=768, out_features=3072, bias=True)\n",
              "            (intermediate_act_fn): GELUActivation()\n",
              "          )\n",
              "          (output): BertOutput(\n",
              "            (dense): Linear(in_features=3072, out_features=768, bias=True)\n",
              "            (LayerNorm): LayerNorm((768,), eps=1e-12, elementwise_affine=True)\n",
              "            (dropout): Dropout(p=0.1, inplace=False)\n",
              "          )\n",
              "        )\n",
              "        (10): BertLayer(\n",
              "          (attention): BertAttention(\n",
              "            (self): BertSelfAttention(\n",
              "              (query): Linear(in_features=768, out_features=768, bias=True)\n",
              "              (key): Linear(in_features=768, out_features=768, bias=True)\n",
              "              (value): Linear(in_features=768, out_features=768, bias=True)\n",
              "              (dropout): Dropout(p=0.1, inplace=False)\n",
              "            )\n",
              "            (output): BertSelfOutput(\n",
              "              (dense): Linear(in_features=768, out_features=768, bias=True)\n",
              "              (LayerNorm): LayerNorm((768,), eps=1e-12, elementwise_affine=True)\n",
              "              (dropout): Dropout(p=0.1, inplace=False)\n",
              "            )\n",
              "          )\n",
              "          (intermediate): BertIntermediate(\n",
              "            (dense): Linear(in_features=768, out_features=3072, bias=True)\n",
              "            (intermediate_act_fn): GELUActivation()\n",
              "          )\n",
              "          (output): BertOutput(\n",
              "            (dense): Linear(in_features=3072, out_features=768, bias=True)\n",
              "            (LayerNorm): LayerNorm((768,), eps=1e-12, elementwise_affine=True)\n",
              "            (dropout): Dropout(p=0.1, inplace=False)\n",
              "          )\n",
              "        )\n",
              "        (11): BertLayer(\n",
              "          (attention): BertAttention(\n",
              "            (self): BertSelfAttention(\n",
              "              (query): Linear(in_features=768, out_features=768, bias=True)\n",
              "              (key): Linear(in_features=768, out_features=768, bias=True)\n",
              "              (value): Linear(in_features=768, out_features=768, bias=True)\n",
              "              (dropout): Dropout(p=0.1, inplace=False)\n",
              "            )\n",
              "            (output): BertSelfOutput(\n",
              "              (dense): Linear(in_features=768, out_features=768, bias=True)\n",
              "              (LayerNorm): LayerNorm((768,), eps=1e-12, elementwise_affine=True)\n",
              "              (dropout): Dropout(p=0.1, inplace=False)\n",
              "            )\n",
              "          )\n",
              "          (intermediate): BertIntermediate(\n",
              "            (dense): Linear(in_features=768, out_features=3072, bias=True)\n",
              "            (intermediate_act_fn): GELUActivation()\n",
              "          )\n",
              "          (output): BertOutput(\n",
              "            (dense): Linear(in_features=3072, out_features=768, bias=True)\n",
              "            (LayerNorm): LayerNorm((768,), eps=1e-12, elementwise_affine=True)\n",
              "            (dropout): Dropout(p=0.1, inplace=False)\n",
              "          )\n",
              "        )\n",
              "      )\n",
              "    )\n",
              "    (pooler): BertPooler(\n",
              "      (dense): Linear(in_features=768, out_features=768, bias=True)\n",
              "      (activation): Tanh()\n",
              "    )\n",
              "  )\n",
              "  (drop): Dropout(p=0.3, inplace=False)\n",
              "  (out): Linear(in_features=768, out_features=3, bias=True)\n",
              ")"
            ]
          },
          "metadata": {},
          "execution_count": 44
        }
      ],
      "source": [
        "model"
      ],
      "id": "PfH2n62g6I9Z"
    },
    {
      "cell_type": "markdown",
      "metadata": {
        "id": "cccd4bdb"
      },
      "source": [
        "We'll move the example batch of our training data to the GPU:"
      ],
      "id": "cccd4bdb"
    },
    {
      "cell_type": "code",
      "execution_count": 45,
      "metadata": {
        "id": "b8328472",
        "colab": {
          "base_uri": "https://localhost:8080/"
        },
        "outputId": "c704fe9f-2ec4-4c28-9ad0-b6a92050aa43"
      },
      "outputs": [
        {
          "output_type": "stream",
          "name": "stdout",
          "text": [
            "torch.Size([32, 70])\n",
            "torch.Size([32, 70])\n"
          ]
        }
      ],
      "source": [
        "input_ids = data[\"input_ids\"].to(device)\n",
        "attention_mask = data[\"attention_mask\"].to(device)\n",
        "\n",
        "print(input_ids.shape)  # batch size x seq length\n",
        "print(attention_mask.shape)  # batch size x seq length"
      ],
      "id": "b8328472"
    },
    {
      "cell_type": "markdown",
      "metadata": {
        "id": "71b3f6d4"
      },
      "source": [
        "To get the predicted probabilities from our trained model, we'll apply the softmax function to the outputs:"
      ],
      "id": "71b3f6d4"
    },
    {
      "cell_type": "code",
      "execution_count": 46,
      "metadata": {
        "id": "f0f69764",
        "colab": {
          "base_uri": "https://localhost:8080/"
        },
        "outputId": "5b107fc3-9afc-45f1-a9db-7c4809d64a46"
      },
      "outputs": [
        {
          "output_type": "execute_result",
          "data": {
            "text/plain": [
              "tensor([[0.2858, 0.5349, 0.1794],\n",
              "        [0.5878, 0.2195, 0.1927],\n",
              "        [0.5359, 0.3033, 0.1609],\n",
              "        [0.4661, 0.3475, 0.1864],\n",
              "        [0.5573, 0.2913, 0.1514],\n",
              "        [0.6615, 0.2026, 0.1359],\n",
              "        [0.4839, 0.4012, 0.1149],\n",
              "        [0.3639, 0.4179, 0.2182],\n",
              "        [0.4054, 0.4098, 0.1848],\n",
              "        [0.3141, 0.5106, 0.1753],\n",
              "        [0.3127, 0.4978, 0.1894],\n",
              "        [0.5665, 0.3143, 0.1192],\n",
              "        [0.5578, 0.3173, 0.1249],\n",
              "        [0.4758, 0.2536, 0.2706],\n",
              "        [0.3863, 0.3716, 0.2421],\n",
              "        [0.3028, 0.4328, 0.2644],\n",
              "        [0.4460, 0.3563, 0.1978],\n",
              "        [0.4161, 0.4201, 0.1637],\n",
              "        [0.4387, 0.3248, 0.2364],\n",
              "        [0.4854, 0.3637, 0.1509],\n",
              "        [0.5518, 0.2835, 0.1647],\n",
              "        [0.4551, 0.3230, 0.2219],\n",
              "        [0.5379, 0.3164, 0.1457],\n",
              "        [0.5292, 0.3196, 0.1511],\n",
              "        [0.4990, 0.3001, 0.2009],\n",
              "        [0.6267, 0.2424, 0.1309],\n",
              "        [0.5393, 0.2914, 0.1693],\n",
              "        [0.4307, 0.3101, 0.2592],\n",
              "        [0.2801, 0.4368, 0.2831],\n",
              "        [0.4492, 0.3555, 0.1953],\n",
              "        [0.5114, 0.3067, 0.1819],\n",
              "        [0.4063, 0.3509, 0.2428]], device='cuda:0', grad_fn=<SoftmaxBackward0>)"
            ]
          },
          "metadata": {},
          "execution_count": 46
        }
      ],
      "source": [
        "F.softmax(model(input_ids, attention_mask), dim=1)"
      ],
      "id": "f0f69764"
    },
    {
      "cell_type": "markdown",
      "metadata": {
        "id": "b26ea7df"
      },
      "source": [
        "## Training\n",
        "\n",
        "To reproduce the training procedure from the BERT paper, we'll use the [AdamW](https://huggingface.co/transformers/main_classes/optimizer_schedules.html#adamw) optimizer provided by Hugging Face. It corrects weight decay, so it's similar to the original paper. We'll also use a linear scheduler with no warmup steps:"
      ],
      "id": "b26ea7df"
    },
    {
      "cell_type": "code",
      "execution_count": 47,
      "metadata": {
        "id": "9176307b"
      },
      "outputs": [],
      "source": [
        "EPOCHS = 5\n",
        "LR = 2e-5\n",
        "\n",
        "optimizer = optim.AdamW(\n",
        "    model.parameters(),\n",
        "    lr = LR\n",
        "    )\n",
        "\n",
        "total_steps = EPOCHS * len(train_data_loader) \n",
        "\n",
        "scheduler = get_linear_schedule_with_warmup(\n",
        "    optimizer = optimizer,\n",
        "    num_warmup_steps = 0,\n",
        "    num_training_steps = total_steps\n",
        "    )\n",
        "# For multi-class classification you would usually just use nn.CrossEntropyLoss \n",
        "loss_fn = nn.CrossEntropyLoss().to(device)"
      ],
      "id": "9176307b"
    },
    {
      "cell_type": "markdown",
      "metadata": {
        "id": "b236c36e"
      },
      "source": [
        "How do we come up with all hyperparameters? The BERT authors have some recommendations for fine-tuning:\n",
        "\n",
        "- Batch size: 16, 32\n",
        "- Learning rate (Adam): 2e-5\n",
        "-Number of epochs: 5\n",
        "\n",
        "We're going to ignore the number of epochs recommendation but stick with the rest. Note that increasing the batch size reduces the training time significantly, but gives you lower accuracy.\n",
        "\n",
        "Let's continue with writing a helper function for training our model for one epoch:"
      ],
      "id": "b236c36e"
    },
    {
      "cell_type": "code",
      "execution_count": 48,
      "metadata": {
        "id": "ea12d013"
      },
      "outputs": [],
      "source": [
        "def train_epoch(\n",
        "    model,\n",
        "    data_loader,\n",
        "    loss_fn,\n",
        "    optimizer,\n",
        "    device,\n",
        "    scheduler,\n",
        "    n_examples\n",
        "    ):\n",
        "\n",
        "    model = model.train()\n",
        "\n",
        "    losses = []\n",
        "    correct_predictions = 0\n",
        "\n",
        "    for d in data_loader:\n",
        "        input_ids = d[\"input_ids\"].to(device)\n",
        "        attention_mask = d[\"attention_mask\"].to(device)\n",
        "        targets = d[\"targets\"].to(device)\n",
        "\n",
        "        outputs = model(\n",
        "            input_ids = input_ids,\n",
        "            attention_mask =attention_mask\n",
        "            )\n",
        "\n",
        "        _, preds = torch.max(outputs, dim=1)\n",
        "        loss = loss_fn(outputs, targets)\n",
        "\n",
        "        correct_predictions += torch.sum(preds == targets)\n",
        "        losses.append(loss.item())\n",
        "\n",
        "        loss.backward()\n",
        "        nn.utils.clip_grad_norm_(model.parameters(), max_norm=1.0)\n",
        "        optimizer.step()\n",
        "        scheduler.step()\n",
        "        optimizer.zero_grad()\n",
        "\n",
        "    return correct_predictions.double() / n_examples, np.mean(losses)"
      ],
      "id": "ea12d013"
    },
    {
      "cell_type": "markdown",
      "metadata": {
        "id": "002a7a72"
      },
      "source": [
        "Training the model should look familiar, except for two things. The scheduler gets called every time a batch is fed to the model. We're avoiding exploding gradients by clipping the gradients of the model using [clip_gradnorm](https://pytorch.org/docs/stable/nn.html#clip-grad-norm).\n",
        "\n",
        "Let's write another one that helps us evaluate the model on a given data loader:"
      ],
      "id": "002a7a72"
    },
    {
      "cell_type": "code",
      "execution_count": 49,
      "metadata": {
        "id": "306768d9"
      },
      "outputs": [],
      "source": [
        "def eval_model(model, data_loader, loss_fn, device, n_examples):\n",
        "    model = model.eval()\n",
        "\n",
        "    losses = []\n",
        "    correct_predictions = 0\n",
        "\n",
        "    with torch.no_grad():\n",
        "        for d in data_loader:\n",
        "            input_ids = d[\"input_ids\"].to(device)\n",
        "            attention_mask = d[\"attention_mask\"].to(device)\n",
        "            targets = d[\"targets\"].to(device)\n",
        "\n",
        "            outputs = model(\n",
        "                input_ids = input_ids,\n",
        "                attention_mask = attention_mask\n",
        "                )\n",
        "            \n",
        "            _, preds = torch.max(outputs, dim=1)\n",
        "\n",
        "            loss = loss_fn(outputs, targets)\n",
        "\n",
        "            correct_predictions += torch.sum(preds == targets)\n",
        "            losses.append(loss.item())\n",
        "\n",
        "    return correct_predictions.double() / n_examples, np.mean(losses)"
      ],
      "id": "306768d9"
    },
    {
      "cell_type": "markdown",
      "metadata": {
        "id": "bfd31248"
      },
      "source": [
        "Using those two, we can write our training loop. We'll also store the training history:"
      ],
      "id": "bfd31248"
    },
    {
      "cell_type": "code",
      "execution_count": 50,
      "metadata": {
        "id": "6bbc313e",
        "colab": {
          "base_uri": "https://localhost:8080/"
        },
        "outputId": "1cdeda52-0901-425d-b798-7908a9d97790"
      },
      "outputs": [
        {
          "output_type": "stream",
          "name": "stdout",
          "text": [
            "Epoch 1/5\n",
            "-----------------------------------------------------------------\n",
            "Train loss: 0.44360030064758815\t Accuracy: 0.8285390516039052\n",
            "Valid loss: 0.31851484030485155\t Accuracy: 0.8919107391910739\n",
            "\n",
            "Epoch 2/5\n",
            "-----------------------------------------------------------------\n",
            "Train loss: 0.23166097078503506\t Accuracy: 0.9218096234309623\n",
            "Valid loss: 0.26918931843505967\t Accuracy: 0.9135285913528591\n",
            "\n",
            "Epoch 3/5\n",
            "-----------------------------------------------------------------\n",
            "Train loss: 0.12441654404441108\t Accuracy: 0.9614714086471409\n",
            "Valid loss: 0.2653111937559313\t Accuracy: 0.9225941422594142\n",
            "\n",
            "Epoch 4/5\n",
            "-----------------------------------------------------------------\n",
            "Train loss: 0.07039949920775582\t Accuracy: 0.9789923291492328\n",
            "Valid loss: 0.30308907561832005\t Accuracy: 0.9323570432357043\n",
            "\n",
            "Epoch 5/5\n",
            "-----------------------------------------------------------------\n",
            "Train loss: 0.04332532905059034\t Accuracy: 0.9881450488145048\n",
            "Valid loss: 0.3122161357624767\t Accuracy: 0.9351464435146443\n",
            "\n",
            "CPU times: user 8min 15s, sys: 3min 37s, total: 11min 53s\n",
            "Wall time: 12min\n"
          ]
        }
      ],
      "source": [
        "%%time\n",
        "history = defaultdict(list)\n",
        "best_accuracy = 0\n",
        "\n",
        "for epoch in range(EPOCHS):\n",
        "\n",
        "  print(f'Epoch {epoch + 1}/{EPOCHS}')\n",
        "  print('-' * 65)\n",
        "\n",
        "  train_acc, train_loss = train_epoch(\n",
        "      model,\n",
        "      train_data_loader,    \n",
        "      loss_fn, \n",
        "      optimizer, \n",
        "      device, \n",
        "      scheduler, \n",
        "      len(df_train)\n",
        "      )\n",
        "\n",
        "  print(f'Train loss: {train_loss}\\t Accuracy: {train_acc}')\n",
        "\n",
        "  val_acc, val_loss = eval_model(\n",
        "      model,\n",
        "      val_data_loader,\n",
        "      loss_fn, \n",
        "      device, \n",
        "      len(df_val)\n",
        "      )\n",
        "  \n",
        "  print(f'Valid loss: {val_loss}\\t Accuracy: {val_acc}')\n",
        "  print()\n",
        "\n",
        "  history['train_acc'].append(train_acc)\n",
        "  history['train_loss'].append(train_loss)                             \n",
        "  history['val_acc'].append(val_acc)\n",
        "  history['val_loss'].append(val_loss)\n",
        "    \n",
        "  if val_acc > best_accuracy:\n",
        "    torch.save(\n",
        "        model.state_dict(),\n",
        "        'best_pretrained_model_bert.bin'\n",
        "        )\n",
        "    best_accuracy = val_acc"
      ],
      "id": "6bbc313e"
    },
    {
      "cell_type": "markdown",
      "metadata": {
        "id": "d48b5978"
      },
      "source": [
        "Note that we're storing the state of the best model, indicated by the highest validation accuracy.\n",
        "\n",
        "Whoo, this took some time! We can look at the training vs validation accuracy:"
      ],
      "id": "d48b5978"
    },
    {
      "cell_type": "code",
      "execution_count": 51,
      "metadata": {
        "id": "L1Zwc-0hI5vw"
      },
      "outputs": [],
      "source": [
        "train_acc = [i.cpu() for i in history['train_acc']]\n",
        "val_acc = [i.cpu() for i in history['val_acc']]"
      ],
      "id": "L1Zwc-0hI5vw"
    },
    {
      "cell_type": "code",
      "execution_count": 101,
      "metadata": {
        "id": "27c03e6e",
        "scrolled": true,
        "colab": {
          "base_uri": "https://localhost:8080/",
          "height": 523
        },
        "outputId": "042c9d55-9d7a-4d8a-b9e8-245c5c6833d8"
      },
      "outputs": [
        {
          "output_type": "display_data",
          "data": {
            "text/plain": [
              "<Figure size 1008x576 with 1 Axes>"
            ],
            "image/png": "[encoded data removed]"
          },
          "metadata": {}
        }
      ],
      "source": [
        "plt.figure(figsize = (14,8))\n",
        "plt.plot(train_acc, label='train_acc')\n",
        "plt.plot(val_acc, label='val_acc')\n",
        "plt.plot(history['train_loss'], label='train_loss')\n",
        "plt.plot(history['val_loss'], label='val_loss')\n",
        "\n",
        "plt.title('Training Curves')\n",
        "plt.ylabel('Accuracy/Loss')\n",
        "plt.xlabel('Epoch')\n",
        "plt.legend(loc='lower left', shadow=True)\n",
        "plt.show()"
      ],
      "id": "27c03e6e"
    },
    {
      "cell_type": "markdown",
      "metadata": {
        "id": "8fd4a38c"
      },
      "source": [
        "The training accuracy starts to approach 100% after 6 epochs or so."
      ],
      "id": "8fd4a38c"
    },
    {
      "cell_type": "markdown",
      "metadata": {
        "id": "6fe0b893"
      },
      "source": [
        "## Download the pre-trained model by uncommenting the below section if you don't want to do training"
      ],
      "id": "6fe0b893"
    },
    {
      "cell_type": "code",
      "execution_count": 53,
      "metadata": {
        "id": "5649e79e",
        "scrolled": true,
        "colab": {
          "base_uri": "https://localhost:8080/"
        },
        "outputId": "3695e560-0a3b-4b73-922f-35b38362dd14"
      },
      "outputs": [
        {
          "output_type": "execute_result",
          "data": {
            "text/plain": [
              "<All keys matched successfully>"
            ]
          },
          "metadata": {},
          "execution_count": 53
        }
      ],
      "source": [
        "model.load_state_dict(\n",
        "    torch.load(\n",
        "        \"/content/best_pretrained_model_bert.bin\",\n",
        "        map_location=torch.device(\"cpu\"),\n",
        "    )\n",
        ")"
      ],
      "id": "5649e79e"
    },
    {
      "cell_type": "markdown",
      "metadata": {
        "id": "1cd0c4ff"
      },
      "source": [
        "# Evaluation\n",
        "So how good is our model on predicting sentiment? Let's start by calculating the accuracy on the test data:"
      ],
      "id": "1cd0c4ff"
    },
    {
      "cell_type": "code",
      "execution_count": 54,
      "metadata": {
        "id": "e3ad76a0",
        "colab": {
          "base_uri": "https://localhost:8080/"
        },
        "outputId": "52f79bf4-3640-4853-e805-078139e5b541"
      },
      "outputs": [
        {
          "output_type": "execute_result",
          "data": {
            "text/plain": [
              "0.935191637630662"
            ]
          },
          "metadata": {},
          "execution_count": 54
        }
      ],
      "source": [
        "test_acc, _ = eval_model(model, test_data_loader, loss_fn, device, len(df_test))\n",
        "\n",
        "test_acc.item()"
      ],
      "id": "e3ad76a0"
    },
    {
      "cell_type": "markdown",
      "metadata": {
        "id": "b44cea00"
      },
      "source": [
        "Our model seems to generalize well as test accuracy is almost equal to validation accuracy.\n",
        "\n",
        "We'll define a helper function to get the predictions from our model:"
      ],
      "id": "b44cea00"
    },
    {
      "cell_type": "code",
      "execution_count": 55,
      "metadata": {
        "id": "c6db45df"
      },
      "outputs": [],
      "source": [
        "def get_predictions(model, data_loader):\n",
        "    model = model.eval()\n",
        "\n",
        "    review_texts = []\n",
        "    predictions = []\n",
        "    prediction_probs = []\n",
        "    real_values = []\n",
        "\n",
        "    with torch.no_grad():\n",
        "        for d in data_loader:\n",
        "\n",
        "            texts = d[\"review_text\"]\n",
        "            input_ids = d[\"input_ids\"].to(device)\n",
        "            attention_mask = d[\"attention_mask\"].to(device)\n",
        "            targets = d[\"targets\"].to(device)\n",
        "\n",
        "            outputs = model(input_ids=input_ids, attention_mask=attention_mask)\n",
        "            _, preds = torch.max(outputs, dim=1)\n",
        "\n",
        "            probs = F.softmax(outputs, dim=1)\n",
        "\n",
        "            review_texts.extend(texts)\n",
        "            predictions.extend(preds)\n",
        "            prediction_probs.extend(probs)\n",
        "            real_values.extend(targets)\n",
        "\n",
        "    predictions = torch.stack(predictions).cpu()\n",
        "    prediction_probs = torch.stack(prediction_probs).cpu()\n",
        "    real_values = torch.stack(real_values).cpu()\n",
        "    return review_texts, predictions, prediction_probs, real_values"
      ],
      "id": "c6db45df"
    },
    {
      "cell_type": "markdown",
      "metadata": {
        "id": "b646eebb"
      },
      "source": [
        "This is similar to the evaluation function, except that we're storing the text of the reviews and the predicted probabilities (by applying the softmax on the model outputs):"
      ],
      "id": "b646eebb"
    },
    {
      "cell_type": "code",
      "execution_count": 56,
      "metadata": {
        "id": "6dc74e45"
      },
      "outputs": [],
      "source": [
        "y_review_texts, y_pred, y_pred_probs, y_test = get_predictions(model, test_data_loader)"
      ],
      "id": "6dc74e45"
    },
    {
      "cell_type": "markdown",
      "metadata": {
        "id": "5c7a8c2c"
      },
      "source": [
        "Let's have a look at the classification report"
      ],
      "id": "5c7a8c2c"
    },
    {
      "cell_type": "code",
      "execution_count": 57,
      "metadata": {
        "id": "cb5dbe73",
        "colab": {
          "base_uri": "https://localhost:8080/"
        },
        "outputId": "a3fb3e24-680d-4fff-8ecd-166a224efcd0"
      },
      "outputs": [
        {
          "output_type": "stream",
          "name": "stdout",
          "text": [
            "              precision    recall  f1-score   support\n",
            "\n",
            "    negative       0.90      0.95      0.92       430\n",
            "     neutral       0.95      0.91      0.93       440\n",
            "    positive       0.96      0.94      0.95       565\n",
            "\n",
            "    accuracy                           0.94      1435\n",
            "   macro avg       0.93      0.94      0.93      1435\n",
            "weighted avg       0.94      0.94      0.94      1435\n",
            "\n"
          ]
        }
      ],
      "source": [
        "print(classification_report(y_test, y_pred, target_names=class_names))"
      ],
      "id": "cb5dbe73"
    },
    {
      "cell_type": "markdown",
      "metadata": {
        "id": "3ec234bd"
      },
      "source": [
        "Looks like it is really hard to classify neutral (3 stars) reviews. And I can tell you from experience, looking at many reviews, those are hard to classify.\n",
        "\n",
        "We'll continue with the confusion matrix:"
      ],
      "id": "3ec234bd"
    },
    {
      "cell_type": "code",
      "execution_count": 58,
      "metadata": {
        "id": "22d5ca55",
        "colab": {
          "base_uri": "https://localhost:8080/",
          "height": 316
        },
        "outputId": "7bee64d9-aa1e-4721-bf77-875a1a6d115c"
      },
      "outputs": [
        {
          "output_type": "display_data",
          "data": {
            "text/plain": [
              "<Figure size 432x288 with 2 Axes>"
            ],
            "image/png": "[encoded data removed]"
          },
          "metadata": {}
        }
      ],
      "source": [
        "def show_confusion_matrix(confusion_matrix):\n",
        "    hmap = sns.heatmap(confusion_matrix, annot=True, fmt=\"d\", cmap=\"Blues\")\n",
        "    hmap.yaxis.set_ticklabels(hmap.yaxis.get_ticklabels(), rotation=0, ha=\"right\")\n",
        "    hmap.xaxis.set_ticklabels(hmap.xaxis.get_ticklabels(), rotation=30, ha=\"right\")\n",
        "    plt.ylabel(\"True sentiment\")\n",
        "    plt.xlabel(\"Predicted sentiment\")\n",
        "\n",
        "\n",
        "cm = confusion_matrix(y_test, y_pred)\n",
        "df_cm = pd.DataFrame(cm, index=class_names, columns=class_names)\n",
        "show_confusion_matrix(df_cm)"
      ],
      "id": "22d5ca55"
    },
    {
      "cell_type": "markdown",
      "metadata": {
        "id": "4878ce2d"
      },
      "source": [
        "That's a good overview of the performance of our model. But let's have a look at an example from our test data:"
      ],
      "id": "4878ce2d"
    },
    {
      "cell_type": "code",
      "execution_count": 59,
      "metadata": {
        "id": "a58ed8b7"
      },
      "outputs": [],
      "source": [
        "idx = 2\n",
        "\n",
        "review_text = y_review_texts[idx]\n",
        "true_sentiment = y_test[idx]\n",
        "pred_df = pd.DataFrame({\"class_names\": class_names, \"values\": y_pred_probs[idx]})"
      ],
      "id": "a58ed8b7"
    },
    {
      "cell_type": "code",
      "execution_count": 60,
      "metadata": {
        "id": "24fd1cf6",
        "colab": {
          "base_uri": "https://localhost:8080/"
        },
        "outputId": "4b25f27c-a6d5-41c8-c937-b98d243b0012"
      },
      "outputs": [
        {
          "output_type": "stream",
          "name": "stdout",
          "text": [
            "playernya pubg mobile pakai cheat suntik tindakan game\n",
            "\n",
            "True sentiment: negative\n"
          ]
        }
      ],
      "source": [
        "print(\"\\n\".join(wrap(review_text)))\n",
        "print()\n",
        "print(f\"True sentiment: {class_names[true_sentiment]}\")"
      ],
      "id": "24fd1cf6"
    },
    {
      "cell_type": "markdown",
      "metadata": {
        "id": "5bc2221d"
      },
      "source": [
        "Now we can look at the confidence of each sentiment of our model:"
      ],
      "id": "5bc2221d"
    },
    {
      "cell_type": "code",
      "execution_count": 72,
      "metadata": {
        "id": "e7fddded",
        "colab": {
          "base_uri": "https://localhost:8080/",
          "height": 306
        },
        "outputId": "9244bb60-923e-415e-bc5f-a14addc736b6"
      },
      "outputs": [
        {
          "output_type": "execute_result",
          "data": {
            "text/plain": [
              "Text(0.5, 0, 'probability')"
            ]
          },
          "metadata": {},
          "execution_count": 72
        },
        {
          "output_type": "display_data",
          "data": {
            "text/plain": [
              "<Figure size 432x288 with 1 Axes>"
            ],
            "image/png": "[encoded data removed]"
          },
          "metadata": {}
        }
      ],
      "source": [
        "sns.barplot(x=\"values\", y=\"class_names\", data=pred_df, orient=\"h\")\n",
        "plt.ylabel(\"sentiment\")\n",
        "plt.xlabel(\"probability\")"
      ],
      "id": "e7fddded"
    },
    {
      "cell_type": "markdown",
      "metadata": {
        "id": "4d5380d8"
      },
      "source": [
        "# Predicting on Raw Text\n",
        "Let's use our model to predict the sentiment of some raw text:"
      ],
      "id": "4d5380d8"
    },
    {
      "cell_type": "code",
      "execution_count": 69,
      "metadata": {
        "id": "88405708"
      },
      "outputs": [],
      "source": [
        "review_text = \"Setelah pembaruan terakhir gim ini menjadi sangat buruk Meskipun saya memiliki internet yang layak ini menunjukkan masalah jaringan Selain itu dalam mode solo tidak dapat menemukan saya menunggu selama 3 menit tetapi tidak bisa Saya berharap para pengembang akan melakukan sesuatu tentang masalah ini\""
      ],
      "id": "88405708"
    },
    {
      "cell_type": "markdown",
      "metadata": {
        "id": "27e6b762"
      },
      "source": [
        "We have to use the tokenizer to encode the text:"
      ],
      "id": "27e6b762"
    },
    {
      "cell_type": "code",
      "execution_count": 70,
      "metadata": {
        "id": "4fbaa38f"
      },
      "outputs": [],
      "source": [
        "encoded_review = tokenizer.encode_plus(\n",
        "    review_text,\n",
        "    add_special_tokens = True, # menambahkan '[CLS]' dan '[SEP]'\n",
        "    max_length = max_len, \n",
        "    return_token_type_ids = False,\n",
        "    padding = \"max_length\", # Padding kalimat menjadi panjang maksimum.\n",
        "    truncation = True, # Potong kalimat menjadi panjang maksimum.\n",
        "    return_attention_mask = True, # Kembali attention mask\n",
        "    return_tensors = \"pt\", # Kembali  torch objects/tensor\n",
        "    )\n",
        "\n"
      ],
      "id": "4fbaa38f"
    },
    {
      "cell_type": "markdown",
      "metadata": {
        "id": "813b7175"
      },
      "source": [
        "Let's get the predictions from our model:"
      ],
      "id": "813b7175"
    },
    {
      "cell_type": "code",
      "execution_count": 71,
      "metadata": {
        "id": "1678fc69",
        "colab": {
          "base_uri": "https://localhost:8080/"
        },
        "outputId": "f21d0f5e-8918-44f7-8bdb-aaae0c92dd0c"
      },
      "outputs": [
        {
          "output_type": "stream",
          "name": "stdout",
          "text": [
            "Review text: Setelah pembaruan terakhir gim ini menjadi sangat buruk Meskipun saya memiliki internet yang layak ini menunjukkan masalah jaringan Selain itu dalam mode solo tidak dapat menemukan saya menunggu selama 3 menit tetapi tidak bisa Saya berharap para pengembang akan melakukan sesuatu tentang masalah ini\n",
            "Sentiment  : negative\n"
          ]
        }
      ],
      "source": [
        "input_ids = encoded_review[\"input_ids\"].to(device)\n",
        "attention_mask = encoded_review[\"attention_mask\"].to(device)\n",
        "\n",
        "output = model(input_ids, attention_mask)\n",
        "_, prediction = torch.max(output, dim=1)\n",
        "\n",
        "print(f\"Review text: {review_text}\")\n",
        "print(f\"Sentiment  : {class_names[prediction]}\")"
      ],
      "id": "1678fc69"
    },
    {
      "cell_type": "markdown",
      "metadata": {
        "id": "99ece06e"
      },
      "source": [
        "# Summary\n",
        "Nice job! You learned how to use BERT for sentiment analysis. You built a custom classifier using the Hugging Face library and trained it on our app reviews dataset!\n",
        "\n",
        "- [Read the tutorial](https://www.curiousily.com/posts/sentiment-analysis-with-bert-and-hugging-face-using-pytorch-and-python/)\n",
        "- [Run the notebook in your browser (Google Colab)](https://colab.research.google.com/drive/1PHv-IRLPCtv7oTcIGbsgZHqrB5LPvB7S)\n",
        "- [Read the Getting Things Done with Pytorch book](https://github.com/curiousily/Getting-Things-Done-with-Pytorch)\n",
        "\n",
        "You learned how to:\n",
        "\n",
        "- Intuitively understand what BERT is\n",
        "- Preprocess text data for BERT and build PyTorch Dataset (tokenization, attention masks, and padding)\n",
        "- Use Transfer Learning to build Sentiment Classifier using the Transformers library by Hugging Face\n",
        "- Evaluate the model on test data\n",
        "- Predict sentiment on raw text\n",
        "\n",
        "Next, we'll learn how to deploy our trained model behind a REST API and build a simple web app to access it."
      ],
      "id": "99ece06e"
    },
    {
      "cell_type": "markdown",
      "metadata": {
        "id": "626dc53f"
      },
      "source": [
        "# References\n",
        "\n",
        "- [BERT: Pre-training of Deep Bidirectional Transformers for Language Understanding](https://arxiv.org/abs/1810.04805)\n",
        "- [L11 Language Models - Alec Radford (OpenAI)](https://www.youtube.com/watch?v=BnpB3GrpsfM)\n",
        "- [The Illustrated BERT, ELMo, and co.](https://jalammar.github.io/illustrated-bert/)\n",
        "- [BERT Fine-Tuning Tutorial with PyTorch](https://mccormickml.com/2019/07/22/BERT-fine-tuning/)\n",
        "- [How to Fine-Tune BERT for Text Classification?](https://arxiv.org/pdf/1905.05583.pdf)\n",
        "- [Huggingface Transformers](https://huggingface.co/transformers/)\n",
        "- [BERT Explained: State of the art language model for NLP](https://towardsdatascience.com/bert-explained-state-of-the-art-language-model-for-nlp-f8b21a9b6270)"
      ],
      "id": "626dc53f"
    }
  ],
  "metadata": {
    "accelerator": "GPU",
    "colab": {
      "collapsed_sections": [
        "99ece06e"
      ],
      "provenance": [],
      "include_colab_link": true
    },
    "gpuClass": "standard",
    "kernelspec": {
      "display_name": "Python 3 (ipykernel)",
      "language": "python",
      "name": "python3"
    },
    "language_info": {
      "codemirror_mode": {
        "name": "ipython",
        "version": 3
      },
      "file_extension": ".py",
      "mimetype": "text/x-python",
      "name": "python",
      "nbconvert_exporter": "python",
      "pygments_lexer": "ipython3",
      "version": "3.8.0"
    },
    "widgets": {
      "application/vnd.jupyter.widget-state+json": {
        "02d1fc673da54b23ae4b4231593edafd": {
          "model_module": "@jupyter-widgets/controls",
          "model_name": "HBoxModel",
          "model_module_version": "1.5.0",
          "state": {
            "_dom_classes": [],
            "_model_module": "@jupyter-widgets/controls",
            "_model_module_version": "1.5.0",
            "_model_name": "HBoxModel",
            "_view_count": null,
            "_view_module": "@jupyter-widgets/controls",
            "_view_module_version": "1.5.0",
            "_view_name": "HBoxView",
            "box_style": "",
            "children": [
              "IPY_MODEL_0860070df1d6402da0c76bf2bdb07953",
              "IPY_MODEL_1237f060068f49dbba09a79a340dbfb2",
              "IPY_MODEL_543376c5da894e438fd4f38bc183f505"
            ],
            "layout": "IPY_MODEL_aa02df757a6640d79c42d2815db6acb3"
          }
        },
        "0860070df1d6402da0c76bf2bdb07953": {
          "model_module": "@jupyter-widgets/controls",
          "model_name": "HTMLModel",
          "model_module_version": "1.5.0",
          "state": {
            "_dom_classes": [],
            "_model_module": "@jupyter-widgets/controls",
            "_model_module_version": "1.5.0",
            "_model_name": "HTMLModel",
            "_view_count": null,
            "_view_module": "@jupyter-widgets/controls",
            "_view_module_version": "1.5.0",
            "_view_name": "HTMLView",
            "description": "",
            "description_tooltip": null,
            "layout": "IPY_MODEL_78e4d2813a694c07ae215391b69784c2",
            "placeholder": "​",
            "style": "IPY_MODEL_bdfa9787a2f84af3b0f35baa14401805",
            "value": "Downloading: 100%"
          }
        },
        "1237f060068f49dbba09a79a340dbfb2": {
          "model_module": "@jupyter-widgets/controls",
          "model_name": "FloatProgressModel",
          "model_module_version": "1.5.0",
          "state": {
            "_dom_classes": [],
            "_model_module": "@jupyter-widgets/controls",
            "_model_module_version": "1.5.0",
            "_model_name": "FloatProgressModel",
            "_view_count": null,
            "_view_module": "@jupyter-widgets/controls",
            "_view_module_version": "1.5.0",
            "_view_name": "ProgressView",
            "bar_style": "success",
            "description": "",
            "description_tooltip": null,
            "layout": "IPY_MODEL_af04e16fd9554f849090e3c4fa0244c0",
            "max": 229167,
            "min": 0,
            "orientation": "horizontal",
            "style": "IPY_MODEL_e773bcf0e3264478ba4587eb0ee3d568",
            "value": 229167
          }
        },
        "543376c5da894e438fd4f38bc183f505": {
          "model_module": "@jupyter-widgets/controls",
          "model_name": "HTMLModel",
          "model_module_version": "1.5.0",
          "state": {
            "_dom_classes": [],
            "_model_module": "@jupyter-widgets/controls",
            "_model_module_version": "1.5.0",
            "_model_name": "HTMLModel",
            "_view_count": null,
            "_view_module": "@jupyter-widgets/controls",
            "_view_module_version": "1.5.0",
            "_view_name": "HTMLView",
            "description": "",
            "description_tooltip": null,
            "layout": "IPY_MODEL_5df3a93d87394e788c80a204d716f7ae",
            "placeholder": "​",
            "style": "IPY_MODEL_8d126050565a427c951522d8b045737b",
            "value": " 229k/229k [00:00&lt;00:00, 263kB/s]"
          }
        },
        "aa02df757a6640d79c42d2815db6acb3": {
          "model_module": "@jupyter-widgets/base",
          "model_name": "LayoutModel",
          "model_module_version": "1.2.0",
          "state": {
            "_model_module": "@jupyter-widgets/base",
            "_model_module_version": "1.2.0",
            "_model_name": "LayoutModel",
            "_view_count": null,
            "_view_module": "@jupyter-widgets/base",
            "_view_module_version": "1.2.0",
            "_view_name": "LayoutView",
            "align_content": null,
            "align_items": null,
            "align_self": null,
            "border": null,
            "bottom": null,
            "display": null,
            "flex": null,
            "flex_flow": null,
            "grid_area": null,
            "grid_auto_columns": null,
            "grid_auto_flow": null,
            "grid_auto_rows": null,
            "grid_column": null,
            "grid_gap": null,
            "grid_row": null,
            "grid_template_areas": null,
            "grid_template_columns": null,
            "grid_template_rows": null,
            "height": null,
            "justify_content": null,
            "justify_items": null,
            "left": null,
            "margin": null,
            "max_height": null,
            "max_width": null,
            "min_height": null,
            "min_width": null,
            "object_fit": null,
            "object_position": null,
            "order": null,
            "overflow": null,
            "overflow_x": null,
            "overflow_y": null,
            "padding": null,
            "right": null,
            "top": null,
            "visibility": null,
            "width": null
          }
        },
        "78e4d2813a694c07ae215391b69784c2": {
          "model_module": "@jupyter-widgets/base",
          "model_name": "LayoutModel",
          "model_module_version": "1.2.0",
          "state": {
            "_model_module": "@jupyter-widgets/base",
            "_model_module_version": "1.2.0",
            "_model_name": "LayoutModel",
            "_view_count": null,
            "_view_module": "@jupyter-widgets/base",
            "_view_module_version": "1.2.0",
            "_view_name": "LayoutView",
            "align_content": null,
            "align_items": null,
            "align_self": null,
            "border": null,
            "bottom": null,
            "display": null,
            "flex": null,
            "flex_flow": null,
            "grid_area": null,
            "grid_auto_columns": null,
            "grid_auto_flow": null,
            "grid_auto_rows": null,
            "grid_column": null,
            "grid_gap": null,
            "grid_row": null,
            "grid_template_areas": null,
            "grid_template_columns": null,
            "grid_template_rows": null,
            "height": null,
            "justify_content": null,
            "justify_items": null,
            "left": null,
            "margin": null,
            "max_height": null,
            "max_width": null,
            "min_height": null,
            "min_width": null,
            "object_fit": null,
            "object_position": null,
            "order": null,
            "overflow": null,
            "overflow_x": null,
            "overflow_y": null,
            "padding": null,
            "right": null,
            "top": null,
            "visibility": null,
            "width": null
          }
        },
        "bdfa9787a2f84af3b0f35baa14401805": {
          "model_module": "@jupyter-widgets/controls",
          "model_name": "DescriptionStyleModel",
          "model_module_version": "1.5.0",
          "state": {
            "_model_module": "@jupyter-widgets/controls",
            "_model_module_version": "1.5.0",
            "_model_name": "DescriptionStyleModel",
            "_view_count": null,
            "_view_module": "@jupyter-widgets/base",
            "_view_module_version": "1.2.0",
            "_view_name": "StyleView",
            "description_width": ""
          }
        },
        "af04e16fd9554f849090e3c4fa0244c0": {
          "model_module": "@jupyter-widgets/base",
          "model_name": "LayoutModel",
          "model_module_version": "1.2.0",
          "state": {
            "_model_module": "@jupyter-widgets/base",
            "_model_module_version": "1.2.0",
            "_model_name": "LayoutModel",
            "_view_count": null,
            "_view_module": "@jupyter-widgets/base",
            "_view_module_version": "1.2.0",
            "_view_name": "LayoutView",
            "align_content": null,
            "align_items": null,
            "align_self": null,
            "border": null,
            "bottom": null,
            "display": null,
            "flex": null,
            "flex_flow": null,
            "grid_area": null,
            "grid_auto_columns": null,
            "grid_auto_flow": null,
            "grid_auto_rows": null,
            "grid_column": null,
            "grid_gap": null,
            "grid_row": null,
            "grid_template_areas": null,
            "grid_template_columns": null,
            "grid_template_rows": null,
            "height": null,
            "justify_content": null,
            "justify_items": null,
            "left": null,
            "margin": null,
            "max_height": null,
            "max_width": null,
            "min_height": null,
            "min_width": null,
            "object_fit": null,
            "object_position": null,
            "order": null,
            "overflow": null,
            "overflow_x": null,
            "overflow_y": null,
            "padding": null,
            "right": null,
            "top": null,
            "visibility": null,
            "width": null
          }
        },
        "e773bcf0e3264478ba4587eb0ee3d568": {
          "model_module": "@jupyter-widgets/controls",
          "model_name": "ProgressStyleModel",
          "model_module_version": "1.5.0",
          "state": {
            "_model_module": "@jupyter-widgets/controls",
            "_model_module_version": "1.5.0",
            "_model_name": "ProgressStyleModel",
            "_view_count": null,
            "_view_module": "@jupyter-widgets/base",
            "_view_module_version": "1.2.0",
            "_view_name": "StyleView",
            "bar_color": null,
            "description_width": ""
          }
        },
        "5df3a93d87394e788c80a204d716f7ae": {
          "model_module": "@jupyter-widgets/base",
          "model_name": "LayoutModel",
          "model_module_version": "1.2.0",
          "state": {
            "_model_module": "@jupyter-widgets/base",
            "_model_module_version": "1.2.0",
            "_model_name": "LayoutModel",
            "_view_count": null,
            "_view_module": "@jupyter-widgets/base",
            "_view_module_version": "1.2.0",
            "_view_name": "LayoutView",
            "align_content": null,
            "align_items": null,
            "align_self": null,
            "border": null,
            "bottom": null,
            "display": null,
            "flex": null,
            "flex_flow": null,
            "grid_area": null,
            "grid_auto_columns": null,
            "grid_auto_flow": null,
            "grid_auto_rows": null,
            "grid_column": null,
            "grid_gap": null,
            "grid_row": null,
            "grid_template_areas": null,
            "grid_template_columns": null,
            "grid_template_rows": null,
            "height": null,
            "justify_content": null,
            "justify_items": null,
            "left": null,
            "margin": null,
            "max_height": null,
            "max_width": null,
            "min_height": null,
            "min_width": null,
            "object_fit": null,
            "object_position": null,
            "order": null,
            "overflow": null,
            "overflow_x": null,
            "overflow_y": null,
            "padding": null,
            "right": null,
            "top": null,
            "visibility": null,
            "width": null
          }
        },
        "8d126050565a427c951522d8b045737b": {
          "model_module": "@jupyter-widgets/controls",
          "model_name": "DescriptionStyleModel",
          "model_module_version": "1.5.0",
          "state": {
            "_model_module": "@jupyter-widgets/controls",
            "_model_module_version": "1.5.0",
            "_model_name": "DescriptionStyleModel",
            "_view_count": null,
            "_view_module": "@jupyter-widgets/base",
            "_view_module_version": "1.2.0",
            "_view_name": "StyleView",
            "description_width": ""
          }
        },
        "8ac3eef44d0742b3b5379a4254cdfa69": {
          "model_module": "@jupyter-widgets/controls",
          "model_name": "HBoxModel",
          "model_module_version": "1.5.0",
          "state": {
            "_dom_classes": [],
            "_model_module": "@jupyter-widgets/controls",
            "_model_module_version": "1.5.0",
            "_model_name": "HBoxModel",
            "_view_count": null,
            "_view_module": "@jupyter-widgets/controls",
            "_view_module_version": "1.5.0",
            "_view_name": "HBoxView",
            "box_style": "",
            "children": [
              "IPY_MODEL_3ab6e1bf615445fcb3e12de6c2a2bf5c",
              "IPY_MODEL_775c9593699948adbfde4db095d1981f",
              "IPY_MODEL_c54596ea299a40858ad92fa9975ecd89"
            ],
            "layout": "IPY_MODEL_f249c8426434413dba9450a2aa6c81ea"
          }
        },
        "3ab6e1bf615445fcb3e12de6c2a2bf5c": {
          "model_module": "@jupyter-widgets/controls",
          "model_name": "HTMLModel",
          "model_module_version": "1.5.0",
          "state": {
            "_dom_classes": [],
            "_model_module": "@jupyter-widgets/controls",
            "_model_module_version": "1.5.0",
            "_model_name": "HTMLModel",
            "_view_count": null,
            "_view_module": "@jupyter-widgets/controls",
            "_view_module_version": "1.5.0",
            "_view_name": "HTMLView",
            "description": "",
            "description_tooltip": null,
            "layout": "IPY_MODEL_1e1beab573e747c39c80e50145c9e94c",
            "placeholder": "​",
            "style": "IPY_MODEL_15a4e9e3cbcf4188895f1616c04efb9b",
            "value": "Downloading: 100%"
          }
        },
        "775c9593699948adbfde4db095d1981f": {
          "model_module": "@jupyter-widgets/controls",
          "model_name": "FloatProgressModel",
          "model_module_version": "1.5.0",
          "state": {
            "_dom_classes": [],
            "_model_module": "@jupyter-widgets/controls",
            "_model_module_version": "1.5.0",
            "_model_name": "FloatProgressModel",
            "_view_count": null,
            "_view_module": "@jupyter-widgets/controls",
            "_view_module_version": "1.5.0",
            "_view_name": "ProgressView",
            "bar_style": "success",
            "description": "",
            "description_tooltip": null,
            "layout": "IPY_MODEL_335dfebdf52a4634b8ae0b065fc7ccec",
            "max": 112,
            "min": 0,
            "orientation": "horizontal",
            "style": "IPY_MODEL_e4dba2b4daf341cf99641739e550bbd4",
            "value": 112
          }
        },
        "c54596ea299a40858ad92fa9975ecd89": {
          "model_module": "@jupyter-widgets/controls",
          "model_name": "HTMLModel",
          "model_module_version": "1.5.0",
          "state": {
            "_dom_classes": [],
            "_model_module": "@jupyter-widgets/controls",
            "_model_module_version": "1.5.0",
            "_model_name": "HTMLModel",
            "_view_count": null,
            "_view_module": "@jupyter-widgets/controls",
            "_view_module_version": "1.5.0",
            "_view_name": "HTMLView",
            "description": "",
            "description_tooltip": null,
            "layout": "IPY_MODEL_94d427d09a7541948493aa73dc42ffbd",
            "placeholder": "​",
            "style": "IPY_MODEL_28587106bb764ffeaa73984e773c12c2",
            "value": " 112/112 [00:00&lt;00:00, 3.94kB/s]"
          }
        },
        "f249c8426434413dba9450a2aa6c81ea": {
          "model_module": "@jupyter-widgets/base",
          "model_name": "LayoutModel",
          "model_module_version": "1.2.0",
          "state": {
            "_model_module": "@jupyter-widgets/base",
            "_model_module_version": "1.2.0",
            "_model_name": "LayoutModel",
            "_view_count": null,
            "_view_module": "@jupyter-widgets/base",
            "_view_module_version": "1.2.0",
            "_view_name": "LayoutView",
            "align_content": null,
            "align_items": null,
            "align_self": null,
            "border": null,
            "bottom": null,
            "display": null,
            "flex": null,
            "flex_flow": null,
            "grid_area": null,
            "grid_auto_columns": null,
            "grid_auto_flow": null,
            "grid_auto_rows": null,
            "grid_column": null,
            "grid_gap": null,
            "grid_row": null,
            "grid_template_areas": null,
            "grid_template_columns": null,
            "grid_template_rows": null,
            "height": null,
            "justify_content": null,
            "justify_items": null,
            "left": null,
            "margin": null,
            "max_height": null,
            "max_width": null,
            "min_height": null,
            "min_width": null,
            "object_fit": null,
            "object_position": null,
            "order": null,
            "overflow": null,
            "overflow_x": null,
            "overflow_y": null,
            "padding": null,
            "right": null,
            "top": null,
            "visibility": null,
            "width": null
          }
        },
        "1e1beab573e747c39c80e50145c9e94c": {
          "model_module": "@jupyter-widgets/base",
          "model_name": "LayoutModel",
          "model_module_version": "1.2.0",
          "state": {
            "_model_module": "@jupyter-widgets/base",
            "_model_module_version": "1.2.0",
            "_model_name": "LayoutModel",
            "_view_count": null,
            "_view_module": "@jupyter-widgets/base",
            "_view_module_version": "1.2.0",
            "_view_name": "LayoutView",
            "align_content": null,
            "align_items": null,
            "align_self": null,
            "border": null,
            "bottom": null,
            "display": null,
            "flex": null,
            "flex_flow": null,
            "grid_area": null,
            "grid_auto_columns": null,
            "grid_auto_flow": null,
            "grid_auto_rows": null,
            "grid_column": null,
            "grid_gap": null,
            "grid_row": null,
            "grid_template_areas": null,
            "grid_template_columns": null,
            "grid_template_rows": null,
            "height": null,
            "justify_content": null,
            "justify_items": null,
            "left": null,
            "margin": null,
            "max_height": null,
            "max_width": null,
            "min_height": null,
            "min_width": null,
            "object_fit": null,
            "object_position": null,
            "order": null,
            "overflow": null,
            "overflow_x": null,
            "overflow_y": null,
            "padding": null,
            "right": null,
            "top": null,
            "visibility": null,
            "width": null
          }
        },
        "15a4e9e3cbcf4188895f1616c04efb9b": {
          "model_module": "@jupyter-widgets/controls",
          "model_name": "DescriptionStyleModel",
          "model_module_version": "1.5.0",
          "state": {
            "_model_module": "@jupyter-widgets/controls",
            "_model_module_version": "1.5.0",
            "_model_name": "DescriptionStyleModel",
            "_view_count": null,
            "_view_module": "@jupyter-widgets/base",
            "_view_module_version": "1.2.0",
            "_view_name": "StyleView",
            "description_width": ""
          }
        },
        "335dfebdf52a4634b8ae0b065fc7ccec": {
          "model_module": "@jupyter-widgets/base",
          "model_name": "LayoutModel",
          "model_module_version": "1.2.0",
          "state": {
            "_model_module": "@jupyter-widgets/base",
            "_model_module_version": "1.2.0",
            "_model_name": "LayoutModel",
            "_view_count": null,
            "_view_module": "@jupyter-widgets/base",
            "_view_module_version": "1.2.0",
            "_view_name": "LayoutView",
            "align_content": null,
            "align_items": null,
            "align_self": null,
            "border": null,
            "bottom": null,
            "display": null,
            "flex": null,
            "flex_flow": null,
            "grid_area": null,
            "grid_auto_columns": null,
            "grid_auto_flow": null,
            "grid_auto_rows": null,
            "grid_column": null,
            "grid_gap": null,
            "grid_row": null,
            "grid_template_areas": null,
            "grid_template_columns": null,
            "grid_template_rows": null,
            "height": null,
            "justify_content": null,
            "justify_items": null,
            "left": null,
            "margin": null,
            "max_height": null,
            "max_width": null,
            "min_height": null,
            "min_width": null,
            "object_fit": null,
            "object_position": null,
            "order": null,
            "overflow": null,
            "overflow_x": null,
            "overflow_y": null,
            "padding": null,
            "right": null,
            "top": null,
            "visibility": null,
            "width": null
          }
        },
        "e4dba2b4daf341cf99641739e550bbd4": {
          "model_module": "@jupyter-widgets/controls",
          "model_name": "ProgressStyleModel",
          "model_module_version": "1.5.0",
          "state": {
            "_model_module": "@jupyter-widgets/controls",
            "_model_module_version": "1.5.0",
            "_model_name": "ProgressStyleModel",
            "_view_count": null,
            "_view_module": "@jupyter-widgets/base",
            "_view_module_version": "1.2.0",
            "_view_name": "StyleView",
            "bar_color": null,
            "description_width": ""
          }
        },
        "94d427d09a7541948493aa73dc42ffbd": {
          "model_module": "@jupyter-widgets/base",
          "model_name": "LayoutModel",
          "model_module_version": "1.2.0",
          "state": {
            "_model_module": "@jupyter-widgets/base",
            "_model_module_version": "1.2.0",
            "_model_name": "LayoutModel",
            "_view_count": null,
            "_view_module": "@jupyter-widgets/base",
            "_view_module_version": "1.2.0",
            "_view_name": "LayoutView",
            "align_content": null,
            "align_items": null,
            "align_self": null,
            "border": null,
            "bottom": null,
            "display": null,
            "flex": null,
            "flex_flow": null,
            "grid_area": null,
            "grid_auto_columns": null,
            "grid_auto_flow": null,
            "grid_auto_rows": null,
            "grid_column": null,
            "grid_gap": null,
            "grid_row": null,
            "grid_template_areas": null,
            "grid_template_columns": null,
            "grid_template_rows": null,
            "height": null,
            "justify_content": null,
            "justify_items": null,
            "left": null,
            "margin": null,
            "max_height": null,
            "max_width": null,
            "min_height": null,
            "min_width": null,
            "object_fit": null,
            "object_position": null,
            "order": null,
            "overflow": null,
            "overflow_x": null,
            "overflow_y": null,
            "padding": null,
            "right": null,
            "top": null,
            "visibility": null,
            "width": null
          }
        },
        "28587106bb764ffeaa73984e773c12c2": {
          "model_module": "@jupyter-widgets/controls",
          "model_name": "DescriptionStyleModel",
          "model_module_version": "1.5.0",
          "state": {
            "_model_module": "@jupyter-widgets/controls",
            "_model_module_version": "1.5.0",
            "_model_name": "DescriptionStyleModel",
            "_view_count": null,
            "_view_module": "@jupyter-widgets/base",
            "_view_module_version": "1.2.0",
            "_view_name": "StyleView",
            "description_width": ""
          }
        },
        "7d925ac711164f6dabb2b86756da2a25": {
          "model_module": "@jupyter-widgets/controls",
          "model_name": "HBoxModel",
          "model_module_version": "1.5.0",
          "state": {
            "_dom_classes": [],
            "_model_module": "@jupyter-widgets/controls",
            "_model_module_version": "1.5.0",
            "_model_name": "HBoxModel",
            "_view_count": null,
            "_view_module": "@jupyter-widgets/controls",
            "_view_module_version": "1.5.0",
            "_view_name": "HBoxView",
            "box_style": "",
            "children": [
              "IPY_MODEL_e11f32e700dd40bb9b74bffcfc8d3565",
              "IPY_MODEL_e9f3f1d4b05d4ef9b72f7ee387b98066",
              "IPY_MODEL_f07e98e393a84a349fb65d9c8e36f5ab"
            ],
            "layout": "IPY_MODEL_150626ff7e554c129b9f8cdffc3c902f"
          }
        },
        "e11f32e700dd40bb9b74bffcfc8d3565": {
          "model_module": "@jupyter-widgets/controls",
          "model_name": "HTMLModel",
          "model_module_version": "1.5.0",
          "state": {
            "_dom_classes": [],
            "_model_module": "@jupyter-widgets/controls",
            "_model_module_version": "1.5.0",
            "_model_name": "HTMLModel",
            "_view_count": null,
            "_view_module": "@jupyter-widgets/controls",
            "_view_module_version": "1.5.0",
            "_view_name": "HTMLView",
            "description": "",
            "description_tooltip": null,
            "layout": "IPY_MODEL_b6ab5be35f8948acb144701a1472a6b7",
            "placeholder": "​",
            "style": "IPY_MODEL_85d3faead0994362acf3c50076dda00c",
            "value": "Downloading: 100%"
          }
        },
        "e9f3f1d4b05d4ef9b72f7ee387b98066": {
          "model_module": "@jupyter-widgets/controls",
          "model_name": "FloatProgressModel",
          "model_module_version": "1.5.0",
          "state": {
            "_dom_classes": [],
            "_model_module": "@jupyter-widgets/controls",
            "_model_module_version": "1.5.0",
            "_model_name": "FloatProgressModel",
            "_view_count": null,
            "_view_module": "@jupyter-widgets/controls",
            "_view_module_version": "1.5.0",
            "_view_name": "ProgressView",
            "bar_style": "success",
            "description": "",
            "description_tooltip": null,
            "layout": "IPY_MODEL_fc1a2e7f4c7f4f4190bccb3e81518e4b",
            "max": 2,
            "min": 0,
            "orientation": "horizontal",
            "style": "IPY_MODEL_8455457027db48c6823b07e12266fe4e",
            "value": 2
          }
        },
        "f07e98e393a84a349fb65d9c8e36f5ab": {
          "model_module": "@jupyter-widgets/controls",
          "model_name": "HTMLModel",
          "model_module_version": "1.5.0",
          "state": {
            "_dom_classes": [],
            "_model_module": "@jupyter-widgets/controls",
            "_model_module_version": "1.5.0",
            "_model_name": "HTMLModel",
            "_view_count": null,
            "_view_module": "@jupyter-widgets/controls",
            "_view_module_version": "1.5.0",
            "_view_name": "HTMLView",
            "description": "",
            "description_tooltip": null,
            "layout": "IPY_MODEL_c17b488c5f754cacbf2d9d4caa1acfee",
            "placeholder": "​",
            "style": "IPY_MODEL_a49dfbc50c5040718f5a3247200272af",
            "value": " 2.00/2.00 [00:00&lt;00:00, 49.2B/s]"
          }
        },
        "150626ff7e554c129b9f8cdffc3c902f": {
          "model_module": "@jupyter-widgets/base",
          "model_name": "LayoutModel",
          "model_module_version": "1.2.0",
          "state": {
            "_model_module": "@jupyter-widgets/base",
            "_model_module_version": "1.2.0",
            "_model_name": "LayoutModel",
            "_view_count": null,
            "_view_module": "@jupyter-widgets/base",
            "_view_module_version": "1.2.0",
            "_view_name": "LayoutView",
            "align_content": null,
            "align_items": null,
            "align_self": null,
            "border": null,
            "bottom": null,
            "display": null,
            "flex": null,
            "flex_flow": null,
            "grid_area": null,
            "grid_auto_columns": null,
            "grid_auto_flow": null,
            "grid_auto_rows": null,
            "grid_column": null,
            "grid_gap": null,
            "grid_row": null,
            "grid_template_areas": null,
            "grid_template_columns": null,
            "grid_template_rows": null,
            "height": null,
            "justify_content": null,
            "justify_items": null,
            "left": null,
            "margin": null,
            "max_height": null,
            "max_width": null,
            "min_height": null,
            "min_width": null,
            "object_fit": null,
            "object_position": null,
            "order": null,
            "overflow": null,
            "overflow_x": null,
            "overflow_y": null,
            "padding": null,
            "right": null,
            "top": null,
            "visibility": null,
            "width": null
          }
        },
        "b6ab5be35f8948acb144701a1472a6b7": {
          "model_module": "@jupyter-widgets/base",
          "model_name": "LayoutModel",
          "model_module_version": "1.2.0",
          "state": {
            "_model_module": "@jupyter-widgets/base",
            "_model_module_version": "1.2.0",
            "_model_name": "LayoutModel",
            "_view_count": null,
            "_view_module": "@jupyter-widgets/base",
            "_view_module_version": "1.2.0",
            "_view_name": "LayoutView",
            "align_content": null,
            "align_items": null,
            "align_self": null,
            "border": null,
            "bottom": null,
            "display": null,
            "flex": null,
            "flex_flow": null,
            "grid_area": null,
            "grid_auto_columns": null,
            "grid_auto_flow": null,
            "grid_auto_rows": null,
            "grid_column": null,
            "grid_gap": null,
            "grid_row": null,
            "grid_template_areas": null,
            "grid_template_columns": null,
            "grid_template_rows": null,
            "height": null,
            "justify_content": null,
            "justify_items": null,
            "left": null,
            "margin": null,
            "max_height": null,
            "max_width": null,
            "min_height": null,
            "min_width": null,
            "object_fit": null,
            "object_position": null,
            "order": null,
            "overflow": null,
            "overflow_x": null,
            "overflow_y": null,
            "padding": null,
            "right": null,
            "top": null,
            "visibility": null,
            "width": null
          }
        },
        "85d3faead0994362acf3c50076dda00c": {
          "model_module": "@jupyter-widgets/controls",
          "model_name": "DescriptionStyleModel",
          "model_module_version": "1.5.0",
          "state": {
            "_model_module": "@jupyter-widgets/controls",
            "_model_module_version": "1.5.0",
            "_model_name": "DescriptionStyleModel",
            "_view_count": null,
            "_view_module": "@jupyter-widgets/base",
            "_view_module_version": "1.2.0",
            "_view_name": "StyleView",
            "description_width": ""
          }
        },
        "fc1a2e7f4c7f4f4190bccb3e81518e4b": {
          "model_module": "@jupyter-widgets/base",
          "model_name": "LayoutModel",
          "model_module_version": "1.2.0",
          "state": {
            "_model_module": "@jupyter-widgets/base",
            "_model_module_version": "1.2.0",
            "_model_name": "LayoutModel",
            "_view_count": null,
            "_view_module": "@jupyter-widgets/base",
            "_view_module_version": "1.2.0",
            "_view_name": "LayoutView",
            "align_content": null,
            "align_items": null,
            "align_self": null,
            "border": null,
            "bottom": null,
            "display": null,
            "flex": null,
            "flex_flow": null,
            "grid_area": null,
            "grid_auto_columns": null,
            "grid_auto_flow": null,
            "grid_auto_rows": null,
            "grid_column": null,
            "grid_gap": null,
            "grid_row": null,
            "grid_template_areas": null,
            "grid_template_columns": null,
            "grid_template_rows": null,
            "height": null,
            "justify_content": null,
            "justify_items": null,
            "left": null,
            "margin": null,
            "max_height": null,
            "max_width": null,
            "min_height": null,
            "min_width": null,
            "object_fit": null,
            "object_position": null,
            "order": null,
            "overflow": null,
            "overflow_x": null,
            "overflow_y": null,
            "padding": null,
            "right": null,
            "top": null,
            "visibility": null,
            "width": null
          }
        },
        "8455457027db48c6823b07e12266fe4e": {
          "model_module": "@jupyter-widgets/controls",
          "model_name": "ProgressStyleModel",
          "model_module_version": "1.5.0",
          "state": {
            "_model_module": "@jupyter-widgets/controls",
            "_model_module_version": "1.5.0",
            "_model_name": "ProgressStyleModel",
            "_view_count": null,
            "_view_module": "@jupyter-widgets/base",
            "_view_module_version": "1.2.0",
            "_view_name": "StyleView",
            "bar_color": null,
            "description_width": ""
          }
        },
        "c17b488c5f754cacbf2d9d4caa1acfee": {
          "model_module": "@jupyter-widgets/base",
          "model_name": "LayoutModel",
          "model_module_version": "1.2.0",
          "state": {
            "_model_module": "@jupyter-widgets/base",
            "_model_module_version": "1.2.0",
            "_model_name": "LayoutModel",
            "_view_count": null,
            "_view_module": "@jupyter-widgets/base",
            "_view_module_version": "1.2.0",
            "_view_name": "LayoutView",
            "align_content": null,
            "align_items": null,
            "align_self": null,
            "border": null,
            "bottom": null,
            "display": null,
            "flex": null,
            "flex_flow": null,
            "grid_area": null,
            "grid_auto_columns": null,
            "grid_auto_flow": null,
            "grid_auto_rows": null,
            "grid_column": null,
            "grid_gap": null,
            "grid_row": null,
            "grid_template_areas": null,
            "grid_template_columns": null,
            "grid_template_rows": null,
            "height": null,
            "justify_content": null,
            "justify_items": null,
            "left": null,
            "margin": null,
            "max_height": null,
            "max_width": null,
            "min_height": null,
            "min_width": null,
            "object_fit": null,
            "object_position": null,
            "order": null,
            "overflow": null,
            "overflow_x": null,
            "overflow_y": null,
            "padding": null,
            "right": null,
            "top": null,
            "visibility": null,
            "width": null
          }
        },
        "a49dfbc50c5040718f5a3247200272af": {
          "model_module": "@jupyter-widgets/controls",
          "model_name": "DescriptionStyleModel",
          "model_module_version": "1.5.0",
          "state": {
            "_model_module": "@jupyter-widgets/controls",
            "_model_module_version": "1.5.0",
            "_model_name": "DescriptionStyleModel",
            "_view_count": null,
            "_view_module": "@jupyter-widgets/base",
            "_view_module_version": "1.2.0",
            "_view_name": "StyleView",
            "description_width": ""
          }
        },
        "92cfd369eeff4a9ea75214362c1d1a9e": {
          "model_module": "@jupyter-widgets/controls",
          "model_name": "HBoxModel",
          "model_module_version": "1.5.0",
          "state": {
            "_dom_classes": [],
            "_model_module": "@jupyter-widgets/controls",
            "_model_module_version": "1.5.0",
            "_model_name": "HBoxModel",
            "_view_count": null,
            "_view_module": "@jupyter-widgets/controls",
            "_view_module_version": "1.5.0",
            "_view_name": "HBoxView",
            "box_style": "",
            "children": [
              "IPY_MODEL_4b727316dab64dba877991bd4365864f",
              "IPY_MODEL_7238d348e7a8493d989ad415106716df",
              "IPY_MODEL_e755714e4afe458ba27bdcce78e20269"
            ],
            "layout": "IPY_MODEL_5c287578c17a4bf08582f50c674f5866"
          }
        },
        "4b727316dab64dba877991bd4365864f": {
          "model_module": "@jupyter-widgets/controls",
          "model_name": "HTMLModel",
          "model_module_version": "1.5.0",
          "state": {
            "_dom_classes": [],
            "_model_module": "@jupyter-widgets/controls",
            "_model_module_version": "1.5.0",
            "_model_name": "HTMLModel",
            "_view_count": null,
            "_view_module": "@jupyter-widgets/controls",
            "_view_module_version": "1.5.0",
            "_view_name": "HTMLView",
            "description": "",
            "description_tooltip": null,
            "layout": "IPY_MODEL_7f5585c565ef4a2cb30c9ca310f010d0",
            "placeholder": "​",
            "style": "IPY_MODEL_aa1c3c349fbf4331914e8a9f91f5f4f7",
            "value": "Downloading: 100%"
          }
        },
        "7238d348e7a8493d989ad415106716df": {
          "model_module": "@jupyter-widgets/controls",
          "model_name": "FloatProgressModel",
          "model_module_version": "1.5.0",
          "state": {
            "_dom_classes": [],
            "_model_module": "@jupyter-widgets/controls",
            "_model_module_version": "1.5.0",
            "_model_name": "FloatProgressModel",
            "_view_count": null,
            "_view_module": "@jupyter-widgets/controls",
            "_view_module_version": "1.5.0",
            "_view_name": "ProgressView",
            "bar_style": "success",
            "description": "",
            "description_tooltip": null,
            "layout": "IPY_MODEL_ec1b15ada72b46f2a921ab7bb52c743f",
            "max": 1534,
            "min": 0,
            "orientation": "horizontal",
            "style": "IPY_MODEL_6af63dae462b4fd2bf15571bdbfb326f",
            "value": 1534
          }
        },
        "e755714e4afe458ba27bdcce78e20269": {
          "model_module": "@jupyter-widgets/controls",
          "model_name": "HTMLModel",
          "model_module_version": "1.5.0",
          "state": {
            "_dom_classes": [],
            "_model_module": "@jupyter-widgets/controls",
            "_model_module_version": "1.5.0",
            "_model_name": "HTMLModel",
            "_view_count": null,
            "_view_module": "@jupyter-widgets/controls",
            "_view_module_version": "1.5.0",
            "_view_name": "HTMLView",
            "description": "",
            "description_tooltip": null,
            "layout": "IPY_MODEL_348c2cff47a049a994a49e9433d792cf",
            "placeholder": "​",
            "style": "IPY_MODEL_d4bd0b30179d4389bdcbd0c58760c25e",
            "value": " 1.53k/1.53k [00:00&lt;00:00, 16.5kB/s]"
          }
        },
        "5c287578c17a4bf08582f50c674f5866": {
          "model_module": "@jupyter-widgets/base",
          "model_name": "LayoutModel",
          "model_module_version": "1.2.0",
          "state": {
            "_model_module": "@jupyter-widgets/base",
            "_model_module_version": "1.2.0",
            "_model_name": "LayoutModel",
            "_view_count": null,
            "_view_module": "@jupyter-widgets/base",
            "_view_module_version": "1.2.0",
            "_view_name": "LayoutView",
            "align_content": null,
            "align_items": null,
            "align_self": null,
            "border": null,
            "bottom": null,
            "display": null,
            "flex": null,
            "flex_flow": null,
            "grid_area": null,
            "grid_auto_columns": null,
            "grid_auto_flow": null,
            "grid_auto_rows": null,
            "grid_column": null,
            "grid_gap": null,
            "grid_row": null,
            "grid_template_areas": null,
            "grid_template_columns": null,
            "grid_template_rows": null,
            "height": null,
            "justify_content": null,
            "justify_items": null,
            "left": null,
            "margin": null,
            "max_height": null,
            "max_width": null,
            "min_height": null,
            "min_width": null,
            "object_fit": null,
            "object_position": null,
            "order": null,
            "overflow": null,
            "overflow_x": null,
            "overflow_y": null,
            "padding": null,
            "right": null,
            "top": null,
            "visibility": null,
            "width": null
          }
        },
        "7f5585c565ef4a2cb30c9ca310f010d0": {
          "model_module": "@jupyter-widgets/base",
          "model_name": "LayoutModel",
          "model_module_version": "1.2.0",
          "state": {
            "_model_module": "@jupyter-widgets/base",
            "_model_module_version": "1.2.0",
            "_model_name": "LayoutModel",
            "_view_count": null,
            "_view_module": "@jupyter-widgets/base",
            "_view_module_version": "1.2.0",
            "_view_name": "LayoutView",
            "align_content": null,
            "align_items": null,
            "align_self": null,
            "border": null,
            "bottom": null,
            "display": null,
            "flex": null,
            "flex_flow": null,
            "grid_area": null,
            "grid_auto_columns": null,
            "grid_auto_flow": null,
            "grid_auto_rows": null,
            "grid_column": null,
            "grid_gap": null,
            "grid_row": null,
            "grid_template_areas": null,
            "grid_template_columns": null,
            "grid_template_rows": null,
            "height": null,
            "justify_content": null,
            "justify_items": null,
            "left": null,
            "margin": null,
            "max_height": null,
            "max_width": null,
            "min_height": null,
            "min_width": null,
            "object_fit": null,
            "object_position": null,
            "order": null,
            "overflow": null,
            "overflow_x": null,
            "overflow_y": null,
            "padding": null,
            "right": null,
            "top": null,
            "visibility": null,
            "width": null
          }
        },
        "aa1c3c349fbf4331914e8a9f91f5f4f7": {
          "model_module": "@jupyter-widgets/controls",
          "model_name": "DescriptionStyleModel",
          "model_module_version": "1.5.0",
          "state": {
            "_model_module": "@jupyter-widgets/controls",
            "_model_module_version": "1.5.0",
            "_model_name": "DescriptionStyleModel",
            "_view_count": null,
            "_view_module": "@jupyter-widgets/base",
            "_view_module_version": "1.2.0",
            "_view_name": "StyleView",
            "description_width": ""
          }
        },
        "ec1b15ada72b46f2a921ab7bb52c743f": {
          "model_module": "@jupyter-widgets/base",
          "model_name": "LayoutModel",
          "model_module_version": "1.2.0",
          "state": {
            "_model_module": "@jupyter-widgets/base",
            "_model_module_version": "1.2.0",
            "_model_name": "LayoutModel",
            "_view_count": null,
            "_view_module": "@jupyter-widgets/base",
            "_view_module_version": "1.2.0",
            "_view_name": "LayoutView",
            "align_content": null,
            "align_items": null,
            "align_self": null,
            "border": null,
            "bottom": null,
            "display": null,
            "flex": null,
            "flex_flow": null,
            "grid_area": null,
            "grid_auto_columns": null,
            "grid_auto_flow": null,
            "grid_auto_rows": null,
            "grid_column": null,
            "grid_gap": null,
            "grid_row": null,
            "grid_template_areas": null,
            "grid_template_columns": null,
            "grid_template_rows": null,
            "height": null,
            "justify_content": null,
            "justify_items": null,
            "left": null,
            "margin": null,
            "max_height": null,
            "max_width": null,
            "min_height": null,
            "min_width": null,
            "object_fit": null,
            "object_position": null,
            "order": null,
            "overflow": null,
            "overflow_x": null,
            "overflow_y": null,
            "padding": null,
            "right": null,
            "top": null,
            "visibility": null,
            "width": null
          }
        },
        "6af63dae462b4fd2bf15571bdbfb326f": {
          "model_module": "@jupyter-widgets/controls",
          "model_name": "ProgressStyleModel",
          "model_module_version": "1.5.0",
          "state": {
            "_model_module": "@jupyter-widgets/controls",
            "_model_module_version": "1.5.0",
            "_model_name": "ProgressStyleModel",
            "_view_count": null,
            "_view_module": "@jupyter-widgets/base",
            "_view_module_version": "1.2.0",
            "_view_name": "StyleView",
            "bar_color": null,
            "description_width": ""
          }
        },
        "348c2cff47a049a994a49e9433d792cf": {
          "model_module": "@jupyter-widgets/base",
          "model_name": "LayoutModel",
          "model_module_version": "1.2.0",
          "state": {
            "_model_module": "@jupyter-widgets/base",
            "_model_module_version": "1.2.0",
            "_model_name": "LayoutModel",
            "_view_count": null,
            "_view_module": "@jupyter-widgets/base",
            "_view_module_version": "1.2.0",
            "_view_name": "LayoutView",
            "align_content": null,
            "align_items": null,
            "align_self": null,
            "border": null,
            "bottom": null,
            "display": null,
            "flex": null,
            "flex_flow": null,
            "grid_area": null,
            "grid_auto_columns": null,
            "grid_auto_flow": null,
            "grid_auto_rows": null,
            "grid_column": null,
            "grid_gap": null,
            "grid_row": null,
            "grid_template_areas": null,
            "grid_template_columns": null,
            "grid_template_rows": null,
            "height": null,
            "justify_content": null,
            "justify_items": null,
            "left": null,
            "margin": null,
            "max_height": null,
            "max_width": null,
            "min_height": null,
            "min_width": null,
            "object_fit": null,
            "object_position": null,
            "order": null,
            "overflow": null,
            "overflow_x": null,
            "overflow_y": null,
            "padding": null,
            "right": null,
            "top": null,
            "visibility": null,
            "width": null
          }
        },
        "d4bd0b30179d4389bdcbd0c58760c25e": {
          "model_module": "@jupyter-widgets/controls",
          "model_name": "DescriptionStyleModel",
          "model_module_version": "1.5.0",
          "state": {
            "_model_module": "@jupyter-widgets/controls",
            "_model_module_version": "1.5.0",
            "_model_name": "DescriptionStyleModel",
            "_view_count": null,
            "_view_module": "@jupyter-widgets/base",
            "_view_module_version": "1.2.0",
            "_view_name": "StyleView",
            "description_width": ""
          }
        },
        "7cd6db8b264d4bb3b8a5d60fc9ab1fb8": {
          "model_module": "@jupyter-widgets/controls",
          "model_name": "HBoxModel",
          "model_module_version": "1.5.0",
          "state": {
            "_dom_classes": [],
            "_model_module": "@jupyter-widgets/controls",
            "_model_module_version": "1.5.0",
            "_model_name": "HBoxModel",
            "_view_count": null,
            "_view_module": "@jupyter-widgets/controls",
            "_view_module_version": "1.5.0",
            "_view_name": "HBoxView",
            "box_style": "",
            "children": [
              "IPY_MODEL_ba8a71f35281424a95b4c87ab702995a",
              "IPY_MODEL_4a5b73d754dc420e867bcee366a3493e",
              "IPY_MODEL_f7e5ad6bcb504ceb9b1dbfc0d9bf6c21"
            ],
            "layout": "IPY_MODEL_8cf8165cf1024c77996884af4c02f447"
          }
        },
        "ba8a71f35281424a95b4c87ab702995a": {
          "model_module": "@jupyter-widgets/controls",
          "model_name": "HTMLModel",
          "model_module_version": "1.5.0",
          "state": {
            "_dom_classes": [],
            "_model_module": "@jupyter-widgets/controls",
            "_model_module_version": "1.5.0",
            "_model_name": "HTMLModel",
            "_view_count": null,
            "_view_module": "@jupyter-widgets/controls",
            "_view_module_version": "1.5.0",
            "_view_name": "HTMLView",
            "description": "",
            "description_tooltip": null,
            "layout": "IPY_MODEL_3756bdd1101d43299cadc8449c9af11d",
            "placeholder": "​",
            "style": "IPY_MODEL_dab1b1d09f354923b118fe2031e9a253",
            "value": "Downloading: 100%"
          }
        },
        "4a5b73d754dc420e867bcee366a3493e": {
          "model_module": "@jupyter-widgets/controls",
          "model_name": "FloatProgressModel",
          "model_module_version": "1.5.0",
          "state": {
            "_dom_classes": [],
            "_model_module": "@jupyter-widgets/controls",
            "_model_module_version": "1.5.0",
            "_model_name": "FloatProgressModel",
            "_view_count": null,
            "_view_module": "@jupyter-widgets/controls",
            "_view_module_version": "1.5.0",
            "_view_name": "ProgressView",
            "bar_style": "success",
            "description": "",
            "description_tooltip": null,
            "layout": "IPY_MODEL_340a569682264319a77fd0a390eb56d9",
            "max": 497810400,
            "min": 0,
            "orientation": "horizontal",
            "style": "IPY_MODEL_32f4c0d553b7450d9eceea451756ed8c",
            "value": 497810400
          }
        },
        "f7e5ad6bcb504ceb9b1dbfc0d9bf6c21": {
          "model_module": "@jupyter-widgets/controls",
          "model_name": "HTMLModel",
          "model_module_version": "1.5.0",
          "state": {
            "_dom_classes": [],
            "_model_module": "@jupyter-widgets/controls",
            "_model_module_version": "1.5.0",
            "_model_name": "HTMLModel",
            "_view_count": null,
            "_view_module": "@jupyter-widgets/controls",
            "_view_module_version": "1.5.0",
            "_view_name": "HTMLView",
            "description": "",
            "description_tooltip": null,
            "layout": "IPY_MODEL_a7a10c6cadc945c6b95ec072d4a514f5",
            "placeholder": "​",
            "style": "IPY_MODEL_ef3352637e75484aade267b989688c18",
            "value": " 498M/498M [00:13&lt;00:00, 54.9MB/s]"
          }
        },
        "8cf8165cf1024c77996884af4c02f447": {
          "model_module": "@jupyter-widgets/base",
          "model_name": "LayoutModel",
          "model_module_version": "1.2.0",
          "state": {
            "_model_module": "@jupyter-widgets/base",
            "_model_module_version": "1.2.0",
            "_model_name": "LayoutModel",
            "_view_count": null,
            "_view_module": "@jupyter-widgets/base",
            "_view_module_version": "1.2.0",
            "_view_name": "LayoutView",
            "align_content": null,
            "align_items": null,
            "align_self": null,
            "border": null,
            "bottom": null,
            "display": null,
            "flex": null,
            "flex_flow": null,
            "grid_area": null,
            "grid_auto_columns": null,
            "grid_auto_flow": null,
            "grid_auto_rows": null,
            "grid_column": null,
            "grid_gap": null,
            "grid_row": null,
            "grid_template_areas": null,
            "grid_template_columns": null,
            "grid_template_rows": null,
            "height": null,
            "justify_content": null,
            "justify_items": null,
            "left": null,
            "margin": null,
            "max_height": null,
            "max_width": null,
            "min_height": null,
            "min_width": null,
            "object_fit": null,
            "object_position": null,
            "order": null,
            "overflow": null,
            "overflow_x": null,
            "overflow_y": null,
            "padding": null,
            "right": null,
            "top": null,
            "visibility": null,
            "width": null
          }
        },
        "3756bdd1101d43299cadc8449c9af11d": {
          "model_module": "@jupyter-widgets/base",
          "model_name": "LayoutModel",
          "model_module_version": "1.2.0",
          "state": {
            "_model_module": "@jupyter-widgets/base",
            "_model_module_version": "1.2.0",
            "_model_name": "LayoutModel",
            "_view_count": null,
            "_view_module": "@jupyter-widgets/base",
            "_view_module_version": "1.2.0",
            "_view_name": "LayoutView",
            "align_content": null,
            "align_items": null,
            "align_self": null,
            "border": null,
            "bottom": null,
            "display": null,
            "flex": null,
            "flex_flow": null,
            "grid_area": null,
            "grid_auto_columns": null,
            "grid_auto_flow": null,
            "grid_auto_rows": null,
            "grid_column": null,
            "grid_gap": null,
            "grid_row": null,
            "grid_template_areas": null,
            "grid_template_columns": null,
            "grid_template_rows": null,
            "height": null,
            "justify_content": null,
            "justify_items": null,
            "left": null,
            "margin": null,
            "max_height": null,
            "max_width": null,
            "min_height": null,
            "min_width": null,
            "object_fit": null,
            "object_position": null,
            "order": null,
            "overflow": null,
            "overflow_x": null,
            "overflow_y": null,
            "padding": null,
            "right": null,
            "top": null,
            "visibility": null,
            "width": null
          }
        },
        "dab1b1d09f354923b118fe2031e9a253": {
          "model_module": "@jupyter-widgets/controls",
          "model_name": "DescriptionStyleModel",
          "model_module_version": "1.5.0",
          "state": {
            "_model_module": "@jupyter-widgets/controls",
            "_model_module_version": "1.5.0",
            "_model_name": "DescriptionStyleModel",
            "_view_count": null,
            "_view_module": "@jupyter-widgets/base",
            "_view_module_version": "1.2.0",
            "_view_name": "StyleView",
            "description_width": ""
          }
        },
        "340a569682264319a77fd0a390eb56d9": {
          "model_module": "@jupyter-widgets/base",
          "model_name": "LayoutModel",
          "model_module_version": "1.2.0",
          "state": {
            "_model_module": "@jupyter-widgets/base",
            "_model_module_version": "1.2.0",
            "_model_name": "LayoutModel",
            "_view_count": null,
            "_view_module": "@jupyter-widgets/base",
            "_view_module_version": "1.2.0",
            "_view_name": "LayoutView",
            "align_content": null,
            "align_items": null,
            "align_self": null,
            "border": null,
            "bottom": null,
            "display": null,
            "flex": null,
            "flex_flow": null,
            "grid_area": null,
            "grid_auto_columns": null,
            "grid_auto_flow": null,
            "grid_auto_rows": null,
            "grid_column": null,
            "grid_gap": null,
            "grid_row": null,
            "grid_template_areas": null,
            "grid_template_columns": null,
            "grid_template_rows": null,
            "height": null,
            "justify_content": null,
            "justify_items": null,
            "left": null,
            "margin": null,
            "max_height": null,
            "max_width": null,
            "min_height": null,
            "min_width": null,
            "object_fit": null,
            "object_position": null,
            "order": null,
            "overflow": null,
            "overflow_x": null,
            "overflow_y": null,
            "padding": null,
            "right": null,
            "top": null,
            "visibility": null,
            "width": null
          }
        },
        "32f4c0d553b7450d9eceea451756ed8c": {
          "model_module": "@jupyter-widgets/controls",
          "model_name": "ProgressStyleModel",
          "model_module_version": "1.5.0",
          "state": {
            "_model_module": "@jupyter-widgets/controls",
            "_model_module_version": "1.5.0",
            "_model_name": "ProgressStyleModel",
            "_view_count": null,
            "_view_module": "@jupyter-widgets/base",
            "_view_module_version": "1.2.0",
            "_view_name": "StyleView",
            "bar_color": null,
            "description_width": ""
          }
        },
        "a7a10c6cadc945c6b95ec072d4a514f5": {
          "model_module": "@jupyter-widgets/base",
          "model_name": "LayoutModel",
          "model_module_version": "1.2.0",
          "state": {
            "_model_module": "@jupyter-widgets/base",
            "_model_module_version": "1.2.0",
            "_model_name": "LayoutModel",
            "_view_count": null,
            "_view_module": "@jupyter-widgets/base",
            "_view_module_version": "1.2.0",
            "_view_name": "LayoutView",
            "align_content": null,
            "align_items": null,
            "align_self": null,
            "border": null,
            "bottom": null,
            "display": null,
            "flex": null,
            "flex_flow": null,
            "grid_area": null,
            "grid_auto_columns": null,
            "grid_auto_flow": null,
            "grid_auto_rows": null,
            "grid_column": null,
            "grid_gap": null,
            "grid_row": null,
            "grid_template_areas": null,
            "grid_template_columns": null,
            "grid_template_rows": null,
            "height": null,
            "justify_content": null,
            "justify_items": null,
            "left": null,
            "margin": null,
            "max_height": null,
            "max_width": null,
            "min_height": null,
            "min_width": null,
            "object_fit": null,
            "object_position": null,
            "order": null,
            "overflow": null,
            "overflow_x": null,
            "overflow_y": null,
            "padding": null,
            "right": null,
            "top": null,
            "visibility": null,
            "width": null
          }
        },
        "ef3352637e75484aade267b989688c18": {
          "model_module": "@jupyter-widgets/controls",
          "model_name": "DescriptionStyleModel",
          "model_module_version": "1.5.0",
          "state": {
            "_model_module": "@jupyter-widgets/controls",
            "_model_module_version": "1.5.0",
            "_model_name": "DescriptionStyleModel",
            "_view_count": null,
            "_view_module": "@jupyter-widgets/base",
            "_view_module_version": "1.2.0",
            "_view_name": "StyleView",
            "description_width": ""
          }
        }
      }
    }
  },
  "nbformat": 4,
  "nbformat_minor": 5
}