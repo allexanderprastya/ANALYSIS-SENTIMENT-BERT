{
  "cells": [
    {
      "cell_type": "markdown",
      "metadata": {
        "id": "view-in-github",
        "colab_type": "text"
      },
      "source": [
        "<a href=\"https://colab.research.google.com/github/allexanderprastya/PROJECT-TA-JURNAL/blob/main/Data_Cleansing.ipynb\" target=\"_parent\"><img src=\"https://colab.research.google.com/assets/colab-badge.svg\" alt=\"Open In Colab\"/></a>"
      ]
    },
    {
      "cell_type": "code",
      "source": [
        "import pandas as pd\n",
        "import regex as re\n",
        "import string"
      ],
      "metadata": {
        "id": "kT0powyNDKVy"
      },
      "execution_count": null,
      "outputs": [],
      "id": "kT0powyNDKVy"
    },
    {
      "cell_type": "code",
      "source": [
        "df_clean = pd.read_csv('/content/review_15_label.csv')"
      ],
      "metadata": {
        "id": "mZLKjsBKF6XJ"
      },
      "execution_count": null,
      "outputs": [],
      "id": "mZLKjsBKF6XJ"
    },
    {
      "cell_type": "code",
      "source": [
        "def cleansing(text):\n",
        "    # Mengubah tipe data menjadi string\n",
        "    text = str(text)\n",
        "    #hapus non ASCII (hapus emoticon, chinese word, dll)\n",
        "    text = text.encode('ascii', 'replace').decode('ascii', ' ')    \n",
        "    # Mengubah setiap kata menjadi lowercase\n",
        "    text =  text.lower()\n",
        "    #menghapus number\n",
        "    text = re.sub(r'\\d+', ' ', text) \n",
        "    # Menghapus Link Dengan Pattern http/https dan www\n",
        "    text = re.sub(r'http\\S+', ' ', text)\n",
        "    text = re.sub('(@\\w+|#\\w+)', ' ', text)\n",
        "    # Menghapus Tag HTML\n",
        "    text = re.sub('<.*?>', ' ', text)\n",
        "    # Menghapus Tanda Baca Seperti Titik Dan Koma\n",
        "    text = text.translate(str.maketrans(' ', ' ', string.punctuation))\n",
        "    # Menghapus Karakter Selain Huruf a-z dan A-Z\n",
        "    text = re.sub('[^a-zA-Z]', ' ', text)\n",
        "    # Mengganti baris baru (enter) dengan spasi\n",
        "    text = text.replace('\\t',\" \").replace('\\n',\" \").replace('\\\\',\" \")\n",
        "    # Menghapus Karakter Berulang (Contoh: Horeeee!!!! menjadi Hore!)\n",
        "    text = re.sub(r'(\\w)(\\1{2,})', r\"\\1\", text)\n",
        "    text = re.sub(r\"\\b[a-zA-Z]\\b\",\"\",text)\n",
        "    text = text.strip()\n",
        "    # Menghapus Spasi Yang Lebih Dari Satu\n",
        "    return re.sub('\\s+', ' ',text)"
      ],
      "metadata": {
        "id": "LE-efqLKA3Se"
      },
      "execution_count": null,
      "outputs": [],
      "id": "LE-efqLKA3Se"
    },
    {
      "cell_type": "code",
      "source": [
        "df_clean['content'] = df_clean['content'].apply(cleansing)"
      ],
      "metadata": {
        "id": "HjRYt0Y5Heeh"
      },
      "execution_count": null,
      "outputs": [],
      "id": "HjRYt0Y5Heeh"
    },
    {
      "cell_type": "code",
      "source": [
        "df_clean"
      ],
      "metadata": {
        "colab": {
          "base_uri": "https://localhost:8080/",
          "height": 423
        },
        "id": "xfl73nTsDN3-",
        "outputId": "72748d10-0794-4fd7-f06f-20480d5e88a1"
      },
      "execution_count": null,
      "outputs": [
        {
          "output_type": "execute_result",
          "data": {
            "text/plain": [
              "                                                 content sentiment\n",
              "0      bangke gw turun nyangkut kenok langsung tolong...  positive\n",
              "1      manga pa pubg selalu loding ketika login padah...  negative\n",
              "2      bag nya dong developer perbaiki semua ngeluh k...  positive\n",
              "3      emang berat putaran kenapa gak seperti biasany...   neutral\n",
              "4                                                         negative\n",
              "...                                                  ...       ...\n",
              "14995  game ini sangat burik dan sangat hd dengan keb...  positive\n",
              "14996                                              lemot   neutral\n",
              "14997                                       bagus banget  positive\n",
              "14998  game serukerenhd tapi banyak bug pemakaian mem...   neutral\n",
              "14999                                 sering gagal login  negative\n",
              "\n",
              "[15000 rows x 2 columns]"
            ],
            "text/html": [
              "\n",
              "  <div id=\"df-b580e11a-5516-46e1-a243-4f1df5e60f5a\">\n",
              "    <div class=\"colab-df-container\">\n",
              "      <div>\n",
              "<style scoped>\n",
              "    .dataframe tbody tr th:only-of-type {\n",
              "        vertical-align: middle;\n",
              "    }\n",
              "\n",
              "    .dataframe tbody tr th {\n",
              "        vertical-align: top;\n",
              "    }\n",
              "\n",
              "    .dataframe thead th {\n",
              "        text-align: right;\n",
              "    }\n",
              "</style>\n",
              "<table border=\"1\" class=\"dataframe\">\n",
              "  <thead>\n",
              "    <tr style=\"text-align: right;\">\n",
              "      <th></th>\n",
              "      <th>content</th>\n",
              "      <th>sentiment</th>\n",
              "    </tr>\n",
              "  </thead>\n",
              "  <tbody>\n",
              "    <tr>\n",
              "      <th>0</th>\n",
              "      <td>bangke gw turun nyangkut kenok langsung tolong...</td>\n",
              "      <td>positive</td>\n",
              "    </tr>\n",
              "    <tr>\n",
              "      <th>1</th>\n",
              "      <td>manga pa pubg selalu loding ketika login padah...</td>\n",
              "      <td>negative</td>\n",
              "    </tr>\n",
              "    <tr>\n",
              "      <th>2</th>\n",
              "      <td>bag nya dong developer perbaiki semua ngeluh k...</td>\n",
              "      <td>positive</td>\n",
              "    </tr>\n",
              "    <tr>\n",
              "      <th>3</th>\n",
              "      <td>emang berat putaran kenapa gak seperti biasany...</td>\n",
              "      <td>neutral</td>\n",
              "    </tr>\n",
              "    <tr>\n",
              "      <th>4</th>\n",
              "      <td></td>\n",
              "      <td>negative</td>\n",
              "    </tr>\n",
              "    <tr>\n",
              "      <th>...</th>\n",
              "      <td>...</td>\n",
              "      <td>...</td>\n",
              "    </tr>\n",
              "    <tr>\n",
              "      <th>14995</th>\n",
              "      <td>game ini sangat burik dan sangat hd dengan keb...</td>\n",
              "      <td>positive</td>\n",
              "    </tr>\n",
              "    <tr>\n",
              "      <th>14996</th>\n",
              "      <td>lemot</td>\n",
              "      <td>neutral</td>\n",
              "    </tr>\n",
              "    <tr>\n",
              "      <th>14997</th>\n",
              "      <td>bagus banget</td>\n",
              "      <td>positive</td>\n",
              "    </tr>\n",
              "    <tr>\n",
              "      <th>14998</th>\n",
              "      <td>game serukerenhd tapi banyak bug pemakaian mem...</td>\n",
              "      <td>neutral</td>\n",
              "    </tr>\n",
              "    <tr>\n",
              "      <th>14999</th>\n",
              "      <td>sering gagal login</td>\n",
              "      <td>negative</td>\n",
              "    </tr>\n",
              "  </tbody>\n",
              "</table>\n",
              "<p>15000 rows × 2 columns</p>\n",
              "</div>\n",
              "      <button class=\"colab-df-convert\" onclick=\"convertToInteractive('df-b580e11a-5516-46e1-a243-4f1df5e60f5a')\"\n",
              "              title=\"Convert this dataframe to an interactive table.\"\n",
              "              style=\"display:none;\">\n",
              "        \n",
              "  <svg xmlns=\"http://www.w3.org/2000/svg\" height=\"24px\"viewBox=\"0 0 24 24\"\n",
              "       width=\"24px\">\n",
              "    <path d=\"M0 0h24v24H0V0z\" fill=\"none\"/>\n",
              "    <path d=\"M18.56 5.44l.94 2.06.94-2.06 2.06-.94-2.06-.94-.94-2.06-.94 2.06-2.06.94zm-11 1L8.5 8.5l.94-2.06 2.06-.94-2.06-.94L8.5 2.5l-.94 2.06-2.06.94zm10 10l.94 2.06.94-2.06 2.06-.94-2.06-.94-.94-2.06-.94 2.06-2.06.94z\"/><path d=\"M17.41 7.96l-1.37-1.37c-.4-.4-.92-.59-1.43-.59-.52 0-1.04.2-1.43.59L10.3 9.45l-7.72 7.72c-.78.78-.78 2.05 0 2.83L4 21.41c.39.39.9.59 1.41.59.51 0 1.02-.2 1.41-.59l7.78-7.78 2.81-2.81c.8-.78.8-2.07 0-2.86zM5.41 20L4 18.59l7.72-7.72 1.47 1.35L5.41 20z\"/>\n",
              "  </svg>\n",
              "      </button>\n",
              "      \n",
              "  <style>\n",
              "    .colab-df-container {\n",
              "      display:flex;\n",
              "      flex-wrap:wrap;\n",
              "      gap: 12px;\n",
              "    }\n",
              "\n",
              "    .colab-df-convert {\n",
              "      background-color: #E8F0FE;\n",
              "      border: none;\n",
              "      border-radius: 50%;\n",
              "      cursor: pointer;\n",
              "      display: none;\n",
              "      fill: #1967D2;\n",
              "      height: 32px;\n",
              "      padding: 0 0 0 0;\n",
              "      width: 32px;\n",
              "    }\n",
              "\n",
              "    .colab-df-convert:hover {\n",
              "      background-color: #E2EBFA;\n",
              "      box-shadow: 0px 1px 2px rgba(60, 64, 67, 0.3), 0px 1px 3px 1px rgba(60, 64, 67, 0.15);\n",
              "      fill: #174EA6;\n",
              "    }\n",
              "\n",
              "    [theme=dark] .colab-df-convert {\n",
              "      background-color: #3B4455;\n",
              "      fill: #D2E3FC;\n",
              "    }\n",
              "\n",
              "    [theme=dark] .colab-df-convert:hover {\n",
              "      background-color: #434B5C;\n",
              "      box-shadow: 0px 1px 3px 1px rgba(0, 0, 0, 0.15);\n",
              "      filter: drop-shadow(0px 1px 2px rgba(0, 0, 0, 0.3));\n",
              "      fill: #FFFFFF;\n",
              "    }\n",
              "  </style>\n",
              "\n",
              "      <script>\n",
              "        const buttonEl =\n",
              "          document.querySelector('#df-b580e11a-5516-46e1-a243-4f1df5e60f5a button.colab-df-convert');\n",
              "        buttonEl.style.display =\n",
              "          google.colab.kernel.accessAllowed ? 'block' : 'none';\n",
              "\n",
              "        async function convertToInteractive(key) {\n",
              "          const element = document.querySelector('#df-b580e11a-5516-46e1-a243-4f1df5e60f5a');\n",
              "          const dataTable =\n",
              "            await google.colab.kernel.invokeFunction('convertToInteractive',\n",
              "                                                     [key], {});\n",
              "          if (!dataTable) return;\n",
              "\n",
              "          const docLinkHtml = 'Like what you see? Visit the ' +\n",
              "            '<a target=\"_blank\" href=https://colab.research.google.com/notebooks/data_table.ipynb>data table notebook</a>'\n",
              "            + ' to learn more about interactive tables.';\n",
              "          element.innerHTML = '';\n",
              "          dataTable['output_type'] = 'display_data';\n",
              "          await google.colab.output.renderOutput(dataTable, element);\n",
              "          const docLink = document.createElement('div');\n",
              "          docLink.innerHTML = docLinkHtml;\n",
              "          element.appendChild(docLink);\n",
              "        }\n",
              "      </script>\n",
              "    </div>\n",
              "  </div>\n",
              "  "
            ]
          },
          "metadata": {},
          "execution_count": 27
        }
      ],
      "id": "xfl73nTsDN3-"
    },
    {
      "cell_type": "code",
      "source": [
        "df_clean.to_csv('review_15k_clean.csv',  encoding='utf8', index=None, header=True)"
      ],
      "metadata": {
        "id": "R3vjpQszJVfi"
      },
      "execution_count": null,
      "outputs": [],
      "id": "R3vjpQszJVfi"
    }
  ],
  "metadata": {
    "kernelspec": {
      "display_name": "Python 3 (ipykernel)",
      "language": "python",
      "name": "python3"
    },
    "language_info": {
      "codemirror_mode": {
        "name": "ipython",
        "version": 3
      },
      "file_extension": ".py",
      "mimetype": "text/x-python",
      "name": "python",
      "nbconvert_exporter": "python",
      "pygments_lexer": "ipython3",
      "version": "3.10.5"
    },
    "colab": {
      "provenance": [],
      "collapsed_sections": [],
      "include_colab_link": true
    }
  },
  "nbformat": 4,
  "nbformat_minor": 5
}